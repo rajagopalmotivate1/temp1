{
  "nbformat": 4,
  "nbformat_minor": 0,
  "metadata": {
    "colab": {
      "name": "NEST PubMed v37",
      "provenance": [],
      "collapsed_sections": [],
      "toc_visible": true,
      "include_colab_link": true
    },
    "kernelspec": {
      "name": "python3",
      "display_name": "Python 3"
    },
    "accelerator": "TPU",
    "widgets": {
      "application/vnd.jupyter.widget-state+json": {
        "f86e58820dc247d38ee3b95824bb26e5": {
          "model_module": "@jupyter-widgets/controls",
          "model_name": "HBoxModel",
          "state": {
            "_view_name": "HBoxView",
            "_dom_classes": [],
            "_model_name": "HBoxModel",
            "_view_module": "@jupyter-widgets/controls",
            "_model_module_version": "1.5.0",
            "_view_count": null,
            "_view_module_version": "1.5.0",
            "box_style": "",
            "layout": "IPY_MODEL_c1c96681e75d48e2a6062168cf6efe24",
            "_model_module": "@jupyter-widgets/controls",
            "children": [
              "IPY_MODEL_c9ca206973d94110ab96b71ac5a61019",
              "IPY_MODEL_a8b19035078b43d39e2c4cde066645d1"
            ]
          }
        },
        "c1c96681e75d48e2a6062168cf6efe24": {
          "model_module": "@jupyter-widgets/base",
          "model_name": "LayoutModel",
          "state": {
            "_view_name": "LayoutView",
            "grid_template_rows": null,
            "right": null,
            "justify_content": null,
            "_view_module": "@jupyter-widgets/base",
            "overflow": null,
            "_model_module_version": "1.2.0",
            "_view_count": null,
            "flex_flow": null,
            "width": null,
            "min_width": null,
            "border": null,
            "align_items": null,
            "bottom": null,
            "_model_module": "@jupyter-widgets/base",
            "top": null,
            "grid_column": null,
            "overflow_y": null,
            "overflow_x": null,
            "grid_auto_flow": null,
            "grid_area": null,
            "grid_template_columns": null,
            "flex": null,
            "_model_name": "LayoutModel",
            "justify_items": null,
            "grid_row": null,
            "max_height": null,
            "align_content": null,
            "visibility": null,
            "align_self": null,
            "height": null,
            "min_height": null,
            "padding": null,
            "grid_auto_rows": null,
            "grid_gap": null,
            "max_width": null,
            "order": null,
            "_view_module_version": "1.2.0",
            "grid_template_areas": null,
            "object_position": null,
            "object_fit": null,
            "grid_auto_columns": null,
            "margin": null,
            "display": null,
            "left": null
          }
        },
        "c9ca206973d94110ab96b71ac5a61019": {
          "model_module": "@jupyter-widgets/controls",
          "model_name": "FloatProgressModel",
          "state": {
            "_view_name": "ProgressView",
            "style": "IPY_MODEL_f6d969df17f74ad6a694130a1df17e8a",
            "_dom_classes": [],
            "description": "Downloading: 100%",
            "_model_name": "FloatProgressModel",
            "bar_style": "success",
            "max": 599,
            "_view_module": "@jupyter-widgets/controls",
            "_model_module_version": "1.5.0",
            "value": 599,
            "_view_count": null,
            "_view_module_version": "1.5.0",
            "orientation": "horizontal",
            "min": 0,
            "description_tooltip": null,
            "_model_module": "@jupyter-widgets/controls",
            "layout": "IPY_MODEL_29aab441d0354773b8eae5b3b3303599"
          }
        },
        "a8b19035078b43d39e2c4cde066645d1": {
          "model_module": "@jupyter-widgets/controls",
          "model_name": "HTMLModel",
          "state": {
            "_view_name": "HTMLView",
            "style": "IPY_MODEL_f9a6d3c34ad04768ace22a27cb67c25a",
            "_dom_classes": [],
            "description": "",
            "_model_name": "HTMLModel",
            "placeholder": "​",
            "_view_module": "@jupyter-widgets/controls",
            "_model_module_version": "1.5.0",
            "value": " 599/599 [00:00&lt;00:00, 1.36kB/s]",
            "_view_count": null,
            "_view_module_version": "1.5.0",
            "description_tooltip": null,
            "_model_module": "@jupyter-widgets/controls",
            "layout": "IPY_MODEL_242982b0cd0d485b8fef20d78adf14c6"
          }
        },
        "f6d969df17f74ad6a694130a1df17e8a": {
          "model_module": "@jupyter-widgets/controls",
          "model_name": "ProgressStyleModel",
          "state": {
            "_view_name": "StyleView",
            "_model_name": "ProgressStyleModel",
            "description_width": "initial",
            "_view_module": "@jupyter-widgets/base",
            "_model_module_version": "1.5.0",
            "_view_count": null,
            "_view_module_version": "1.2.0",
            "bar_color": null,
            "_model_module": "@jupyter-widgets/controls"
          }
        },
        "29aab441d0354773b8eae5b3b3303599": {
          "model_module": "@jupyter-widgets/base",
          "model_name": "LayoutModel",
          "state": {
            "_view_name": "LayoutView",
            "grid_template_rows": null,
            "right": null,
            "justify_content": null,
            "_view_module": "@jupyter-widgets/base",
            "overflow": null,
            "_model_module_version": "1.2.0",
            "_view_count": null,
            "flex_flow": null,
            "width": null,
            "min_width": null,
            "border": null,
            "align_items": null,
            "bottom": null,
            "_model_module": "@jupyter-widgets/base",
            "top": null,
            "grid_column": null,
            "overflow_y": null,
            "overflow_x": null,
            "grid_auto_flow": null,
            "grid_area": null,
            "grid_template_columns": null,
            "flex": null,
            "_model_name": "LayoutModel",
            "justify_items": null,
            "grid_row": null,
            "max_height": null,
            "align_content": null,
            "visibility": null,
            "align_self": null,
            "height": null,
            "min_height": null,
            "padding": null,
            "grid_auto_rows": null,
            "grid_gap": null,
            "max_width": null,
            "order": null,
            "_view_module_version": "1.2.0",
            "grid_template_areas": null,
            "object_position": null,
            "object_fit": null,
            "grid_auto_columns": null,
            "margin": null,
            "display": null,
            "left": null
          }
        },
        "f9a6d3c34ad04768ace22a27cb67c25a": {
          "model_module": "@jupyter-widgets/controls",
          "model_name": "DescriptionStyleModel",
          "state": {
            "_view_name": "StyleView",
            "_model_name": "DescriptionStyleModel",
            "description_width": "",
            "_view_module": "@jupyter-widgets/base",
            "_model_module_version": "1.5.0",
            "_view_count": null,
            "_view_module_version": "1.2.0",
            "_model_module": "@jupyter-widgets/controls"
          }
        },
        "242982b0cd0d485b8fef20d78adf14c6": {
          "model_module": "@jupyter-widgets/base",
          "model_name": "LayoutModel",
          "state": {
            "_view_name": "LayoutView",
            "grid_template_rows": null,
            "right": null,
            "justify_content": null,
            "_view_module": "@jupyter-widgets/base",
            "overflow": null,
            "_model_module_version": "1.2.0",
            "_view_count": null,
            "flex_flow": null,
            "width": null,
            "min_width": null,
            "border": null,
            "align_items": null,
            "bottom": null,
            "_model_module": "@jupyter-widgets/base",
            "top": null,
            "grid_column": null,
            "overflow_y": null,
            "overflow_x": null,
            "grid_auto_flow": null,
            "grid_area": null,
            "grid_template_columns": null,
            "flex": null,
            "_model_name": "LayoutModel",
            "justify_items": null,
            "grid_row": null,
            "max_height": null,
            "align_content": null,
            "visibility": null,
            "align_self": null,
            "height": null,
            "min_height": null,
            "padding": null,
            "grid_auto_rows": null,
            "grid_gap": null,
            "max_width": null,
            "order": null,
            "_view_module_version": "1.2.0",
            "grid_template_areas": null,
            "object_position": null,
            "object_fit": null,
            "grid_auto_columns": null,
            "margin": null,
            "display": null,
            "left": null
          }
        },
        "104a635f010c49068c808e3ef82ec59f": {
          "model_module": "@jupyter-widgets/controls",
          "model_name": "HBoxModel",
          "state": {
            "_view_name": "HBoxView",
            "_dom_classes": [],
            "_model_name": "HBoxModel",
            "_view_module": "@jupyter-widgets/controls",
            "_model_module_version": "1.5.0",
            "_view_count": null,
            "_view_module_version": "1.5.0",
            "box_style": "",
            "layout": "IPY_MODEL_548a5ac7320f4b3fa5ebd6c74a6d2bdb",
            "_model_module": "@jupyter-widgets/controls",
            "children": [
              "IPY_MODEL_0a015545b5d745fc899889fad006fc6e",
              "IPY_MODEL_aa9c099ab0954cec876f2a29f68c35ce"
            ]
          }
        },
        "548a5ac7320f4b3fa5ebd6c74a6d2bdb": {
          "model_module": "@jupyter-widgets/base",
          "model_name": "LayoutModel",
          "state": {
            "_view_name": "LayoutView",
            "grid_template_rows": null,
            "right": null,
            "justify_content": null,
            "_view_module": "@jupyter-widgets/base",
            "overflow": null,
            "_model_module_version": "1.2.0",
            "_view_count": null,
            "flex_flow": null,
            "width": null,
            "min_width": null,
            "border": null,
            "align_items": null,
            "bottom": null,
            "_model_module": "@jupyter-widgets/base",
            "top": null,
            "grid_column": null,
            "overflow_y": null,
            "overflow_x": null,
            "grid_auto_flow": null,
            "grid_area": null,
            "grid_template_columns": null,
            "flex": null,
            "_model_name": "LayoutModel",
            "justify_items": null,
            "grid_row": null,
            "max_height": null,
            "align_content": null,
            "visibility": null,
            "align_self": null,
            "height": null,
            "min_height": null,
            "padding": null,
            "grid_auto_rows": null,
            "grid_gap": null,
            "max_width": null,
            "order": null,
            "_view_module_version": "1.2.0",
            "grid_template_areas": null,
            "object_position": null,
            "object_fit": null,
            "grid_auto_columns": null,
            "margin": null,
            "display": null,
            "left": null
          }
        },
        "0a015545b5d745fc899889fad006fc6e": {
          "model_module": "@jupyter-widgets/controls",
          "model_name": "FloatProgressModel",
          "state": {
            "_view_name": "ProgressView",
            "style": "IPY_MODEL_381c4453dcc14f6fb7f75fcfd2c03f44",
            "_dom_classes": [],
            "description": "Downloading: 100%",
            "_model_name": "FloatProgressModel",
            "bar_style": "success",
            "max": 213450,
            "_view_module": "@jupyter-widgets/controls",
            "_model_module_version": "1.5.0",
            "value": 213450,
            "_view_count": null,
            "_view_module_version": "1.5.0",
            "orientation": "horizontal",
            "min": 0,
            "description_tooltip": null,
            "_model_module": "@jupyter-widgets/controls",
            "layout": "IPY_MODEL_3470c3906ec9465d9ebd39a0fbfc5bcb"
          }
        },
        "aa9c099ab0954cec876f2a29f68c35ce": {
          "model_module": "@jupyter-widgets/controls",
          "model_name": "HTMLModel",
          "state": {
            "_view_name": "HTMLView",
            "style": "IPY_MODEL_b5e224aaa6254584ac6b2d7ec9e2a088",
            "_dom_classes": [],
            "description": "",
            "_model_name": "HTMLModel",
            "placeholder": "​",
            "_view_module": "@jupyter-widgets/controls",
            "_model_module_version": "1.5.0",
            "value": " 213k/213k [00:01&lt;00:00, 164kB/s]",
            "_view_count": null,
            "_view_module_version": "1.5.0",
            "description_tooltip": null,
            "_model_module": "@jupyter-widgets/controls",
            "layout": "IPY_MODEL_b727a45a35ae468dae6cfbbc3ea91972"
          }
        },
        "381c4453dcc14f6fb7f75fcfd2c03f44": {
          "model_module": "@jupyter-widgets/controls",
          "model_name": "ProgressStyleModel",
          "state": {
            "_view_name": "StyleView",
            "_model_name": "ProgressStyleModel",
            "description_width": "initial",
            "_view_module": "@jupyter-widgets/base",
            "_model_module_version": "1.5.0",
            "_view_count": null,
            "_view_module_version": "1.2.0",
            "bar_color": null,
            "_model_module": "@jupyter-widgets/controls"
          }
        },
        "3470c3906ec9465d9ebd39a0fbfc5bcb": {
          "model_module": "@jupyter-widgets/base",
          "model_name": "LayoutModel",
          "state": {
            "_view_name": "LayoutView",
            "grid_template_rows": null,
            "right": null,
            "justify_content": null,
            "_view_module": "@jupyter-widgets/base",
            "overflow": null,
            "_model_module_version": "1.2.0",
            "_view_count": null,
            "flex_flow": null,
            "width": null,
            "min_width": null,
            "border": null,
            "align_items": null,
            "bottom": null,
            "_model_module": "@jupyter-widgets/base",
            "top": null,
            "grid_column": null,
            "overflow_y": null,
            "overflow_x": null,
            "grid_auto_flow": null,
            "grid_area": null,
            "grid_template_columns": null,
            "flex": null,
            "_model_name": "LayoutModel",
            "justify_items": null,
            "grid_row": null,
            "max_height": null,
            "align_content": null,
            "visibility": null,
            "align_self": null,
            "height": null,
            "min_height": null,
            "padding": null,
            "grid_auto_rows": null,
            "grid_gap": null,
            "max_width": null,
            "order": null,
            "_view_module_version": "1.2.0",
            "grid_template_areas": null,
            "object_position": null,
            "object_fit": null,
            "grid_auto_columns": null,
            "margin": null,
            "display": null,
            "left": null
          }
        },
        "b5e224aaa6254584ac6b2d7ec9e2a088": {
          "model_module": "@jupyter-widgets/controls",
          "model_name": "DescriptionStyleModel",
          "state": {
            "_view_name": "StyleView",
            "_model_name": "DescriptionStyleModel",
            "description_width": "",
            "_view_module": "@jupyter-widgets/base",
            "_model_module_version": "1.5.0",
            "_view_count": null,
            "_view_module_version": "1.2.0",
            "_model_module": "@jupyter-widgets/controls"
          }
        },
        "b727a45a35ae468dae6cfbbc3ea91972": {
          "model_module": "@jupyter-widgets/base",
          "model_name": "LayoutModel",
          "state": {
            "_view_name": "LayoutView",
            "grid_template_rows": null,
            "right": null,
            "justify_content": null,
            "_view_module": "@jupyter-widgets/base",
            "overflow": null,
            "_model_module_version": "1.2.0",
            "_view_count": null,
            "flex_flow": null,
            "width": null,
            "min_width": null,
            "border": null,
            "align_items": null,
            "bottom": null,
            "_model_module": "@jupyter-widgets/base",
            "top": null,
            "grid_column": null,
            "overflow_y": null,
            "overflow_x": null,
            "grid_auto_flow": null,
            "grid_area": null,
            "grid_template_columns": null,
            "flex": null,
            "_model_name": "LayoutModel",
            "justify_items": null,
            "grid_row": null,
            "max_height": null,
            "align_content": null,
            "visibility": null,
            "align_self": null,
            "height": null,
            "min_height": null,
            "padding": null,
            "grid_auto_rows": null,
            "grid_gap": null,
            "max_width": null,
            "order": null,
            "_view_module_version": "1.2.0",
            "grid_template_areas": null,
            "object_position": null,
            "object_fit": null,
            "grid_auto_columns": null,
            "margin": null,
            "display": null,
            "left": null
          }
        },
        "03293e7082d545bebe1f553337ef3eca": {
          "model_module": "@jupyter-widgets/controls",
          "model_name": "HBoxModel",
          "state": {
            "_view_name": "HBoxView",
            "_dom_classes": [],
            "_model_name": "HBoxModel",
            "_view_module": "@jupyter-widgets/controls",
            "_model_module_version": "1.5.0",
            "_view_count": null,
            "_view_module_version": "1.5.0",
            "box_style": "",
            "layout": "IPY_MODEL_069b88d771de44c3b9496cf8ad83583c",
            "_model_module": "@jupyter-widgets/controls",
            "children": [
              "IPY_MODEL_1d8d8a35fe204e95b67523c930c04abc",
              "IPY_MODEL_ebbc05ae119748d197f661f3db842513"
            ]
          }
        },
        "069b88d771de44c3b9496cf8ad83583c": {
          "model_module": "@jupyter-widgets/base",
          "model_name": "LayoutModel",
          "state": {
            "_view_name": "LayoutView",
            "grid_template_rows": null,
            "right": null,
            "justify_content": null,
            "_view_module": "@jupyter-widgets/base",
            "overflow": null,
            "_model_module_version": "1.2.0",
            "_view_count": null,
            "flex_flow": null,
            "width": null,
            "min_width": null,
            "border": null,
            "align_items": null,
            "bottom": null,
            "_model_module": "@jupyter-widgets/base",
            "top": null,
            "grid_column": null,
            "overflow_y": null,
            "overflow_x": null,
            "grid_auto_flow": null,
            "grid_area": null,
            "grid_template_columns": null,
            "flex": null,
            "_model_name": "LayoutModel",
            "justify_items": null,
            "grid_row": null,
            "max_height": null,
            "align_content": null,
            "visibility": null,
            "align_self": null,
            "height": null,
            "min_height": null,
            "padding": null,
            "grid_auto_rows": null,
            "grid_gap": null,
            "max_width": null,
            "order": null,
            "_view_module_version": "1.2.0",
            "grid_template_areas": null,
            "object_position": null,
            "object_fit": null,
            "grid_auto_columns": null,
            "margin": null,
            "display": null,
            "left": null
          }
        },
        "1d8d8a35fe204e95b67523c930c04abc": {
          "model_module": "@jupyter-widgets/controls",
          "model_name": "FloatProgressModel",
          "state": {
            "_view_name": "ProgressView",
            "style": "IPY_MODEL_de7fba96802749278b17c5bd828f7cf9",
            "_dom_classes": [],
            "description": "Downloading: 100%",
            "_model_name": "FloatProgressModel",
            "bar_style": "success",
            "max": 112,
            "_view_module": "@jupyter-widgets/controls",
            "_model_module_version": "1.5.0",
            "value": 112,
            "_view_count": null,
            "_view_module_version": "1.5.0",
            "orientation": "horizontal",
            "min": 0,
            "description_tooltip": null,
            "_model_module": "@jupyter-widgets/controls",
            "layout": "IPY_MODEL_6a55c3c730144f1f9f6bed5339b666c3"
          }
        },
        "ebbc05ae119748d197f661f3db842513": {
          "model_module": "@jupyter-widgets/controls",
          "model_name": "HTMLModel",
          "state": {
            "_view_name": "HTMLView",
            "style": "IPY_MODEL_6d164c727e614acc83f351ae1363b0aa",
            "_dom_classes": [],
            "description": "",
            "_model_name": "HTMLModel",
            "placeholder": "​",
            "_view_module": "@jupyter-widgets/controls",
            "_model_module_version": "1.5.0",
            "value": " 112/112 [00:00&lt;00:00, 169B/s]",
            "_view_count": null,
            "_view_module_version": "1.5.0",
            "description_tooltip": null,
            "_model_module": "@jupyter-widgets/controls",
            "layout": "IPY_MODEL_3c2f0f0cf8a649f39eb88f27a73763fe"
          }
        },
        "de7fba96802749278b17c5bd828f7cf9": {
          "model_module": "@jupyter-widgets/controls",
          "model_name": "ProgressStyleModel",
          "state": {
            "_view_name": "StyleView",
            "_model_name": "ProgressStyleModel",
            "description_width": "initial",
            "_view_module": "@jupyter-widgets/base",
            "_model_module_version": "1.5.0",
            "_view_count": null,
            "_view_module_version": "1.2.0",
            "bar_color": null,
            "_model_module": "@jupyter-widgets/controls"
          }
        },
        "6a55c3c730144f1f9f6bed5339b666c3": {
          "model_module": "@jupyter-widgets/base",
          "model_name": "LayoutModel",
          "state": {
            "_view_name": "LayoutView",
            "grid_template_rows": null,
            "right": null,
            "justify_content": null,
            "_view_module": "@jupyter-widgets/base",
            "overflow": null,
            "_model_module_version": "1.2.0",
            "_view_count": null,
            "flex_flow": null,
            "width": null,
            "min_width": null,
            "border": null,
            "align_items": null,
            "bottom": null,
            "_model_module": "@jupyter-widgets/base",
            "top": null,
            "grid_column": null,
            "overflow_y": null,
            "overflow_x": null,
            "grid_auto_flow": null,
            "grid_area": null,
            "grid_template_columns": null,
            "flex": null,
            "_model_name": "LayoutModel",
            "justify_items": null,
            "grid_row": null,
            "max_height": null,
            "align_content": null,
            "visibility": null,
            "align_self": null,
            "height": null,
            "min_height": null,
            "padding": null,
            "grid_auto_rows": null,
            "grid_gap": null,
            "max_width": null,
            "order": null,
            "_view_module_version": "1.2.0",
            "grid_template_areas": null,
            "object_position": null,
            "object_fit": null,
            "grid_auto_columns": null,
            "margin": null,
            "display": null,
            "left": null
          }
        },
        "6d164c727e614acc83f351ae1363b0aa": {
          "model_module": "@jupyter-widgets/controls",
          "model_name": "DescriptionStyleModel",
          "state": {
            "_view_name": "StyleView",
            "_model_name": "DescriptionStyleModel",
            "description_width": "",
            "_view_module": "@jupyter-widgets/base",
            "_model_module_version": "1.5.0",
            "_view_count": null,
            "_view_module_version": "1.2.0",
            "_model_module": "@jupyter-widgets/controls"
          }
        },
        "3c2f0f0cf8a649f39eb88f27a73763fe": {
          "model_module": "@jupyter-widgets/base",
          "model_name": "LayoutModel",
          "state": {
            "_view_name": "LayoutView",
            "grid_template_rows": null,
            "right": null,
            "justify_content": null,
            "_view_module": "@jupyter-widgets/base",
            "overflow": null,
            "_model_module_version": "1.2.0",
            "_view_count": null,
            "flex_flow": null,
            "width": null,
            "min_width": null,
            "border": null,
            "align_items": null,
            "bottom": null,
            "_model_module": "@jupyter-widgets/base",
            "top": null,
            "grid_column": null,
            "overflow_y": null,
            "overflow_x": null,
            "grid_auto_flow": null,
            "grid_area": null,
            "grid_template_columns": null,
            "flex": null,
            "_model_name": "LayoutModel",
            "justify_items": null,
            "grid_row": null,
            "max_height": null,
            "align_content": null,
            "visibility": null,
            "align_self": null,
            "height": null,
            "min_height": null,
            "padding": null,
            "grid_auto_rows": null,
            "grid_gap": null,
            "max_width": null,
            "order": null,
            "_view_module_version": "1.2.0",
            "grid_template_areas": null,
            "object_position": null,
            "object_fit": null,
            "grid_auto_columns": null,
            "margin": null,
            "display": null,
            "left": null
          }
        },
        "1095be6015bc4f9285480f7915993b2c": {
          "model_module": "@jupyter-widgets/controls",
          "model_name": "HBoxModel",
          "state": {
            "_view_name": "HBoxView",
            "_dom_classes": [],
            "_model_name": "HBoxModel",
            "_view_module": "@jupyter-widgets/controls",
            "_model_module_version": "1.5.0",
            "_view_count": null,
            "_view_module_version": "1.5.0",
            "box_style": "",
            "layout": "IPY_MODEL_370478d26eda47e2aa4d07a9bb0e8f52",
            "_model_module": "@jupyter-widgets/controls",
            "children": [
              "IPY_MODEL_fcdc40392d9b497dbae60b82435a237a",
              "IPY_MODEL_683ff534b5554974ab7662b6342e1e14"
            ]
          }
        },
        "370478d26eda47e2aa4d07a9bb0e8f52": {
          "model_module": "@jupyter-widgets/base",
          "model_name": "LayoutModel",
          "state": {
            "_view_name": "LayoutView",
            "grid_template_rows": null,
            "right": null,
            "justify_content": null,
            "_view_module": "@jupyter-widgets/base",
            "overflow": null,
            "_model_module_version": "1.2.0",
            "_view_count": null,
            "flex_flow": null,
            "width": null,
            "min_width": null,
            "border": null,
            "align_items": null,
            "bottom": null,
            "_model_module": "@jupyter-widgets/base",
            "top": null,
            "grid_column": null,
            "overflow_y": null,
            "overflow_x": null,
            "grid_auto_flow": null,
            "grid_area": null,
            "grid_template_columns": null,
            "flex": null,
            "_model_name": "LayoutModel",
            "justify_items": null,
            "grid_row": null,
            "max_height": null,
            "align_content": null,
            "visibility": null,
            "align_self": null,
            "height": null,
            "min_height": null,
            "padding": null,
            "grid_auto_rows": null,
            "grid_gap": null,
            "max_width": null,
            "order": null,
            "_view_module_version": "1.2.0",
            "grid_template_areas": null,
            "object_position": null,
            "object_fit": null,
            "grid_auto_columns": null,
            "margin": null,
            "display": null,
            "left": null
          }
        },
        "fcdc40392d9b497dbae60b82435a237a": {
          "model_module": "@jupyter-widgets/controls",
          "model_name": "FloatProgressModel",
          "state": {
            "_view_name": "ProgressView",
            "style": "IPY_MODEL_49366cf6111f441d8e8a16cdc4683b0c",
            "_dom_classes": [],
            "description": "Downloading: 100%",
            "_model_name": "FloatProgressModel",
            "bar_style": "success",
            "max": 88,
            "_view_module": "@jupyter-widgets/controls",
            "_model_module_version": "1.5.0",
            "value": 88,
            "_view_count": null,
            "_view_module_version": "1.5.0",
            "orientation": "horizontal",
            "min": 0,
            "description_tooltip": null,
            "_model_module": "@jupyter-widgets/controls",
            "layout": "IPY_MODEL_25dd1fa1326b467ab6e9ec1f3e88c326"
          }
        },
        "683ff534b5554974ab7662b6342e1e14": {
          "model_module": "@jupyter-widgets/controls",
          "model_name": "HTMLModel",
          "state": {
            "_view_name": "HTMLView",
            "style": "IPY_MODEL_f1428a2996ba4480b8e186ed515bee55",
            "_dom_classes": [],
            "description": "",
            "_model_name": "HTMLModel",
            "placeholder": "​",
            "_view_module": "@jupyter-widgets/controls",
            "_model_module_version": "1.5.0",
            "value": " 88.0/88.0 [00:00&lt;00:00, 408B/s]",
            "_view_count": null,
            "_view_module_version": "1.5.0",
            "description_tooltip": null,
            "_model_module": "@jupyter-widgets/controls",
            "layout": "IPY_MODEL_e1c758c2089c46abaae527bdc2cd859b"
          }
        },
        "49366cf6111f441d8e8a16cdc4683b0c": {
          "model_module": "@jupyter-widgets/controls",
          "model_name": "ProgressStyleModel",
          "state": {
            "_view_name": "StyleView",
            "_model_name": "ProgressStyleModel",
            "description_width": "initial",
            "_view_module": "@jupyter-widgets/base",
            "_model_module_version": "1.5.0",
            "_view_count": null,
            "_view_module_version": "1.2.0",
            "bar_color": null,
            "_model_module": "@jupyter-widgets/controls"
          }
        },
        "25dd1fa1326b467ab6e9ec1f3e88c326": {
          "model_module": "@jupyter-widgets/base",
          "model_name": "LayoutModel",
          "state": {
            "_view_name": "LayoutView",
            "grid_template_rows": null,
            "right": null,
            "justify_content": null,
            "_view_module": "@jupyter-widgets/base",
            "overflow": null,
            "_model_module_version": "1.2.0",
            "_view_count": null,
            "flex_flow": null,
            "width": null,
            "min_width": null,
            "border": null,
            "align_items": null,
            "bottom": null,
            "_model_module": "@jupyter-widgets/base",
            "top": null,
            "grid_column": null,
            "overflow_y": null,
            "overflow_x": null,
            "grid_auto_flow": null,
            "grid_area": null,
            "grid_template_columns": null,
            "flex": null,
            "_model_name": "LayoutModel",
            "justify_items": null,
            "grid_row": null,
            "max_height": null,
            "align_content": null,
            "visibility": null,
            "align_self": null,
            "height": null,
            "min_height": null,
            "padding": null,
            "grid_auto_rows": null,
            "grid_gap": null,
            "max_width": null,
            "order": null,
            "_view_module_version": "1.2.0",
            "grid_template_areas": null,
            "object_position": null,
            "object_fit": null,
            "grid_auto_columns": null,
            "margin": null,
            "display": null,
            "left": null
          }
        },
        "f1428a2996ba4480b8e186ed515bee55": {
          "model_module": "@jupyter-widgets/controls",
          "model_name": "DescriptionStyleModel",
          "state": {
            "_view_name": "StyleView",
            "_model_name": "DescriptionStyleModel",
            "description_width": "",
            "_view_module": "@jupyter-widgets/base",
            "_model_module_version": "1.5.0",
            "_view_count": null,
            "_view_module_version": "1.2.0",
            "_model_module": "@jupyter-widgets/controls"
          }
        },
        "e1c758c2089c46abaae527bdc2cd859b": {
          "model_module": "@jupyter-widgets/base",
          "model_name": "LayoutModel",
          "state": {
            "_view_name": "LayoutView",
            "grid_template_rows": null,
            "right": null,
            "justify_content": null,
            "_view_module": "@jupyter-widgets/base",
            "overflow": null,
            "_model_module_version": "1.2.0",
            "_view_count": null,
            "flex_flow": null,
            "width": null,
            "min_width": null,
            "border": null,
            "align_items": null,
            "bottom": null,
            "_model_module": "@jupyter-widgets/base",
            "top": null,
            "grid_column": null,
            "overflow_y": null,
            "overflow_x": null,
            "grid_auto_flow": null,
            "grid_area": null,
            "grid_template_columns": null,
            "flex": null,
            "_model_name": "LayoutModel",
            "justify_items": null,
            "grid_row": null,
            "max_height": null,
            "align_content": null,
            "visibility": null,
            "align_self": null,
            "height": null,
            "min_height": null,
            "padding": null,
            "grid_auto_rows": null,
            "grid_gap": null,
            "max_width": null,
            "order": null,
            "_view_module_version": "1.2.0",
            "grid_template_areas": null,
            "object_position": null,
            "object_fit": null,
            "grid_auto_columns": null,
            "margin": null,
            "display": null,
            "left": null
          }
        },
        "2ec50eba7b974e04affe085ecbce7043": {
          "model_module": "@jupyter-widgets/controls",
          "model_name": "HBoxModel",
          "state": {
            "_view_name": "HBoxView",
            "_dom_classes": [],
            "_model_name": "HBoxModel",
            "_view_module": "@jupyter-widgets/controls",
            "_model_module_version": "1.5.0",
            "_view_count": null,
            "_view_module_version": "1.5.0",
            "box_style": "",
            "layout": "IPY_MODEL_4c5e611c842942a4bda87511204ce4dd",
            "_model_module": "@jupyter-widgets/controls",
            "children": [
              "IPY_MODEL_2c745b0327f64851ba81086a00037063",
              "IPY_MODEL_fa527f0c394b4f9e91c738aae0e2d6a0"
            ]
          }
        },
        "4c5e611c842942a4bda87511204ce4dd": {
          "model_module": "@jupyter-widgets/base",
          "model_name": "LayoutModel",
          "state": {
            "_view_name": "LayoutView",
            "grid_template_rows": null,
            "right": null,
            "justify_content": null,
            "_view_module": "@jupyter-widgets/base",
            "overflow": null,
            "_model_module_version": "1.2.0",
            "_view_count": null,
            "flex_flow": null,
            "width": null,
            "min_width": null,
            "border": null,
            "align_items": null,
            "bottom": null,
            "_model_module": "@jupyter-widgets/base",
            "top": null,
            "grid_column": null,
            "overflow_y": null,
            "overflow_x": null,
            "grid_auto_flow": null,
            "grid_area": null,
            "grid_template_columns": null,
            "flex": null,
            "_model_name": "LayoutModel",
            "justify_items": null,
            "grid_row": null,
            "max_height": null,
            "align_content": null,
            "visibility": null,
            "align_self": null,
            "height": null,
            "min_height": null,
            "padding": null,
            "grid_auto_rows": null,
            "grid_gap": null,
            "max_width": null,
            "order": null,
            "_view_module_version": "1.2.0",
            "grid_template_areas": null,
            "object_position": null,
            "object_fit": null,
            "grid_auto_columns": null,
            "margin": null,
            "display": null,
            "left": null
          }
        },
        "2c745b0327f64851ba81086a00037063": {
          "model_module": "@jupyter-widgets/controls",
          "model_name": "FloatProgressModel",
          "state": {
            "_view_name": "ProgressView",
            "style": "IPY_MODEL_bfdd47f2c4174e9f9b8885555535634d",
            "_dom_classes": [],
            "description": "Downloading: 100%",
            "_model_name": "FloatProgressModel",
            "bar_style": "success",
            "max": 444308500,
            "_view_module": "@jupyter-widgets/controls",
            "_model_module_version": "1.5.0",
            "value": 444308500,
            "_view_count": null,
            "_view_module_version": "1.5.0",
            "orientation": "horizontal",
            "min": 0,
            "description_tooltip": null,
            "_model_module": "@jupyter-widgets/controls",
            "layout": "IPY_MODEL_b028fd51f0fb4881966be2121a1d6495"
          }
        },
        "fa527f0c394b4f9e91c738aae0e2d6a0": {
          "model_module": "@jupyter-widgets/controls",
          "model_name": "HTMLModel",
          "state": {
            "_view_name": "HTMLView",
            "style": "IPY_MODEL_b1b52be93d2642d49b809c7a46b2be11",
            "_dom_classes": [],
            "description": "",
            "_model_name": "HTMLModel",
            "placeholder": "​",
            "_view_module": "@jupyter-widgets/controls",
            "_model_module_version": "1.5.0",
            "value": " 444M/444M [00:07&lt;00:00, 55.6MB/s]",
            "_view_count": null,
            "_view_module_version": "1.5.0",
            "description_tooltip": null,
            "_model_module": "@jupyter-widgets/controls",
            "layout": "IPY_MODEL_1d82042d66f14db58e1a612771daafb2"
          }
        },
        "bfdd47f2c4174e9f9b8885555535634d": {
          "model_module": "@jupyter-widgets/controls",
          "model_name": "ProgressStyleModel",
          "state": {
            "_view_name": "StyleView",
            "_model_name": "ProgressStyleModel",
            "description_width": "initial",
            "_view_module": "@jupyter-widgets/base",
            "_model_module_version": "1.5.0",
            "_view_count": null,
            "_view_module_version": "1.2.0",
            "bar_color": null,
            "_model_module": "@jupyter-widgets/controls"
          }
        },
        "b028fd51f0fb4881966be2121a1d6495": {
          "model_module": "@jupyter-widgets/base",
          "model_name": "LayoutModel",
          "state": {
            "_view_name": "LayoutView",
            "grid_template_rows": null,
            "right": null,
            "justify_content": null,
            "_view_module": "@jupyter-widgets/base",
            "overflow": null,
            "_model_module_version": "1.2.0",
            "_view_count": null,
            "flex_flow": null,
            "width": null,
            "min_width": null,
            "border": null,
            "align_items": null,
            "bottom": null,
            "_model_module": "@jupyter-widgets/base",
            "top": null,
            "grid_column": null,
            "overflow_y": null,
            "overflow_x": null,
            "grid_auto_flow": null,
            "grid_area": null,
            "grid_template_columns": null,
            "flex": null,
            "_model_name": "LayoutModel",
            "justify_items": null,
            "grid_row": null,
            "max_height": null,
            "align_content": null,
            "visibility": null,
            "align_self": null,
            "height": null,
            "min_height": null,
            "padding": null,
            "grid_auto_rows": null,
            "grid_gap": null,
            "max_width": null,
            "order": null,
            "_view_module_version": "1.2.0",
            "grid_template_areas": null,
            "object_position": null,
            "object_fit": null,
            "grid_auto_columns": null,
            "margin": null,
            "display": null,
            "left": null
          }
        },
        "b1b52be93d2642d49b809c7a46b2be11": {
          "model_module": "@jupyter-widgets/controls",
          "model_name": "DescriptionStyleModel",
          "state": {
            "_view_name": "StyleView",
            "_model_name": "DescriptionStyleModel",
            "description_width": "",
            "_view_module": "@jupyter-widgets/base",
            "_model_module_version": "1.5.0",
            "_view_count": null,
            "_view_module_version": "1.2.0",
            "_model_module": "@jupyter-widgets/controls"
          }
        },
        "1d82042d66f14db58e1a612771daafb2": {
          "model_module": "@jupyter-widgets/base",
          "model_name": "LayoutModel",
          "state": {
            "_view_name": "LayoutView",
            "grid_template_rows": null,
            "right": null,
            "justify_content": null,
            "_view_module": "@jupyter-widgets/base",
            "overflow": null,
            "_model_module_version": "1.2.0",
            "_view_count": null,
            "flex_flow": null,
            "width": null,
            "min_width": null,
            "border": null,
            "align_items": null,
            "bottom": null,
            "_model_module": "@jupyter-widgets/base",
            "top": null,
            "grid_column": null,
            "overflow_y": null,
            "overflow_x": null,
            "grid_auto_flow": null,
            "grid_area": null,
            "grid_template_columns": null,
            "flex": null,
            "_model_name": "LayoutModel",
            "justify_items": null,
            "grid_row": null,
            "max_height": null,
            "align_content": null,
            "visibility": null,
            "align_self": null,
            "height": null,
            "min_height": null,
            "padding": null,
            "grid_auto_rows": null,
            "grid_gap": null,
            "max_width": null,
            "order": null,
            "_view_module_version": "1.2.0",
            "grid_template_areas": null,
            "object_position": null,
            "object_fit": null,
            "grid_auto_columns": null,
            "margin": null,
            "display": null,
            "left": null
          }
        },
        "d56de93306be42418476230e7e109215": {
          "model_module": "@jupyter-widgets/controls",
          "model_name": "HBoxModel",
          "state": {
            "_view_name": "HBoxView",
            "_dom_classes": [],
            "_model_name": "HBoxModel",
            "_view_module": "@jupyter-widgets/controls",
            "_model_module_version": "1.5.0",
            "_view_count": null,
            "_view_module_version": "1.5.0",
            "box_style": "",
            "layout": "IPY_MODEL_b2e7c0e47bbb482db438ba3fa94271db",
            "_model_module": "@jupyter-widgets/controls",
            "children": [
              "IPY_MODEL_a35211aa7aee40c4b5018a15afcf370f",
              "IPY_MODEL_7a60a2ff2e7042db941e3bbe5943ed7b"
            ]
          }
        },
        "b2e7c0e47bbb482db438ba3fa94271db": {
          "model_module": "@jupyter-widgets/base",
          "model_name": "LayoutModel",
          "state": {
            "_view_name": "LayoutView",
            "grid_template_rows": null,
            "right": null,
            "justify_content": null,
            "_view_module": "@jupyter-widgets/base",
            "overflow": null,
            "_model_module_version": "1.2.0",
            "_view_count": null,
            "flex_flow": null,
            "width": null,
            "min_width": null,
            "border": null,
            "align_items": null,
            "bottom": null,
            "_model_module": "@jupyter-widgets/base",
            "top": null,
            "grid_column": null,
            "overflow_y": null,
            "overflow_x": null,
            "grid_auto_flow": null,
            "grid_area": null,
            "grid_template_columns": null,
            "flex": null,
            "_model_name": "LayoutModel",
            "justify_items": null,
            "grid_row": null,
            "max_height": null,
            "align_content": null,
            "visibility": null,
            "align_self": null,
            "height": null,
            "min_height": null,
            "padding": null,
            "grid_auto_rows": null,
            "grid_gap": null,
            "max_width": null,
            "order": null,
            "_view_module_version": "1.2.0",
            "grid_template_areas": null,
            "object_position": null,
            "object_fit": null,
            "grid_auto_columns": null,
            "margin": null,
            "display": null,
            "left": null
          }
        },
        "a35211aa7aee40c4b5018a15afcf370f": {
          "model_module": "@jupyter-widgets/controls",
          "model_name": "FloatProgressModel",
          "state": {
            "_view_name": "ProgressView",
            "style": "IPY_MODEL_caa0caf99a6e4fa8b66d1709bfb00d8a",
            "_dom_classes": [],
            "description": "Downloading: 100%",
            "_model_name": "FloatProgressModel",
            "bar_style": "success",
            "max": 1558,
            "_view_module": "@jupyter-widgets/controls",
            "_model_module_version": "1.5.0",
            "value": 1558,
            "_view_count": null,
            "_view_module_version": "1.5.0",
            "orientation": "horizontal",
            "min": 0,
            "description_tooltip": null,
            "_model_module": "@jupyter-widgets/controls",
            "layout": "IPY_MODEL_fc7a08a651ae4c1090df25cb57c49715"
          }
        },
        "7a60a2ff2e7042db941e3bbe5943ed7b": {
          "model_module": "@jupyter-widgets/controls",
          "model_name": "HTMLModel",
          "state": {
            "_view_name": "HTMLView",
            "style": "IPY_MODEL_452a7cbdf8b545138b49330d33ac435f",
            "_dom_classes": [],
            "description": "",
            "_model_name": "HTMLModel",
            "placeholder": "​",
            "_view_module": "@jupyter-widgets/controls",
            "_model_module_version": "1.5.0",
            "value": " 1.56k/1.56k [00:01&lt;00:00, 1.41kB/s]",
            "_view_count": null,
            "_view_module_version": "1.5.0",
            "description_tooltip": null,
            "_model_module": "@jupyter-widgets/controls",
            "layout": "IPY_MODEL_63bb4bda2a4a4ec3a3c00ee4924aa13b"
          }
        },
        "caa0caf99a6e4fa8b66d1709bfb00d8a": {
          "model_module": "@jupyter-widgets/controls",
          "model_name": "ProgressStyleModel",
          "state": {
            "_view_name": "StyleView",
            "_model_name": "ProgressStyleModel",
            "description_width": "initial",
            "_view_module": "@jupyter-widgets/base",
            "_model_module_version": "1.5.0",
            "_view_count": null,
            "_view_module_version": "1.2.0",
            "bar_color": null,
            "_model_module": "@jupyter-widgets/controls"
          }
        },
        "fc7a08a651ae4c1090df25cb57c49715": {
          "model_module": "@jupyter-widgets/base",
          "model_name": "LayoutModel",
          "state": {
            "_view_name": "LayoutView",
            "grid_template_rows": null,
            "right": null,
            "justify_content": null,
            "_view_module": "@jupyter-widgets/base",
            "overflow": null,
            "_model_module_version": "1.2.0",
            "_view_count": null,
            "flex_flow": null,
            "width": null,
            "min_width": null,
            "border": null,
            "align_items": null,
            "bottom": null,
            "_model_module": "@jupyter-widgets/base",
            "top": null,
            "grid_column": null,
            "overflow_y": null,
            "overflow_x": null,
            "grid_auto_flow": null,
            "grid_area": null,
            "grid_template_columns": null,
            "flex": null,
            "_model_name": "LayoutModel",
            "justify_items": null,
            "grid_row": null,
            "max_height": null,
            "align_content": null,
            "visibility": null,
            "align_self": null,
            "height": null,
            "min_height": null,
            "padding": null,
            "grid_auto_rows": null,
            "grid_gap": null,
            "max_width": null,
            "order": null,
            "_view_module_version": "1.2.0",
            "grid_template_areas": null,
            "object_position": null,
            "object_fit": null,
            "grid_auto_columns": null,
            "margin": null,
            "display": null,
            "left": null
          }
        },
        "452a7cbdf8b545138b49330d33ac435f": {
          "model_module": "@jupyter-widgets/controls",
          "model_name": "DescriptionStyleModel",
          "state": {
            "_view_name": "StyleView",
            "_model_name": "DescriptionStyleModel",
            "description_width": "",
            "_view_module": "@jupyter-widgets/base",
            "_model_module_version": "1.5.0",
            "_view_count": null,
            "_view_module_version": "1.2.0",
            "_model_module": "@jupyter-widgets/controls"
          }
        },
        "63bb4bda2a4a4ec3a3c00ee4924aa13b": {
          "model_module": "@jupyter-widgets/base",
          "model_name": "LayoutModel",
          "state": {
            "_view_name": "LayoutView",
            "grid_template_rows": null,
            "right": null,
            "justify_content": null,
            "_view_module": "@jupyter-widgets/base",
            "overflow": null,
            "_model_module_version": "1.2.0",
            "_view_count": null,
            "flex_flow": null,
            "width": null,
            "min_width": null,
            "border": null,
            "align_items": null,
            "bottom": null,
            "_model_module": "@jupyter-widgets/base",
            "top": null,
            "grid_column": null,
            "overflow_y": null,
            "overflow_x": null,
            "grid_auto_flow": null,
            "grid_area": null,
            "grid_template_columns": null,
            "flex": null,
            "_model_name": "LayoutModel",
            "justify_items": null,
            "grid_row": null,
            "max_height": null,
            "align_content": null,
            "visibility": null,
            "align_self": null,
            "height": null,
            "min_height": null,
            "padding": null,
            "grid_auto_rows": null,
            "grid_gap": null,
            "max_width": null,
            "order": null,
            "_view_module_version": "1.2.0",
            "grid_template_areas": null,
            "object_position": null,
            "object_fit": null,
            "grid_auto_columns": null,
            "margin": null,
            "display": null,
            "left": null
          }
        },
        "c30662f056ca4f2f88c16629f4307f05": {
          "model_module": "@jupyter-widgets/controls",
          "model_name": "HBoxModel",
          "state": {
            "_view_name": "HBoxView",
            "_dom_classes": [],
            "_model_name": "HBoxModel",
            "_view_module": "@jupyter-widgets/controls",
            "_model_module_version": "1.5.0",
            "_view_count": null,
            "_view_module_version": "1.5.0",
            "box_style": "",
            "layout": "IPY_MODEL_f32547891c0b4cac9fac4f3f2be4a9ce",
            "_model_module": "@jupyter-widgets/controls",
            "children": [
              "IPY_MODEL_9078207c881f4fc7ae7ff6fed9bf736f",
              "IPY_MODEL_f9de22e032014e20a094322985338934"
            ]
          }
        },
        "f32547891c0b4cac9fac4f3f2be4a9ce": {
          "model_module": "@jupyter-widgets/base",
          "model_name": "LayoutModel",
          "state": {
            "_view_name": "LayoutView",
            "grid_template_rows": null,
            "right": null,
            "justify_content": null,
            "_view_module": "@jupyter-widgets/base",
            "overflow": null,
            "_model_module_version": "1.2.0",
            "_view_count": null,
            "flex_flow": null,
            "width": null,
            "min_width": null,
            "border": null,
            "align_items": null,
            "bottom": null,
            "_model_module": "@jupyter-widgets/base",
            "top": null,
            "grid_column": null,
            "overflow_y": null,
            "overflow_x": null,
            "grid_auto_flow": null,
            "grid_area": null,
            "grid_template_columns": null,
            "flex": null,
            "_model_name": "LayoutModel",
            "justify_items": null,
            "grid_row": null,
            "max_height": null,
            "align_content": null,
            "visibility": null,
            "align_self": null,
            "height": null,
            "min_height": null,
            "padding": null,
            "grid_auto_rows": null,
            "grid_gap": null,
            "max_width": null,
            "order": null,
            "_view_module_version": "1.2.0",
            "grid_template_areas": null,
            "object_position": null,
            "object_fit": null,
            "grid_auto_columns": null,
            "margin": null,
            "display": null,
            "left": null
          }
        },
        "9078207c881f4fc7ae7ff6fed9bf736f": {
          "model_module": "@jupyter-widgets/controls",
          "model_name": "FloatProgressModel",
          "state": {
            "_view_name": "ProgressView",
            "style": "IPY_MODEL_a554a325b9f8464da5e7217048d3b2ce",
            "_dom_classes": [],
            "description": "Downloading: 100%",
            "_model_name": "FloatProgressModel",
            "bar_style": "success",
            "max": 258935,
            "_view_module": "@jupyter-widgets/controls",
            "_model_module_version": "1.5.0",
            "value": 258935,
            "_view_count": null,
            "_view_module_version": "1.5.0",
            "orientation": "horizontal",
            "min": 0,
            "description_tooltip": null,
            "_model_module": "@jupyter-widgets/controls",
            "layout": "IPY_MODEL_43be923af5d4460b8af2398ce123581b"
          }
        },
        "f9de22e032014e20a094322985338934": {
          "model_module": "@jupyter-widgets/controls",
          "model_name": "HTMLModel",
          "state": {
            "_view_name": "HTMLView",
            "style": "IPY_MODEL_24da435d3e634cc693a8266d953e5515",
            "_dom_classes": [],
            "description": "",
            "_model_name": "HTMLModel",
            "placeholder": "​",
            "_view_module": "@jupyter-widgets/controls",
            "_model_module_version": "1.5.0",
            "value": " 259k/259k [00:00&lt;00:00, 362kB/s]",
            "_view_count": null,
            "_view_module_version": "1.5.0",
            "description_tooltip": null,
            "_model_module": "@jupyter-widgets/controls",
            "layout": "IPY_MODEL_dd62ee5b489241e0a2efc9095cfc2ab9"
          }
        },
        "a554a325b9f8464da5e7217048d3b2ce": {
          "model_module": "@jupyter-widgets/controls",
          "model_name": "ProgressStyleModel",
          "state": {
            "_view_name": "StyleView",
            "_model_name": "ProgressStyleModel",
            "description_width": "initial",
            "_view_module": "@jupyter-widgets/base",
            "_model_module_version": "1.5.0",
            "_view_count": null,
            "_view_module_version": "1.2.0",
            "bar_color": null,
            "_model_module": "@jupyter-widgets/controls"
          }
        },
        "43be923af5d4460b8af2398ce123581b": {
          "model_module": "@jupyter-widgets/base",
          "model_name": "LayoutModel",
          "state": {
            "_view_name": "LayoutView",
            "grid_template_rows": null,
            "right": null,
            "justify_content": null,
            "_view_module": "@jupyter-widgets/base",
            "overflow": null,
            "_model_module_version": "1.2.0",
            "_view_count": null,
            "flex_flow": null,
            "width": null,
            "min_width": null,
            "border": null,
            "align_items": null,
            "bottom": null,
            "_model_module": "@jupyter-widgets/base",
            "top": null,
            "grid_column": null,
            "overflow_y": null,
            "overflow_x": null,
            "grid_auto_flow": null,
            "grid_area": null,
            "grid_template_columns": null,
            "flex": null,
            "_model_name": "LayoutModel",
            "justify_items": null,
            "grid_row": null,
            "max_height": null,
            "align_content": null,
            "visibility": null,
            "align_self": null,
            "height": null,
            "min_height": null,
            "padding": null,
            "grid_auto_rows": null,
            "grid_gap": null,
            "max_width": null,
            "order": null,
            "_view_module_version": "1.2.0",
            "grid_template_areas": null,
            "object_position": null,
            "object_fit": null,
            "grid_auto_columns": null,
            "margin": null,
            "display": null,
            "left": null
          }
        },
        "24da435d3e634cc693a8266d953e5515": {
          "model_module": "@jupyter-widgets/controls",
          "model_name": "DescriptionStyleModel",
          "state": {
            "_view_name": "StyleView",
            "_model_name": "DescriptionStyleModel",
            "description_width": "",
            "_view_module": "@jupyter-widgets/base",
            "_model_module_version": "1.5.0",
            "_view_count": null,
            "_view_module_version": "1.2.0",
            "_model_module": "@jupyter-widgets/controls"
          }
        },
        "dd62ee5b489241e0a2efc9095cfc2ab9": {
          "model_module": "@jupyter-widgets/base",
          "model_name": "LayoutModel",
          "state": {
            "_view_name": "LayoutView",
            "grid_template_rows": null,
            "right": null,
            "justify_content": null,
            "_view_module": "@jupyter-widgets/base",
            "overflow": null,
            "_model_module_version": "1.2.0",
            "_view_count": null,
            "flex_flow": null,
            "width": null,
            "min_width": null,
            "border": null,
            "align_items": null,
            "bottom": null,
            "_model_module": "@jupyter-widgets/base",
            "top": null,
            "grid_column": null,
            "overflow_y": null,
            "overflow_x": null,
            "grid_auto_flow": null,
            "grid_area": null,
            "grid_template_columns": null,
            "flex": null,
            "_model_name": "LayoutModel",
            "justify_items": null,
            "grid_row": null,
            "max_height": null,
            "align_content": null,
            "visibility": null,
            "align_self": null,
            "height": null,
            "min_height": null,
            "padding": null,
            "grid_auto_rows": null,
            "grid_gap": null,
            "max_width": null,
            "order": null,
            "_view_module_version": "1.2.0",
            "grid_template_areas": null,
            "object_position": null,
            "object_fit": null,
            "grid_auto_columns": null,
            "margin": null,
            "display": null,
            "left": null
          }
        },
        "03f3814858c84af78083aebf36622e2d": {
          "model_module": "@jupyter-widgets/controls",
          "model_name": "HBoxModel",
          "state": {
            "_view_name": "HBoxView",
            "_dom_classes": [],
            "_model_name": "HBoxModel",
            "_view_module": "@jupyter-widgets/controls",
            "_model_module_version": "1.5.0",
            "_view_count": null,
            "_view_module_version": "1.5.0",
            "box_style": "",
            "layout": "IPY_MODEL_5f67f411eb7341d48f6224064a11b8e3",
            "_model_module": "@jupyter-widgets/controls",
            "children": [
              "IPY_MODEL_7cdfb1c5f66f453faabaa8374155f74f",
              "IPY_MODEL_3f7661fb251548d8b432e513551df732"
            ]
          }
        },
        "5f67f411eb7341d48f6224064a11b8e3": {
          "model_module": "@jupyter-widgets/base",
          "model_name": "LayoutModel",
          "state": {
            "_view_name": "LayoutView",
            "grid_template_rows": null,
            "right": null,
            "justify_content": null,
            "_view_module": "@jupyter-widgets/base",
            "overflow": null,
            "_model_module_version": "1.2.0",
            "_view_count": null,
            "flex_flow": null,
            "width": null,
            "min_width": null,
            "border": null,
            "align_items": null,
            "bottom": null,
            "_model_module": "@jupyter-widgets/base",
            "top": null,
            "grid_column": null,
            "overflow_y": null,
            "overflow_x": null,
            "grid_auto_flow": null,
            "grid_area": null,
            "grid_template_columns": null,
            "flex": null,
            "_model_name": "LayoutModel",
            "justify_items": null,
            "grid_row": null,
            "max_height": null,
            "align_content": null,
            "visibility": null,
            "align_self": null,
            "height": null,
            "min_height": null,
            "padding": null,
            "grid_auto_rows": null,
            "grid_gap": null,
            "max_width": null,
            "order": null,
            "_view_module_version": "1.2.0",
            "grid_template_areas": null,
            "object_position": null,
            "object_fit": null,
            "grid_auto_columns": null,
            "margin": null,
            "display": null,
            "left": null
          }
        },
        "7cdfb1c5f66f453faabaa8374155f74f": {
          "model_module": "@jupyter-widgets/controls",
          "model_name": "FloatProgressModel",
          "state": {
            "_view_name": "ProgressView",
            "style": "IPY_MODEL_5b797416028d4877acb5ff3258e21a88",
            "_dom_classes": [],
            "description": "Downloading: 100%",
            "_model_name": "FloatProgressModel",
            "bar_style": "success",
            "max": 112,
            "_view_module": "@jupyter-widgets/controls",
            "_model_module_version": "1.5.0",
            "value": 112,
            "_view_count": null,
            "_view_module_version": "1.5.0",
            "orientation": "horizontal",
            "min": 0,
            "description_tooltip": null,
            "_model_module": "@jupyter-widgets/controls",
            "layout": "IPY_MODEL_0192f220173a406a95e5cc5e8c0f1420"
          }
        },
        "3f7661fb251548d8b432e513551df732": {
          "model_module": "@jupyter-widgets/controls",
          "model_name": "HTMLModel",
          "state": {
            "_view_name": "HTMLView",
            "style": "IPY_MODEL_172e9073671e4461b08e35a455fdc8ae",
            "_dom_classes": [],
            "description": "",
            "_model_name": "HTMLModel",
            "placeholder": "​",
            "_view_module": "@jupyter-widgets/controls",
            "_model_module_version": "1.5.0",
            "value": " 112/112 [00:00&lt;00:00, 139B/s]",
            "_view_count": null,
            "_view_module_version": "1.5.0",
            "description_tooltip": null,
            "_model_module": "@jupyter-widgets/controls",
            "layout": "IPY_MODEL_a78c543fc5394d4cabcb3cadd489dd25"
          }
        },
        "5b797416028d4877acb5ff3258e21a88": {
          "model_module": "@jupyter-widgets/controls",
          "model_name": "ProgressStyleModel",
          "state": {
            "_view_name": "StyleView",
            "_model_name": "ProgressStyleModel",
            "description_width": "initial",
            "_view_module": "@jupyter-widgets/base",
            "_model_module_version": "1.5.0",
            "_view_count": null,
            "_view_module_version": "1.2.0",
            "bar_color": null,
            "_model_module": "@jupyter-widgets/controls"
          }
        },
        "0192f220173a406a95e5cc5e8c0f1420": {
          "model_module": "@jupyter-widgets/base",
          "model_name": "LayoutModel",
          "state": {
            "_view_name": "LayoutView",
            "grid_template_rows": null,
            "right": null,
            "justify_content": null,
            "_view_module": "@jupyter-widgets/base",
            "overflow": null,
            "_model_module_version": "1.2.0",
            "_view_count": null,
            "flex_flow": null,
            "width": null,
            "min_width": null,
            "border": null,
            "align_items": null,
            "bottom": null,
            "_model_module": "@jupyter-widgets/base",
            "top": null,
            "grid_column": null,
            "overflow_y": null,
            "overflow_x": null,
            "grid_auto_flow": null,
            "grid_area": null,
            "grid_template_columns": null,
            "flex": null,
            "_model_name": "LayoutModel",
            "justify_items": null,
            "grid_row": null,
            "max_height": null,
            "align_content": null,
            "visibility": null,
            "align_self": null,
            "height": null,
            "min_height": null,
            "padding": null,
            "grid_auto_rows": null,
            "grid_gap": null,
            "max_width": null,
            "order": null,
            "_view_module_version": "1.2.0",
            "grid_template_areas": null,
            "object_position": null,
            "object_fit": null,
            "grid_auto_columns": null,
            "margin": null,
            "display": null,
            "left": null
          }
        },
        "172e9073671e4461b08e35a455fdc8ae": {
          "model_module": "@jupyter-widgets/controls",
          "model_name": "DescriptionStyleModel",
          "state": {
            "_view_name": "StyleView",
            "_model_name": "DescriptionStyleModel",
            "description_width": "",
            "_view_module": "@jupyter-widgets/base",
            "_model_module_version": "1.5.0",
            "_view_count": null,
            "_view_module_version": "1.2.0",
            "_model_module": "@jupyter-widgets/controls"
          }
        },
        "a78c543fc5394d4cabcb3cadd489dd25": {
          "model_module": "@jupyter-widgets/base",
          "model_name": "LayoutModel",
          "state": {
            "_view_name": "LayoutView",
            "grid_template_rows": null,
            "right": null,
            "justify_content": null,
            "_view_module": "@jupyter-widgets/base",
            "overflow": null,
            "_model_module_version": "1.2.0",
            "_view_count": null,
            "flex_flow": null,
            "width": null,
            "min_width": null,
            "border": null,
            "align_items": null,
            "bottom": null,
            "_model_module": "@jupyter-widgets/base",
            "top": null,
            "grid_column": null,
            "overflow_y": null,
            "overflow_x": null,
            "grid_auto_flow": null,
            "grid_area": null,
            "grid_template_columns": null,
            "flex": null,
            "_model_name": "LayoutModel",
            "justify_items": null,
            "grid_row": null,
            "max_height": null,
            "align_content": null,
            "visibility": null,
            "align_self": null,
            "height": null,
            "min_height": null,
            "padding": null,
            "grid_auto_rows": null,
            "grid_gap": null,
            "max_width": null,
            "order": null,
            "_view_module_version": "1.2.0",
            "grid_template_areas": null,
            "object_position": null,
            "object_fit": null,
            "grid_auto_columns": null,
            "margin": null,
            "display": null,
            "left": null
          }
        },
        "693e790ccd0f456e82d073a98b48def9": {
          "model_module": "@jupyter-widgets/controls",
          "model_name": "HBoxModel",
          "state": {
            "_view_name": "HBoxView",
            "_dom_classes": [],
            "_model_name": "HBoxModel",
            "_view_module": "@jupyter-widgets/controls",
            "_model_module_version": "1.5.0",
            "_view_count": null,
            "_view_module_version": "1.5.0",
            "box_style": "",
            "layout": "IPY_MODEL_76459bc0b2eb42cdbc8794d53b168e40",
            "_model_module": "@jupyter-widgets/controls",
            "children": [
              "IPY_MODEL_ba54afd4b3484b00a1b6ce79e6e5f4d1",
              "IPY_MODEL_1869e495ed9a46cfbe8d7081012644ee"
            ]
          }
        },
        "76459bc0b2eb42cdbc8794d53b168e40": {
          "model_module": "@jupyter-widgets/base",
          "model_name": "LayoutModel",
          "state": {
            "_view_name": "LayoutView",
            "grid_template_rows": null,
            "right": null,
            "justify_content": null,
            "_view_module": "@jupyter-widgets/base",
            "overflow": null,
            "_model_module_version": "1.2.0",
            "_view_count": null,
            "flex_flow": null,
            "width": null,
            "min_width": null,
            "border": null,
            "align_items": null,
            "bottom": null,
            "_model_module": "@jupyter-widgets/base",
            "top": null,
            "grid_column": null,
            "overflow_y": null,
            "overflow_x": null,
            "grid_auto_flow": null,
            "grid_area": null,
            "grid_template_columns": null,
            "flex": null,
            "_model_name": "LayoutModel",
            "justify_items": null,
            "grid_row": null,
            "max_height": null,
            "align_content": null,
            "visibility": null,
            "align_self": null,
            "height": null,
            "min_height": null,
            "padding": null,
            "grid_auto_rows": null,
            "grid_gap": null,
            "max_width": null,
            "order": null,
            "_view_module_version": "1.2.0",
            "grid_template_areas": null,
            "object_position": null,
            "object_fit": null,
            "grid_auto_columns": null,
            "margin": null,
            "display": null,
            "left": null
          }
        },
        "ba54afd4b3484b00a1b6ce79e6e5f4d1": {
          "model_module": "@jupyter-widgets/controls",
          "model_name": "FloatProgressModel",
          "state": {
            "_view_name": "ProgressView",
            "style": "IPY_MODEL_60aabb78641e4a46a7bf3a5a58c6923a",
            "_dom_classes": [],
            "description": "Downloading: 100%",
            "_model_name": "FloatProgressModel",
            "bar_style": "success",
            "max": 2,
            "_view_module": "@jupyter-widgets/controls",
            "_model_module_version": "1.5.0",
            "value": 2,
            "_view_count": null,
            "_view_module_version": "1.5.0",
            "orientation": "horizontal",
            "min": 0,
            "description_tooltip": null,
            "_model_module": "@jupyter-widgets/controls",
            "layout": "IPY_MODEL_d23fee89ff544367b710dd5ac23c0869"
          }
        },
        "1869e495ed9a46cfbe8d7081012644ee": {
          "model_module": "@jupyter-widgets/controls",
          "model_name": "HTMLModel",
          "state": {
            "_view_name": "HTMLView",
            "style": "IPY_MODEL_acf28013931b4052a9390ae629692972",
            "_dom_classes": [],
            "description": "",
            "_model_name": "HTMLModel",
            "placeholder": "​",
            "_view_module": "@jupyter-widgets/controls",
            "_model_module_version": "1.5.0",
            "value": " 2.00/2.00 [00:00&lt;00:00, 5.60B/s]",
            "_view_count": null,
            "_view_module_version": "1.5.0",
            "description_tooltip": null,
            "_model_module": "@jupyter-widgets/controls",
            "layout": "IPY_MODEL_a0810344b0a446df834df5cb0e8f9c69"
          }
        },
        "60aabb78641e4a46a7bf3a5a58c6923a": {
          "model_module": "@jupyter-widgets/controls",
          "model_name": "ProgressStyleModel",
          "state": {
            "_view_name": "StyleView",
            "_model_name": "ProgressStyleModel",
            "description_width": "initial",
            "_view_module": "@jupyter-widgets/base",
            "_model_module_version": "1.5.0",
            "_view_count": null,
            "_view_module_version": "1.2.0",
            "bar_color": null,
            "_model_module": "@jupyter-widgets/controls"
          }
        },
        "d23fee89ff544367b710dd5ac23c0869": {
          "model_module": "@jupyter-widgets/base",
          "model_name": "LayoutModel",
          "state": {
            "_view_name": "LayoutView",
            "grid_template_rows": null,
            "right": null,
            "justify_content": null,
            "_view_module": "@jupyter-widgets/base",
            "overflow": null,
            "_model_module_version": "1.2.0",
            "_view_count": null,
            "flex_flow": null,
            "width": null,
            "min_width": null,
            "border": null,
            "align_items": null,
            "bottom": null,
            "_model_module": "@jupyter-widgets/base",
            "top": null,
            "grid_column": null,
            "overflow_y": null,
            "overflow_x": null,
            "grid_auto_flow": null,
            "grid_area": null,
            "grid_template_columns": null,
            "flex": null,
            "_model_name": "LayoutModel",
            "justify_items": null,
            "grid_row": null,
            "max_height": null,
            "align_content": null,
            "visibility": null,
            "align_self": null,
            "height": null,
            "min_height": null,
            "padding": null,
            "grid_auto_rows": null,
            "grid_gap": null,
            "max_width": null,
            "order": null,
            "_view_module_version": "1.2.0",
            "grid_template_areas": null,
            "object_position": null,
            "object_fit": null,
            "grid_auto_columns": null,
            "margin": null,
            "display": null,
            "left": null
          }
        },
        "acf28013931b4052a9390ae629692972": {
          "model_module": "@jupyter-widgets/controls",
          "model_name": "DescriptionStyleModel",
          "state": {
            "_view_name": "StyleView",
            "_model_name": "DescriptionStyleModel",
            "description_width": "",
            "_view_module": "@jupyter-widgets/base",
            "_model_module_version": "1.5.0",
            "_view_count": null,
            "_view_module_version": "1.2.0",
            "_model_module": "@jupyter-widgets/controls"
          }
        },
        "a0810344b0a446df834df5cb0e8f9c69": {
          "model_module": "@jupyter-widgets/base",
          "model_name": "LayoutModel",
          "state": {
            "_view_name": "LayoutView",
            "grid_template_rows": null,
            "right": null,
            "justify_content": null,
            "_view_module": "@jupyter-widgets/base",
            "overflow": null,
            "_model_module_version": "1.2.0",
            "_view_count": null,
            "flex_flow": null,
            "width": null,
            "min_width": null,
            "border": null,
            "align_items": null,
            "bottom": null,
            "_model_module": "@jupyter-widgets/base",
            "top": null,
            "grid_column": null,
            "overflow_y": null,
            "overflow_x": null,
            "grid_auto_flow": null,
            "grid_area": null,
            "grid_template_columns": null,
            "flex": null,
            "_model_name": "LayoutModel",
            "justify_items": null,
            "grid_row": null,
            "max_height": null,
            "align_content": null,
            "visibility": null,
            "align_self": null,
            "height": null,
            "min_height": null,
            "padding": null,
            "grid_auto_rows": null,
            "grid_gap": null,
            "max_width": null,
            "order": null,
            "_view_module_version": "1.2.0",
            "grid_template_areas": null,
            "object_position": null,
            "object_fit": null,
            "grid_auto_columns": null,
            "margin": null,
            "display": null,
            "left": null
          }
        },
        "425a7e9d252f4da38d34f1911be3f2b9": {
          "model_module": "@jupyter-widgets/controls",
          "model_name": "HBoxModel",
          "state": {
            "_view_name": "HBoxView",
            "_dom_classes": [],
            "_model_name": "HBoxModel",
            "_view_module": "@jupyter-widgets/controls",
            "_model_module_version": "1.5.0",
            "_view_count": null,
            "_view_module_version": "1.5.0",
            "box_style": "",
            "layout": "IPY_MODEL_23493ede85ac44c482977afc56bf366e",
            "_model_module": "@jupyter-widgets/controls",
            "children": [
              "IPY_MODEL_f78bab8bb11f4645b177b238bfccfc1a",
              "IPY_MODEL_63ebd4b0f11a42028eb4b0400e0a570e"
            ]
          }
        },
        "23493ede85ac44c482977afc56bf366e": {
          "model_module": "@jupyter-widgets/base",
          "model_name": "LayoutModel",
          "state": {
            "_view_name": "LayoutView",
            "grid_template_rows": null,
            "right": null,
            "justify_content": null,
            "_view_module": "@jupyter-widgets/base",
            "overflow": null,
            "_model_module_version": "1.2.0",
            "_view_count": null,
            "flex_flow": null,
            "width": null,
            "min_width": null,
            "border": null,
            "align_items": null,
            "bottom": null,
            "_model_module": "@jupyter-widgets/base",
            "top": null,
            "grid_column": null,
            "overflow_y": null,
            "overflow_x": null,
            "grid_auto_flow": null,
            "grid_area": null,
            "grid_template_columns": null,
            "flex": null,
            "_model_name": "LayoutModel",
            "justify_items": null,
            "grid_row": null,
            "max_height": null,
            "align_content": null,
            "visibility": null,
            "align_self": null,
            "height": null,
            "min_height": null,
            "padding": null,
            "grid_auto_rows": null,
            "grid_gap": null,
            "max_width": null,
            "order": null,
            "_view_module_version": "1.2.0",
            "grid_template_areas": null,
            "object_position": null,
            "object_fit": null,
            "grid_auto_columns": null,
            "margin": null,
            "display": null,
            "left": null
          }
        },
        "f78bab8bb11f4645b177b238bfccfc1a": {
          "model_module": "@jupyter-widgets/controls",
          "model_name": "FloatProgressModel",
          "state": {
            "_view_name": "ProgressView",
            "style": "IPY_MODEL_09cfec817cc14b70af8532fb006592c1",
            "_dom_classes": [],
            "description": "Downloading: 100%",
            "_model_name": "FloatProgressModel",
            "bar_style": "success",
            "max": 439757565,
            "_view_module": "@jupyter-widgets/controls",
            "_model_module_version": "1.5.0",
            "value": 439757565,
            "_view_count": null,
            "_view_module_version": "1.5.0",
            "orientation": "horizontal",
            "min": 0,
            "description_tooltip": null,
            "_model_module": "@jupyter-widgets/controls",
            "layout": "IPY_MODEL_515b3498ff2c4e3e866f258438767da5"
          }
        },
        "63ebd4b0f11a42028eb4b0400e0a570e": {
          "model_module": "@jupyter-widgets/controls",
          "model_name": "HTMLModel",
          "state": {
            "_view_name": "HTMLView",
            "style": "IPY_MODEL_b76765d7ab1944f5b1a3fce8dce5dcfd",
            "_dom_classes": [],
            "description": "",
            "_model_name": "HTMLModel",
            "placeholder": "​",
            "_view_module": "@jupyter-widgets/controls",
            "_model_module_version": "1.5.0",
            "value": " 440M/440M [00:08&lt;00:00, 54.7MB/s]",
            "_view_count": null,
            "_view_module_version": "1.5.0",
            "description_tooltip": null,
            "_model_module": "@jupyter-widgets/controls",
            "layout": "IPY_MODEL_df8ea2edcf7c46178a8c7e8d8ce4732f"
          }
        },
        "09cfec817cc14b70af8532fb006592c1": {
          "model_module": "@jupyter-widgets/controls",
          "model_name": "ProgressStyleModel",
          "state": {
            "_view_name": "StyleView",
            "_model_name": "ProgressStyleModel",
            "description_width": "initial",
            "_view_module": "@jupyter-widgets/base",
            "_model_module_version": "1.5.0",
            "_view_count": null,
            "_view_module_version": "1.2.0",
            "bar_color": null,
            "_model_module": "@jupyter-widgets/controls"
          }
        },
        "515b3498ff2c4e3e866f258438767da5": {
          "model_module": "@jupyter-widgets/base",
          "model_name": "LayoutModel",
          "state": {
            "_view_name": "LayoutView",
            "grid_template_rows": null,
            "right": null,
            "justify_content": null,
            "_view_module": "@jupyter-widgets/base",
            "overflow": null,
            "_model_module_version": "1.2.0",
            "_view_count": null,
            "flex_flow": null,
            "width": null,
            "min_width": null,
            "border": null,
            "align_items": null,
            "bottom": null,
            "_model_module": "@jupyter-widgets/base",
            "top": null,
            "grid_column": null,
            "overflow_y": null,
            "overflow_x": null,
            "grid_auto_flow": null,
            "grid_area": null,
            "grid_template_columns": null,
            "flex": null,
            "_model_name": "LayoutModel",
            "justify_items": null,
            "grid_row": null,
            "max_height": null,
            "align_content": null,
            "visibility": null,
            "align_self": null,
            "height": null,
            "min_height": null,
            "padding": null,
            "grid_auto_rows": null,
            "grid_gap": null,
            "max_width": null,
            "order": null,
            "_view_module_version": "1.2.0",
            "grid_template_areas": null,
            "object_position": null,
            "object_fit": null,
            "grid_auto_columns": null,
            "margin": null,
            "display": null,
            "left": null
          }
        },
        "b76765d7ab1944f5b1a3fce8dce5dcfd": {
          "model_module": "@jupyter-widgets/controls",
          "model_name": "DescriptionStyleModel",
          "state": {
            "_view_name": "StyleView",
            "_model_name": "DescriptionStyleModel",
            "description_width": "",
            "_view_module": "@jupyter-widgets/base",
            "_model_module_version": "1.5.0",
            "_view_count": null,
            "_view_module_version": "1.2.0",
            "_model_module": "@jupyter-widgets/controls"
          }
        },
        "df8ea2edcf7c46178a8c7e8d8ce4732f": {
          "model_module": "@jupyter-widgets/base",
          "model_name": "LayoutModel",
          "state": {
            "_view_name": "LayoutView",
            "grid_template_rows": null,
            "right": null,
            "justify_content": null,
            "_view_module": "@jupyter-widgets/base",
            "overflow": null,
            "_model_module_version": "1.2.0",
            "_view_count": null,
            "flex_flow": null,
            "width": null,
            "min_width": null,
            "border": null,
            "align_items": null,
            "bottom": null,
            "_model_module": "@jupyter-widgets/base",
            "top": null,
            "grid_column": null,
            "overflow_y": null,
            "overflow_x": null,
            "grid_auto_flow": null,
            "grid_area": null,
            "grid_template_columns": null,
            "flex": null,
            "_model_name": "LayoutModel",
            "justify_items": null,
            "grid_row": null,
            "max_height": null,
            "align_content": null,
            "visibility": null,
            "align_self": null,
            "height": null,
            "min_height": null,
            "padding": null,
            "grid_auto_rows": null,
            "grid_gap": null,
            "max_width": null,
            "order": null,
            "_view_module_version": "1.2.0",
            "grid_template_areas": null,
            "object_position": null,
            "object_fit": null,
            "grid_auto_columns": null,
            "margin": null,
            "display": null,
            "left": null
          }
        }
      }
    }
  },
  "cells": [
    {
      "cell_type": "markdown",
      "metadata": {
        "id": "view-in-github",
        "colab_type": "text"
      },
      "source": [
        "<a href=\"https://colab.research.google.com/github/rajagopalmotivate1/temp1/blob/master/NEST_PubMed_v37.ipynb\" target=\"_parent\"><img src=\"https://colab.research.google.com/assets/colab-badge.svg\" alt=\"Open In Colab\"/></a>"
      ]
    },
    {
      "cell_type": "markdown",
      "metadata": {
        "id": "Dig0wF8EG3TX",
        "colab_type": "text"
      },
      "source": [
        "# **NESTLE ASL Platform  **\n",
        "## HCP Solution Platform Leader: Karenne  "
      ]
    },
    {
      "cell_type": "markdown",
      "metadata": {
        "id": "uAjv8TRTP652",
        "colab_type": "text"
      },
      "source": [
        "# Goals: \n",
        "## 1. To enable BU enduser to query pubmed based on MeSH / QA, \n",
        "## 2. For the query, Idenitfy list of frequently used keywords or automatically extracted key phrases using Bio BERT or Clinical BERT\n",
        "## 3. Find HCPs: Find HCPs in twitter based on these keywords/key phrases \n",
        "## 4. Find Content: Find tweets related to these keywords \n",
        "## 5. Find Content: Find content from pubMed\n",
        "\n",
        "\n",
        " \n",
        "\n"
      ]
    },
    {
      "cell_type": "code",
      "metadata": {
        "id": "FxnUcYXMG2gE",
        "colab_type": "code",
        "colab": {}
      },
      "source": [
        ""
      ],
      "execution_count": null,
      "outputs": []
    },
    {
      "cell_type": "code",
      "metadata": {
        "id": "LT6TH2n3pqea",
        "colab_type": "code",
        "colab": {}
      },
      "source": [
        ""
      ],
      "execution_count": null,
      "outputs": []
    },
    {
      "cell_type": "markdown",
      "metadata": {
        "id": "gi0-9PeU2DTQ",
        "colab_type": "text"
      },
      "source": [
        "#Install components that need restart of run time"
      ]
    },
    {
      "cell_type": "code",
      "metadata": {
        "id": "-4COzXEh2Khy",
        "colab_type": "code",
        "colab": {
          "base_uri": "https://localhost:8080/",
          "height": 1000
        },
        "outputId": "e4d13feb-653f-49aa-f4a0-d49098415fff"
      },
      "source": [
        "!pip install -U spacy\n",
        "!pip install scispacy\n",
        "!pip install https://s3-us-west-2.amazonaws.com/ai2-s2-scispacy/releases/v0.2.4/en_core_sci_sm-0.2.4.tar.gz\n",
        "!pip install https://s3-us-west-2.amazonaws.com/ai2-s2-scispacy/releases/v0.2.4/en_ner_bc5cdr_md-0.2.4.tar.gz"
      ],
      "execution_count": 1,
      "outputs": [
        {
          "output_type": "stream",
          "text": [
            "Collecting spacy\n",
            "\u001b[?25l  Downloading https://files.pythonhosted.org/packages/10/b5/c7a92c7ce5d4b353b70b4b5b4385687206c8b230ddfe08746ab0fd310a3a/spacy-2.3.2-cp36-cp36m-manylinux1_x86_64.whl (9.9MB)\n",
            "\u001b[K     |████████████████████████████████| 10.0MB 3.2MB/s \n",
            "\u001b[?25hCollecting thinc==7.4.1\n",
            "\u001b[?25l  Downloading https://files.pythonhosted.org/packages/10/ae/ef3ae5e93639c0ef8e3eb32e3c18341e511b3c515fcfc603f4b808087651/thinc-7.4.1-cp36-cp36m-manylinux1_x86_64.whl (2.1MB)\n",
            "\u001b[K     |████████████████████████████████| 2.1MB 47.8MB/s \n",
            "\u001b[?25hRequirement already satisfied, skipping upgrade: blis<0.5.0,>=0.4.0 in /usr/local/lib/python3.6/dist-packages (from spacy) (0.4.1)\n",
            "Requirement already satisfied, skipping upgrade: srsly<1.1.0,>=1.0.2 in /usr/local/lib/python3.6/dist-packages (from spacy) (1.0.2)\n",
            "Requirement already satisfied, skipping upgrade: plac<1.2.0,>=0.9.6 in /usr/local/lib/python3.6/dist-packages (from spacy) (1.1.3)\n",
            "Requirement already satisfied, skipping upgrade: catalogue<1.1.0,>=0.0.7 in /usr/local/lib/python3.6/dist-packages (from spacy) (1.0.0)\n",
            "Requirement already satisfied, skipping upgrade: setuptools in /usr/local/lib/python3.6/dist-packages (from spacy) (49.2.0)\n",
            "Requirement already satisfied, skipping upgrade: cymem<2.1.0,>=2.0.2 in /usr/local/lib/python3.6/dist-packages (from spacy) (2.0.3)\n",
            "Requirement already satisfied, skipping upgrade: wasabi<1.1.0,>=0.4.0 in /usr/local/lib/python3.6/dist-packages (from spacy) (0.7.1)\n",
            "Requirement already satisfied, skipping upgrade: numpy>=1.15.0 in /usr/local/lib/python3.6/dist-packages (from spacy) (1.18.5)\n",
            "Requirement already satisfied, skipping upgrade: requests<3.0.0,>=2.13.0 in /usr/local/lib/python3.6/dist-packages (from spacy) (2.23.0)\n",
            "Requirement already satisfied, skipping upgrade: murmurhash<1.1.0,>=0.28.0 in /usr/local/lib/python3.6/dist-packages (from spacy) (1.0.2)\n",
            "Requirement already satisfied, skipping upgrade: tqdm<5.0.0,>=4.38.0 in /usr/local/lib/python3.6/dist-packages (from spacy) (4.41.1)\n",
            "Requirement already satisfied, skipping upgrade: preshed<3.1.0,>=3.0.2 in /usr/local/lib/python3.6/dist-packages (from spacy) (3.0.2)\n",
            "Requirement already satisfied, skipping upgrade: importlib-metadata>=0.20; python_version < \"3.8\" in /usr/local/lib/python3.6/dist-packages (from catalogue<1.1.0,>=0.0.7->spacy) (1.7.0)\n",
            "Requirement already satisfied, skipping upgrade: certifi>=2017.4.17 in /usr/local/lib/python3.6/dist-packages (from requests<3.0.0,>=2.13.0->spacy) (2020.6.20)\n",
            "Requirement already satisfied, skipping upgrade: chardet<4,>=3.0.2 in /usr/local/lib/python3.6/dist-packages (from requests<3.0.0,>=2.13.0->spacy) (3.0.4)\n",
            "Requirement already satisfied, skipping upgrade: urllib3!=1.25.0,!=1.25.1,<1.26,>=1.21.1 in /usr/local/lib/python3.6/dist-packages (from requests<3.0.0,>=2.13.0->spacy) (1.24.3)\n",
            "Requirement already satisfied, skipping upgrade: idna<3,>=2.5 in /usr/local/lib/python3.6/dist-packages (from requests<3.0.0,>=2.13.0->spacy) (2.10)\n",
            "Requirement already satisfied, skipping upgrade: zipp>=0.5 in /usr/local/lib/python3.6/dist-packages (from importlib-metadata>=0.20; python_version < \"3.8\"->catalogue<1.1.0,>=0.0.7->spacy) (3.1.0)\n",
            "Installing collected packages: thinc, spacy\n",
            "  Found existing installation: thinc 7.4.0\n",
            "    Uninstalling thinc-7.4.0:\n",
            "      Successfully uninstalled thinc-7.4.0\n",
            "  Found existing installation: spacy 2.2.4\n",
            "    Uninstalling spacy-2.2.4:\n",
            "      Successfully uninstalled spacy-2.2.4\n",
            "Successfully installed spacy-2.3.2 thinc-7.4.1\n",
            "Collecting scispacy\n",
            "  Downloading https://files.pythonhosted.org/packages/93/0d/db88d1c2ad059c0b6854ca00519038b36ee1106e97899a3eb66bd25aeaaa/scispacy-0.2.5-py3-none-any.whl\n",
            "Collecting nmslib>=1.7.3.6\n",
            "\u001b[?25l  Downloading https://files.pythonhosted.org/packages/d5/fd/7d7428d29f12be5d1cc6d586d425b795cc9c596ae669593fd4f388602010/nmslib-2.0.6-cp36-cp36m-manylinux2010_x86_64.whl (12.9MB)\n",
            "\u001b[K     |████████████████████████████████| 13.0MB 320kB/s \n",
            "\u001b[?25hRequirement already satisfied: numpy in /usr/local/lib/python3.6/dist-packages (from scispacy) (1.18.5)\n",
            "Requirement already satisfied: requests<3.0.0conllu,>=2.0.0 in /usr/local/lib/python3.6/dist-packages (from scispacy) (2.23.0)\n",
            "Requirement already satisfied: spacy<3.0.0,>=2.3.0 in /usr/local/lib/python3.6/dist-packages (from scispacy) (2.3.2)\n",
            "Requirement already satisfied: scikit-learn>=0.20.3 in /usr/local/lib/python3.6/dist-packages (from scispacy) (0.22.2.post1)\n",
            "Collecting pysbd\n",
            "\u001b[?25l  Downloading https://files.pythonhosted.org/packages/89/f0/544ebd812f8fb534839cba7a121f2aaa520dc58760224f49bb5a0d063d06/pysbd-0.3.1-py3-none-any.whl (67kB)\n",
            "\u001b[K     |████████████████████████████████| 71kB 4.8MB/s \n",
            "\u001b[?25hRequirement already satisfied: joblib in /usr/local/lib/python3.6/dist-packages (from scispacy) (0.16.0)\n",
            "Requirement already satisfied: psutil in /usr/local/lib/python3.6/dist-packages (from nmslib>=1.7.3.6->scispacy) (5.4.8)\n",
            "Collecting pybind11>=2.2.3\n",
            "\u001b[?25l  Downloading https://files.pythonhosted.org/packages/89/e3/d576f6f02bc75bacbc3d42494e8f1d063c95617d86648dba243c2cb3963e/pybind11-2.5.0-py2.py3-none-any.whl (296kB)\n",
            "\u001b[K     |████████████████████████████████| 296kB 32.0MB/s \n",
            "\u001b[?25hRequirement already satisfied: chardet<4,>=3.0.2 in /usr/local/lib/python3.6/dist-packages (from requests<3.0.0conllu,>=2.0.0->scispacy) (3.0.4)\n",
            "Requirement already satisfied: urllib3!=1.25.0,!=1.25.1,<1.26,>=1.21.1 in /usr/local/lib/python3.6/dist-packages (from requests<3.0.0conllu,>=2.0.0->scispacy) (1.24.3)\n",
            "Requirement already satisfied: idna<3,>=2.5 in /usr/local/lib/python3.6/dist-packages (from requests<3.0.0conllu,>=2.0.0->scispacy) (2.10)\n",
            "Requirement already satisfied: certifi>=2017.4.17 in /usr/local/lib/python3.6/dist-packages (from requests<3.0.0conllu,>=2.0.0->scispacy) (2020.6.20)\n",
            "Requirement already satisfied: preshed<3.1.0,>=3.0.2 in /usr/local/lib/python3.6/dist-packages (from spacy<3.0.0,>=2.3.0->scispacy) (3.0.2)\n",
            "Requirement already satisfied: cymem<2.1.0,>=2.0.2 in /usr/local/lib/python3.6/dist-packages (from spacy<3.0.0,>=2.3.0->scispacy) (2.0.3)\n",
            "Requirement already satisfied: murmurhash<1.1.0,>=0.28.0 in /usr/local/lib/python3.6/dist-packages (from spacy<3.0.0,>=2.3.0->scispacy) (1.0.2)\n",
            "Requirement already satisfied: blis<0.5.0,>=0.4.0 in /usr/local/lib/python3.6/dist-packages (from spacy<3.0.0,>=2.3.0->scispacy) (0.4.1)\n",
            "Requirement already satisfied: plac<1.2.0,>=0.9.6 in /usr/local/lib/python3.6/dist-packages (from spacy<3.0.0,>=2.3.0->scispacy) (1.1.3)\n",
            "Requirement already satisfied: wasabi<1.1.0,>=0.4.0 in /usr/local/lib/python3.6/dist-packages (from spacy<3.0.0,>=2.3.0->scispacy) (0.7.1)\n",
            "Requirement already satisfied: srsly<1.1.0,>=1.0.2 in /usr/local/lib/python3.6/dist-packages (from spacy<3.0.0,>=2.3.0->scispacy) (1.0.2)\n",
            "Requirement already satisfied: catalogue<1.1.0,>=0.0.7 in /usr/local/lib/python3.6/dist-packages (from spacy<3.0.0,>=2.3.0->scispacy) (1.0.0)\n",
            "Requirement already satisfied: tqdm<5.0.0,>=4.38.0 in /usr/local/lib/python3.6/dist-packages (from spacy<3.0.0,>=2.3.0->scispacy) (4.41.1)\n",
            "Requirement already satisfied: setuptools in /usr/local/lib/python3.6/dist-packages (from spacy<3.0.0,>=2.3.0->scispacy) (49.2.0)\n",
            "Requirement already satisfied: thinc==7.4.1 in /usr/local/lib/python3.6/dist-packages (from spacy<3.0.0,>=2.3.0->scispacy) (7.4.1)\n",
            "Requirement already satisfied: scipy>=0.17.0 in /usr/local/lib/python3.6/dist-packages (from scikit-learn>=0.20.3->scispacy) (1.4.1)\n",
            "Requirement already satisfied: importlib-metadata>=0.20; python_version < \"3.8\" in /usr/local/lib/python3.6/dist-packages (from catalogue<1.1.0,>=0.0.7->spacy<3.0.0,>=2.3.0->scispacy) (1.7.0)\n",
            "Requirement already satisfied: zipp>=0.5 in /usr/local/lib/python3.6/dist-packages (from importlib-metadata>=0.20; python_version < \"3.8\"->catalogue<1.1.0,>=0.0.7->spacy<3.0.0,>=2.3.0->scispacy) (3.1.0)\n",
            "Installing collected packages: pybind11, nmslib, pysbd, scispacy\n",
            "Successfully installed nmslib-2.0.6 pybind11-2.5.0 pysbd-0.3.1 scispacy-0.2.5\n",
            "Collecting https://s3-us-west-2.amazonaws.com/ai2-s2-scispacy/releases/v0.2.4/en_core_sci_sm-0.2.4.tar.gz\n",
            "\u001b[?25l  Downloading https://s3-us-west-2.amazonaws.com/ai2-s2-scispacy/releases/v0.2.4/en_core_sci_sm-0.2.4.tar.gz (17.0MB)\n",
            "\u001b[K     |████████████████████████████████| 17.0MB 1.4MB/s \n",
            "\u001b[?25hRequirement already satisfied: spacy>=2.2.1 in /usr/local/lib/python3.6/dist-packages (from en-core-sci-sm==0.2.4) (2.3.2)\n",
            "Requirement already satisfied: srsly<1.1.0,>=1.0.2 in /usr/local/lib/python3.6/dist-packages (from spacy>=2.2.1->en-core-sci-sm==0.2.4) (1.0.2)\n",
            "Requirement already satisfied: requests<3.0.0,>=2.13.0 in /usr/local/lib/python3.6/dist-packages (from spacy>=2.2.1->en-core-sci-sm==0.2.4) (2.23.0)\n",
            "Requirement already satisfied: preshed<3.1.0,>=3.0.2 in /usr/local/lib/python3.6/dist-packages (from spacy>=2.2.1->en-core-sci-sm==0.2.4) (3.0.2)\n",
            "Requirement already satisfied: wasabi<1.1.0,>=0.4.0 in /usr/local/lib/python3.6/dist-packages (from spacy>=2.2.1->en-core-sci-sm==0.2.4) (0.7.1)\n",
            "Requirement already satisfied: tqdm<5.0.0,>=4.38.0 in /usr/local/lib/python3.6/dist-packages (from spacy>=2.2.1->en-core-sci-sm==0.2.4) (4.41.1)\n",
            "Requirement already satisfied: numpy>=1.15.0 in /usr/local/lib/python3.6/dist-packages (from spacy>=2.2.1->en-core-sci-sm==0.2.4) (1.18.5)\n",
            "Requirement already satisfied: setuptools in /usr/local/lib/python3.6/dist-packages (from spacy>=2.2.1->en-core-sci-sm==0.2.4) (49.2.0)\n",
            "Requirement already satisfied: cymem<2.1.0,>=2.0.2 in /usr/local/lib/python3.6/dist-packages (from spacy>=2.2.1->en-core-sci-sm==0.2.4) (2.0.3)\n",
            "Requirement already satisfied: murmurhash<1.1.0,>=0.28.0 in /usr/local/lib/python3.6/dist-packages (from spacy>=2.2.1->en-core-sci-sm==0.2.4) (1.0.2)\n",
            "Requirement already satisfied: blis<0.5.0,>=0.4.0 in /usr/local/lib/python3.6/dist-packages (from spacy>=2.2.1->en-core-sci-sm==0.2.4) (0.4.1)\n",
            "Requirement already satisfied: thinc==7.4.1 in /usr/local/lib/python3.6/dist-packages (from spacy>=2.2.1->en-core-sci-sm==0.2.4) (7.4.1)\n",
            "Requirement already satisfied: plac<1.2.0,>=0.9.6 in /usr/local/lib/python3.6/dist-packages (from spacy>=2.2.1->en-core-sci-sm==0.2.4) (1.1.3)\n",
            "Requirement already satisfied: catalogue<1.1.0,>=0.0.7 in /usr/local/lib/python3.6/dist-packages (from spacy>=2.2.1->en-core-sci-sm==0.2.4) (1.0.0)\n",
            "Requirement already satisfied: urllib3!=1.25.0,!=1.25.1,<1.26,>=1.21.1 in /usr/local/lib/python3.6/dist-packages (from requests<3.0.0,>=2.13.0->spacy>=2.2.1->en-core-sci-sm==0.2.4) (1.24.3)\n",
            "Requirement already satisfied: idna<3,>=2.5 in /usr/local/lib/python3.6/dist-packages (from requests<3.0.0,>=2.13.0->spacy>=2.2.1->en-core-sci-sm==0.2.4) (2.10)\n",
            "Requirement already satisfied: chardet<4,>=3.0.2 in /usr/local/lib/python3.6/dist-packages (from requests<3.0.0,>=2.13.0->spacy>=2.2.1->en-core-sci-sm==0.2.4) (3.0.4)\n",
            "Requirement already satisfied: certifi>=2017.4.17 in /usr/local/lib/python3.6/dist-packages (from requests<3.0.0,>=2.13.0->spacy>=2.2.1->en-core-sci-sm==0.2.4) (2020.6.20)\n",
            "Requirement already satisfied: importlib-metadata>=0.20; python_version < \"3.8\" in /usr/local/lib/python3.6/dist-packages (from catalogue<1.1.0,>=0.0.7->spacy>=2.2.1->en-core-sci-sm==0.2.4) (1.7.0)\n",
            "Requirement already satisfied: zipp>=0.5 in /usr/local/lib/python3.6/dist-packages (from importlib-metadata>=0.20; python_version < \"3.8\"->catalogue<1.1.0,>=0.0.7->spacy>=2.2.1->en-core-sci-sm==0.2.4) (3.1.0)\n",
            "Building wheels for collected packages: en-core-sci-sm\n",
            "  Building wheel for en-core-sci-sm (setup.py) ... \u001b[?25l\u001b[?25hdone\n",
            "  Created wheel for en-core-sci-sm: filename=en_core_sci_sm-0.2.4-cp36-none-any.whl size=17161110 sha256=a93b4bbbd436c609cb3c1e93e0690db8fdd07b7a83b6297036d0ec399edf19b7\n",
            "  Stored in directory: /root/.cache/pip/wheels/34/60/b9/fabd9c3eeba17ed66df745479f2fc502a6702755cb4a9632f2\n",
            "Successfully built en-core-sci-sm\n",
            "Installing collected packages: en-core-sci-sm\n",
            "Successfully installed en-core-sci-sm-0.2.4\n",
            "Collecting https://s3-us-west-2.amazonaws.com/ai2-s2-scispacy/releases/v0.2.4/en_ner_bc5cdr_md-0.2.4.tar.gz\n",
            "\u001b[?25l  Downloading https://s3-us-west-2.amazonaws.com/ai2-s2-scispacy/releases/v0.2.4/en_ner_bc5cdr_md-0.2.4.tar.gz (70.1MB)\n",
            "\u001b[K     |████████████████████████████████| 70.1MB 55kB/s \n",
            "\u001b[?25hRequirement already satisfied: spacy>=2.2.1 in /usr/local/lib/python3.6/dist-packages (from en-ner-bc5cdr-md==0.2.4) (2.3.2)\n",
            "Requirement already satisfied: thinc==7.4.1 in /usr/local/lib/python3.6/dist-packages (from spacy>=2.2.1->en-ner-bc5cdr-md==0.2.4) (7.4.1)\n",
            "Requirement already satisfied: wasabi<1.1.0,>=0.4.0 in /usr/local/lib/python3.6/dist-packages (from spacy>=2.2.1->en-ner-bc5cdr-md==0.2.4) (0.7.1)\n",
            "Requirement already satisfied: preshed<3.1.0,>=3.0.2 in /usr/local/lib/python3.6/dist-packages (from spacy>=2.2.1->en-ner-bc5cdr-md==0.2.4) (3.0.2)\n",
            "Requirement already satisfied: cymem<2.1.0,>=2.0.2 in /usr/local/lib/python3.6/dist-packages (from spacy>=2.2.1->en-ner-bc5cdr-md==0.2.4) (2.0.3)\n",
            "Requirement already satisfied: numpy>=1.15.0 in /usr/local/lib/python3.6/dist-packages (from spacy>=2.2.1->en-ner-bc5cdr-md==0.2.4) (1.18.5)\n",
            "Requirement already satisfied: blis<0.5.0,>=0.4.0 in /usr/local/lib/python3.6/dist-packages (from spacy>=2.2.1->en-ner-bc5cdr-md==0.2.4) (0.4.1)\n",
            "Requirement already satisfied: requests<3.0.0,>=2.13.0 in /usr/local/lib/python3.6/dist-packages (from spacy>=2.2.1->en-ner-bc5cdr-md==0.2.4) (2.23.0)\n",
            "Requirement already satisfied: tqdm<5.0.0,>=4.38.0 in /usr/local/lib/python3.6/dist-packages (from spacy>=2.2.1->en-ner-bc5cdr-md==0.2.4) (4.41.1)\n",
            "Requirement already satisfied: plac<1.2.0,>=0.9.6 in /usr/local/lib/python3.6/dist-packages (from spacy>=2.2.1->en-ner-bc5cdr-md==0.2.4) (1.1.3)\n",
            "Requirement already satisfied: srsly<1.1.0,>=1.0.2 in /usr/local/lib/python3.6/dist-packages (from spacy>=2.2.1->en-ner-bc5cdr-md==0.2.4) (1.0.2)\n",
            "Requirement already satisfied: setuptools in /usr/local/lib/python3.6/dist-packages (from spacy>=2.2.1->en-ner-bc5cdr-md==0.2.4) (49.2.0)\n",
            "Requirement already satisfied: murmurhash<1.1.0,>=0.28.0 in /usr/local/lib/python3.6/dist-packages (from spacy>=2.2.1->en-ner-bc5cdr-md==0.2.4) (1.0.2)\n",
            "Requirement already satisfied: catalogue<1.1.0,>=0.0.7 in /usr/local/lib/python3.6/dist-packages (from spacy>=2.2.1->en-ner-bc5cdr-md==0.2.4) (1.0.0)\n",
            "Requirement already satisfied: urllib3!=1.25.0,!=1.25.1,<1.26,>=1.21.1 in /usr/local/lib/python3.6/dist-packages (from requests<3.0.0,>=2.13.0->spacy>=2.2.1->en-ner-bc5cdr-md==0.2.4) (1.24.3)\n",
            "Requirement already satisfied: certifi>=2017.4.17 in /usr/local/lib/python3.6/dist-packages (from requests<3.0.0,>=2.13.0->spacy>=2.2.1->en-ner-bc5cdr-md==0.2.4) (2020.6.20)\n",
            "Requirement already satisfied: idna<3,>=2.5 in /usr/local/lib/python3.6/dist-packages (from requests<3.0.0,>=2.13.0->spacy>=2.2.1->en-ner-bc5cdr-md==0.2.4) (2.10)\n",
            "Requirement already satisfied: chardet<4,>=3.0.2 in /usr/local/lib/python3.6/dist-packages (from requests<3.0.0,>=2.13.0->spacy>=2.2.1->en-ner-bc5cdr-md==0.2.4) (3.0.4)\n",
            "Requirement already satisfied: importlib-metadata>=0.20; python_version < \"3.8\" in /usr/local/lib/python3.6/dist-packages (from catalogue<1.1.0,>=0.0.7->spacy>=2.2.1->en-ner-bc5cdr-md==0.2.4) (1.7.0)\n",
            "Requirement already satisfied: zipp>=0.5 in /usr/local/lib/python3.6/dist-packages (from importlib-metadata>=0.20; python_version < \"3.8\"->catalogue<1.1.0,>=0.0.7->spacy>=2.2.1->en-ner-bc5cdr-md==0.2.4) (3.1.0)\n",
            "Building wheels for collected packages: en-ner-bc5cdr-md\n",
            "  Building wheel for en-ner-bc5cdr-md (setup.py) ... \u001b[?25l\u001b[?25hdone\n",
            "  Created wheel for en-ner-bc5cdr-md: filename=en_ner_bc5cdr_md-0.2.4-cp36-none-any.whl size=70531467 sha256=7ee94c9ab29d16a454f163261ba2a8efb5f15a65a4e17ced3c27e6a6b7371fde\n",
            "  Stored in directory: /root/.cache/pip/wheels/e1/06/4f/75676083b8afcd820050011e7c88bfbae8b42c6f36a3aca6f8\n",
            "Successfully built en-ner-bc5cdr-md\n",
            "Installing collected packages: en-ner-bc5cdr-md\n",
            "Successfully installed en-ner-bc5cdr-md-0.2.4\n"
          ],
          "name": "stdout"
        }
      ]
    },
    {
      "cell_type": "markdown",
      "metadata": {
        "id": "2kIXGgfuc_Ue",
        "colab_type": "text"
      },
      "source": [
        "# Define class & methods  "
      ]
    },
    {
      "cell_type": "code",
      "metadata": {
        "id": "ZAtw32jB2Bb7",
        "colab_type": "code",
        "colab": {}
      },
      "source": [
        ""
      ],
      "execution_count": null,
      "outputs": []
    },
    {
      "cell_type": "code",
      "metadata": {
        "id": "omESvKoHISd0",
        "colab_type": "code",
        "colab": {}
      },
      "source": [
        "\n",
        "import json\n",
        "import pandas as pd\n",
        "import os\n",
        "import time\n"
      ],
      "execution_count": 1,
      "outputs": []
    },
    {
      "cell_type": "code",
      "metadata": {
        "id": "uOnccOeIEMCC",
        "colab_type": "code",
        "colab": {}
      },
      "source": [
        "\n",
        "import re\n",
        "import numpy as np"
      ],
      "execution_count": 2,
      "outputs": []
    },
    {
      "cell_type": "code",
      "metadata": {
        "id": "sPSmF6YkxKfN",
        "colab_type": "code",
        "colab": {}
      },
      "source": [
        "from google.colab import files "
      ],
      "execution_count": 3,
      "outputs": []
    },
    {
      "cell_type": "markdown",
      "metadata": {
        "id": "eBlplkuA2dr1",
        "colab_type": "text"
      },
      "source": [
        "##Define spacy related methods"
      ]
    },
    {
      "cell_type": "code",
      "metadata": {
        "id": "4tvmvi_T3P2w",
        "colab_type": "code",
        "colab": {}
      },
      "source": [
        ""
      ],
      "execution_count": 3,
      "outputs": []
    },
    {
      "cell_type": "markdown",
      "metadata": {
        "id": "qEdGlBAUdMju",
        "colab_type": "text"
      },
      "source": [
        "## Define BERT and spacy related methods"
      ]
    },
    {
      "cell_type": "code",
      "metadata": {
        "id": "1hTfD0Mx0Llo",
        "colab_type": "code",
        "colab": {}
      },
      "source": [
        ""
      ],
      "execution_count": 3,
      "outputs": []
    },
    {
      "cell_type": "code",
      "metadata": {
        "id": "J3u0iOqPEoOE",
        "colab_type": "code",
        "colab": {
          "base_uri": "https://localhost:8080/",
          "height": 100
        },
        "outputId": "340ed8a0-9a61-4494-ba57-ee22a1e2eb16"
      },
      "source": [
        "!pip install -q transformers"
      ],
      "execution_count": 4,
      "outputs": [
        {
          "output_type": "stream",
          "text": [
            "\u001b[K     |████████████████████████████████| 778kB 3.2MB/s \n",
            "\u001b[K     |████████████████████████████████| 1.1MB 7.9MB/s \n",
            "\u001b[K     |████████████████████████████████| 3.0MB 10.3MB/s \n",
            "\u001b[K     |████████████████████████████████| 890kB 18.2MB/s \n",
            "\u001b[?25h  Building wheel for sacremoses (setup.py) ... \u001b[?25l\u001b[?25hdone\n"
          ],
          "name": "stdout"
        }
      ]
    },
    {
      "cell_type": "code",
      "metadata": {
        "id": "7SM1-hCbEw30",
        "colab_type": "code",
        "colab": {}
      },
      "source": [
        "from transformers import AutoTokenizer, AutoModel\n",
        "from transformers import pipeline"
      ],
      "execution_count": 5,
      "outputs": []
    },
    {
      "cell_type": "code",
      "metadata": {
        "id": "PJT7GceSiQLd",
        "colab_type": "code",
        "colab": {}
      },
      "source": [
        "def getNERBioBERT_Init(optionnumber):\n",
        "    #myinputstringclinical = \"In the field of Cardiovascular risk in London ,  heart murmur are harmless but may be abnormal too\" \n",
        "\n",
        "  #bioNER = pipeline('ner' )\n",
        "  #bioNER = pipeline('ner', model=\"emilyalsentzer/Bio_ClinicalBERT\", tokenizer=\"emilyalsentzer/Bio_ClinicalBERT\")\n",
        "  if optionnumber == 0: \n",
        "    bioNER = pipeline('ner' )\n",
        "\n",
        "  if optionnumber == 1: \n",
        "    bioNER = pipeline('ner', model=\"monologg/biobert_v1.1_pubmed\", tokenizer=\"monologg/biobert_v1.1_pubmed\")\n",
        "  #bioNER = pipeline('ner',  model=\"clagator/biobert_squad2_cased\",  tokenizer=\"clagator/biobert_squad2_cased\" )\n",
        "  #GOOD\n",
        "  if optionnumber == 2: \n",
        "    bioNER = pipeline('ner',  model=\"simonlevine/Bio_ClinicalBERT-4096\",  tokenizer=\"simonlevine/Bio_ClinicalBERT-4096\" )\n",
        "\n",
        "  if optionnumber == 3: \n",
        "    bioNER = pipeline('ner', model=\"emilyalsentzer/Bio_ClinicalBERT\", tokenizer=\"emilyalsentzer/Bio_ClinicalBERT\")\n",
        "\n",
        "  if optionnumber == 4: \n",
        "    bioNER = pipeline('ner', model=\"fran-martinez/scibert_scivocab_cased_ner_jnlpba\", tokenizer=\"fran-martinez/scibert_scivocab_cased_ner_jnlpba\")\n",
        "\n",
        "\n",
        "  return bioNER"
      ],
      "execution_count": 6,
      "outputs": []
    },
    {
      "cell_type": "code",
      "metadata": {
        "id": "4rtmZvM3f7mQ",
        "colab_type": "code",
        "colab": {}
      },
      "source": [
        "def getNERBioBERT(myinputstringclinical) : \n",
        "\n",
        "  myinputstringclinical1 = myinputstringclinical.replace(\"-\", \" \")\n",
        "\n",
        "  datadictionary = bioNER( myinputstringclinical1 )\n",
        "\n",
        "  ans = getLogicalPhrasesFromWordpieces(datadictionary, myinputstringclinical1 )\n",
        "  return ans\n",
        "  "
      ],
      "execution_count": 7,
      "outputs": []
    },
    {
      "cell_type": "code",
      "metadata": {
        "id": "hVPfcEangA8j",
        "colab_type": "code",
        "colab": {}
      },
      "source": [
        "def getLogicalPhrasesFromWordpieces( myArrayofDictionariesNER, myinputstring ):\n",
        "  myentities = [] \n",
        "  myentitiesNew = [] \n",
        "\n",
        "  for aDictionary in myArrayofDictionariesNER:\n",
        "   # print(aDictionary)\n",
        "    word = aDictionary['word']\n",
        "    if (word[:2] == '##') : \n",
        "      temp = myentities[len(myentities)-1]\n",
        "      myentities[len(myentities)-1] = temp +  word[2:]    \n",
        "    else:\n",
        "      myentities.append(word)\n",
        "\n",
        "  if len(myentities) > 0:\n",
        "    myentitiesNew.append(myentities[0])\n",
        "    for i in range(1, len(myentities) ):\n",
        "      concactWord = myentitiesNew[len(myentitiesNew)-1] + ' ' + myentities[i]\n",
        "      myinputstring1 = myinputstring.replace(\"-\", \" \")\n",
        "    #  print(concactWord)\n",
        "      if (concactWord.lower() in myinputstring1.lower()) :\n",
        "        myentitiesNew[len(myentitiesNew)-1] = concactWord\n",
        "      else:\n",
        "        myentitiesNew.append(myentities[i])  \n",
        "\n",
        "  myentitiesNewCleaned = []\n",
        "  for a in myentitiesNew:\n",
        "    if not ((a == '[CLS]') or (a == '[SEP]') or (a == ',') or (a == '.')):\n",
        "      myentitiesNewCleaned.append(a)\n",
        "\n",
        "  return myentitiesNewCleaned"
      ],
      "execution_count": 8,
      "outputs": []
    },
    {
      "cell_type": "code",
      "metadata": {
        "id": "lnpdargqV5J4",
        "colab_type": "code",
        "colab": {}
      },
      "source": [
        " "
      ],
      "execution_count": 8,
      "outputs": []
    },
    {
      "cell_type": "code",
      "metadata": {
        "id": "VT5m41UPVwHl",
        "colab_type": "code",
        "colab": {}
      },
      "source": [
        " "
      ],
      "execution_count": 8,
      "outputs": []
    },
    {
      "cell_type": "code",
      "metadata": {
        "id": "Q7PuCOqiWUmz",
        "colab_type": "code",
        "colab": {}
      },
      "source": [
        " "
      ],
      "execution_count": 8,
      "outputs": []
    },
    {
      "cell_type": "markdown",
      "metadata": {
        "id": "5rUVr1_mdcAw",
        "colab_type": "text"
      },
      "source": [
        "##Define PubMED related methods "
      ]
    },
    {
      "cell_type": "code",
      "metadata": {
        "id": "TD3wfv9jE9fS",
        "colab_type": "code",
        "colab": {
          "base_uri": "https://localhost:8080/",
          "height": 187
        },
        "outputId": "64c0936e-8457-4479-edc6-ba6b872d3cd0"
      },
      "source": [
        "!pip install pymed"
      ],
      "execution_count": 9,
      "outputs": [
        {
          "output_type": "stream",
          "text": [
            "Collecting pymed\n",
            "  Downloading https://files.pythonhosted.org/packages/56/c3/0a260bd7b8e2d021097954accefb749f13e8fbd6b673293d33eac0905174/pymed-0.8.9-py3-none-any.whl\n",
            "Requirement already satisfied: requests>=2.20.0 in /usr/local/lib/python3.6/dist-packages (from pymed) (2.23.0)\n",
            "Requirement already satisfied: certifi>=2017.4.17 in /usr/local/lib/python3.6/dist-packages (from requests>=2.20.0->pymed) (2020.6.20)\n",
            "Requirement already satisfied: idna<3,>=2.5 in /usr/local/lib/python3.6/dist-packages (from requests>=2.20.0->pymed) (2.10)\n",
            "Requirement already satisfied: urllib3!=1.25.0,!=1.25.1,<1.26,>=1.21.1 in /usr/local/lib/python3.6/dist-packages (from requests>=2.20.0->pymed) (1.24.3)\n",
            "Requirement already satisfied: chardet<4,>=3.0.2 in /usr/local/lib/python3.6/dist-packages (from requests>=2.20.0->pymed) (3.0.4)\n",
            "Installing collected packages: pymed\n",
            "Successfully installed pymed-0.8.9\n"
          ],
          "name": "stdout"
        }
      ]
    },
    {
      "cell_type": "code",
      "metadata": {
        "id": "VBIHQHI_E4mk",
        "colab_type": "code",
        "colab": {}
      },
      "source": [
        "from pymed import PubMed"
      ],
      "execution_count": 10,
      "outputs": []
    },
    {
      "cell_type": "markdown",
      "metadata": {
        "id": "QlgJPOfXmiUm",
        "colab_type": "text"
      },
      "source": [
        "### Preview scrape in pubmed\n",
        "\n",
        "\n"
      ]
    },
    {
      "cell_type": "code",
      "metadata": {
        "id": "ftJXkVjHxkVL",
        "colab_type": "code",
        "colab": {}
      },
      "source": [
        "pubmed = PubMed(tool=\"NESTLE_ASL__HCP_Solution\", email=\"name@email.com\")\n"
      ],
      "execution_count": 11,
      "outputs": []
    },
    {
      "cell_type": "code",
      "metadata": {
        "id": "IGxTqC1_qQA7",
        "colab_type": "code",
        "colab": {}
      },
      "source": [
        "def scrape_save_count(query):\n",
        "  numberofresults = pubmed.getTotalResultsCount(query )\n",
        "  return numberofresults"
      ],
      "execution_count": 12,
      "outputs": []
    },
    {
      "cell_type": "code",
      "metadata": {
        "id": "ftnOUeUgqGlJ",
        "colab_type": "code",
        "colab": {}
      },
      "source": [
        "def previewScrape():\n",
        "  print('For your search query, Here is the number of pubmed search articles that can be scraped')\n",
        "  print( 'no of articles' + '\\t \\t \\t \\t \\t \\t : \\t\\t\\t' +  'MeSH query' )\n",
        "  for agegroup in MeSHlistbyAgeGroup:\n",
        "    query = \"(\" +  agegroup + \"[MeSH Major Topic])\"\n",
        "    count = scrape_save_count(query)\n",
        "    time.sleep(2)\n",
        "    print( str(count) + '\\t \\t \\t \\t \\t \\t : \\t\\t\\t' + str(query) )\n"
      ],
      "execution_count": 13,
      "outputs": []
    },
    {
      "cell_type": "markdown",
      "metadata": {
        "id": "VQkfH-kEmp_B",
        "colab_type": "text"
      },
      "source": [
        "### scrape in pubmed\n"
      ]
    },
    {
      "cell_type": "markdown",
      "metadata": {
        "id": "EmpFcRQGdXfS",
        "colab_type": "text"
      },
      "source": [
        "## Define Twitter related methods"
      ]
    },
    {
      "cell_type": "code",
      "metadata": {
        "id": "5jg9gSKr75lv",
        "colab_type": "code",
        "colab": {}
      },
      "source": [
        ""
      ],
      "execution_count": 13,
      "outputs": []
    },
    {
      "cell_type": "code",
      "metadata": {
        "id": "g8wt42Zu2TCS",
        "colab_type": "code",
        "colab": {
          "base_uri": "https://localhost:8080/",
          "height": 53
        },
        "outputId": "42a5a128-d9a7-47f5-83ca-019ee82cc678"
      },
      "source": [
        "\n",
        "#@title  Have borrowed these developer password keys from another person in another wipro team, we need to change it to a new keys \n",
        "TWITTER_KEY = 'QIqgjITOfksfMW4lRLDacQ' \n",
        "TWITTER_SECRET_KEY = 'R8x0xN9iSKXGNxUtGKA2hgnlIhh5INZIOdgEfxzk' \n",
        "\n",
        "import tweepy\n",
        "from tweepy import OAuthHandler\n",
        "auth = tweepy.AppAuthHandler(TWITTER_KEY, TWITTER_SECRET_KEY)\n",
        "\n",
        "tweepyapi = tweepy.API(auth, wait_on_rate_limit=True,\n",
        "\t\t\t\t   wait_on_rate_limit_notify=True)\n",
        "\n",
        "if (not tweepyapi):\n",
        "    print (\"Can't Authenticate\")\n",
        "    sys.exit(-1)\n",
        "\n",
        "twitterSearchquery = \"  is good\"\n",
        "tweets = tweepyapi.search(twitterSearchquery)\n",
        "\n",
        "print(tweets)\n"
      ],
      "execution_count": 14,
      "outputs": [
        {
          "output_type": "stream",
          "text": [
            "[Status(_api=<tweepy.api.API object at 0x7fdf854cc470>, _json={'created_at': 'Thu Aug 20 07:13:40 +0000 2020', 'id': 1296344634302423043, 'id_str': '1296344634302423043', 'text': \"Good Vibrations is the Citizen Kane of music production and everyone gets tired of hearing about it but it's all true.\", 'truncated': False, 'entities': {'hashtags': [], 'symbols': [], 'user_mentions': [], 'urls': []}, 'metadata': {'iso_language_code': 'en', 'result_type': 'recent'}, 'source': '<a href=\"https://mobile.twitter.com\" rel=\"nofollow\">Twitter Web App</a>', 'in_reply_to_status_id': None, 'in_reply_to_status_id_str': None, 'in_reply_to_user_id': None, 'in_reply_to_user_id_str': None, 'in_reply_to_screen_name': None, 'user': {'id': 88074587, 'id_str': '88074587', 'name': 'Eliot', 'screen_name': 'EliotETC', 'location': '', 'description': 'BLACK LIVES MATTER. I make videos. @InternetTodayTV w/ @RickyFTW. Pic by @Mikes_notsane. He/Him', 'url': 'https://t.co/sos8ghNA4d', 'entities': {'url': {'urls': [{'url': 'https://t.co/sos8ghNA4d', 'expanded_url': 'http://youtube.com/InternetTodayTV', 'display_url': 'youtube.com/InternetTodayTV', 'indices': [0, 23]}]}, 'description': {'urls': []}}, 'protected': False, 'followers_count': 51179, 'friends_count': 1534, 'listed_count': 128, 'created_at': 'Sat Nov 07 00:39:45 +0000 2009', 'favourites_count': 84902, 'utc_offset': None, 'time_zone': None, 'geo_enabled': True, 'verified': False, 'statuses_count': 25689, 'lang': None, 'contributors_enabled': False, 'is_translator': False, 'is_translation_enabled': False, 'profile_background_color': '000000', 'profile_background_image_url': 'http://abs.twimg.com/images/themes/theme1/bg.png', 'profile_background_image_url_https': 'https://abs.twimg.com/images/themes/theme1/bg.png', 'profile_background_tile': False, 'profile_image_url': 'http://pbs.twimg.com/profile_images/982542528137216000/OZbrNJKl_normal.jpg', 'profile_image_url_https': 'https://pbs.twimg.com/profile_images/982542528137216000/OZbrNJKl_normal.jpg', 'profile_banner_url': 'https://pbs.twimg.com/profile_banners/88074587/1489732599', 'profile_link_color': 'DD2E44', 'profile_sidebar_border_color': '000000', 'profile_sidebar_fill_color': '000000', 'profile_text_color': '000000', 'profile_use_background_image': False, 'has_extended_profile': True, 'default_profile': False, 'default_profile_image': False, 'following': None, 'follow_request_sent': None, 'notifications': None, 'translator_type': 'none'}, 'geo': None, 'coordinates': None, 'place': None, 'contributors': None, 'is_quote_status': False, 'retweet_count': 0, 'favorite_count': 0, 'favorited': False, 'retweeted': False, 'lang': 'en'}, created_at=datetime.datetime(2020, 8, 20, 7, 13, 40), id=1296344634302423043, id_str='1296344634302423043', text=\"Good Vibrations is the Citizen Kane of music production and everyone gets tired of hearing about it but it's all true.\", truncated=False, entities={'hashtags': [], 'symbols': [], 'user_mentions': [], 'urls': []}, metadata={'iso_language_code': 'en', 'result_type': 'recent'}, source='Twitter Web App', source_url='https://mobile.twitter.com', in_reply_to_status_id=None, in_reply_to_status_id_str=None, in_reply_to_user_id=None, in_reply_to_user_id_str=None, in_reply_to_screen_name=None, author=User(_api=<tweepy.api.API object at 0x7fdf854cc470>, _json={'id': 88074587, 'id_str': '88074587', 'name': 'Eliot', 'screen_name': 'EliotETC', 'location': '', 'description': 'BLACK LIVES MATTER. I make videos. @InternetTodayTV w/ @RickyFTW. Pic by @Mikes_notsane. He/Him', 'url': 'https://t.co/sos8ghNA4d', 'entities': {'url': {'urls': [{'url': 'https://t.co/sos8ghNA4d', 'expanded_url': 'http://youtube.com/InternetTodayTV', 'display_url': 'youtube.com/InternetTodayTV', 'indices': [0, 23]}]}, 'description': {'urls': []}}, 'protected': False, 'followers_count': 51179, 'friends_count': 1534, 'listed_count': 128, 'created_at': 'Sat Nov 07 00:39:45 +0000 2009', 'favourites_count': 84902, 'utc_offset': None, 'time_zone': None, 'geo_enabled': True, 'verified': False, 'statuses_count': 25689, 'lang': None, 'contributors_enabled': False, 'is_translator': False, 'is_translation_enabled': False, 'profile_background_color': '000000', 'profile_background_image_url': 'http://abs.twimg.com/images/themes/theme1/bg.png', 'profile_background_image_url_https': 'https://abs.twimg.com/images/themes/theme1/bg.png', 'profile_background_tile': False, 'profile_image_url': 'http://pbs.twimg.com/profile_images/982542528137216000/OZbrNJKl_normal.jpg', 'profile_image_url_https': 'https://pbs.twimg.com/profile_images/982542528137216000/OZbrNJKl_normal.jpg', 'profile_banner_url': 'https://pbs.twimg.com/profile_banners/88074587/1489732599', 'profile_link_color': 'DD2E44', 'profile_sidebar_border_color': '000000', 'profile_sidebar_fill_color': '000000', 'profile_text_color': '000000', 'profile_use_background_image': False, 'has_extended_profile': True, 'default_profile': False, 'default_profile_image': False, 'following': None, 'follow_request_sent': None, 'notifications': None, 'translator_type': 'none'}, id=88074587, id_str='88074587', name='Eliot', screen_name='EliotETC', location='', description='BLACK LIVES MATTER. I make videos. @InternetTodayTV w/ @RickyFTW. Pic by @Mikes_notsane. He/Him', url='https://t.co/sos8ghNA4d', entities={'url': {'urls': [{'url': 'https://t.co/sos8ghNA4d', 'expanded_url': 'http://youtube.com/InternetTodayTV', 'display_url': 'youtube.com/InternetTodayTV', 'indices': [0, 23]}]}, 'description': {'urls': []}}, protected=False, followers_count=51179, friends_count=1534, listed_count=128, created_at=datetime.datetime(2009, 11, 7, 0, 39, 45), favourites_count=84902, utc_offset=None, time_zone=None, geo_enabled=True, verified=False, statuses_count=25689, lang=None, contributors_enabled=False, is_translator=False, is_translation_enabled=False, profile_background_color='000000', profile_background_image_url='http://abs.twimg.com/images/themes/theme1/bg.png', profile_background_image_url_https='https://abs.twimg.com/images/themes/theme1/bg.png', profile_background_tile=False, profile_image_url='http://pbs.twimg.com/profile_images/982542528137216000/OZbrNJKl_normal.jpg', profile_image_url_https='https://pbs.twimg.com/profile_images/982542528137216000/OZbrNJKl_normal.jpg', profile_banner_url='https://pbs.twimg.com/profile_banners/88074587/1489732599', profile_link_color='DD2E44', profile_sidebar_border_color='000000', profile_sidebar_fill_color='000000', profile_text_color='000000', profile_use_background_image=False, has_extended_profile=True, default_profile=False, default_profile_image=False, following=False, follow_request_sent=None, notifications=None, translator_type='none'), user=User(_api=<tweepy.api.API object at 0x7fdf854cc470>, _json={'id': 88074587, 'id_str': '88074587', 'name': 'Eliot', 'screen_name': 'EliotETC', 'location': '', 'description': 'BLACK LIVES MATTER. I make videos. @InternetTodayTV w/ @RickyFTW. Pic by @Mikes_notsane. He/Him', 'url': 'https://t.co/sos8ghNA4d', 'entities': {'url': {'urls': [{'url': 'https://t.co/sos8ghNA4d', 'expanded_url': 'http://youtube.com/InternetTodayTV', 'display_url': 'youtube.com/InternetTodayTV', 'indices': [0, 23]}]}, 'description': {'urls': []}}, 'protected': False, 'followers_count': 51179, 'friends_count': 1534, 'listed_count': 128, 'created_at': 'Sat Nov 07 00:39:45 +0000 2009', 'favourites_count': 84902, 'utc_offset': None, 'time_zone': None, 'geo_enabled': True, 'verified': False, 'statuses_count': 25689, 'lang': None, 'contributors_enabled': False, 'is_translator': False, 'is_translation_enabled': False, 'profile_background_color': '000000', 'profile_background_image_url': 'http://abs.twimg.com/images/themes/theme1/bg.png', 'profile_background_image_url_https': 'https://abs.twimg.com/images/themes/theme1/bg.png', 'profile_background_tile': False, 'profile_image_url': 'http://pbs.twimg.com/profile_images/982542528137216000/OZbrNJKl_normal.jpg', 'profile_image_url_https': 'https://pbs.twimg.com/profile_images/982542528137216000/OZbrNJKl_normal.jpg', 'profile_banner_url': 'https://pbs.twimg.com/profile_banners/88074587/1489732599', 'profile_link_color': 'DD2E44', 'profile_sidebar_border_color': '000000', 'profile_sidebar_fill_color': '000000', 'profile_text_color': '000000', 'profile_use_background_image': False, 'has_extended_profile': True, 'default_profile': False, 'default_profile_image': False, 'following': None, 'follow_request_sent': None, 'notifications': None, 'translator_type': 'none'}, id=88074587, id_str='88074587', name='Eliot', screen_name='EliotETC', location='', description='BLACK LIVES MATTER. I make videos. @InternetTodayTV w/ @RickyFTW. Pic by @Mikes_notsane. He/Him', url='https://t.co/sos8ghNA4d', entities={'url': {'urls': [{'url': 'https://t.co/sos8ghNA4d', 'expanded_url': 'http://youtube.com/InternetTodayTV', 'display_url': 'youtube.com/InternetTodayTV', 'indices': [0, 23]}]}, 'description': {'urls': []}}, protected=False, followers_count=51179, friends_count=1534, listed_count=128, created_at=datetime.datetime(2009, 11, 7, 0, 39, 45), favourites_count=84902, utc_offset=None, time_zone=None, geo_enabled=True, verified=False, statuses_count=25689, lang=None, contributors_enabled=False, is_translator=False, is_translation_enabled=False, profile_background_color='000000', profile_background_image_url='http://abs.twimg.com/images/themes/theme1/bg.png', profile_background_image_url_https='https://abs.twimg.com/images/themes/theme1/bg.png', profile_background_tile=False, profile_image_url='http://pbs.twimg.com/profile_images/982542528137216000/OZbrNJKl_normal.jpg', profile_image_url_https='https://pbs.twimg.com/profile_images/982542528137216000/OZbrNJKl_normal.jpg', profile_banner_url='https://pbs.twimg.com/profile_banners/88074587/1489732599', profile_link_color='DD2E44', profile_sidebar_border_color='000000', profile_sidebar_fill_color='000000', profile_text_color='000000', profile_use_background_image=False, has_extended_profile=True, default_profile=False, default_profile_image=False, following=False, follow_request_sent=None, notifications=None, translator_type='none'), geo=None, coordinates=None, place=None, contributors=None, is_quote_status=False, retweet_count=0, favorite_count=0, favorited=False, retweeted=False, lang='en'), Status(_api=<tweepy.api.API object at 0x7fdf854cc470>, _json={'created_at': 'Thu Aug 20 07:13:40 +0000 2020', 'id': 1296344633660776448, 'id_str': '1296344633660776448', 'text': 'RT @MicheBangtan: I told my therapist once a long time ago “I feel like I’m only living for the next book in this series I’m reading to com…', 'truncated': False, 'entities': {'hashtags': [], 'symbols': [], 'user_mentions': [{'screen_name': 'MicheBangtan', 'name': 'Miche⁷', 'id': 859935824955289600, 'id_str': '859935824955289600', 'indices': [3, 16]}], 'urls': []}, 'metadata': {'iso_language_code': 'en', 'result_type': 'recent'}, 'source': '<a href=\"http://twitter.com/download/android\" rel=\"nofollow\">Twitter for Android</a>', 'in_reply_to_status_id': None, 'in_reply_to_status_id_str': None, 'in_reply_to_user_id': None, 'in_reply_to_user_id_str': None, 'in_reply_to_screen_name': None, 'user': {'id': 975982097562152961, 'id_str': '975982097562152961', 'name': 'LiRa⁷ 8/21💜', 'screen_name': 'LoveEternally7', 'location': 'BTS World', 'description': 'Love @BTS_twt by all of my heart 💜', 'url': 'https://t.co/IsoE0a8QcT', 'entities': {'url': {'urls': [{'url': 'https://t.co/IsoE0a8QcT', 'expanded_url': 'https://youtu.be/mPVDGOVjRQ0', 'display_url': 'youtu.be/mPVDGOVjRQ0', 'indices': [0, 23]}]}, 'description': {'urls': []}}, 'protected': False, 'followers_count': 1059, 'friends_count': 355, 'listed_count': 0, 'created_at': 'Tue Mar 20 06:27:19 +0000 2018', 'favourites_count': 37852, 'utc_offset': None, 'time_zone': None, 'geo_enabled': False, 'verified': False, 'statuses_count': 38680, 'lang': None, 'contributors_enabled': False, 'is_translator': False, 'is_translation_enabled': False, 'profile_background_color': 'F5F8FA', 'profile_background_image_url': None, 'profile_background_image_url_https': None, 'profile_background_tile': False, 'profile_image_url': 'http://pbs.twimg.com/profile_images/1289956126428033026/OjE9nBpx_normal.jpg', 'profile_image_url_https': 'https://pbs.twimg.com/profile_images/1289956126428033026/OjE9nBpx_normal.jpg', 'profile_banner_url': 'https://pbs.twimg.com/profile_banners/975982097562152961/1596900784', 'profile_link_color': '1DA1F2', 'profile_sidebar_border_color': 'C0DEED', 'profile_sidebar_fill_color': 'DDEEF6', 'profile_text_color': '333333', 'profile_use_background_image': True, 'has_extended_profile': False, 'default_profile': True, 'default_profile_image': False, 'following': None, 'follow_request_sent': None, 'notifications': None, 'translator_type': 'none'}, 'geo': None, 'coordinates': None, 'place': None, 'contributors': None, 'retweeted_status': {'created_at': 'Wed Aug 19 22:53:03 +0000 2020', 'id': 1296218651385827328, 'id_str': '1296218651385827328', 'text': 'I told my therapist once a long time ago “I feel like I’m only living for the next book in this series I’m reading… https://t.co/65fuIpuvVF', 'truncated': True, 'entities': {'hashtags': [], 'symbols': [], 'user_mentions': [], 'urls': [{'url': 'https://t.co/65fuIpuvVF', 'expanded_url': 'https://twitter.com/i/web/status/1296218651385827328', 'display_url': 'twitter.com/i/web/status/1…', 'indices': [116, 139]}]}, 'metadata': {'iso_language_code': 'en', 'result_type': 'recent'}, 'source': '<a href=\"http://twitter.com/download/iphone\" rel=\"nofollow\">Twitter for iPhone</a>', 'in_reply_to_status_id': None, 'in_reply_to_status_id_str': None, 'in_reply_to_user_id': None, 'in_reply_to_user_id_str': None, 'in_reply_to_screen_name': None, 'user': {'id': 859935824955289600, 'id_str': '859935824955289600', 'name': 'Miche⁷', 'screen_name': 'MicheBangtan', 'location': 'United States', 'description': '💜', 'url': None, 'entities': {'description': {'urls': []}}, 'protected': False, 'followers_count': 23128, 'friends_count': 1018, 'listed_count': 93, 'created_at': 'Thu May 04 01:00:52 +0000 2017', 'favourites_count': 208332, 'utc_offset': None, 'time_zone': None, 'geo_enabled': False, 'verified': False, 'statuses_count': 95198, 'lang': None, 'contributors_enabled': False, 'is_translator': False, 'is_translation_enabled': False, 'profile_background_color': '000000', 'profile_background_image_url': 'http://abs.twimg.com/images/themes/theme1/bg.png', 'profile_background_image_url_https': 'https://abs.twimg.com/images/themes/theme1/bg.png', 'profile_background_tile': False, 'profile_image_url': 'http://pbs.twimg.com/profile_images/1293232200683532290/B-ZwfAe2_normal.jpg', 'profile_image_url_https': 'https://pbs.twimg.com/profile_images/1293232200683532290/B-ZwfAe2_normal.jpg', 'profile_banner_url': 'https://pbs.twimg.com/profile_banners/859935824955289600/1595948969', 'profile_link_color': 'ABB8C2', 'profile_sidebar_border_color': '000000', 'profile_sidebar_fill_color': '000000', 'profile_text_color': '000000', 'profile_use_background_image': False, 'has_extended_profile': True, 'default_profile': False, 'default_profile_image': False, 'following': None, 'follow_request_sent': None, 'notifications': None, 'translator_type': 'none'}, 'geo': None, 'coordinates': None, 'place': None, 'contributors': None, 'is_quote_status': False, 'retweet_count': 317, 'favorite_count': 1231, 'favorited': False, 'retweeted': False, 'lang': 'en'}, 'is_quote_status': False, 'retweet_count': 317, 'favorite_count': 0, 'favorited': False, 'retweeted': False, 'lang': 'en'}, created_at=datetime.datetime(2020, 8, 20, 7, 13, 40), id=1296344633660776448, id_str='1296344633660776448', text='RT @MicheBangtan: I told my therapist once a long time ago “I feel like I’m only living for the next book in this series I’m reading to com…', truncated=False, entities={'hashtags': [], 'symbols': [], 'user_mentions': [{'screen_name': 'MicheBangtan', 'name': 'Miche⁷', 'id': 859935824955289600, 'id_str': '859935824955289600', 'indices': [3, 16]}], 'urls': []}, metadata={'iso_language_code': 'en', 'result_type': 'recent'}, source='Twitter for Android', source_url='http://twitter.com/download/android', in_reply_to_status_id=None, in_reply_to_status_id_str=None, in_reply_to_user_id=None, in_reply_to_user_id_str=None, in_reply_to_screen_name=None, author=User(_api=<tweepy.api.API object at 0x7fdf854cc470>, _json={'id': 975982097562152961, 'id_str': '975982097562152961', 'name': 'LiRa⁷ 8/21💜', 'screen_name': 'LoveEternally7', 'location': 'BTS World', 'description': 'Love @BTS_twt by all of my heart 💜', 'url': 'https://t.co/IsoE0a8QcT', 'entities': {'url': {'urls': [{'url': 'https://t.co/IsoE0a8QcT', 'expanded_url': 'https://youtu.be/mPVDGOVjRQ0', 'display_url': 'youtu.be/mPVDGOVjRQ0', 'indices': [0, 23]}]}, 'description': {'urls': []}}, 'protected': False, 'followers_count': 1059, 'friends_count': 355, 'listed_count': 0, 'created_at': 'Tue Mar 20 06:27:19 +0000 2018', 'favourites_count': 37852, 'utc_offset': None, 'time_zone': None, 'geo_enabled': False, 'verified': False, 'statuses_count': 38680, 'lang': None, 'contributors_enabled': False, 'is_translator': False, 'is_translation_enabled': False, 'profile_background_color': 'F5F8FA', 'profile_background_image_url': None, 'profile_background_image_url_https': None, 'profile_background_tile': False, 'profile_image_url': 'http://pbs.twimg.com/profile_images/1289956126428033026/OjE9nBpx_normal.jpg', 'profile_image_url_https': 'https://pbs.twimg.com/profile_images/1289956126428033026/OjE9nBpx_normal.jpg', 'profile_banner_url': 'https://pbs.twimg.com/profile_banners/975982097562152961/1596900784', 'profile_link_color': '1DA1F2', 'profile_sidebar_border_color': 'C0DEED', 'profile_sidebar_fill_color': 'DDEEF6', 'profile_text_color': '333333', 'profile_use_background_image': True, 'has_extended_profile': False, 'default_profile': True, 'default_profile_image': False, 'following': None, 'follow_request_sent': None, 'notifications': None, 'translator_type': 'none'}, id=975982097562152961, id_str='975982097562152961', name='LiRa⁷ 8/21💜', screen_name='LoveEternally7', location='BTS World', description='Love @BTS_twt by all of my heart 💜', url='https://t.co/IsoE0a8QcT', entities={'url': {'urls': [{'url': 'https://t.co/IsoE0a8QcT', 'expanded_url': 'https://youtu.be/mPVDGOVjRQ0', 'display_url': 'youtu.be/mPVDGOVjRQ0', 'indices': [0, 23]}]}, 'description': {'urls': []}}, protected=False, followers_count=1059, friends_count=355, listed_count=0, created_at=datetime.datetime(2018, 3, 20, 6, 27, 19), favourites_count=37852, utc_offset=None, time_zone=None, geo_enabled=False, verified=False, statuses_count=38680, lang=None, contributors_enabled=False, is_translator=False, is_translation_enabled=False, profile_background_color='F5F8FA', profile_background_image_url=None, profile_background_image_url_https=None, profile_background_tile=False, profile_image_url='http://pbs.twimg.com/profile_images/1289956126428033026/OjE9nBpx_normal.jpg', profile_image_url_https='https://pbs.twimg.com/profile_images/1289956126428033026/OjE9nBpx_normal.jpg', profile_banner_url='https://pbs.twimg.com/profile_banners/975982097562152961/1596900784', profile_link_color='1DA1F2', profile_sidebar_border_color='C0DEED', profile_sidebar_fill_color='DDEEF6', profile_text_color='333333', profile_use_background_image=True, has_extended_profile=False, default_profile=True, default_profile_image=False, following=False, follow_request_sent=None, notifications=None, translator_type='none'), user=User(_api=<tweepy.api.API object at 0x7fdf854cc470>, _json={'id': 975982097562152961, 'id_str': '975982097562152961', 'name': 'LiRa⁷ 8/21💜', 'screen_name': 'LoveEternally7', 'location': 'BTS World', 'description': 'Love @BTS_twt by all of my heart 💜', 'url': 'https://t.co/IsoE0a8QcT', 'entities': {'url': {'urls': [{'url': 'https://t.co/IsoE0a8QcT', 'expanded_url': 'https://youtu.be/mPVDGOVjRQ0', 'display_url': 'youtu.be/mPVDGOVjRQ0', 'indices': [0, 23]}]}, 'description': {'urls': []}}, 'protected': False, 'followers_count': 1059, 'friends_count': 355, 'listed_count': 0, 'created_at': 'Tue Mar 20 06:27:19 +0000 2018', 'favourites_count': 37852, 'utc_offset': None, 'time_zone': None, 'geo_enabled': False, 'verified': False, 'statuses_count': 38680, 'lang': None, 'contributors_enabled': False, 'is_translator': False, 'is_translation_enabled': False, 'profile_background_color': 'F5F8FA', 'profile_background_image_url': None, 'profile_background_image_url_https': None, 'profile_background_tile': False, 'profile_image_url': 'http://pbs.twimg.com/profile_images/1289956126428033026/OjE9nBpx_normal.jpg', 'profile_image_url_https': 'https://pbs.twimg.com/profile_images/1289956126428033026/OjE9nBpx_normal.jpg', 'profile_banner_url': 'https://pbs.twimg.com/profile_banners/975982097562152961/1596900784', 'profile_link_color': '1DA1F2', 'profile_sidebar_border_color': 'C0DEED', 'profile_sidebar_fill_color': 'DDEEF6', 'profile_text_color': '333333', 'profile_use_background_image': True, 'has_extended_profile': False, 'default_profile': True, 'default_profile_image': False, 'following': None, 'follow_request_sent': None, 'notifications': None, 'translator_type': 'none'}, id=975982097562152961, id_str='975982097562152961', name='LiRa⁷ 8/21💜', screen_name='LoveEternally7', location='BTS World', description='Love @BTS_twt by all of my heart 💜', url='https://t.co/IsoE0a8QcT', entities={'url': {'urls': [{'url': 'https://t.co/IsoE0a8QcT', 'expanded_url': 'https://youtu.be/mPVDGOVjRQ0', 'display_url': 'youtu.be/mPVDGOVjRQ0', 'indices': [0, 23]}]}, 'description': {'urls': []}}, protected=False, followers_count=1059, friends_count=355, listed_count=0, created_at=datetime.datetime(2018, 3, 20, 6, 27, 19), favourites_count=37852, utc_offset=None, time_zone=None, geo_enabled=False, verified=False, statuses_count=38680, lang=None, contributors_enabled=False, is_translator=False, is_translation_enabled=False, profile_background_color='F5F8FA', profile_background_image_url=None, profile_background_image_url_https=None, profile_background_tile=False, profile_image_url='http://pbs.twimg.com/profile_images/1289956126428033026/OjE9nBpx_normal.jpg', profile_image_url_https='https://pbs.twimg.com/profile_images/1289956126428033026/OjE9nBpx_normal.jpg', profile_banner_url='https://pbs.twimg.com/profile_banners/975982097562152961/1596900784', profile_link_color='1DA1F2', profile_sidebar_border_color='C0DEED', profile_sidebar_fill_color='DDEEF6', profile_text_color='333333', profile_use_background_image=True, has_extended_profile=False, default_profile=True, default_profile_image=False, following=False, follow_request_sent=None, notifications=None, translator_type='none'), geo=None, coordinates=None, place=None, contributors=None, retweeted_status=Status(_api=<tweepy.api.API object at 0x7fdf854cc470>, _json={'created_at': 'Wed Aug 19 22:53:03 +0000 2020', 'id': 1296218651385827328, 'id_str': '1296218651385827328', 'text': 'I told my therapist once a long time ago “I feel like I’m only living for the next book in this series I’m reading… https://t.co/65fuIpuvVF', 'truncated': True, 'entities': {'hashtags': [], 'symbols': [], 'user_mentions': [], 'urls': [{'url': 'https://t.co/65fuIpuvVF', 'expanded_url': 'https://twitter.com/i/web/status/1296218651385827328', 'display_url': 'twitter.com/i/web/status/1…', 'indices': [116, 139]}]}, 'metadata': {'iso_language_code': 'en', 'result_type': 'recent'}, 'source': '<a href=\"http://twitter.com/download/iphone\" rel=\"nofollow\">Twitter for iPhone</a>', 'in_reply_to_status_id': None, 'in_reply_to_status_id_str': None, 'in_reply_to_user_id': None, 'in_reply_to_user_id_str': None, 'in_reply_to_screen_name': None, 'user': {'id': 859935824955289600, 'id_str': '859935824955289600', 'name': 'Miche⁷', 'screen_name': 'MicheBangtan', 'location': 'United States', 'description': '💜', 'url': None, 'entities': {'description': {'urls': []}}, 'protected': False, 'followers_count': 23128, 'friends_count': 1018, 'listed_count': 93, 'created_at': 'Thu May 04 01:00:52 +0000 2017', 'favourites_count': 208332, 'utc_offset': None, 'time_zone': None, 'geo_enabled': False, 'verified': False, 'statuses_count': 95198, 'lang': None, 'contributors_enabled': False, 'is_translator': False, 'is_translation_enabled': False, 'profile_background_color': '000000', 'profile_background_image_url': 'http://abs.twimg.com/images/themes/theme1/bg.png', 'profile_background_image_url_https': 'https://abs.twimg.com/images/themes/theme1/bg.png', 'profile_background_tile': False, 'profile_image_url': 'http://pbs.twimg.com/profile_images/1293232200683532290/B-ZwfAe2_normal.jpg', 'profile_image_url_https': 'https://pbs.twimg.com/profile_images/1293232200683532290/B-ZwfAe2_normal.jpg', 'profile_banner_url': 'https://pbs.twimg.com/profile_banners/859935824955289600/1595948969', 'profile_link_color': 'ABB8C2', 'profile_sidebar_border_color': '000000', 'profile_sidebar_fill_color': '000000', 'profile_text_color': '000000', 'profile_use_background_image': False, 'has_extended_profile': True, 'default_profile': False, 'default_profile_image': False, 'following': None, 'follow_request_sent': None, 'notifications': None, 'translator_type': 'none'}, 'geo': None, 'coordinates': None, 'place': None, 'contributors': None, 'is_quote_status': False, 'retweet_count': 317, 'favorite_count': 1231, 'favorited': False, 'retweeted': False, 'lang': 'en'}, created_at=datetime.datetime(2020, 8, 19, 22, 53, 3), id=1296218651385827328, id_str='1296218651385827328', text='I told my therapist once a long time ago “I feel like I’m only living for the next book in this series I’m reading… https://t.co/65fuIpuvVF', truncated=True, entities={'hashtags': [], 'symbols': [], 'user_mentions': [], 'urls': [{'url': 'https://t.co/65fuIpuvVF', 'expanded_url': 'https://twitter.com/i/web/status/1296218651385827328', 'display_url': 'twitter.com/i/web/status/1…', 'indices': [116, 139]}]}, metadata={'iso_language_code': 'en', 'result_type': 'recent'}, source='Twitter for iPhone', source_url='http://twitter.com/download/iphone', in_reply_to_status_id=None, in_reply_to_status_id_str=None, in_reply_to_user_id=None, in_reply_to_user_id_str=None, in_reply_to_screen_name=None, author=User(_api=<tweepy.api.API object at 0x7fdf854cc470>, _json={'id': 859935824955289600, 'id_str': '859935824955289600', 'name': 'Miche⁷', 'screen_name': 'MicheBangtan', 'location': 'United States', 'description': '💜', 'url': None, 'entities': {'description': {'urls': []}}, 'protected': False, 'followers_count': 23128, 'friends_count': 1018, 'listed_count': 93, 'created_at': 'Thu May 04 01:00:52 +0000 2017', 'favourites_count': 208332, 'utc_offset': None, 'time_zone': None, 'geo_enabled': False, 'verified': False, 'statuses_count': 95198, 'lang': None, 'contributors_enabled': False, 'is_translator': False, 'is_translation_enabled': False, 'profile_background_color': '000000', 'profile_background_image_url': 'http://abs.twimg.com/images/themes/theme1/bg.png', 'profile_background_image_url_https': 'https://abs.twimg.com/images/themes/theme1/bg.png', 'profile_background_tile': False, 'profile_image_url': 'http://pbs.twimg.com/profile_images/1293232200683532290/B-ZwfAe2_normal.jpg', 'profile_image_url_https': 'https://pbs.twimg.com/profile_images/1293232200683532290/B-ZwfAe2_normal.jpg', 'profile_banner_url': 'https://pbs.twimg.com/profile_banners/859935824955289600/1595948969', 'profile_link_color': 'ABB8C2', 'profile_sidebar_border_color': '000000', 'profile_sidebar_fill_color': '000000', 'profile_text_color': '000000', 'profile_use_background_image': False, 'has_extended_profile': True, 'default_profile': False, 'default_profile_image': False, 'following': None, 'follow_request_sent': None, 'notifications': None, 'translator_type': 'none'}, id=859935824955289600, id_str='859935824955289600', name='Miche⁷', screen_name='MicheBangtan', location='United States', description='💜', url=None, entities={'description': {'urls': []}}, protected=False, followers_count=23128, friends_count=1018, listed_count=93, created_at=datetime.datetime(2017, 5, 4, 1, 0, 52), favourites_count=208332, utc_offset=None, time_zone=None, geo_enabled=False, verified=False, statuses_count=95198, lang=None, contributors_enabled=False, is_translator=False, is_translation_enabled=False, profile_background_color='000000', profile_background_image_url='http://abs.twimg.com/images/themes/theme1/bg.png', profile_background_image_url_https='https://abs.twimg.com/images/themes/theme1/bg.png', profile_background_tile=False, profile_image_url='http://pbs.twimg.com/profile_images/1293232200683532290/B-ZwfAe2_normal.jpg', profile_image_url_https='https://pbs.twimg.com/profile_images/1293232200683532290/B-ZwfAe2_normal.jpg', profile_banner_url='https://pbs.twimg.com/profile_banners/859935824955289600/1595948969', profile_link_color='ABB8C2', profile_sidebar_border_color='000000', profile_sidebar_fill_color='000000', profile_text_color='000000', profile_use_background_image=False, has_extended_profile=True, default_profile=False, default_profile_image=False, following=False, follow_request_sent=None, notifications=None, translator_type='none'), user=User(_api=<tweepy.api.API object at 0x7fdf854cc470>, _json={'id': 859935824955289600, 'id_str': '859935824955289600', 'name': 'Miche⁷', 'screen_name': 'MicheBangtan', 'location': 'United States', 'description': '💜', 'url': None, 'entities': {'description': {'urls': []}}, 'protected': False, 'followers_count': 23128, 'friends_count': 1018, 'listed_count': 93, 'created_at': 'Thu May 04 01:00:52 +0000 2017', 'favourites_count': 208332, 'utc_offset': None, 'time_zone': None, 'geo_enabled': False, 'verified': False, 'statuses_count': 95198, 'lang': None, 'contributors_enabled': False, 'is_translator': False, 'is_translation_enabled': False, 'profile_background_color': '000000', 'profile_background_image_url': 'http://abs.twimg.com/images/themes/theme1/bg.png', 'profile_background_image_url_https': 'https://abs.twimg.com/images/themes/theme1/bg.png', 'profile_background_tile': False, 'profile_image_url': 'http://pbs.twimg.com/profile_images/1293232200683532290/B-ZwfAe2_normal.jpg', 'profile_image_url_https': 'https://pbs.twimg.com/profile_images/1293232200683532290/B-ZwfAe2_normal.jpg', 'profile_banner_url': 'https://pbs.twimg.com/profile_banners/859935824955289600/1595948969', 'profile_link_color': 'ABB8C2', 'profile_sidebar_border_color': '000000', 'profile_sidebar_fill_color': '000000', 'profile_text_color': '000000', 'profile_use_background_image': False, 'has_extended_profile': True, 'default_profile': False, 'default_profile_image': False, 'following': None, 'follow_request_sent': None, 'notifications': None, 'translator_type': 'none'}, id=859935824955289600, id_str='859935824955289600', name='Miche⁷', screen_name='MicheBangtan', location='United States', description='💜', url=None, entities={'description': {'urls': []}}, protected=False, followers_count=23128, friends_count=1018, listed_count=93, created_at=datetime.datetime(2017, 5, 4, 1, 0, 52), favourites_count=208332, utc_offset=None, time_zone=None, geo_enabled=False, verified=False, statuses_count=95198, lang=None, contributors_enabled=False, is_translator=False, is_translation_enabled=False, profile_background_color='000000', profile_background_image_url='http://abs.twimg.com/images/themes/theme1/bg.png', profile_background_image_url_https='https://abs.twimg.com/images/themes/theme1/bg.png', profile_background_tile=False, profile_image_url='http://pbs.twimg.com/profile_images/1293232200683532290/B-ZwfAe2_normal.jpg', profile_image_url_https='https://pbs.twimg.com/profile_images/1293232200683532290/B-ZwfAe2_normal.jpg', profile_banner_url='https://pbs.twimg.com/profile_banners/859935824955289600/1595948969', profile_link_color='ABB8C2', profile_sidebar_border_color='000000', profile_sidebar_fill_color='000000', profile_text_color='000000', profile_use_background_image=False, has_extended_profile=True, default_profile=False, default_profile_image=False, following=False, follow_request_sent=None, notifications=None, translator_type='none'), geo=None, coordinates=None, place=None, contributors=None, is_quote_status=False, retweet_count=317, favorite_count=1231, favorited=False, retweeted=False, lang='en'), is_quote_status=False, retweet_count=317, favorite_count=0, favorited=False, retweeted=False, lang='en'), Status(_api=<tweepy.api.API object at 0x7fdf854cc470>, _json={'created_at': 'Thu Aug 20 07:13:39 +0000 2020', 'id': 1296344632591290368, 'id_str': '1296344632591290368', 'text': \"RT @YourMcColls: Today's giveaway is a £250 Evans Cycles Bike voucher courtesy of @McVities!  All you need to do to enter is follow us, lik…\", 'truncated': False, 'entities': {'hashtags': [], 'symbols': [], 'user_mentions': [{'screen_name': 'YourMcColls', 'name': \"McColl's\", 'id': 1036953016774139905, 'id_str': '1036953016774139905', 'indices': [3, 15]}, {'screen_name': 'McVities', 'name': \"McVitie's\", 'id': 193333713, 'id_str': '193333713', 'indices': [82, 91]}], 'urls': []}, 'metadata': {'iso_language_code': 'en', 'result_type': 'recent'}, 'source': '<a href=\"http://twitter.com/download/iphone\" rel=\"nofollow\">Twitter for iPhone</a>', 'in_reply_to_status_id': None, 'in_reply_to_status_id_str': None, 'in_reply_to_user_id': None, 'in_reply_to_user_id_str': None, 'in_reply_to_screen_name': None, 'user': {'id': 348528323, 'id_str': '348528323', 'name': 'DazRB1878', 'screen_name': 'DarrenBarnard1', 'location': '', 'description': 'Husband, Dad. simple man who loves life’s simple things. Mad sports fan - everything from American football to yachting (is there a sport beginning with Z)', 'url': None, 'entities': {'description': {'urls': []}}, 'protected': False, 'followers_count': 1276, 'friends_count': 4844, 'listed_count': 402, 'created_at': 'Thu Aug 04 15:43:56 +0000 2011', 'favourites_count': 9650, 'utc_offset': None, 'time_zone': None, 'geo_enabled': False, 'verified': False, 'statuses_count': 140891, 'lang': None, 'contributors_enabled': False, 'is_translator': False, 'is_translation_enabled': False, 'profile_background_color': 'C0DEED', 'profile_background_image_url': 'http://abs.twimg.com/images/themes/theme1/bg.png', 'profile_background_image_url_https': 'https://abs.twimg.com/images/themes/theme1/bg.png', 'profile_background_tile': False, 'profile_image_url': 'http://pbs.twimg.com/profile_images/816684086941061125/rrSMDGy8_normal.jpg', 'profile_image_url_https': 'https://pbs.twimg.com/profile_images/816684086941061125/rrSMDGy8_normal.jpg', 'profile_link_color': '1DA1F2', 'profile_sidebar_border_color': 'C0DEED', 'profile_sidebar_fill_color': 'DDEEF6', 'profile_text_color': '333333', 'profile_use_background_image': True, 'has_extended_profile': True, 'default_profile': True, 'default_profile_image': False, 'following': None, 'follow_request_sent': None, 'notifications': None, 'translator_type': 'none'}, 'geo': None, 'coordinates': None, 'place': None, 'contributors': None, 'retweeted_status': {'created_at': 'Thu Aug 20 07:00:17 +0000 2020', 'id': 1296341265634725889, 'id_str': '1296341265634725889', 'text': \"Today's giveaway is a £250 Evans Cycles Bike voucher courtesy of @McVities!  All you need to do to enter is follow… https://t.co/gcF0RC3RJF\", 'truncated': True, 'entities': {'hashtags': [], 'symbols': [], 'user_mentions': [{'screen_name': 'McVities', 'name': \"McVitie's\", 'id': 193333713, 'id_str': '193333713', 'indices': [65, 74]}], 'urls': [{'url': 'https://t.co/gcF0RC3RJF', 'expanded_url': 'https://twitter.com/i/web/status/1296341265634725889', 'display_url': 'twitter.com/i/web/status/1…', 'indices': [116, 139]}]}, 'metadata': {'iso_language_code': 'en', 'result_type': 'recent'}, 'source': '<a href=\"https://sproutsocial.com\" rel=\"nofollow\">Sprout Social</a>', 'in_reply_to_status_id': None, 'in_reply_to_status_id_str': None, 'in_reply_to_user_id': None, 'in_reply_to_user_id_str': None, 'in_reply_to_screen_name': None, 'user': {'id': 1036953016774139905, 'id_str': '1036953016774139905', 'name': \"McColl's\", 'screen_name': 'YourMcColls', 'location': '', 'description': 'Here to answer your questions & queries. \\n\\nThis account is operated: 8am till 5pm Monday -  Friday', 'url': 'https://t.co/6RkjXlabAk', 'entities': {'url': {'urls': [{'url': 'https://t.co/6RkjXlabAk', 'expanded_url': 'https://www.mccolls.co.uk/#', 'display_url': 'mccolls.co.uk/#', 'indices': [0, 23]}]}, 'description': {'urls': []}}, 'protected': False, 'followers_count': 11192, 'friends_count': 812, 'listed_count': 23, 'created_at': 'Tue Sep 04 12:23:59 +0000 2018', 'favourites_count': 14505, 'utc_offset': None, 'time_zone': None, 'geo_enabled': False, 'verified': False, 'statuses_count': 2055, 'lang': None, 'contributors_enabled': False, 'is_translator': False, 'is_translation_enabled': False, 'profile_background_color': '000000', 'profile_background_image_url': 'http://abs.twimg.com/images/themes/theme1/bg.png', 'profile_background_image_url_https': 'https://abs.twimg.com/images/themes/theme1/bg.png', 'profile_background_tile': False, 'profile_image_url': 'http://pbs.twimg.com/profile_images/1064831363830947840/3tpZWgoE_normal.jpg', 'profile_image_url_https': 'https://pbs.twimg.com/profile_images/1064831363830947840/3tpZWgoE_normal.jpg', 'profile_banner_url': 'https://pbs.twimg.com/profile_banners/1036953016774139905/1594218130', 'profile_link_color': '1B95E0', 'profile_sidebar_border_color': '000000', 'profile_sidebar_fill_color': '000000', 'profile_text_color': '000000', 'profile_use_background_image': False, 'has_extended_profile': True, 'default_profile': False, 'default_profile_image': False, 'following': None, 'follow_request_sent': None, 'notifications': None, 'translator_type': 'none'}, 'geo': None, 'coordinates': None, 'place': None, 'contributors': None, 'is_quote_status': False, 'retweet_count': 61, 'favorite_count': 63, 'favorited': False, 'retweeted': False, 'possibly_sensitive': False, 'lang': 'en'}, 'is_quote_status': False, 'retweet_count': 61, 'favorite_count': 0, 'favorited': False, 'retweeted': False, 'lang': 'en'}, created_at=datetime.datetime(2020, 8, 20, 7, 13, 39), id=1296344632591290368, id_str='1296344632591290368', text=\"RT @YourMcColls: Today's giveaway is a £250 Evans Cycles Bike voucher courtesy of @McVities!  All you need to do to enter is follow us, lik…\", truncated=False, entities={'hashtags': [], 'symbols': [], 'user_mentions': [{'screen_name': 'YourMcColls', 'name': \"McColl's\", 'id': 1036953016774139905, 'id_str': '1036953016774139905', 'indices': [3, 15]}, {'screen_name': 'McVities', 'name': \"McVitie's\", 'id': 193333713, 'id_str': '193333713', 'indices': [82, 91]}], 'urls': []}, metadata={'iso_language_code': 'en', 'result_type': 'recent'}, source='Twitter for iPhone', source_url='http://twitter.com/download/iphone', in_reply_to_status_id=None, in_reply_to_status_id_str=None, in_reply_to_user_id=None, in_reply_to_user_id_str=None, in_reply_to_screen_name=None, author=User(_api=<tweepy.api.API object at 0x7fdf854cc470>, _json={'id': 348528323, 'id_str': '348528323', 'name': 'DazRB1878', 'screen_name': 'DarrenBarnard1', 'location': '', 'description': 'Husband, Dad. simple man who loves life’s simple things. Mad sports fan - everything from American football to yachting (is there a sport beginning with Z)', 'url': None, 'entities': {'description': {'urls': []}}, 'protected': False, 'followers_count': 1276, 'friends_count': 4844, 'listed_count': 402, 'created_at': 'Thu Aug 04 15:43:56 +0000 2011', 'favourites_count': 9650, 'utc_offset': None, 'time_zone': None, 'geo_enabled': False, 'verified': False, 'statuses_count': 140891, 'lang': None, 'contributors_enabled': False, 'is_translator': False, 'is_translation_enabled': False, 'profile_background_color': 'C0DEED', 'profile_background_image_url': 'http://abs.twimg.com/images/themes/theme1/bg.png', 'profile_background_image_url_https': 'https://abs.twimg.com/images/themes/theme1/bg.png', 'profile_background_tile': False, 'profile_image_url': 'http://pbs.twimg.com/profile_images/816684086941061125/rrSMDGy8_normal.jpg', 'profile_image_url_https': 'https://pbs.twimg.com/profile_images/816684086941061125/rrSMDGy8_normal.jpg', 'profile_link_color': '1DA1F2', 'profile_sidebar_border_color': 'C0DEED', 'profile_sidebar_fill_color': 'DDEEF6', 'profile_text_color': '333333', 'profile_use_background_image': True, 'has_extended_profile': True, 'default_profile': True, 'default_profile_image': False, 'following': None, 'follow_request_sent': None, 'notifications': None, 'translator_type': 'none'}, id=348528323, id_str='348528323', name='DazRB1878', screen_name='DarrenBarnard1', location='', description='Husband, Dad. simple man who loves life’s simple things. Mad sports fan - everything from American football to yachting (is there a sport beginning with Z)', url=None, entities={'description': {'urls': []}}, protected=False, followers_count=1276, friends_count=4844, listed_count=402, created_at=datetime.datetime(2011, 8, 4, 15, 43, 56), favourites_count=9650, utc_offset=None, time_zone=None, geo_enabled=False, verified=False, statuses_count=140891, lang=None, contributors_enabled=False, is_translator=False, is_translation_enabled=False, profile_background_color='C0DEED', profile_background_image_url='http://abs.twimg.com/images/themes/theme1/bg.png', profile_background_image_url_https='https://abs.twimg.com/images/themes/theme1/bg.png', profile_background_tile=False, profile_image_url='http://pbs.twimg.com/profile_images/816684086941061125/rrSMDGy8_normal.jpg', profile_image_url_https='https://pbs.twimg.com/profile_images/816684086941061125/rrSMDGy8_normal.jpg', profile_link_color='1DA1F2', profile_sidebar_border_color='C0DEED', profile_sidebar_fill_color='DDEEF6', profile_text_color='333333', profile_use_background_image=True, has_extended_profile=True, default_profile=True, default_profile_image=False, following=False, follow_request_sent=None, notifications=None, translator_type='none'), user=User(_api=<tweepy.api.API object at 0x7fdf854cc470>, _json={'id': 348528323, 'id_str': '348528323', 'name': 'DazRB1878', 'screen_name': 'DarrenBarnard1', 'location': '', 'description': 'Husband, Dad. simple man who loves life’s simple things. Mad sports fan - everything from American football to yachting (is there a sport beginning with Z)', 'url': None, 'entities': {'description': {'urls': []}}, 'protected': False, 'followers_count': 1276, 'friends_count': 4844, 'listed_count': 402, 'created_at': 'Thu Aug 04 15:43:56 +0000 2011', 'favourites_count': 9650, 'utc_offset': None, 'time_zone': None, 'geo_enabled': False, 'verified': False, 'statuses_count': 140891, 'lang': None, 'contributors_enabled': False, 'is_translator': False, 'is_translation_enabled': False, 'profile_background_color': 'C0DEED', 'profile_background_image_url': 'http://abs.twimg.com/images/themes/theme1/bg.png', 'profile_background_image_url_https': 'https://abs.twimg.com/images/themes/theme1/bg.png', 'profile_background_tile': False, 'profile_image_url': 'http://pbs.twimg.com/profile_images/816684086941061125/rrSMDGy8_normal.jpg', 'profile_image_url_https': 'https://pbs.twimg.com/profile_images/816684086941061125/rrSMDGy8_normal.jpg', 'profile_link_color': '1DA1F2', 'profile_sidebar_border_color': 'C0DEED', 'profile_sidebar_fill_color': 'DDEEF6', 'profile_text_color': '333333', 'profile_use_background_image': True, 'has_extended_profile': True, 'default_profile': True, 'default_profile_image': False, 'following': None, 'follow_request_sent': None, 'notifications': None, 'translator_type': 'none'}, id=348528323, id_str='348528323', name='DazRB1878', screen_name='DarrenBarnard1', location='', description='Husband, Dad. simple man who loves life’s simple things. Mad sports fan - everything from American football to yachting (is there a sport beginning with Z)', url=None, entities={'description': {'urls': []}}, protected=False, followers_count=1276, friends_count=4844, listed_count=402, created_at=datetime.datetime(2011, 8, 4, 15, 43, 56), favourites_count=9650, utc_offset=None, time_zone=None, geo_enabled=False, verified=False, statuses_count=140891, lang=None, contributors_enabled=False, is_translator=False, is_translation_enabled=False, profile_background_color='C0DEED', profile_background_image_url='http://abs.twimg.com/images/themes/theme1/bg.png', profile_background_image_url_https='https://abs.twimg.com/images/themes/theme1/bg.png', profile_background_tile=False, profile_image_url='http://pbs.twimg.com/profile_images/816684086941061125/rrSMDGy8_normal.jpg', profile_image_url_https='https://pbs.twimg.com/profile_images/816684086941061125/rrSMDGy8_normal.jpg', profile_link_color='1DA1F2', profile_sidebar_border_color='C0DEED', profile_sidebar_fill_color='DDEEF6', profile_text_color='333333', profile_use_background_image=True, has_extended_profile=True, default_profile=True, default_profile_image=False, following=False, follow_request_sent=None, notifications=None, translator_type='none'), geo=None, coordinates=None, place=None, contributors=None, retweeted_status=Status(_api=<tweepy.api.API object at 0x7fdf854cc470>, _json={'created_at': 'Thu Aug 20 07:00:17 +0000 2020', 'id': 1296341265634725889, 'id_str': '1296341265634725889', 'text': \"Today's giveaway is a £250 Evans Cycles Bike voucher courtesy of @McVities!  All you need to do to enter is follow… https://t.co/gcF0RC3RJF\", 'truncated': True, 'entities': {'hashtags': [], 'symbols': [], 'user_mentions': [{'screen_name': 'McVities', 'name': \"McVitie's\", 'id': 193333713, 'id_str': '193333713', 'indices': [65, 74]}], 'urls': [{'url': 'https://t.co/gcF0RC3RJF', 'expanded_url': 'https://twitter.com/i/web/status/1296341265634725889', 'display_url': 'twitter.com/i/web/status/1…', 'indices': [116, 139]}]}, 'metadata': {'iso_language_code': 'en', 'result_type': 'recent'}, 'source': '<a href=\"https://sproutsocial.com\" rel=\"nofollow\">Sprout Social</a>', 'in_reply_to_status_id': None, 'in_reply_to_status_id_str': None, 'in_reply_to_user_id': None, 'in_reply_to_user_id_str': None, 'in_reply_to_screen_name': None, 'user': {'id': 1036953016774139905, 'id_str': '1036953016774139905', 'name': \"McColl's\", 'screen_name': 'YourMcColls', 'location': '', 'description': 'Here to answer your questions & queries. \\n\\nThis account is operated: 8am till 5pm Monday -  Friday', 'url': 'https://t.co/6RkjXlabAk', 'entities': {'url': {'urls': [{'url': 'https://t.co/6RkjXlabAk', 'expanded_url': 'https://www.mccolls.co.uk/#', 'display_url': 'mccolls.co.uk/#', 'indices': [0, 23]}]}, 'description': {'urls': []}}, 'protected': False, 'followers_count': 11192, 'friends_count': 812, 'listed_count': 23, 'created_at': 'Tue Sep 04 12:23:59 +0000 2018', 'favourites_count': 14505, 'utc_offset': None, 'time_zone': None, 'geo_enabled': False, 'verified': False, 'statuses_count': 2055, 'lang': None, 'contributors_enabled': False, 'is_translator': False, 'is_translation_enabled': False, 'profile_background_color': '000000', 'profile_background_image_url': 'http://abs.twimg.com/images/themes/theme1/bg.png', 'profile_background_image_url_https': 'https://abs.twimg.com/images/themes/theme1/bg.png', 'profile_background_tile': False, 'profile_image_url': 'http://pbs.twimg.com/profile_images/1064831363830947840/3tpZWgoE_normal.jpg', 'profile_image_url_https': 'https://pbs.twimg.com/profile_images/1064831363830947840/3tpZWgoE_normal.jpg', 'profile_banner_url': 'https://pbs.twimg.com/profile_banners/1036953016774139905/1594218130', 'profile_link_color': '1B95E0', 'profile_sidebar_border_color': '000000', 'profile_sidebar_fill_color': '000000', 'profile_text_color': '000000', 'profile_use_background_image': False, 'has_extended_profile': True, 'default_profile': False, 'default_profile_image': False, 'following': None, 'follow_request_sent': None, 'notifications': None, 'translator_type': 'none'}, 'geo': None, 'coordinates': None, 'place': None, 'contributors': None, 'is_quote_status': False, 'retweet_count': 61, 'favorite_count': 63, 'favorited': False, 'retweeted': False, 'possibly_sensitive': False, 'lang': 'en'}, created_at=datetime.datetime(2020, 8, 20, 7, 0, 17), id=1296341265634725889, id_str='1296341265634725889', text=\"Today's giveaway is a £250 Evans Cycles Bike voucher courtesy of @McVities!  All you need to do to enter is follow… https://t.co/gcF0RC3RJF\", truncated=True, entities={'hashtags': [], 'symbols': [], 'user_mentions': [{'screen_name': 'McVities', 'name': \"McVitie's\", 'id': 193333713, 'id_str': '193333713', 'indices': [65, 74]}], 'urls': [{'url': 'https://t.co/gcF0RC3RJF', 'expanded_url': 'https://twitter.com/i/web/status/1296341265634725889', 'display_url': 'twitter.com/i/web/status/1…', 'indices': [116, 139]}]}, metadata={'iso_language_code': 'en', 'result_type': 'recent'}, source='Sprout Social', source_url='https://sproutsocial.com', in_reply_to_status_id=None, in_reply_to_status_id_str=None, in_reply_to_user_id=None, in_reply_to_user_id_str=None, in_reply_to_screen_name=None, author=User(_api=<tweepy.api.API object at 0x7fdf854cc470>, _json={'id': 1036953016774139905, 'id_str': '1036953016774139905', 'name': \"McColl's\", 'screen_name': 'YourMcColls', 'location': '', 'description': 'Here to answer your questions & queries. \\n\\nThis account is operated: 8am till 5pm Monday -  Friday', 'url': 'https://t.co/6RkjXlabAk', 'entities': {'url': {'urls': [{'url': 'https://t.co/6RkjXlabAk', 'expanded_url': 'https://www.mccolls.co.uk/#', 'display_url': 'mccolls.co.uk/#', 'indices': [0, 23]}]}, 'description': {'urls': []}}, 'protected': False, 'followers_count': 11192, 'friends_count': 812, 'listed_count': 23, 'created_at': 'Tue Sep 04 12:23:59 +0000 2018', 'favourites_count': 14505, 'utc_offset': None, 'time_zone': None, 'geo_enabled': False, 'verified': False, 'statuses_count': 2055, 'lang': None, 'contributors_enabled': False, 'is_translator': False, 'is_translation_enabled': False, 'profile_background_color': '000000', 'profile_background_image_url': 'http://abs.twimg.com/images/themes/theme1/bg.png', 'profile_background_image_url_https': 'https://abs.twimg.com/images/themes/theme1/bg.png', 'profile_background_tile': False, 'profile_image_url': 'http://pbs.twimg.com/profile_images/1064831363830947840/3tpZWgoE_normal.jpg', 'profile_image_url_https': 'https://pbs.twimg.com/profile_images/1064831363830947840/3tpZWgoE_normal.jpg', 'profile_banner_url': 'https://pbs.twimg.com/profile_banners/1036953016774139905/1594218130', 'profile_link_color': '1B95E0', 'profile_sidebar_border_color': '000000', 'profile_sidebar_fill_color': '000000', 'profile_text_color': '000000', 'profile_use_background_image': False, 'has_extended_profile': True, 'default_profile': False, 'default_profile_image': False, 'following': None, 'follow_request_sent': None, 'notifications': None, 'translator_type': 'none'}, id=1036953016774139905, id_str='1036953016774139905', name=\"McColl's\", screen_name='YourMcColls', location='', description='Here to answer your questions & queries. \\n\\nThis account is operated: 8am till 5pm Monday -  Friday', url='https://t.co/6RkjXlabAk', entities={'url': {'urls': [{'url': 'https://t.co/6RkjXlabAk', 'expanded_url': 'https://www.mccolls.co.uk/#', 'display_url': 'mccolls.co.uk/#', 'indices': [0, 23]}]}, 'description': {'urls': []}}, protected=False, followers_count=11192, friends_count=812, listed_count=23, created_at=datetime.datetime(2018, 9, 4, 12, 23, 59), favourites_count=14505, utc_offset=None, time_zone=None, geo_enabled=False, verified=False, statuses_count=2055, lang=None, contributors_enabled=False, is_translator=False, is_translation_enabled=False, profile_background_color='000000', profile_background_image_url='http://abs.twimg.com/images/themes/theme1/bg.png', profile_background_image_url_https='https://abs.twimg.com/images/themes/theme1/bg.png', profile_background_tile=False, profile_image_url='http://pbs.twimg.com/profile_images/1064831363830947840/3tpZWgoE_normal.jpg', profile_image_url_https='https://pbs.twimg.com/profile_images/1064831363830947840/3tpZWgoE_normal.jpg', profile_banner_url='https://pbs.twimg.com/profile_banners/1036953016774139905/1594218130', profile_link_color='1B95E0', profile_sidebar_border_color='000000', profile_sidebar_fill_color='000000', profile_text_color='000000', profile_use_background_image=False, has_extended_profile=True, default_profile=False, default_profile_image=False, following=False, follow_request_sent=None, notifications=None, translator_type='none'), user=User(_api=<tweepy.api.API object at 0x7fdf854cc470>, _json={'id': 1036953016774139905, 'id_str': '1036953016774139905', 'name': \"McColl's\", 'screen_name': 'YourMcColls', 'location': '', 'description': 'Here to answer your questions & queries. \\n\\nThis account is operated: 8am till 5pm Monday -  Friday', 'url': 'https://t.co/6RkjXlabAk', 'entities': {'url': {'urls': [{'url': 'https://t.co/6RkjXlabAk', 'expanded_url': 'https://www.mccolls.co.uk/#', 'display_url': 'mccolls.co.uk/#', 'indices': [0, 23]}]}, 'description': {'urls': []}}, 'protected': False, 'followers_count': 11192, 'friends_count': 812, 'listed_count': 23, 'created_at': 'Tue Sep 04 12:23:59 +0000 2018', 'favourites_count': 14505, 'utc_offset': None, 'time_zone': None, 'geo_enabled': False, 'verified': False, 'statuses_count': 2055, 'lang': None, 'contributors_enabled': False, 'is_translator': False, 'is_translation_enabled': False, 'profile_background_color': '000000', 'profile_background_image_url': 'http://abs.twimg.com/images/themes/theme1/bg.png', 'profile_background_image_url_https': 'https://abs.twimg.com/images/themes/theme1/bg.png', 'profile_background_tile': False, 'profile_image_url': 'http://pbs.twimg.com/profile_images/1064831363830947840/3tpZWgoE_normal.jpg', 'profile_image_url_https': 'https://pbs.twimg.com/profile_images/1064831363830947840/3tpZWgoE_normal.jpg', 'profile_banner_url': 'https://pbs.twimg.com/profile_banners/1036953016774139905/1594218130', 'profile_link_color': '1B95E0', 'profile_sidebar_border_color': '000000', 'profile_sidebar_fill_color': '000000', 'profile_text_color': '000000', 'profile_use_background_image': False, 'has_extended_profile': True, 'default_profile': False, 'default_profile_image': False, 'following': None, 'follow_request_sent': None, 'notifications': None, 'translator_type': 'none'}, id=1036953016774139905, id_str='1036953016774139905', name=\"McColl's\", screen_name='YourMcColls', location='', description='Here to answer your questions & queries. \\n\\nThis account is operated: 8am till 5pm Monday -  Friday', url='https://t.co/6RkjXlabAk', entities={'url': {'urls': [{'url': 'https://t.co/6RkjXlabAk', 'expanded_url': 'https://www.mccolls.co.uk/#', 'display_url': 'mccolls.co.uk/#', 'indices': [0, 23]}]}, 'description': {'urls': []}}, protected=False, followers_count=11192, friends_count=812, listed_count=23, created_at=datetime.datetime(2018, 9, 4, 12, 23, 59), favourites_count=14505, utc_offset=None, time_zone=None, geo_enabled=False, verified=False, statuses_count=2055, lang=None, contributors_enabled=False, is_translator=False, is_translation_enabled=False, profile_background_color='000000', profile_background_image_url='http://abs.twimg.com/images/themes/theme1/bg.png', profile_background_image_url_https='https://abs.twimg.com/images/themes/theme1/bg.png', profile_background_tile=False, profile_image_url='http://pbs.twimg.com/profile_images/1064831363830947840/3tpZWgoE_normal.jpg', profile_image_url_https='https://pbs.twimg.com/profile_images/1064831363830947840/3tpZWgoE_normal.jpg', profile_banner_url='https://pbs.twimg.com/profile_banners/1036953016774139905/1594218130', profile_link_color='1B95E0', profile_sidebar_border_color='000000', profile_sidebar_fill_color='000000', profile_text_color='000000', profile_use_background_image=False, has_extended_profile=True, default_profile=False, default_profile_image=False, following=False, follow_request_sent=None, notifications=None, translator_type='none'), geo=None, coordinates=None, place=None, contributors=None, is_quote_status=False, retweet_count=61, favorite_count=63, favorited=False, retweeted=False, possibly_sensitive=False, lang='en'), is_quote_status=False, retweet_count=61, favorite_count=0, favorited=False, retweeted=False, lang='en'), Status(_api=<tweepy.api.API object at 0x7fdf854cc470>, _json={'created_at': 'Thu Aug 20 07:13:39 +0000 2020', 'id': 1296344631114969088, 'id_str': '1296344631114969088', 'text': 'RT @LazzleDazzler: so this segment is titled: \\n\"Characters i initially disliked but would now take a whole entire bullet for\" (Ferdie/Loren…', 'truncated': False, 'entities': {'hashtags': [], 'symbols': [], 'user_mentions': [{'screen_name': 'LazzleDazzler', 'name': '･ﾟ✧ ✨♡ 𝒾𝓃𝒾𝑔𝑜’𝓈 𝓌𝒾𝒻𝑒 ♡✨ ･ﾟ✧', 'id': 833163618757718016, 'id_str': '833163618757718016', 'indices': [3, 17]}], 'urls': []}, 'metadata': {'iso_language_code': 'en', 'result_type': 'recent'}, 'source': '<a href=\"https://mobile.twitter.com\" rel=\"nofollow\">Twitter Web App</a>', 'in_reply_to_status_id': None, 'in_reply_to_status_id_str': None, 'in_reply_to_user_id': None, 'in_reply_to_user_id_str': None, 'in_reply_to_screen_name': None, 'user': {'id': 37332262, 'id_str': '37332262', 'name': 'Erika @ ESO', 'screen_name': 'kexira', 'location': 'USA, EST', 'description': 'She/her, white, bi, cis, mid-20s. Gigantic dork. Overly fond of emotions, stories, and music. Occasionally makes up stories or code. (i: @DrawnOutToSea)', 'url': None, 'entities': {'description': {'urls': []}}, 'protected': False, 'followers_count': 73, 'friends_count': 388, 'listed_count': 2, 'created_at': 'Sun May 03 01:32:09 +0000 2009', 'favourites_count': 52373, 'utc_offset': None, 'time_zone': None, 'geo_enabled': False, 'verified': False, 'statuses_count': 13325, 'lang': None, 'contributors_enabled': False, 'is_translator': False, 'is_translation_enabled': False, 'profile_background_color': '000000', 'profile_background_image_url': 'http://abs.twimg.com/images/themes/theme15/bg.png', 'profile_background_image_url_https': 'https://abs.twimg.com/images/themes/theme15/bg.png', 'profile_background_tile': False, 'profile_image_url': 'http://pbs.twimg.com/profile_images/1291307212414111744/wX4Rg3FM_normal.jpg', 'profile_image_url_https': 'https://pbs.twimg.com/profile_images/1291307212414111744/wX4Rg3FM_normal.jpg', 'profile_banner_url': 'https://pbs.twimg.com/profile_banners/37332262/1594445524', 'profile_link_color': '9266CC', 'profile_sidebar_border_color': '000000', 'profile_sidebar_fill_color': '000000', 'profile_text_color': '000000', 'profile_use_background_image': False, 'has_extended_profile': True, 'default_profile': False, 'default_profile_image': False, 'following': None, 'follow_request_sent': None, 'notifications': None, 'translator_type': 'none'}, 'geo': None, 'coordinates': None, 'place': None, 'contributors': None, 'retweeted_status': {'created_at': 'Thu Aug 20 02:30:00 +0000 2020', 'id': 1296273246392737792, 'id_str': '1296273246392737792', 'text': 'so this segment is titled: \\n\"Characters i initially disliked but would now take a whole entire bullet for\" (Ferdie/… https://t.co/oZjSkBu3I8', 'truncated': True, 'entities': {'hashtags': [], 'symbols': [], 'user_mentions': [], 'urls': [{'url': 'https://t.co/oZjSkBu3I8', 'expanded_url': 'https://twitter.com/i/web/status/1296273246392737792', 'display_url': 'twitter.com/i/web/status/1…', 'indices': [117, 140]}]}, 'metadata': {'iso_language_code': 'en', 'result_type': 'recent'}, 'source': '<a href=\"https://mobile.twitter.com\" rel=\"nofollow\">Twitter Web App</a>', 'in_reply_to_status_id': None, 'in_reply_to_status_id_str': None, 'in_reply_to_user_id': None, 'in_reply_to_user_id_str': None, 'in_reply_to_screen_name': None, 'user': {'id': 833163618757718016, 'id_str': '833163618757718016', 'name': '･ﾟ✧ ✨♡ 𝒾𝓃𝒾𝑔𝑜’𝓈 𝓌𝒾𝒻𝑒 ♡✨ ･ﾟ✧', 'screen_name': 'LazzleDazzler', 'location': 'Hawai’i', 'description': '💙 𝕠𝕗𝕗𝕚𝕔𝕚𝕒𝕝 𝕨𝕚𝕗𝕖 𝕠𝕗 𝕚𝕟𝕚𝕘𝕠 𝕗𝕖 💙|| 𝕃𝕒𝕫𝕫𝕝𝕖/𝕄𝕚𝕥𝕤𝕦 ||日本語🆗|| h: @jackie_kawaii || DO NOT REPOST/USE MY ART. 💌:mitsumii90@gmail.com', 'url': 'https://t.co/FDJgbj6ovE', 'entities': {'url': {'urls': [{'url': 'https://t.co/FDJgbj6ovE', 'expanded_url': 'https://InigoTears.bigcartel.com', 'display_url': 'InigoTears.bigcartel.com', 'indices': [0, 23]}]}, 'description': {'urls': []}}, 'protected': False, 'followers_count': 12450, 'friends_count': 245, 'listed_count': 41, 'created_at': 'Sun Feb 19 03:57:40 +0000 2017', 'favourites_count': 5329, 'utc_offset': None, 'time_zone': None, 'geo_enabled': False, 'verified': False, 'statuses_count': 6241, 'lang': None, 'contributors_enabled': False, 'is_translator': False, 'is_translation_enabled': False, 'profile_background_color': '000000', 'profile_background_image_url': 'http://abs.twimg.com/images/themes/theme1/bg.png', 'profile_background_image_url_https': 'https://abs.twimg.com/images/themes/theme1/bg.png', 'profile_background_tile': False, 'profile_image_url': 'http://pbs.twimg.com/profile_images/1295919123814219776/bcH_IbEh_normal.jpg', 'profile_image_url_https': 'https://pbs.twimg.com/profile_images/1295919123814219776/bcH_IbEh_normal.jpg', 'profile_banner_url': 'https://pbs.twimg.com/profile_banners/833163618757718016/1507877725', 'profile_link_color': 'F58EA8', 'profile_sidebar_border_color': '000000', 'profile_sidebar_fill_color': '000000', 'profile_text_color': '000000', 'profile_use_background_image': False, 'has_extended_profile': True, 'default_profile': False, 'default_profile_image': False, 'following': None, 'follow_request_sent': None, 'notifications': None, 'translator_type': 'none'}, 'geo': None, 'coordinates': None, 'place': None, 'contributors': None, 'is_quote_status': False, 'retweet_count': 231, 'favorite_count': 601, 'favorited': False, 'retweeted': False, 'possibly_sensitive': False, 'lang': 'en'}, 'is_quote_status': False, 'retweet_count': 231, 'favorite_count': 0, 'favorited': False, 'retweeted': False, 'lang': 'en'}, created_at=datetime.datetime(2020, 8, 20, 7, 13, 39), id=1296344631114969088, id_str='1296344631114969088', text='RT @LazzleDazzler: so this segment is titled: \\n\"Characters i initially disliked but would now take a whole entire bullet for\" (Ferdie/Loren…', truncated=False, entities={'hashtags': [], 'symbols': [], 'user_mentions': [{'screen_name': 'LazzleDazzler', 'name': '･ﾟ✧ ✨♡ 𝒾𝓃𝒾𝑔𝑜’𝓈 𝓌𝒾𝒻𝑒 ♡✨ ･ﾟ✧', 'id': 833163618757718016, 'id_str': '833163618757718016', 'indices': [3, 17]}], 'urls': []}, metadata={'iso_language_code': 'en', 'result_type': 'recent'}, source='Twitter Web App', source_url='https://mobile.twitter.com', in_reply_to_status_id=None, in_reply_to_status_id_str=None, in_reply_to_user_id=None, in_reply_to_user_id_str=None, in_reply_to_screen_name=None, author=User(_api=<tweepy.api.API object at 0x7fdf854cc470>, _json={'id': 37332262, 'id_str': '37332262', 'name': 'Erika @ ESO', 'screen_name': 'kexira', 'location': 'USA, EST', 'description': 'She/her, white, bi, cis, mid-20s. Gigantic dork. Overly fond of emotions, stories, and music. Occasionally makes up stories or code. (i: @DrawnOutToSea)', 'url': None, 'entities': {'description': {'urls': []}}, 'protected': False, 'followers_count': 73, 'friends_count': 388, 'listed_count': 2, 'created_at': 'Sun May 03 01:32:09 +0000 2009', 'favourites_count': 52373, 'utc_offset': None, 'time_zone': None, 'geo_enabled': False, 'verified': False, 'statuses_count': 13325, 'lang': None, 'contributors_enabled': False, 'is_translator': False, 'is_translation_enabled': False, 'profile_background_color': '000000', 'profile_background_image_url': 'http://abs.twimg.com/images/themes/theme15/bg.png', 'profile_background_image_url_https': 'https://abs.twimg.com/images/themes/theme15/bg.png', 'profile_background_tile': False, 'profile_image_url': 'http://pbs.twimg.com/profile_images/1291307212414111744/wX4Rg3FM_normal.jpg', 'profile_image_url_https': 'https://pbs.twimg.com/profile_images/1291307212414111744/wX4Rg3FM_normal.jpg', 'profile_banner_url': 'https://pbs.twimg.com/profile_banners/37332262/1594445524', 'profile_link_color': '9266CC', 'profile_sidebar_border_color': '000000', 'profile_sidebar_fill_color': '000000', 'profile_text_color': '000000', 'profile_use_background_image': False, 'has_extended_profile': True, 'default_profile': False, 'default_profile_image': False, 'following': None, 'follow_request_sent': None, 'notifications': None, 'translator_type': 'none'}, id=37332262, id_str='37332262', name='Erika @ ESO', screen_name='kexira', location='USA, EST', description='She/her, white, bi, cis, mid-20s. Gigantic dork. Overly fond of emotions, stories, and music. Occasionally makes up stories or code. (i: @DrawnOutToSea)', url=None, entities={'description': {'urls': []}}, protected=False, followers_count=73, friends_count=388, listed_count=2, created_at=datetime.datetime(2009, 5, 3, 1, 32, 9), favourites_count=52373, utc_offset=None, time_zone=None, geo_enabled=False, verified=False, statuses_count=13325, lang=None, contributors_enabled=False, is_translator=False, is_translation_enabled=False, profile_background_color='000000', profile_background_image_url='http://abs.twimg.com/images/themes/theme15/bg.png', profile_background_image_url_https='https://abs.twimg.com/images/themes/theme15/bg.png', profile_background_tile=False, profile_image_url='http://pbs.twimg.com/profile_images/1291307212414111744/wX4Rg3FM_normal.jpg', profile_image_url_https='https://pbs.twimg.com/profile_images/1291307212414111744/wX4Rg3FM_normal.jpg', profile_banner_url='https://pbs.twimg.com/profile_banners/37332262/1594445524', profile_link_color='9266CC', profile_sidebar_border_color='000000', profile_sidebar_fill_color='000000', profile_text_color='000000', profile_use_background_image=False, has_extended_profile=True, default_profile=False, default_profile_image=False, following=False, follow_request_sent=None, notifications=None, translator_type='none'), user=User(_api=<tweepy.api.API object at 0x7fdf854cc470>, _json={'id': 37332262, 'id_str': '37332262', 'name': 'Erika @ ESO', 'screen_name': 'kexira', 'location': 'USA, EST', 'description': 'She/her, white, bi, cis, mid-20s. Gigantic dork. Overly fond of emotions, stories, and music. Occasionally makes up stories or code. (i: @DrawnOutToSea)', 'url': None, 'entities': {'description': {'urls': []}}, 'protected': False, 'followers_count': 73, 'friends_count': 388, 'listed_count': 2, 'created_at': 'Sun May 03 01:32:09 +0000 2009', 'favourites_count': 52373, 'utc_offset': None, 'time_zone': None, 'geo_enabled': False, 'verified': False, 'statuses_count': 13325, 'lang': None, 'contributors_enabled': False, 'is_translator': False, 'is_translation_enabled': False, 'profile_background_color': '000000', 'profile_background_image_url': 'http://abs.twimg.com/images/themes/theme15/bg.png', 'profile_background_image_url_https': 'https://abs.twimg.com/images/themes/theme15/bg.png', 'profile_background_tile': False, 'profile_image_url': 'http://pbs.twimg.com/profile_images/1291307212414111744/wX4Rg3FM_normal.jpg', 'profile_image_url_https': 'https://pbs.twimg.com/profile_images/1291307212414111744/wX4Rg3FM_normal.jpg', 'profile_banner_url': 'https://pbs.twimg.com/profile_banners/37332262/1594445524', 'profile_link_color': '9266CC', 'profile_sidebar_border_color': '000000', 'profile_sidebar_fill_color': '000000', 'profile_text_color': '000000', 'profile_use_background_image': False, 'has_extended_profile': True, 'default_profile': False, 'default_profile_image': False, 'following': None, 'follow_request_sent': None, 'notifications': None, 'translator_type': 'none'}, id=37332262, id_str='37332262', name='Erika @ ESO', screen_name='kexira', location='USA, EST', description='She/her, white, bi, cis, mid-20s. Gigantic dork. Overly fond of emotions, stories, and music. Occasionally makes up stories or code. (i: @DrawnOutToSea)', url=None, entities={'description': {'urls': []}}, protected=False, followers_count=73, friends_count=388, listed_count=2, created_at=datetime.datetime(2009, 5, 3, 1, 32, 9), favourites_count=52373, utc_offset=None, time_zone=None, geo_enabled=False, verified=False, statuses_count=13325, lang=None, contributors_enabled=False, is_translator=False, is_translation_enabled=False, profile_background_color='000000', profile_background_image_url='http://abs.twimg.com/images/themes/theme15/bg.png', profile_background_image_url_https='https://abs.twimg.com/images/themes/theme15/bg.png', profile_background_tile=False, profile_image_url='http://pbs.twimg.com/profile_images/1291307212414111744/wX4Rg3FM_normal.jpg', profile_image_url_https='https://pbs.twimg.com/profile_images/1291307212414111744/wX4Rg3FM_normal.jpg', profile_banner_url='https://pbs.twimg.com/profile_banners/37332262/1594445524', profile_link_color='9266CC', profile_sidebar_border_color='000000', profile_sidebar_fill_color='000000', profile_text_color='000000', profile_use_background_image=False, has_extended_profile=True, default_profile=False, default_profile_image=False, following=False, follow_request_sent=None, notifications=None, translator_type='none'), geo=None, coordinates=None, place=None, contributors=None, retweeted_status=Status(_api=<tweepy.api.API object at 0x7fdf854cc470>, _json={'created_at': 'Thu Aug 20 02:30:00 +0000 2020', 'id': 1296273246392737792, 'id_str': '1296273246392737792', 'text': 'so this segment is titled: \\n\"Characters i initially disliked but would now take a whole entire bullet for\" (Ferdie/… https://t.co/oZjSkBu3I8', 'truncated': True, 'entities': {'hashtags': [], 'symbols': [], 'user_mentions': [], 'urls': [{'url': 'https://t.co/oZjSkBu3I8', 'expanded_url': 'https://twitter.com/i/web/status/1296273246392737792', 'display_url': 'twitter.com/i/web/status/1…', 'indices': [117, 140]}]}, 'metadata': {'iso_language_code': 'en', 'result_type': 'recent'}, 'source': '<a href=\"https://mobile.twitter.com\" rel=\"nofollow\">Twitter Web App</a>', 'in_reply_to_status_id': None, 'in_reply_to_status_id_str': None, 'in_reply_to_user_id': None, 'in_reply_to_user_id_str': None, 'in_reply_to_screen_name': None, 'user': {'id': 833163618757718016, 'id_str': '833163618757718016', 'name': '･ﾟ✧ ✨♡ 𝒾𝓃𝒾𝑔𝑜’𝓈 𝓌𝒾𝒻𝑒 ♡✨ ･ﾟ✧', 'screen_name': 'LazzleDazzler', 'location': 'Hawai’i', 'description': '💙 𝕠𝕗𝕗𝕚𝕔𝕚𝕒𝕝 𝕨𝕚𝕗𝕖 𝕠𝕗 𝕚𝕟𝕚𝕘𝕠 𝕗𝕖 💙|| 𝕃𝕒𝕫𝕫𝕝𝕖/𝕄𝕚𝕥𝕤𝕦 ||日本語🆗|| h: @jackie_kawaii || DO NOT REPOST/USE MY ART. 💌:mitsumii90@gmail.com', 'url': 'https://t.co/FDJgbj6ovE', 'entities': {'url': {'urls': [{'url': 'https://t.co/FDJgbj6ovE', 'expanded_url': 'https://InigoTears.bigcartel.com', 'display_url': 'InigoTears.bigcartel.com', 'indices': [0, 23]}]}, 'description': {'urls': []}}, 'protected': False, 'followers_count': 12450, 'friends_count': 245, 'listed_count': 41, 'created_at': 'Sun Feb 19 03:57:40 +0000 2017', 'favourites_count': 5329, 'utc_offset': None, 'time_zone': None, 'geo_enabled': False, 'verified': False, 'statuses_count': 6241, 'lang': None, 'contributors_enabled': False, 'is_translator': False, 'is_translation_enabled': False, 'profile_background_color': '000000', 'profile_background_image_url': 'http://abs.twimg.com/images/themes/theme1/bg.png', 'profile_background_image_url_https': 'https://abs.twimg.com/images/themes/theme1/bg.png', 'profile_background_tile': False, 'profile_image_url': 'http://pbs.twimg.com/profile_images/1295919123814219776/bcH_IbEh_normal.jpg', 'profile_image_url_https': 'https://pbs.twimg.com/profile_images/1295919123814219776/bcH_IbEh_normal.jpg', 'profile_banner_url': 'https://pbs.twimg.com/profile_banners/833163618757718016/1507877725', 'profile_link_color': 'F58EA8', 'profile_sidebar_border_color': '000000', 'profile_sidebar_fill_color': '000000', 'profile_text_color': '000000', 'profile_use_background_image': False, 'has_extended_profile': True, 'default_profile': False, 'default_profile_image': False, 'following': None, 'follow_request_sent': None, 'notifications': None, 'translator_type': 'none'}, 'geo': None, 'coordinates': None, 'place': None, 'contributors': None, 'is_quote_status': False, 'retweet_count': 231, 'favorite_count': 601, 'favorited': False, 'retweeted': False, 'possibly_sensitive': False, 'lang': 'en'}, created_at=datetime.datetime(2020, 8, 20, 2, 30), id=1296273246392737792, id_str='1296273246392737792', text='so this segment is titled: \\n\"Characters i initially disliked but would now take a whole entire bullet for\" (Ferdie/… https://t.co/oZjSkBu3I8', truncated=True, entities={'hashtags': [], 'symbols': [], 'user_mentions': [], 'urls': [{'url': 'https://t.co/oZjSkBu3I8', 'expanded_url': 'https://twitter.com/i/web/status/1296273246392737792', 'display_url': 'twitter.com/i/web/status/1…', 'indices': [117, 140]}]}, metadata={'iso_language_code': 'en', 'result_type': 'recent'}, source='Twitter Web App', source_url='https://mobile.twitter.com', in_reply_to_status_id=None, in_reply_to_status_id_str=None, in_reply_to_user_id=None, in_reply_to_user_id_str=None, in_reply_to_screen_name=None, author=User(_api=<tweepy.api.API object at 0x7fdf854cc470>, _json={'id': 833163618757718016, 'id_str': '833163618757718016', 'name': '･ﾟ✧ ✨♡ 𝒾𝓃𝒾𝑔𝑜’𝓈 𝓌𝒾𝒻𝑒 ♡✨ ･ﾟ✧', 'screen_name': 'LazzleDazzler', 'location': 'Hawai’i', 'description': '💙 𝕠𝕗𝕗𝕚𝕔𝕚𝕒𝕝 𝕨𝕚𝕗𝕖 𝕠𝕗 𝕚𝕟𝕚𝕘𝕠 𝕗𝕖 💙|| 𝕃𝕒𝕫𝕫𝕝𝕖/𝕄𝕚𝕥𝕤𝕦 ||日本語🆗|| h: @jackie_kawaii || DO NOT REPOST/USE MY ART. 💌:mitsumii90@gmail.com', 'url': 'https://t.co/FDJgbj6ovE', 'entities': {'url': {'urls': [{'url': 'https://t.co/FDJgbj6ovE', 'expanded_url': 'https://InigoTears.bigcartel.com', 'display_url': 'InigoTears.bigcartel.com', 'indices': [0, 23]}]}, 'description': {'urls': []}}, 'protected': False, 'followers_count': 12450, 'friends_count': 245, 'listed_count': 41, 'created_at': 'Sun Feb 19 03:57:40 +0000 2017', 'favourites_count': 5329, 'utc_offset': None, 'time_zone': None, 'geo_enabled': False, 'verified': False, 'statuses_count': 6241, 'lang': None, 'contributors_enabled': False, 'is_translator': False, 'is_translation_enabled': False, 'profile_background_color': '000000', 'profile_background_image_url': 'http://abs.twimg.com/images/themes/theme1/bg.png', 'profile_background_image_url_https': 'https://abs.twimg.com/images/themes/theme1/bg.png', 'profile_background_tile': False, 'profile_image_url': 'http://pbs.twimg.com/profile_images/1295919123814219776/bcH_IbEh_normal.jpg', 'profile_image_url_https': 'https://pbs.twimg.com/profile_images/1295919123814219776/bcH_IbEh_normal.jpg', 'profile_banner_url': 'https://pbs.twimg.com/profile_banners/833163618757718016/1507877725', 'profile_link_color': 'F58EA8', 'profile_sidebar_border_color': '000000', 'profile_sidebar_fill_color': '000000', 'profile_text_color': '000000', 'profile_use_background_image': False, 'has_extended_profile': True, 'default_profile': False, 'default_profile_image': False, 'following': None, 'follow_request_sent': None, 'notifications': None, 'translator_type': 'none'}, id=833163618757718016, id_str='833163618757718016', name='･ﾟ✧ ✨♡ 𝒾𝓃𝒾𝑔𝑜’𝓈 𝓌𝒾𝒻𝑒 ♡✨ ･ﾟ✧', screen_name='LazzleDazzler', location='Hawai’i', description='💙 𝕠𝕗𝕗𝕚𝕔𝕚𝕒𝕝 𝕨𝕚𝕗𝕖 𝕠𝕗 𝕚𝕟𝕚𝕘𝕠 𝕗𝕖 💙|| 𝕃𝕒𝕫𝕫𝕝𝕖/𝕄𝕚𝕥𝕤𝕦 ||日本語🆗|| h: @jackie_kawaii || DO NOT REPOST/USE MY ART. 💌:mitsumii90@gmail.com', url='https://t.co/FDJgbj6ovE', entities={'url': {'urls': [{'url': 'https://t.co/FDJgbj6ovE', 'expanded_url': 'https://InigoTears.bigcartel.com', 'display_url': 'InigoTears.bigcartel.com', 'indices': [0, 23]}]}, 'description': {'urls': []}}, protected=False, followers_count=12450, friends_count=245, listed_count=41, created_at=datetime.datetime(2017, 2, 19, 3, 57, 40), favourites_count=5329, utc_offset=None, time_zone=None, geo_enabled=False, verified=False, statuses_count=6241, lang=None, contributors_enabled=False, is_translator=False, is_translation_enabled=False, profile_background_color='000000', profile_background_image_url='http://abs.twimg.com/images/themes/theme1/bg.png', profile_background_image_url_https='https://abs.twimg.com/images/themes/theme1/bg.png', profile_background_tile=False, profile_image_url='http://pbs.twimg.com/profile_images/1295919123814219776/bcH_IbEh_normal.jpg', profile_image_url_https='https://pbs.twimg.com/profile_images/1295919123814219776/bcH_IbEh_normal.jpg', profile_banner_url='https://pbs.twimg.com/profile_banners/833163618757718016/1507877725', profile_link_color='F58EA8', profile_sidebar_border_color='000000', profile_sidebar_fill_color='000000', profile_text_color='000000', profile_use_background_image=False, has_extended_profile=True, default_profile=False, default_profile_image=False, following=False, follow_request_sent=None, notifications=None, translator_type='none'), user=User(_api=<tweepy.api.API object at 0x7fdf854cc470>, _json={'id': 833163618757718016, 'id_str': '833163618757718016', 'name': '･ﾟ✧ ✨♡ 𝒾𝓃𝒾𝑔𝑜’𝓈 𝓌𝒾𝒻𝑒 ♡✨ ･ﾟ✧', 'screen_name': 'LazzleDazzler', 'location': 'Hawai’i', 'description': '💙 𝕠𝕗𝕗𝕚𝕔𝕚𝕒𝕝 𝕨𝕚𝕗𝕖 𝕠𝕗 𝕚𝕟𝕚𝕘𝕠 𝕗𝕖 💙|| 𝕃𝕒𝕫𝕫𝕝𝕖/𝕄𝕚𝕥𝕤𝕦 ||日本語🆗|| h: @jackie_kawaii || DO NOT REPOST/USE MY ART. 💌:mitsumii90@gmail.com', 'url': 'https://t.co/FDJgbj6ovE', 'entities': {'url': {'urls': [{'url': 'https://t.co/FDJgbj6ovE', 'expanded_url': 'https://InigoTears.bigcartel.com', 'display_url': 'InigoTears.bigcartel.com', 'indices': [0, 23]}]}, 'description': {'urls': []}}, 'protected': False, 'followers_count': 12450, 'friends_count': 245, 'listed_count': 41, 'created_at': 'Sun Feb 19 03:57:40 +0000 2017', 'favourites_count': 5329, 'utc_offset': None, 'time_zone': None, 'geo_enabled': False, 'verified': False, 'statuses_count': 6241, 'lang': None, 'contributors_enabled': False, 'is_translator': False, 'is_translation_enabled': False, 'profile_background_color': '000000', 'profile_background_image_url': 'http://abs.twimg.com/images/themes/theme1/bg.png', 'profile_background_image_url_https': 'https://abs.twimg.com/images/themes/theme1/bg.png', 'profile_background_tile': False, 'profile_image_url': 'http://pbs.twimg.com/profile_images/1295919123814219776/bcH_IbEh_normal.jpg', 'profile_image_url_https': 'https://pbs.twimg.com/profile_images/1295919123814219776/bcH_IbEh_normal.jpg', 'profile_banner_url': 'https://pbs.twimg.com/profile_banners/833163618757718016/1507877725', 'profile_link_color': 'F58EA8', 'profile_sidebar_border_color': '000000', 'profile_sidebar_fill_color': '000000', 'profile_text_color': '000000', 'profile_use_background_image': False, 'has_extended_profile': True, 'default_profile': False, 'default_profile_image': False, 'following': None, 'follow_request_sent': None, 'notifications': None, 'translator_type': 'none'}, id=833163618757718016, id_str='833163618757718016', name='･ﾟ✧ ✨♡ 𝒾𝓃𝒾𝑔𝑜’𝓈 𝓌𝒾𝒻𝑒 ♡✨ ･ﾟ✧', screen_name='LazzleDazzler', location='Hawai’i', description='💙 𝕠𝕗𝕗𝕚𝕔𝕚𝕒𝕝 𝕨𝕚𝕗𝕖 𝕠𝕗 𝕚𝕟𝕚𝕘𝕠 𝕗𝕖 💙|| 𝕃𝕒𝕫𝕫𝕝𝕖/𝕄𝕚𝕥𝕤𝕦 ||日本語🆗|| h: @jackie_kawaii || DO NOT REPOST/USE MY ART. 💌:mitsumii90@gmail.com', url='https://t.co/FDJgbj6ovE', entities={'url': {'urls': [{'url': 'https://t.co/FDJgbj6ovE', 'expanded_url': 'https://InigoTears.bigcartel.com', 'display_url': 'InigoTears.bigcartel.com', 'indices': [0, 23]}]}, 'description': {'urls': []}}, protected=False, followers_count=12450, friends_count=245, listed_count=41, created_at=datetime.datetime(2017, 2, 19, 3, 57, 40), favourites_count=5329, utc_offset=None, time_zone=None, geo_enabled=False, verified=False, statuses_count=6241, lang=None, contributors_enabled=False, is_translator=False, is_translation_enabled=False, profile_background_color='000000', profile_background_image_url='http://abs.twimg.com/images/themes/theme1/bg.png', profile_background_image_url_https='https://abs.twimg.com/images/themes/theme1/bg.png', profile_background_tile=False, profile_image_url='http://pbs.twimg.com/profile_images/1295919123814219776/bcH_IbEh_normal.jpg', profile_image_url_https='https://pbs.twimg.com/profile_images/1295919123814219776/bcH_IbEh_normal.jpg', profile_banner_url='https://pbs.twimg.com/profile_banners/833163618757718016/1507877725', profile_link_color='F58EA8', profile_sidebar_border_color='000000', profile_sidebar_fill_color='000000', profile_text_color='000000', profile_use_background_image=False, has_extended_profile=True, default_profile=False, default_profile_image=False, following=False, follow_request_sent=None, notifications=None, translator_type='none'), geo=None, coordinates=None, place=None, contributors=None, is_quote_status=False, retweet_count=231, favorite_count=601, favorited=False, retweeted=False, possibly_sensitive=False, lang='en'), is_quote_status=False, retweet_count=231, favorite_count=0, favorited=False, retweeted=False, lang='en'), Status(_api=<tweepy.api.API object at 0x7fdf854cc470>, _json={'created_at': 'Thu Aug 20 07:13:39 +0000 2020', 'id': 1296344629810548738, 'id_str': '1296344629810548738', 'text': \"I'm asking cause a major change for me is I have a job now, so I have an income. But I have hardly any time for com… https://t.co/7C99QaXHCX\", 'truncated': True, 'entities': {'hashtags': [], 'symbols': [], 'user_mentions': [], 'urls': [{'url': 'https://t.co/7C99QaXHCX', 'expanded_url': 'https://twitter.com/i/web/status/1296344629810548738', 'display_url': 'twitter.com/i/web/status/1…', 'indices': [117, 140]}]}, 'metadata': {'iso_language_code': 'en', 'result_type': 'recent'}, 'source': '<a href=\"http://twitter.com/download/android\" rel=\"nofollow\">Twitter for Android</a>', 'in_reply_to_status_id': 1296343870343655431, 'in_reply_to_status_id_str': '1296343870343655431', 'in_reply_to_user_id': 23073539, 'in_reply_to_user_id_str': '23073539', 'in_reply_to_screen_name': 'MamboCat84', 'user': {'id': 23073539, 'id_str': '23073539', 'name': 'Claire ❤🏹', 'screen_name': 'MamboCat84', 'location': 'Bristol, England', 'description': '36 | she/her or they/them | I colour stuff for @SonictheComicUK | Email: claire.rhino@gmail.com | Icon by @TheDuckGod', 'url': 'https://t.co/1gIoisvCDy', 'entities': {'url': {'urls': [{'url': 'https://t.co/1gIoisvCDy', 'expanded_url': 'https://mambocat.carbonmade.com/', 'display_url': 'mambocat.carbonmade.com', 'indices': [0, 23]}]}, 'description': {'urls': []}}, 'protected': False, 'followers_count': 410, 'friends_count': 717, 'listed_count': 3, 'created_at': 'Fri Mar 06 15:03:40 +0000 2009', 'favourites_count': 73612, 'utc_offset': None, 'time_zone': None, 'geo_enabled': True, 'verified': False, 'statuses_count': 15856, 'lang': None, 'contributors_enabled': False, 'is_translator': False, 'is_translation_enabled': False, 'profile_background_color': 'EBEBEB', 'profile_background_image_url': 'http://abs.twimg.com/images/themes/theme7/bg.gif', 'profile_background_image_url_https': 'https://abs.twimg.com/images/themes/theme7/bg.gif', 'profile_background_tile': True, 'profile_image_url': 'http://pbs.twimg.com/profile_images/1290609359324676098/KMBv-FXn_normal.jpg', 'profile_image_url_https': 'https://pbs.twimg.com/profile_images/1290609359324676098/KMBv-FXn_normal.jpg', 'profile_banner_url': 'https://pbs.twimg.com/profile_banners/23073539/1561576197', 'profile_link_color': 'CD0000', 'profile_sidebar_border_color': 'FFFFFF', 'profile_sidebar_fill_color': 'FFFFFF', 'profile_text_color': '333333', 'profile_use_background_image': True, 'has_extended_profile': True, 'default_profile': False, 'default_profile_image': False, 'following': None, 'follow_request_sent': None, 'notifications': None, 'translator_type': 'none'}, 'geo': None, 'coordinates': None, 'place': None, 'contributors': None, 'is_quote_status': False, 'retweet_count': 0, 'favorite_count': 0, 'favorited': False, 'retweeted': False, 'lang': 'en'}, created_at=datetime.datetime(2020, 8, 20, 7, 13, 39), id=1296344629810548738, id_str='1296344629810548738', text=\"I'm asking cause a major change for me is I have a job now, so I have an income. But I have hardly any time for com… https://t.co/7C99QaXHCX\", truncated=True, entities={'hashtags': [], 'symbols': [], 'user_mentions': [], 'urls': [{'url': 'https://t.co/7C99QaXHCX', 'expanded_url': 'https://twitter.com/i/web/status/1296344629810548738', 'display_url': 'twitter.com/i/web/status/1…', 'indices': [117, 140]}]}, metadata={'iso_language_code': 'en', 'result_type': 'recent'}, source='Twitter for Android', source_url='http://twitter.com/download/android', in_reply_to_status_id=1296343870343655431, in_reply_to_status_id_str='1296343870343655431', in_reply_to_user_id=23073539, in_reply_to_user_id_str='23073539', in_reply_to_screen_name='MamboCat84', author=User(_api=<tweepy.api.API object at 0x7fdf854cc470>, _json={'id': 23073539, 'id_str': '23073539', 'name': 'Claire ❤🏹', 'screen_name': 'MamboCat84', 'location': 'Bristol, England', 'description': '36 | she/her or they/them | I colour stuff for @SonictheComicUK | Email: claire.rhino@gmail.com | Icon by @TheDuckGod', 'url': 'https://t.co/1gIoisvCDy', 'entities': {'url': {'urls': [{'url': 'https://t.co/1gIoisvCDy', 'expanded_url': 'https://mambocat.carbonmade.com/', 'display_url': 'mambocat.carbonmade.com', 'indices': [0, 23]}]}, 'description': {'urls': []}}, 'protected': False, 'followers_count': 410, 'friends_count': 717, 'listed_count': 3, 'created_at': 'Fri Mar 06 15:03:40 +0000 2009', 'favourites_count': 73612, 'utc_offset': None, 'time_zone': None, 'geo_enabled': True, 'verified': False, 'statuses_count': 15856, 'lang': None, 'contributors_enabled': False, 'is_translator': False, 'is_translation_enabled': False, 'profile_background_color': 'EBEBEB', 'profile_background_image_url': 'http://abs.twimg.com/images/themes/theme7/bg.gif', 'profile_background_image_url_https': 'https://abs.twimg.com/images/themes/theme7/bg.gif', 'profile_background_tile': True, 'profile_image_url': 'http://pbs.twimg.com/profile_images/1290609359324676098/KMBv-FXn_normal.jpg', 'profile_image_url_https': 'https://pbs.twimg.com/profile_images/1290609359324676098/KMBv-FXn_normal.jpg', 'profile_banner_url': 'https://pbs.twimg.com/profile_banners/23073539/1561576197', 'profile_link_color': 'CD0000', 'profile_sidebar_border_color': 'FFFFFF', 'profile_sidebar_fill_color': 'FFFFFF', 'profile_text_color': '333333', 'profile_use_background_image': True, 'has_extended_profile': True, 'default_profile': False, 'default_profile_image': False, 'following': None, 'follow_request_sent': None, 'notifications': None, 'translator_type': 'none'}, id=23073539, id_str='23073539', name='Claire ❤🏹', screen_name='MamboCat84', location='Bristol, England', description='36 | she/her or they/them | I colour stuff for @SonictheComicUK | Email: claire.rhino@gmail.com | Icon by @TheDuckGod', url='https://t.co/1gIoisvCDy', entities={'url': {'urls': [{'url': 'https://t.co/1gIoisvCDy', 'expanded_url': 'https://mambocat.carbonmade.com/', 'display_url': 'mambocat.carbonmade.com', 'indices': [0, 23]}]}, 'description': {'urls': []}}, protected=False, followers_count=410, friends_count=717, listed_count=3, created_at=datetime.datetime(2009, 3, 6, 15, 3, 40), favourites_count=73612, utc_offset=None, time_zone=None, geo_enabled=True, verified=False, statuses_count=15856, lang=None, contributors_enabled=False, is_translator=False, is_translation_enabled=False, profile_background_color='EBEBEB', profile_background_image_url='http://abs.twimg.com/images/themes/theme7/bg.gif', profile_background_image_url_https='https://abs.twimg.com/images/themes/theme7/bg.gif', profile_background_tile=True, profile_image_url='http://pbs.twimg.com/profile_images/1290609359324676098/KMBv-FXn_normal.jpg', profile_image_url_https='https://pbs.twimg.com/profile_images/1290609359324676098/KMBv-FXn_normal.jpg', profile_banner_url='https://pbs.twimg.com/profile_banners/23073539/1561576197', profile_link_color='CD0000', profile_sidebar_border_color='FFFFFF', profile_sidebar_fill_color='FFFFFF', profile_text_color='333333', profile_use_background_image=True, has_extended_profile=True, default_profile=False, default_profile_image=False, following=False, follow_request_sent=None, notifications=None, translator_type='none'), user=User(_api=<tweepy.api.API object at 0x7fdf854cc470>, _json={'id': 23073539, 'id_str': '23073539', 'name': 'Claire ❤🏹', 'screen_name': 'MamboCat84', 'location': 'Bristol, England', 'description': '36 | she/her or they/them | I colour stuff for @SonictheComicUK | Email: claire.rhino@gmail.com | Icon by @TheDuckGod', 'url': 'https://t.co/1gIoisvCDy', 'entities': {'url': {'urls': [{'url': 'https://t.co/1gIoisvCDy', 'expanded_url': 'https://mambocat.carbonmade.com/', 'display_url': 'mambocat.carbonmade.com', 'indices': [0, 23]}]}, 'description': {'urls': []}}, 'protected': False, 'followers_count': 410, 'friends_count': 717, 'listed_count': 3, 'created_at': 'Fri Mar 06 15:03:40 +0000 2009', 'favourites_count': 73612, 'utc_offset': None, 'time_zone': None, 'geo_enabled': True, 'verified': False, 'statuses_count': 15856, 'lang': None, 'contributors_enabled': False, 'is_translator': False, 'is_translation_enabled': False, 'profile_background_color': 'EBEBEB', 'profile_background_image_url': 'http://abs.twimg.com/images/themes/theme7/bg.gif', 'profile_background_image_url_https': 'https://abs.twimg.com/images/themes/theme7/bg.gif', 'profile_background_tile': True, 'profile_image_url': 'http://pbs.twimg.com/profile_images/1290609359324676098/KMBv-FXn_normal.jpg', 'profile_image_url_https': 'https://pbs.twimg.com/profile_images/1290609359324676098/KMBv-FXn_normal.jpg', 'profile_banner_url': 'https://pbs.twimg.com/profile_banners/23073539/1561576197', 'profile_link_color': 'CD0000', 'profile_sidebar_border_color': 'FFFFFF', 'profile_sidebar_fill_color': 'FFFFFF', 'profile_text_color': '333333', 'profile_use_background_image': True, 'has_extended_profile': True, 'default_profile': False, 'default_profile_image': False, 'following': None, 'follow_request_sent': None, 'notifications': None, 'translator_type': 'none'}, id=23073539, id_str='23073539', name='Claire ❤🏹', screen_name='MamboCat84', location='Bristol, England', description='36 | she/her or they/them | I colour stuff for @SonictheComicUK | Email: claire.rhino@gmail.com | Icon by @TheDuckGod', url='https://t.co/1gIoisvCDy', entities={'url': {'urls': [{'url': 'https://t.co/1gIoisvCDy', 'expanded_url': 'https://mambocat.carbonmade.com/', 'display_url': 'mambocat.carbonmade.com', 'indices': [0, 23]}]}, 'description': {'urls': []}}, protected=False, followers_count=410, friends_count=717, listed_count=3, created_at=datetime.datetime(2009, 3, 6, 15, 3, 40), favourites_count=73612, utc_offset=None, time_zone=None, geo_enabled=True, verified=False, statuses_count=15856, lang=None, contributors_enabled=False, is_translator=False, is_translation_enabled=False, profile_background_color='EBEBEB', profile_background_image_url='http://abs.twimg.com/images/themes/theme7/bg.gif', profile_background_image_url_https='https://abs.twimg.com/images/themes/theme7/bg.gif', profile_background_tile=True, profile_image_url='http://pbs.twimg.com/profile_images/1290609359324676098/KMBv-FXn_normal.jpg', profile_image_url_https='https://pbs.twimg.com/profile_images/1290609359324676098/KMBv-FXn_normal.jpg', profile_banner_url='https://pbs.twimg.com/profile_banners/23073539/1561576197', profile_link_color='CD0000', profile_sidebar_border_color='FFFFFF', profile_sidebar_fill_color='FFFFFF', profile_text_color='333333', profile_use_background_image=True, has_extended_profile=True, default_profile=False, default_profile_image=False, following=False, follow_request_sent=None, notifications=None, translator_type='none'), geo=None, coordinates=None, place=None, contributors=None, is_quote_status=False, retweet_count=0, favorite_count=0, favorited=False, retweeted=False, lang='en'), Status(_api=<tweepy.api.API object at 0x7fdf854cc470>, _json={'created_at': 'Thu Aug 20 07:13:38 +0000 2020', 'id': 1296344627688148994, 'id_str': '1296344627688148994', 'text': 'The legends of Korra is so good, they’re talking about the Harmonic Convergence on here', 'truncated': False, 'entities': {'hashtags': [], 'symbols': [], 'user_mentions': [], 'urls': []}, 'metadata': {'iso_language_code': 'en', 'result_type': 'recent'}, 'source': '<a href=\"http://twitter.com/download/iphone\" rel=\"nofollow\">Twitter for iPhone</a>', 'in_reply_to_status_id': None, 'in_reply_to_status_id_str': None, 'in_reply_to_user_id': None, 'in_reply_to_user_id_str': None, 'in_reply_to_screen_name': None, 'user': {'id': 229686473, 'id_str': '229686473', 'name': '\\U0001f9de\\u200d♀️𝕊𝔸𝔾 𝔹𝔸𝔹𝔼\\U0001f9de\\u200d♀️', 'screen_name': 'SagittarianBae', 'location': '', 'description': 'IG:@sagittarianbae| #clairsentientempath #herbalist #natureheals #astrobabe 𝐸𝑎𝑟𝑡ℎ 𝐴𝑛𝑔𝑒𝑙 meets Super Nova. Rising in Aries, crying in 𝑐𝑎𝑛𝑐𝑒𝑟', 'url': 'https://t.co/BYuhWkznk0', 'entities': {'url': {'urls': [{'url': 'https://t.co/BYuhWkznk0', 'expanded_url': 'https://linktr.ee/sagittarianbae', 'display_url': 'linktr.ee/sagittarianbae', 'indices': [0, 23]}]}, 'description': {'urls': []}}, 'protected': False, 'followers_count': 841, 'friends_count': 146, 'listed_count': 7, 'created_at': 'Thu Dec 23 02:10:26 +0000 2010', 'favourites_count': 16212, 'utc_offset': None, 'time_zone': None, 'geo_enabled': True, 'verified': False, 'statuses_count': 34393, 'lang': None, 'contributors_enabled': False, 'is_translator': False, 'is_translation_enabled': False, 'profile_background_color': '0F0E0E', 'profile_background_image_url': 'http://abs.twimg.com/images/themes/theme9/bg.gif', 'profile_background_image_url_https': 'https://abs.twimg.com/images/themes/theme9/bg.gif', 'profile_background_tile': True, 'profile_image_url': 'http://pbs.twimg.com/profile_images/1293043589640003586/1HD8CgWy_normal.jpg', 'profile_image_url_https': 'https://pbs.twimg.com/profile_images/1293043589640003586/1HD8CgWy_normal.jpg', 'profile_banner_url': 'https://pbs.twimg.com/profile_banners/229686473/1445357369', 'profile_link_color': 'CF4752', 'profile_sidebar_border_color': '080A0F', 'profile_sidebar_fill_color': '000000', 'profile_text_color': 'D96262', 'profile_use_background_image': True, 'has_extended_profile': True, 'default_profile': False, 'default_profile_image': False, 'following': None, 'follow_request_sent': None, 'notifications': None, 'translator_type': 'none'}, 'geo': None, 'coordinates': None, 'place': None, 'contributors': None, 'is_quote_status': False, 'retweet_count': 0, 'favorite_count': 0, 'favorited': False, 'retweeted': False, 'lang': 'en'}, created_at=datetime.datetime(2020, 8, 20, 7, 13, 38), id=1296344627688148994, id_str='1296344627688148994', text='The legends of Korra is so good, they’re talking about the Harmonic Convergence on here', truncated=False, entities={'hashtags': [], 'symbols': [], 'user_mentions': [], 'urls': []}, metadata={'iso_language_code': 'en', 'result_type': 'recent'}, source='Twitter for iPhone', source_url='http://twitter.com/download/iphone', in_reply_to_status_id=None, in_reply_to_status_id_str=None, in_reply_to_user_id=None, in_reply_to_user_id_str=None, in_reply_to_screen_name=None, author=User(_api=<tweepy.api.API object at 0x7fdf854cc470>, _json={'id': 229686473, 'id_str': '229686473', 'name': '\\U0001f9de\\u200d♀️𝕊𝔸𝔾 𝔹𝔸𝔹𝔼\\U0001f9de\\u200d♀️', 'screen_name': 'SagittarianBae', 'location': '', 'description': 'IG:@sagittarianbae| #clairsentientempath #herbalist #natureheals #astrobabe 𝐸𝑎𝑟𝑡ℎ 𝐴𝑛𝑔𝑒𝑙 meets Super Nova. Rising in Aries, crying in 𝑐𝑎𝑛𝑐𝑒𝑟', 'url': 'https://t.co/BYuhWkznk0', 'entities': {'url': {'urls': [{'url': 'https://t.co/BYuhWkznk0', 'expanded_url': 'https://linktr.ee/sagittarianbae', 'display_url': 'linktr.ee/sagittarianbae', 'indices': [0, 23]}]}, 'description': {'urls': []}}, 'protected': False, 'followers_count': 841, 'friends_count': 146, 'listed_count': 7, 'created_at': 'Thu Dec 23 02:10:26 +0000 2010', 'favourites_count': 16212, 'utc_offset': None, 'time_zone': None, 'geo_enabled': True, 'verified': False, 'statuses_count': 34393, 'lang': None, 'contributors_enabled': False, 'is_translator': False, 'is_translation_enabled': False, 'profile_background_color': '0F0E0E', 'profile_background_image_url': 'http://abs.twimg.com/images/themes/theme9/bg.gif', 'profile_background_image_url_https': 'https://abs.twimg.com/images/themes/theme9/bg.gif', 'profile_background_tile': True, 'profile_image_url': 'http://pbs.twimg.com/profile_images/1293043589640003586/1HD8CgWy_normal.jpg', 'profile_image_url_https': 'https://pbs.twimg.com/profile_images/1293043589640003586/1HD8CgWy_normal.jpg', 'profile_banner_url': 'https://pbs.twimg.com/profile_banners/229686473/1445357369', 'profile_link_color': 'CF4752', 'profile_sidebar_border_color': '080A0F', 'profile_sidebar_fill_color': '000000', 'profile_text_color': 'D96262', 'profile_use_background_image': True, 'has_extended_profile': True, 'default_profile': False, 'default_profile_image': False, 'following': None, 'follow_request_sent': None, 'notifications': None, 'translator_type': 'none'}, id=229686473, id_str='229686473', name='\\U0001f9de\\u200d♀️𝕊𝔸𝔾 𝔹𝔸𝔹𝔼\\U0001f9de\\u200d♀️', screen_name='SagittarianBae', location='', description='IG:@sagittarianbae| #clairsentientempath #herbalist #natureheals #astrobabe 𝐸𝑎𝑟𝑡ℎ 𝐴𝑛𝑔𝑒𝑙 meets Super Nova. Rising in Aries, crying in 𝑐𝑎𝑛𝑐𝑒𝑟', url='https://t.co/BYuhWkznk0', entities={'url': {'urls': [{'url': 'https://t.co/BYuhWkznk0', 'expanded_url': 'https://linktr.ee/sagittarianbae', 'display_url': 'linktr.ee/sagittarianbae', 'indices': [0, 23]}]}, 'description': {'urls': []}}, protected=False, followers_count=841, friends_count=146, listed_count=7, created_at=datetime.datetime(2010, 12, 23, 2, 10, 26), favourites_count=16212, utc_offset=None, time_zone=None, geo_enabled=True, verified=False, statuses_count=34393, lang=None, contributors_enabled=False, is_translator=False, is_translation_enabled=False, profile_background_color='0F0E0E', profile_background_image_url='http://abs.twimg.com/images/themes/theme9/bg.gif', profile_background_image_url_https='https://abs.twimg.com/images/themes/theme9/bg.gif', profile_background_tile=True, profile_image_url='http://pbs.twimg.com/profile_images/1293043589640003586/1HD8CgWy_normal.jpg', profile_image_url_https='https://pbs.twimg.com/profile_images/1293043589640003586/1HD8CgWy_normal.jpg', profile_banner_url='https://pbs.twimg.com/profile_banners/229686473/1445357369', profile_link_color='CF4752', profile_sidebar_border_color='080A0F', profile_sidebar_fill_color='000000', profile_text_color='D96262', profile_use_background_image=True, has_extended_profile=True, default_profile=False, default_profile_image=False, following=False, follow_request_sent=None, notifications=None, translator_type='none'), user=User(_api=<tweepy.api.API object at 0x7fdf854cc470>, _json={'id': 229686473, 'id_str': '229686473', 'name': '\\U0001f9de\\u200d♀️𝕊𝔸𝔾 𝔹𝔸𝔹𝔼\\U0001f9de\\u200d♀️', 'screen_name': 'SagittarianBae', 'location': '', 'description': 'IG:@sagittarianbae| #clairsentientempath #herbalist #natureheals #astrobabe 𝐸𝑎𝑟𝑡ℎ 𝐴𝑛𝑔𝑒𝑙 meets Super Nova. Rising in Aries, crying in 𝑐𝑎𝑛𝑐𝑒𝑟', 'url': 'https://t.co/BYuhWkznk0', 'entities': {'url': {'urls': [{'url': 'https://t.co/BYuhWkznk0', 'expanded_url': 'https://linktr.ee/sagittarianbae', 'display_url': 'linktr.ee/sagittarianbae', 'indices': [0, 23]}]}, 'description': {'urls': []}}, 'protected': False, 'followers_count': 841, 'friends_count': 146, 'listed_count': 7, 'created_at': 'Thu Dec 23 02:10:26 +0000 2010', 'favourites_count': 16212, 'utc_offset': None, 'time_zone': None, 'geo_enabled': True, 'verified': False, 'statuses_count': 34393, 'lang': None, 'contributors_enabled': False, 'is_translator': False, 'is_translation_enabled': False, 'profile_background_color': '0F0E0E', 'profile_background_image_url': 'http://abs.twimg.com/images/themes/theme9/bg.gif', 'profile_background_image_url_https': 'https://abs.twimg.com/images/themes/theme9/bg.gif', 'profile_background_tile': True, 'profile_image_url': 'http://pbs.twimg.com/profile_images/1293043589640003586/1HD8CgWy_normal.jpg', 'profile_image_url_https': 'https://pbs.twimg.com/profile_images/1293043589640003586/1HD8CgWy_normal.jpg', 'profile_banner_url': 'https://pbs.twimg.com/profile_banners/229686473/1445357369', 'profile_link_color': 'CF4752', 'profile_sidebar_border_color': '080A0F', 'profile_sidebar_fill_color': '000000', 'profile_text_color': 'D96262', 'profile_use_background_image': True, 'has_extended_profile': True, 'default_profile': False, 'default_profile_image': False, 'following': None, 'follow_request_sent': None, 'notifications': None, 'translator_type': 'none'}, id=229686473, id_str='229686473', name='\\U0001f9de\\u200d♀️𝕊𝔸𝔾 𝔹𝔸𝔹𝔼\\U0001f9de\\u200d♀️', screen_name='SagittarianBae', location='', description='IG:@sagittarianbae| #clairsentientempath #herbalist #natureheals #astrobabe 𝐸𝑎𝑟𝑡ℎ 𝐴𝑛𝑔𝑒𝑙 meets Super Nova. Rising in Aries, crying in 𝑐𝑎𝑛𝑐𝑒𝑟', url='https://t.co/BYuhWkznk0', entities={'url': {'urls': [{'url': 'https://t.co/BYuhWkznk0', 'expanded_url': 'https://linktr.ee/sagittarianbae', 'display_url': 'linktr.ee/sagittarianbae', 'indices': [0, 23]}]}, 'description': {'urls': []}}, protected=False, followers_count=841, friends_count=146, listed_count=7, created_at=datetime.datetime(2010, 12, 23, 2, 10, 26), favourites_count=16212, utc_offset=None, time_zone=None, geo_enabled=True, verified=False, statuses_count=34393, lang=None, contributors_enabled=False, is_translator=False, is_translation_enabled=False, profile_background_color='0F0E0E', profile_background_image_url='http://abs.twimg.com/images/themes/theme9/bg.gif', profile_background_image_url_https='https://abs.twimg.com/images/themes/theme9/bg.gif', profile_background_tile=True, profile_image_url='http://pbs.twimg.com/profile_images/1293043589640003586/1HD8CgWy_normal.jpg', profile_image_url_https='https://pbs.twimg.com/profile_images/1293043589640003586/1HD8CgWy_normal.jpg', profile_banner_url='https://pbs.twimg.com/profile_banners/229686473/1445357369', profile_link_color='CF4752', profile_sidebar_border_color='080A0F', profile_sidebar_fill_color='000000', profile_text_color='D96262', profile_use_background_image=True, has_extended_profile=True, default_profile=False, default_profile_image=False, following=False, follow_request_sent=None, notifications=None, translator_type='none'), geo=None, coordinates=None, place=None, contributors=None, is_quote_status=False, retweet_count=0, favorite_count=0, favorited=False, retweeted=False, lang='en'), Status(_api=<tweepy.api.API object at 0x7fdf854cc470>, _json={'created_at': 'Thu Aug 20 07:13:38 +0000 2020', 'id': 1296344627327508480, 'id_str': '1296344627327508480', 'text': 'RT @themamamesha: Ignoring red flags because you want to see the good in someone is always a L, and I mean always.', 'truncated': False, 'entities': {'hashtags': [], 'symbols': [], 'user_mentions': [{'screen_name': 'themamamesha', 'name': '𝐌 𝐄 𝐒 𝐇 𝐀', 'id': 1456589107, 'id_str': '1456589107', 'indices': [3, 16]}], 'urls': []}, 'metadata': {'iso_language_code': 'en', 'result_type': 'recent'}, 'source': '<a href=\"http://twitter.com/download/iphone\" rel=\"nofollow\">Twitter for iPhone</a>', 'in_reply_to_status_id': None, 'in_reply_to_status_id_str': None, 'in_reply_to_user_id': None, 'in_reply_to_user_id_str': None, 'in_reply_to_screen_name': None, 'user': {'id': 2944959616, 'id_str': '2944959616', 'name': 'Britt.', 'screen_name': 'THE_shawntae', 'location': 'Foley, AL', 'description': 'Be easy. Be blessed. Love God, as he loves you. 👻iambabycakess|📸the_shawntae', 'url': None, 'entities': {'description': {'urls': []}}, 'protected': False, 'followers_count': 480, 'friends_count': 472, 'listed_count': 1, 'created_at': 'Sat Dec 27 23:12:44 +0000 2014', 'favourites_count': 6796, 'utc_offset': None, 'time_zone': None, 'geo_enabled': True, 'verified': False, 'statuses_count': 8343, 'lang': None, 'contributors_enabled': False, 'is_translator': False, 'is_translation_enabled': False, 'profile_background_color': 'C0DEED', 'profile_background_image_url': 'http://abs.twimg.com/images/themes/theme1/bg.png', 'profile_background_image_url_https': 'https://abs.twimg.com/images/themes/theme1/bg.png', 'profile_background_tile': False, 'profile_image_url': 'http://pbs.twimg.com/profile_images/1256172579817246721/EkAHCAnq_normal.jpg', 'profile_image_url_https': 'https://pbs.twimg.com/profile_images/1256172579817246721/EkAHCAnq_normal.jpg', 'profile_banner_url': 'https://pbs.twimg.com/profile_banners/2944959616/1516599454', 'profile_link_color': '1DA1F2', 'profile_sidebar_border_color': 'C0DEED', 'profile_sidebar_fill_color': 'DDEEF6', 'profile_text_color': '333333', 'profile_use_background_image': True, 'has_extended_profile': True, 'default_profile': True, 'default_profile_image': False, 'following': None, 'follow_request_sent': None, 'notifications': None, 'translator_type': 'none'}, 'geo': None, 'coordinates': None, 'place': None, 'contributors': None, 'retweeted_status': {'created_at': 'Wed Aug 19 15:47:33 +0000 2020', 'id': 1296111568216887299, 'id_str': '1296111568216887299', 'text': 'Ignoring red flags because you want to see the good in someone is always a L, and I mean always.', 'truncated': False, 'entities': {'hashtags': [], 'symbols': [], 'user_mentions': [], 'urls': []}, 'metadata': {'iso_language_code': 'en', 'result_type': 'recent'}, 'source': '<a href=\"http://twitter.com/download/iphone\" rel=\"nofollow\">Twitter for iPhone</a>', 'in_reply_to_status_id': None, 'in_reply_to_status_id_str': None, 'in_reply_to_user_id': None, 'in_reply_to_user_id_str': None, 'in_reply_to_screen_name': None, 'user': {'id': 1456589107, 'id_str': '1456589107', 'name': '𝐌 𝐄 𝐒 𝐇 𝐀', 'screen_name': 'themamamesha', 'location': '', 'description': 'The University of Alabama Alumna \\U0001f90e MAMA \\U0001f90e |ＳＯＲＥＬＬＡ ｘ ＭＥＳＨＡ| girl mom + thrifter | plant lover 🍃🌾🌿', 'url': 'https://t.co/ubjWKCgUl0', 'entities': {'url': {'urls': [{'url': 'https://t.co/ubjWKCgUl0', 'expanded_url': 'http://Instagram.com/themamamesha', 'display_url': 'Instagram.com/themamamesha', 'indices': [0, 23]}]}, 'description': {'urls': []}}, 'protected': False, 'followers_count': 3182, 'friends_count': 1204, 'listed_count': 11, 'created_at': 'Sat May 25 10:39:50 +0000 2013', 'favourites_count': 14508, 'utc_offset': None, 'time_zone': None, 'geo_enabled': True, 'verified': False, 'statuses_count': 37013, 'lang': None, 'contributors_enabled': False, 'is_translator': False, 'is_translation_enabled': False, 'profile_background_color': 'C0DEED', 'profile_background_image_url': 'http://abs.twimg.com/images/themes/theme1/bg.png', 'profile_background_image_url_https': 'https://abs.twimg.com/images/themes/theme1/bg.png', 'profile_background_tile': False, 'profile_image_url': 'http://pbs.twimg.com/profile_images/1291801074114932737/SHN5egF3_normal.jpg', 'profile_image_url_https': 'https://pbs.twimg.com/profile_images/1291801074114932737/SHN5egF3_normal.jpg', 'profile_banner_url': 'https://pbs.twimg.com/profile_banners/1456589107/1586716656', 'profile_link_color': '1DA1F2', 'profile_sidebar_border_color': 'C0DEED', 'profile_sidebar_fill_color': 'DDEEF6', 'profile_text_color': '333333', 'profile_use_background_image': True, 'has_extended_profile': True, 'default_profile': True, 'default_profile_image': False, 'following': None, 'follow_request_sent': None, 'notifications': None, 'translator_type': 'none'}, 'geo': None, 'coordinates': None, 'place': None, 'contributors': None, 'is_quote_status': False, 'retweet_count': 337, 'favorite_count': 773, 'favorited': False, 'retweeted': False, 'lang': 'en'}, 'is_quote_status': False, 'retweet_count': 337, 'favorite_count': 0, 'favorited': False, 'retweeted': False, 'lang': 'en'}, created_at=datetime.datetime(2020, 8, 20, 7, 13, 38), id=1296344627327508480, id_str='1296344627327508480', text='RT @themamamesha: Ignoring red flags because you want to see the good in someone is always a L, and I mean always.', truncated=False, entities={'hashtags': [], 'symbols': [], 'user_mentions': [{'screen_name': 'themamamesha', 'name': '𝐌 𝐄 𝐒 𝐇 𝐀', 'id': 1456589107, 'id_str': '1456589107', 'indices': [3, 16]}], 'urls': []}, metadata={'iso_language_code': 'en', 'result_type': 'recent'}, source='Twitter for iPhone', source_url='http://twitter.com/download/iphone', in_reply_to_status_id=None, in_reply_to_status_id_str=None, in_reply_to_user_id=None, in_reply_to_user_id_str=None, in_reply_to_screen_name=None, author=User(_api=<tweepy.api.API object at 0x7fdf854cc470>, _json={'id': 2944959616, 'id_str': '2944959616', 'name': 'Britt.', 'screen_name': 'THE_shawntae', 'location': 'Foley, AL', 'description': 'Be easy. Be blessed. Love God, as he loves you. 👻iambabycakess|📸the_shawntae', 'url': None, 'entities': {'description': {'urls': []}}, 'protected': False, 'followers_count': 480, 'friends_count': 472, 'listed_count': 1, 'created_at': 'Sat Dec 27 23:12:44 +0000 2014', 'favourites_count': 6796, 'utc_offset': None, 'time_zone': None, 'geo_enabled': True, 'verified': False, 'statuses_count': 8343, 'lang': None, 'contributors_enabled': False, 'is_translator': False, 'is_translation_enabled': False, 'profile_background_color': 'C0DEED', 'profile_background_image_url': 'http://abs.twimg.com/images/themes/theme1/bg.png', 'profile_background_image_url_https': 'https://abs.twimg.com/images/themes/theme1/bg.png', 'profile_background_tile': False, 'profile_image_url': 'http://pbs.twimg.com/profile_images/1256172579817246721/EkAHCAnq_normal.jpg', 'profile_image_url_https': 'https://pbs.twimg.com/profile_images/1256172579817246721/EkAHCAnq_normal.jpg', 'profile_banner_url': 'https://pbs.twimg.com/profile_banners/2944959616/1516599454', 'profile_link_color': '1DA1F2', 'profile_sidebar_border_color': 'C0DEED', 'profile_sidebar_fill_color': 'DDEEF6', 'profile_text_color': '333333', 'profile_use_background_image': True, 'has_extended_profile': True, 'default_profile': True, 'default_profile_image': False, 'following': None, 'follow_request_sent': None, 'notifications': None, 'translator_type': 'none'}, id=2944959616, id_str='2944959616', name='Britt.', screen_name='THE_shawntae', location='Foley, AL', description='Be easy. Be blessed. Love God, as he loves you. 👻iambabycakess|📸the_shawntae', url=None, entities={'description': {'urls': []}}, protected=False, followers_count=480, friends_count=472, listed_count=1, created_at=datetime.datetime(2014, 12, 27, 23, 12, 44), favourites_count=6796, utc_offset=None, time_zone=None, geo_enabled=True, verified=False, statuses_count=8343, lang=None, contributors_enabled=False, is_translator=False, is_translation_enabled=False, profile_background_color='C0DEED', profile_background_image_url='http://abs.twimg.com/images/themes/theme1/bg.png', profile_background_image_url_https='https://abs.twimg.com/images/themes/theme1/bg.png', profile_background_tile=False, profile_image_url='http://pbs.twimg.com/profile_images/1256172579817246721/EkAHCAnq_normal.jpg', profile_image_url_https='https://pbs.twimg.com/profile_images/1256172579817246721/EkAHCAnq_normal.jpg', profile_banner_url='https://pbs.twimg.com/profile_banners/2944959616/1516599454', profile_link_color='1DA1F2', profile_sidebar_border_color='C0DEED', profile_sidebar_fill_color='DDEEF6', profile_text_color='333333', profile_use_background_image=True, has_extended_profile=True, default_profile=True, default_profile_image=False, following=False, follow_request_sent=None, notifications=None, translator_type='none'), user=User(_api=<tweepy.api.API object at 0x7fdf854cc470>, _json={'id': 2944959616, 'id_str': '2944959616', 'name': 'Britt.', 'screen_name': 'THE_shawntae', 'location': 'Foley, AL', 'description': 'Be easy. Be blessed. Love God, as he loves you. 👻iambabycakess|📸the_shawntae', 'url': None, 'entities': {'description': {'urls': []}}, 'protected': False, 'followers_count': 480, 'friends_count': 472, 'listed_count': 1, 'created_at': 'Sat Dec 27 23:12:44 +0000 2014', 'favourites_count': 6796, 'utc_offset': None, 'time_zone': None, 'geo_enabled': True, 'verified': False, 'statuses_count': 8343, 'lang': None, 'contributors_enabled': False, 'is_translator': False, 'is_translation_enabled': False, 'profile_background_color': 'C0DEED', 'profile_background_image_url': 'http://abs.twimg.com/images/themes/theme1/bg.png', 'profile_background_image_url_https': 'https://abs.twimg.com/images/themes/theme1/bg.png', 'profile_background_tile': False, 'profile_image_url': 'http://pbs.twimg.com/profile_images/1256172579817246721/EkAHCAnq_normal.jpg', 'profile_image_url_https': 'https://pbs.twimg.com/profile_images/1256172579817246721/EkAHCAnq_normal.jpg', 'profile_banner_url': 'https://pbs.twimg.com/profile_banners/2944959616/1516599454', 'profile_link_color': '1DA1F2', 'profile_sidebar_border_color': 'C0DEED', 'profile_sidebar_fill_color': 'DDEEF6', 'profile_text_color': '333333', 'profile_use_background_image': True, 'has_extended_profile': True, 'default_profile': True, 'default_profile_image': False, 'following': None, 'follow_request_sent': None, 'notifications': None, 'translator_type': 'none'}, id=2944959616, id_str='2944959616', name='Britt.', screen_name='THE_shawntae', location='Foley, AL', description='Be easy. Be blessed. Love God, as he loves you. 👻iambabycakess|📸the_shawntae', url=None, entities={'description': {'urls': []}}, protected=False, followers_count=480, friends_count=472, listed_count=1, created_at=datetime.datetime(2014, 12, 27, 23, 12, 44), favourites_count=6796, utc_offset=None, time_zone=None, geo_enabled=True, verified=False, statuses_count=8343, lang=None, contributors_enabled=False, is_translator=False, is_translation_enabled=False, profile_background_color='C0DEED', profile_background_image_url='http://abs.twimg.com/images/themes/theme1/bg.png', profile_background_image_url_https='https://abs.twimg.com/images/themes/theme1/bg.png', profile_background_tile=False, profile_image_url='http://pbs.twimg.com/profile_images/1256172579817246721/EkAHCAnq_normal.jpg', profile_image_url_https='https://pbs.twimg.com/profile_images/1256172579817246721/EkAHCAnq_normal.jpg', profile_banner_url='https://pbs.twimg.com/profile_banners/2944959616/1516599454', profile_link_color='1DA1F2', profile_sidebar_border_color='C0DEED', profile_sidebar_fill_color='DDEEF6', profile_text_color='333333', profile_use_background_image=True, has_extended_profile=True, default_profile=True, default_profile_image=False, following=False, follow_request_sent=None, notifications=None, translator_type='none'), geo=None, coordinates=None, place=None, contributors=None, retweeted_status=Status(_api=<tweepy.api.API object at 0x7fdf854cc470>, _json={'created_at': 'Wed Aug 19 15:47:33 +0000 2020', 'id': 1296111568216887299, 'id_str': '1296111568216887299', 'text': 'Ignoring red flags because you want to see the good in someone is always a L, and I mean always.', 'truncated': False, 'entities': {'hashtags': [], 'symbols': [], 'user_mentions': [], 'urls': []}, 'metadata': {'iso_language_code': 'en', 'result_type': 'recent'}, 'source': '<a href=\"http://twitter.com/download/iphone\" rel=\"nofollow\">Twitter for iPhone</a>', 'in_reply_to_status_id': None, 'in_reply_to_status_id_str': None, 'in_reply_to_user_id': None, 'in_reply_to_user_id_str': None, 'in_reply_to_screen_name': None, 'user': {'id': 1456589107, 'id_str': '1456589107', 'name': '𝐌 𝐄 𝐒 𝐇 𝐀', 'screen_name': 'themamamesha', 'location': '', 'description': 'The University of Alabama Alumna \\U0001f90e MAMA \\U0001f90e |ＳＯＲＥＬＬＡ ｘ ＭＥＳＨＡ| girl mom + thrifter | plant lover 🍃🌾🌿', 'url': 'https://t.co/ubjWKCgUl0', 'entities': {'url': {'urls': [{'url': 'https://t.co/ubjWKCgUl0', 'expanded_url': 'http://Instagram.com/themamamesha', 'display_url': 'Instagram.com/themamamesha', 'indices': [0, 23]}]}, 'description': {'urls': []}}, 'protected': False, 'followers_count': 3182, 'friends_count': 1204, 'listed_count': 11, 'created_at': 'Sat May 25 10:39:50 +0000 2013', 'favourites_count': 14508, 'utc_offset': None, 'time_zone': None, 'geo_enabled': True, 'verified': False, 'statuses_count': 37013, 'lang': None, 'contributors_enabled': False, 'is_translator': False, 'is_translation_enabled': False, 'profile_background_color': 'C0DEED', 'profile_background_image_url': 'http://abs.twimg.com/images/themes/theme1/bg.png', 'profile_background_image_url_https': 'https://abs.twimg.com/images/themes/theme1/bg.png', 'profile_background_tile': False, 'profile_image_url': 'http://pbs.twimg.com/profile_images/1291801074114932737/SHN5egF3_normal.jpg', 'profile_image_url_https': 'https://pbs.twimg.com/profile_images/1291801074114932737/SHN5egF3_normal.jpg', 'profile_banner_url': 'https://pbs.twimg.com/profile_banners/1456589107/1586716656', 'profile_link_color': '1DA1F2', 'profile_sidebar_border_color': 'C0DEED', 'profile_sidebar_fill_color': 'DDEEF6', 'profile_text_color': '333333', 'profile_use_background_image': True, 'has_extended_profile': True, 'default_profile': True, 'default_profile_image': False, 'following': None, 'follow_request_sent': None, 'notifications': None, 'translator_type': 'none'}, 'geo': None, 'coordinates': None, 'place': None, 'contributors': None, 'is_quote_status': False, 'retweet_count': 337, 'favorite_count': 773, 'favorited': False, 'retweeted': False, 'lang': 'en'}, created_at=datetime.datetime(2020, 8, 19, 15, 47, 33), id=1296111568216887299, id_str='1296111568216887299', text='Ignoring red flags because you want to see the good in someone is always a L, and I mean always.', truncated=False, entities={'hashtags': [], 'symbols': [], 'user_mentions': [], 'urls': []}, metadata={'iso_language_code': 'en', 'result_type': 'recent'}, source='Twitter for iPhone', source_url='http://twitter.com/download/iphone', in_reply_to_status_id=None, in_reply_to_status_id_str=None, in_reply_to_user_id=None, in_reply_to_user_id_str=None, in_reply_to_screen_name=None, author=User(_api=<tweepy.api.API object at 0x7fdf854cc470>, _json={'id': 1456589107, 'id_str': '1456589107', 'name': '𝐌 𝐄 𝐒 𝐇 𝐀', 'screen_name': 'themamamesha', 'location': '', 'description': 'The University of Alabama Alumna \\U0001f90e MAMA \\U0001f90e |ＳＯＲＥＬＬＡ ｘ ＭＥＳＨＡ| girl mom + thrifter | plant lover 🍃🌾🌿', 'url': 'https://t.co/ubjWKCgUl0', 'entities': {'url': {'urls': [{'url': 'https://t.co/ubjWKCgUl0', 'expanded_url': 'http://Instagram.com/themamamesha', 'display_url': 'Instagram.com/themamamesha', 'indices': [0, 23]}]}, 'description': {'urls': []}}, 'protected': False, 'followers_count': 3182, 'friends_count': 1204, 'listed_count': 11, 'created_at': 'Sat May 25 10:39:50 +0000 2013', 'favourites_count': 14508, 'utc_offset': None, 'time_zone': None, 'geo_enabled': True, 'verified': False, 'statuses_count': 37013, 'lang': None, 'contributors_enabled': False, 'is_translator': False, 'is_translation_enabled': False, 'profile_background_color': 'C0DEED', 'profile_background_image_url': 'http://abs.twimg.com/images/themes/theme1/bg.png', 'profile_background_image_url_https': 'https://abs.twimg.com/images/themes/theme1/bg.png', 'profile_background_tile': False, 'profile_image_url': 'http://pbs.twimg.com/profile_images/1291801074114932737/SHN5egF3_normal.jpg', 'profile_image_url_https': 'https://pbs.twimg.com/profile_images/1291801074114932737/SHN5egF3_normal.jpg', 'profile_banner_url': 'https://pbs.twimg.com/profile_banners/1456589107/1586716656', 'profile_link_color': '1DA1F2', 'profile_sidebar_border_color': 'C0DEED', 'profile_sidebar_fill_color': 'DDEEF6', 'profile_text_color': '333333', 'profile_use_background_image': True, 'has_extended_profile': True, 'default_profile': True, 'default_profile_image': False, 'following': None, 'follow_request_sent': None, 'notifications': None, 'translator_type': 'none'}, id=1456589107, id_str='1456589107', name='𝐌 𝐄 𝐒 𝐇 𝐀', screen_name='themamamesha', location='', description='The University of Alabama Alumna \\U0001f90e MAMA \\U0001f90e |ＳＯＲＥＬＬＡ ｘ ＭＥＳＨＡ| girl mom + thrifter | plant lover 🍃🌾🌿', url='https://t.co/ubjWKCgUl0', entities={'url': {'urls': [{'url': 'https://t.co/ubjWKCgUl0', 'expanded_url': 'http://Instagram.com/themamamesha', 'display_url': 'Instagram.com/themamamesha', 'indices': [0, 23]}]}, 'description': {'urls': []}}, protected=False, followers_count=3182, friends_count=1204, listed_count=11, created_at=datetime.datetime(2013, 5, 25, 10, 39, 50), favourites_count=14508, utc_offset=None, time_zone=None, geo_enabled=True, verified=False, statuses_count=37013, lang=None, contributors_enabled=False, is_translator=False, is_translation_enabled=False, profile_background_color='C0DEED', profile_background_image_url='http://abs.twimg.com/images/themes/theme1/bg.png', profile_background_image_url_https='https://abs.twimg.com/images/themes/theme1/bg.png', profile_background_tile=False, profile_image_url='http://pbs.twimg.com/profile_images/1291801074114932737/SHN5egF3_normal.jpg', profile_image_url_https='https://pbs.twimg.com/profile_images/1291801074114932737/SHN5egF3_normal.jpg', profile_banner_url='https://pbs.twimg.com/profile_banners/1456589107/1586716656', profile_link_color='1DA1F2', profile_sidebar_border_color='C0DEED', profile_sidebar_fill_color='DDEEF6', profile_text_color='333333', profile_use_background_image=True, has_extended_profile=True, default_profile=True, default_profile_image=False, following=False, follow_request_sent=None, notifications=None, translator_type='none'), user=User(_api=<tweepy.api.API object at 0x7fdf854cc470>, _json={'id': 1456589107, 'id_str': '1456589107', 'name': '𝐌 𝐄 𝐒 𝐇 𝐀', 'screen_name': 'themamamesha', 'location': '', 'description': 'The University of Alabama Alumna \\U0001f90e MAMA \\U0001f90e |ＳＯＲＥＬＬＡ ｘ ＭＥＳＨＡ| girl mom + thrifter | plant lover 🍃🌾🌿', 'url': 'https://t.co/ubjWKCgUl0', 'entities': {'url': {'urls': [{'url': 'https://t.co/ubjWKCgUl0', 'expanded_url': 'http://Instagram.com/themamamesha', 'display_url': 'Instagram.com/themamamesha', 'indices': [0, 23]}]}, 'description': {'urls': []}}, 'protected': False, 'followers_count': 3182, 'friends_count': 1204, 'listed_count': 11, 'created_at': 'Sat May 25 10:39:50 +0000 2013', 'favourites_count': 14508, 'utc_offset': None, 'time_zone': None, 'geo_enabled': True, 'verified': False, 'statuses_count': 37013, 'lang': None, 'contributors_enabled': False, 'is_translator': False, 'is_translation_enabled': False, 'profile_background_color': 'C0DEED', 'profile_background_image_url': 'http://abs.twimg.com/images/themes/theme1/bg.png', 'profile_background_image_url_https': 'https://abs.twimg.com/images/themes/theme1/bg.png', 'profile_background_tile': False, 'profile_image_url': 'http://pbs.twimg.com/profile_images/1291801074114932737/SHN5egF3_normal.jpg', 'profile_image_url_https': 'https://pbs.twimg.com/profile_images/1291801074114932737/SHN5egF3_normal.jpg', 'profile_banner_url': 'https://pbs.twimg.com/profile_banners/1456589107/1586716656', 'profile_link_color': '1DA1F2', 'profile_sidebar_border_color': 'C0DEED', 'profile_sidebar_fill_color': 'DDEEF6', 'profile_text_color': '333333', 'profile_use_background_image': True, 'has_extended_profile': True, 'default_profile': True, 'default_profile_image': False, 'following': None, 'follow_request_sent': None, 'notifications': None, 'translator_type': 'none'}, id=1456589107, id_str='1456589107', name='𝐌 𝐄 𝐒 𝐇 𝐀', screen_name='themamamesha', location='', description='The University of Alabama Alumna \\U0001f90e MAMA \\U0001f90e |ＳＯＲＥＬＬＡ ｘ ＭＥＳＨＡ| girl mom + thrifter | plant lover 🍃🌾🌿', url='https://t.co/ubjWKCgUl0', entities={'url': {'urls': [{'url': 'https://t.co/ubjWKCgUl0', 'expanded_url': 'http://Instagram.com/themamamesha', 'display_url': 'Instagram.com/themamamesha', 'indices': [0, 23]}]}, 'description': {'urls': []}}, protected=False, followers_count=3182, friends_count=1204, listed_count=11, created_at=datetime.datetime(2013, 5, 25, 10, 39, 50), favourites_count=14508, utc_offset=None, time_zone=None, geo_enabled=True, verified=False, statuses_count=37013, lang=None, contributors_enabled=False, is_translator=False, is_translation_enabled=False, profile_background_color='C0DEED', profile_background_image_url='http://abs.twimg.com/images/themes/theme1/bg.png', profile_background_image_url_https='https://abs.twimg.com/images/themes/theme1/bg.png', profile_background_tile=False, profile_image_url='http://pbs.twimg.com/profile_images/1291801074114932737/SHN5egF3_normal.jpg', profile_image_url_https='https://pbs.twimg.com/profile_images/1291801074114932737/SHN5egF3_normal.jpg', profile_banner_url='https://pbs.twimg.com/profile_banners/1456589107/1586716656', profile_link_color='1DA1F2', profile_sidebar_border_color='C0DEED', profile_sidebar_fill_color='DDEEF6', profile_text_color='333333', profile_use_background_image=True, has_extended_profile=True, default_profile=True, default_profile_image=False, following=False, follow_request_sent=None, notifications=None, translator_type='none'), geo=None, coordinates=None, place=None, contributors=None, is_quote_status=False, retweet_count=337, favorite_count=773, favorited=False, retweeted=False, lang='en'), is_quote_status=False, retweet_count=337, favorite_count=0, favorited=False, retweeted=False, lang='en'), Status(_api=<tweepy.api.API object at 0x7fdf854cc470>, _json={'created_at': 'Thu Aug 20 07:13:38 +0000 2020', 'id': 1296344626820009984, 'id_str': '1296344626820009984', 'text': 'RT @KarishmaRChauh1: Congo to our 7 Angels and armi for comeback. It seems like its comeback of our soul, haha!! really excited, thank you…', 'truncated': False, 'entities': {'hashtags': [], 'symbols': [], 'user_mentions': [{'screen_name': 'KarishmaRChauh1', 'name': 'Bangtan Girl 💜🌈', 'id': 1107274981312876544, 'id_str': '1107274981312876544', 'indices': [3, 19]}], 'urls': []}, 'metadata': {'iso_language_code': 'en', 'result_type': 'recent'}, 'source': '<a href=\"http://enockmambou.net/\" rel=\"nofollow\">CongoBot</a>', 'in_reply_to_status_id': None, 'in_reply_to_status_id_str': None, 'in_reply_to_user_id': None, 'in_reply_to_user_id_str': None, 'in_reply_to_screen_name': None, 'user': {'id': 1010087708260274177, 'id_str': '1010087708260274177', 'name': 'CongoBot', 'screen_name': 'BotCongo', 'location': 'congo', 'description': 'Bot qui #RT tous les tweets parlant du Congo #242 #243 - Rejoignez-nous pour être informé de tous les tweets liés au Congo | follow @enock_mambou', 'url': None, 'entities': {'description': {'urls': []}}, 'protected': False, 'followers_count': 1713, 'friends_count': 1, 'listed_count': 7, 'created_at': 'Fri Jun 22 09:10:50 +0000 2018', 'favourites_count': 43, 'utc_offset': None, 'time_zone': None, 'geo_enabled': False, 'verified': False, 'statuses_count': 87095, 'lang': None, 'contributors_enabled': False, 'is_translator': False, 'is_translation_enabled': False, 'profile_background_color': '000000', 'profile_background_image_url': 'http://abs.twimg.com/images/themes/theme1/bg.png', 'profile_background_image_url_https': 'https://abs.twimg.com/images/themes/theme1/bg.png', 'profile_background_tile': False, 'profile_image_url': 'http://pbs.twimg.com/profile_images/1010120392319565824/oK_puvzs_normal.jpg', 'profile_image_url_https': 'https://pbs.twimg.com/profile_images/1010120392319565824/oK_puvzs_normal.jpg', 'profile_banner_url': 'https://pbs.twimg.com/profile_banners/1010087708260274177/1529666424', 'profile_link_color': '19CF86', 'profile_sidebar_border_color': '000000', 'profile_sidebar_fill_color': '000000', 'profile_text_color': '000000', 'profile_use_background_image': False, 'has_extended_profile': False, 'default_profile': False, 'default_profile_image': False, 'following': None, 'follow_request_sent': None, 'notifications': None, 'translator_type': 'none'}, 'geo': None, 'coordinates': None, 'place': None, 'contributors': None, 'retweeted_status': {'created_at': 'Thu Aug 20 07:11:31 +0000 2020', 'id': 1296344091840585728, 'id_str': '1296344091840585728', 'text': 'Congo to our 7 Angels and armi for comeback. It seems like its comeback of our soul, haha!! really excited, thank y… https://t.co/iHvAXnghWr', 'truncated': True, 'entities': {'hashtags': [], 'symbols': [], 'user_mentions': [], 'urls': [{'url': 'https://t.co/iHvAXnghWr', 'expanded_url': 'https://twitter.com/i/web/status/1296344091840585728', 'display_url': 'twitter.com/i/web/status/1…', 'indices': [117, 140]}]}, 'metadata': {'iso_language_code': 'en', 'result_type': 'recent'}, 'source': '<a href=\"http://twitter.com/download/android\" rel=\"nofollow\">Twitter for Android</a>', 'in_reply_to_status_id': None, 'in_reply_to_status_id_str': None, 'in_reply_to_user_id': None, 'in_reply_to_user_id_str': None, 'in_reply_to_screen_name': None, 'user': {'id': 1107274981312876544, 'id_str': '1107274981312876544', 'name': 'Bangtan Girl 💜🌈', 'screen_name': 'KarishmaRChauh1', 'location': '', 'description': \"Daddy's Warrior 👑\", 'url': None, 'entities': {'description': {'urls': []}}, 'protected': False, 'followers_count': 1, 'friends_count': 6, 'listed_count': 0, 'created_at': 'Sun Mar 17 13:38:22 +0000 2019', 'favourites_count': 220, 'utc_offset': None, 'time_zone': None, 'geo_enabled': False, 'verified': False, 'statuses_count': 51, 'lang': None, 'contributors_enabled': False, 'is_translator': False, 'is_translation_enabled': False, 'profile_background_color': 'F5F8FA', 'profile_background_image_url': None, 'profile_background_image_url_https': None, 'profile_background_tile': False, 'profile_image_url': 'http://pbs.twimg.com/profile_images/1259854161035870210/pqWBUxc2_normal.jpg', 'profile_image_url_https': 'https://pbs.twimg.com/profile_images/1259854161035870210/pqWBUxc2_normal.jpg', 'profile_banner_url': 'https://pbs.twimg.com/profile_banners/1107274981312876544/1589207613', 'profile_link_color': '1DA1F2', 'profile_sidebar_border_color': 'C0DEED', 'profile_sidebar_fill_color': 'DDEEF6', 'profile_text_color': '333333', 'profile_use_background_image': True, 'has_extended_profile': True, 'default_profile': True, 'default_profile_image': False, 'following': None, 'follow_request_sent': None, 'notifications': None, 'translator_type': 'none'}, 'geo': None, 'coordinates': None, 'place': None, 'contributors': None, 'is_quote_status': False, 'retweet_count': 1, 'favorite_count': 0, 'favorited': False, 'retweeted': False, 'possibly_sensitive': False, 'lang': 'en'}, 'is_quote_status': False, 'retweet_count': 1, 'favorite_count': 0, 'favorited': False, 'retweeted': False, 'lang': 'en'}, created_at=datetime.datetime(2020, 8, 20, 7, 13, 38), id=1296344626820009984, id_str='1296344626820009984', text='RT @KarishmaRChauh1: Congo to our 7 Angels and armi for comeback. It seems like its comeback of our soul, haha!! really excited, thank you…', truncated=False, entities={'hashtags': [], 'symbols': [], 'user_mentions': [{'screen_name': 'KarishmaRChauh1', 'name': 'Bangtan Girl 💜🌈', 'id': 1107274981312876544, 'id_str': '1107274981312876544', 'indices': [3, 19]}], 'urls': []}, metadata={'iso_language_code': 'en', 'result_type': 'recent'}, source='CongoBot', source_url='http://enockmambou.net/', in_reply_to_status_id=None, in_reply_to_status_id_str=None, in_reply_to_user_id=None, in_reply_to_user_id_str=None, in_reply_to_screen_name=None, author=User(_api=<tweepy.api.API object at 0x7fdf854cc470>, _json={'id': 1010087708260274177, 'id_str': '1010087708260274177', 'name': 'CongoBot', 'screen_name': 'BotCongo', 'location': 'congo', 'description': 'Bot qui #RT tous les tweets parlant du Congo #242 #243 - Rejoignez-nous pour être informé de tous les tweets liés au Congo | follow @enock_mambou', 'url': None, 'entities': {'description': {'urls': []}}, 'protected': False, 'followers_count': 1713, 'friends_count': 1, 'listed_count': 7, 'created_at': 'Fri Jun 22 09:10:50 +0000 2018', 'favourites_count': 43, 'utc_offset': None, 'time_zone': None, 'geo_enabled': False, 'verified': False, 'statuses_count': 87095, 'lang': None, 'contributors_enabled': False, 'is_translator': False, 'is_translation_enabled': False, 'profile_background_color': '000000', 'profile_background_image_url': 'http://abs.twimg.com/images/themes/theme1/bg.png', 'profile_background_image_url_https': 'https://abs.twimg.com/images/themes/theme1/bg.png', 'profile_background_tile': False, 'profile_image_url': 'http://pbs.twimg.com/profile_images/1010120392319565824/oK_puvzs_normal.jpg', 'profile_image_url_https': 'https://pbs.twimg.com/profile_images/1010120392319565824/oK_puvzs_normal.jpg', 'profile_banner_url': 'https://pbs.twimg.com/profile_banners/1010087708260274177/1529666424', 'profile_link_color': '19CF86', 'profile_sidebar_border_color': '000000', 'profile_sidebar_fill_color': '000000', 'profile_text_color': '000000', 'profile_use_background_image': False, 'has_extended_profile': False, 'default_profile': False, 'default_profile_image': False, 'following': None, 'follow_request_sent': None, 'notifications': None, 'translator_type': 'none'}, id=1010087708260274177, id_str='1010087708260274177', name='CongoBot', screen_name='BotCongo', location='congo', description='Bot qui #RT tous les tweets parlant du Congo #242 #243 - Rejoignez-nous pour être informé de tous les tweets liés au Congo | follow @enock_mambou', url=None, entities={'description': {'urls': []}}, protected=False, followers_count=1713, friends_count=1, listed_count=7, created_at=datetime.datetime(2018, 6, 22, 9, 10, 50), favourites_count=43, utc_offset=None, time_zone=None, geo_enabled=False, verified=False, statuses_count=87095, lang=None, contributors_enabled=False, is_translator=False, is_translation_enabled=False, profile_background_color='000000', profile_background_image_url='http://abs.twimg.com/images/themes/theme1/bg.png', profile_background_image_url_https='https://abs.twimg.com/images/themes/theme1/bg.png', profile_background_tile=False, profile_image_url='http://pbs.twimg.com/profile_images/1010120392319565824/oK_puvzs_normal.jpg', profile_image_url_https='https://pbs.twimg.com/profile_images/1010120392319565824/oK_puvzs_normal.jpg', profile_banner_url='https://pbs.twimg.com/profile_banners/1010087708260274177/1529666424', profile_link_color='19CF86', profile_sidebar_border_color='000000', profile_sidebar_fill_color='000000', profile_text_color='000000', profile_use_background_image=False, has_extended_profile=False, default_profile=False, default_profile_image=False, following=False, follow_request_sent=None, notifications=None, translator_type='none'), user=User(_api=<tweepy.api.API object at 0x7fdf854cc470>, _json={'id': 1010087708260274177, 'id_str': '1010087708260274177', 'name': 'CongoBot', 'screen_name': 'BotCongo', 'location': 'congo', 'description': 'Bot qui #RT tous les tweets parlant du Congo #242 #243 - Rejoignez-nous pour être informé de tous les tweets liés au Congo | follow @enock_mambou', 'url': None, 'entities': {'description': {'urls': []}}, 'protected': False, 'followers_count': 1713, 'friends_count': 1, 'listed_count': 7, 'created_at': 'Fri Jun 22 09:10:50 +0000 2018', 'favourites_count': 43, 'utc_offset': None, 'time_zone': None, 'geo_enabled': False, 'verified': False, 'statuses_count': 87095, 'lang': None, 'contributors_enabled': False, 'is_translator': False, 'is_translation_enabled': False, 'profile_background_color': '000000', 'profile_background_image_url': 'http://abs.twimg.com/images/themes/theme1/bg.png', 'profile_background_image_url_https': 'https://abs.twimg.com/images/themes/theme1/bg.png', 'profile_background_tile': False, 'profile_image_url': 'http://pbs.twimg.com/profile_images/1010120392319565824/oK_puvzs_normal.jpg', 'profile_image_url_https': 'https://pbs.twimg.com/profile_images/1010120392319565824/oK_puvzs_normal.jpg', 'profile_banner_url': 'https://pbs.twimg.com/profile_banners/1010087708260274177/1529666424', 'profile_link_color': '19CF86', 'profile_sidebar_border_color': '000000', 'profile_sidebar_fill_color': '000000', 'profile_text_color': '000000', 'profile_use_background_image': False, 'has_extended_profile': False, 'default_profile': False, 'default_profile_image': False, 'following': None, 'follow_request_sent': None, 'notifications': None, 'translator_type': 'none'}, id=1010087708260274177, id_str='1010087708260274177', name='CongoBot', screen_name='BotCongo', location='congo', description='Bot qui #RT tous les tweets parlant du Congo #242 #243 - Rejoignez-nous pour être informé de tous les tweets liés au Congo | follow @enock_mambou', url=None, entities={'description': {'urls': []}}, protected=False, followers_count=1713, friends_count=1, listed_count=7, created_at=datetime.datetime(2018, 6, 22, 9, 10, 50), favourites_count=43, utc_offset=None, time_zone=None, geo_enabled=False, verified=False, statuses_count=87095, lang=None, contributors_enabled=False, is_translator=False, is_translation_enabled=False, profile_background_color='000000', profile_background_image_url='http://abs.twimg.com/images/themes/theme1/bg.png', profile_background_image_url_https='https://abs.twimg.com/images/themes/theme1/bg.png', profile_background_tile=False, profile_image_url='http://pbs.twimg.com/profile_images/1010120392319565824/oK_puvzs_normal.jpg', profile_image_url_https='https://pbs.twimg.com/profile_images/1010120392319565824/oK_puvzs_normal.jpg', profile_banner_url='https://pbs.twimg.com/profile_banners/1010087708260274177/1529666424', profile_link_color='19CF86', profile_sidebar_border_color='000000', profile_sidebar_fill_color='000000', profile_text_color='000000', profile_use_background_image=False, has_extended_profile=False, default_profile=False, default_profile_image=False, following=False, follow_request_sent=None, notifications=None, translator_type='none'), geo=None, coordinates=None, place=None, contributors=None, retweeted_status=Status(_api=<tweepy.api.API object at 0x7fdf854cc470>, _json={'created_at': 'Thu Aug 20 07:11:31 +0000 2020', 'id': 1296344091840585728, 'id_str': '1296344091840585728', 'text': 'Congo to our 7 Angels and armi for comeback. It seems like its comeback of our soul, haha!! really excited, thank y… https://t.co/iHvAXnghWr', 'truncated': True, 'entities': {'hashtags': [], 'symbols': [], 'user_mentions': [], 'urls': [{'url': 'https://t.co/iHvAXnghWr', 'expanded_url': 'https://twitter.com/i/web/status/1296344091840585728', 'display_url': 'twitter.com/i/web/status/1…', 'indices': [117, 140]}]}, 'metadata': {'iso_language_code': 'en', 'result_type': 'recent'}, 'source': '<a href=\"http://twitter.com/download/android\" rel=\"nofollow\">Twitter for Android</a>', 'in_reply_to_status_id': None, 'in_reply_to_status_id_str': None, 'in_reply_to_user_id': None, 'in_reply_to_user_id_str': None, 'in_reply_to_screen_name': None, 'user': {'id': 1107274981312876544, 'id_str': '1107274981312876544', 'name': 'Bangtan Girl 💜🌈', 'screen_name': 'KarishmaRChauh1', 'location': '', 'description': \"Daddy's Warrior 👑\", 'url': None, 'entities': {'description': {'urls': []}}, 'protected': False, 'followers_count': 1, 'friends_count': 6, 'listed_count': 0, 'created_at': 'Sun Mar 17 13:38:22 +0000 2019', 'favourites_count': 220, 'utc_offset': None, 'time_zone': None, 'geo_enabled': False, 'verified': False, 'statuses_count': 51, 'lang': None, 'contributors_enabled': False, 'is_translator': False, 'is_translation_enabled': False, 'profile_background_color': 'F5F8FA', 'profile_background_image_url': None, 'profile_background_image_url_https': None, 'profile_background_tile': False, 'profile_image_url': 'http://pbs.twimg.com/profile_images/1259854161035870210/pqWBUxc2_normal.jpg', 'profile_image_url_https': 'https://pbs.twimg.com/profile_images/1259854161035870210/pqWBUxc2_normal.jpg', 'profile_banner_url': 'https://pbs.twimg.com/profile_banners/1107274981312876544/1589207613', 'profile_link_color': '1DA1F2', 'profile_sidebar_border_color': 'C0DEED', 'profile_sidebar_fill_color': 'DDEEF6', 'profile_text_color': '333333', 'profile_use_background_image': True, 'has_extended_profile': True, 'default_profile': True, 'default_profile_image': False, 'following': None, 'follow_request_sent': None, 'notifications': None, 'translator_type': 'none'}, 'geo': None, 'coordinates': None, 'place': None, 'contributors': None, 'is_quote_status': False, 'retweet_count': 1, 'favorite_count': 0, 'favorited': False, 'retweeted': False, 'possibly_sensitive': False, 'lang': 'en'}, created_at=datetime.datetime(2020, 8, 20, 7, 11, 31), id=1296344091840585728, id_str='1296344091840585728', text='Congo to our 7 Angels and armi for comeback. It seems like its comeback of our soul, haha!! really excited, thank y… https://t.co/iHvAXnghWr', truncated=True, entities={'hashtags': [], 'symbols': [], 'user_mentions': [], 'urls': [{'url': 'https://t.co/iHvAXnghWr', 'expanded_url': 'https://twitter.com/i/web/status/1296344091840585728', 'display_url': 'twitter.com/i/web/status/1…', 'indices': [117, 140]}]}, metadata={'iso_language_code': 'en', 'result_type': 'recent'}, source='Twitter for Android', source_url='http://twitter.com/download/android', in_reply_to_status_id=None, in_reply_to_status_id_str=None, in_reply_to_user_id=None, in_reply_to_user_id_str=None, in_reply_to_screen_name=None, author=User(_api=<tweepy.api.API object at 0x7fdf854cc470>, _json={'id': 1107274981312876544, 'id_str': '1107274981312876544', 'name': 'Bangtan Girl 💜🌈', 'screen_name': 'KarishmaRChauh1', 'location': '', 'description': \"Daddy's Warrior 👑\", 'url': None, 'entities': {'description': {'urls': []}}, 'protected': False, 'followers_count': 1, 'friends_count': 6, 'listed_count': 0, 'created_at': 'Sun Mar 17 13:38:22 +0000 2019', 'favourites_count': 220, 'utc_offset': None, 'time_zone': None, 'geo_enabled': False, 'verified': False, 'statuses_count': 51, 'lang': None, 'contributors_enabled': False, 'is_translator': False, 'is_translation_enabled': False, 'profile_background_color': 'F5F8FA', 'profile_background_image_url': None, 'profile_background_image_url_https': None, 'profile_background_tile': False, 'profile_image_url': 'http://pbs.twimg.com/profile_images/1259854161035870210/pqWBUxc2_normal.jpg', 'profile_image_url_https': 'https://pbs.twimg.com/profile_images/1259854161035870210/pqWBUxc2_normal.jpg', 'profile_banner_url': 'https://pbs.twimg.com/profile_banners/1107274981312876544/1589207613', 'profile_link_color': '1DA1F2', 'profile_sidebar_border_color': 'C0DEED', 'profile_sidebar_fill_color': 'DDEEF6', 'profile_text_color': '333333', 'profile_use_background_image': True, 'has_extended_profile': True, 'default_profile': True, 'default_profile_image': False, 'following': None, 'follow_request_sent': None, 'notifications': None, 'translator_type': 'none'}, id=1107274981312876544, id_str='1107274981312876544', name='Bangtan Girl 💜🌈', screen_name='KarishmaRChauh1', location='', description=\"Daddy's Warrior 👑\", url=None, entities={'description': {'urls': []}}, protected=False, followers_count=1, friends_count=6, listed_count=0, created_at=datetime.datetime(2019, 3, 17, 13, 38, 22), favourites_count=220, utc_offset=None, time_zone=None, geo_enabled=False, verified=False, statuses_count=51, lang=None, contributors_enabled=False, is_translator=False, is_translation_enabled=False, profile_background_color='F5F8FA', profile_background_image_url=None, profile_background_image_url_https=None, profile_background_tile=False, profile_image_url='http://pbs.twimg.com/profile_images/1259854161035870210/pqWBUxc2_normal.jpg', profile_image_url_https='https://pbs.twimg.com/profile_images/1259854161035870210/pqWBUxc2_normal.jpg', profile_banner_url='https://pbs.twimg.com/profile_banners/1107274981312876544/1589207613', profile_link_color='1DA1F2', profile_sidebar_border_color='C0DEED', profile_sidebar_fill_color='DDEEF6', profile_text_color='333333', profile_use_background_image=True, has_extended_profile=True, default_profile=True, default_profile_image=False, following=False, follow_request_sent=None, notifications=None, translator_type='none'), user=User(_api=<tweepy.api.API object at 0x7fdf854cc470>, _json={'id': 1107274981312876544, 'id_str': '1107274981312876544', 'name': 'Bangtan Girl 💜🌈', 'screen_name': 'KarishmaRChauh1', 'location': '', 'description': \"Daddy's Warrior 👑\", 'url': None, 'entities': {'description': {'urls': []}}, 'protected': False, 'followers_count': 1, 'friends_count': 6, 'listed_count': 0, 'created_at': 'Sun Mar 17 13:38:22 +0000 2019', 'favourites_count': 220, 'utc_offset': None, 'time_zone': None, 'geo_enabled': False, 'verified': False, 'statuses_count': 51, 'lang': None, 'contributors_enabled': False, 'is_translator': False, 'is_translation_enabled': False, 'profile_background_color': 'F5F8FA', 'profile_background_image_url': None, 'profile_background_image_url_https': None, 'profile_background_tile': False, 'profile_image_url': 'http://pbs.twimg.com/profile_images/1259854161035870210/pqWBUxc2_normal.jpg', 'profile_image_url_https': 'https://pbs.twimg.com/profile_images/1259854161035870210/pqWBUxc2_normal.jpg', 'profile_banner_url': 'https://pbs.twimg.com/profile_banners/1107274981312876544/1589207613', 'profile_link_color': '1DA1F2', 'profile_sidebar_border_color': 'C0DEED', 'profile_sidebar_fill_color': 'DDEEF6', 'profile_text_color': '333333', 'profile_use_background_image': True, 'has_extended_profile': True, 'default_profile': True, 'default_profile_image': False, 'following': None, 'follow_request_sent': None, 'notifications': None, 'translator_type': 'none'}, id=1107274981312876544, id_str='1107274981312876544', name='Bangtan Girl 💜🌈', screen_name='KarishmaRChauh1', location='', description=\"Daddy's Warrior 👑\", url=None, entities={'description': {'urls': []}}, protected=False, followers_count=1, friends_count=6, listed_count=0, created_at=datetime.datetime(2019, 3, 17, 13, 38, 22), favourites_count=220, utc_offset=None, time_zone=None, geo_enabled=False, verified=False, statuses_count=51, lang=None, contributors_enabled=False, is_translator=False, is_translation_enabled=False, profile_background_color='F5F8FA', profile_background_image_url=None, profile_background_image_url_https=None, profile_background_tile=False, profile_image_url='http://pbs.twimg.com/profile_images/1259854161035870210/pqWBUxc2_normal.jpg', profile_image_url_https='https://pbs.twimg.com/profile_images/1259854161035870210/pqWBUxc2_normal.jpg', profile_banner_url='https://pbs.twimg.com/profile_banners/1107274981312876544/1589207613', profile_link_color='1DA1F2', profile_sidebar_border_color='C0DEED', profile_sidebar_fill_color='DDEEF6', profile_text_color='333333', profile_use_background_image=True, has_extended_profile=True, default_profile=True, default_profile_image=False, following=False, follow_request_sent=None, notifications=None, translator_type='none'), geo=None, coordinates=None, place=None, contributors=None, is_quote_status=False, retweet_count=1, favorite_count=0, favorited=False, retweeted=False, possibly_sensitive=False, lang='en'), is_quote_status=False, retweet_count=1, favorite_count=0, favorited=False, retweeted=False, lang='en'), Status(_api=<tweepy.api.API object at 0x7fdf854cc470>, _json={'created_at': 'Thu Aug 20 07:13:37 +0000 2020', 'id': 1296344624135573504, 'id_str': '1296344624135573504', 'text': '@GatesPhysio If pre test there is a low probability of a condition even a great test only shifts the probability sl… https://t.co/TXAx2D5Br6', 'truncated': True, 'entities': {'hashtags': [], 'symbols': [], 'user_mentions': [{'screen_name': 'GatesPhysio', 'name': 'John Gates 😷', 'id': 451401278, 'id_str': '451401278', 'indices': [0, 12]}], 'urls': [{'url': 'https://t.co/TXAx2D5Br6', 'expanded_url': 'https://twitter.com/i/web/status/1296344624135573504', 'display_url': 'twitter.com/i/web/status/1…', 'indices': [117, 140]}]}, 'metadata': {'iso_language_code': 'en', 'result_type': 'recent'}, 'source': '<a href=\"http://twitter.com/#!/download/ipad\" rel=\"nofollow\">Twitter for iPad</a>', 'in_reply_to_status_id': 1296343769797795842, 'in_reply_to_status_id_str': '1296343769797795842', 'in_reply_to_user_id': 3246132338, 'in_reply_to_user_id_str': '3246132338', 'in_reply_to_screen_name': 'Retlouping', 'user': {'id': 3246132338, 'id_str': '3246132338', 'name': '🚴🏻\\u200d♂️ ɹǝʇlnoԀ pıʌɐᗡ 🚴🏻\\u200d♂️ 𝔹𝕖 𝕜𝕚𝕟𝕕 🇫🇷', 'screen_name': 'Retlouping', 'location': 'Coon Rapids MN, USA', 'description': 'All my opinions are my own. Dislikes evidence based ostriches ( An evidence based ostrich ignores evidence against, whilst waiting for evidence to support)', 'url': 'https://t.co/r7zNx0eTW0', 'entities': {'url': {'urls': [{'url': 'https://t.co/r7zNx0eTW0', 'expanded_url': 'http://youtu.be/u3BwXOkbWCo', 'display_url': 'youtu.be/u3BwXOkbWCo', 'indices': [0, 23]}]}, 'description': {'urls': []}}, 'protected': False, 'followers_count': 9339, 'friends_count': 1063, 'listed_count': 112, 'created_at': 'Mon Jun 15 15:19:18 +0000 2015', 'favourites_count': 78069, 'utc_offset': None, 'time_zone': None, 'geo_enabled': True, 'verified': False, 'statuses_count': 95794, 'lang': None, 'contributors_enabled': False, 'is_translator': False, 'is_translation_enabled': False, 'profile_background_color': 'C0DEED', 'profile_background_image_url': 'http://abs.twimg.com/images/themes/theme1/bg.png', 'profile_background_image_url_https': 'https://abs.twimg.com/images/themes/theme1/bg.png', 'profile_background_tile': False, 'profile_image_url': 'http://pbs.twimg.com/profile_images/1278358897015824390/NkquoWZV_normal.jpg', 'profile_image_url_https': 'https://pbs.twimg.com/profile_images/1278358897015824390/NkquoWZV_normal.jpg', 'profile_banner_url': 'https://pbs.twimg.com/profile_banners/3246132338/1461973608', 'profile_link_color': '1DA1F2', 'profile_sidebar_border_color': 'C0DEED', 'profile_sidebar_fill_color': 'DDEEF6', 'profile_text_color': '333333', 'profile_use_background_image': True, 'has_extended_profile': False, 'default_profile': True, 'default_profile_image': False, 'following': None, 'follow_request_sent': None, 'notifications': None, 'translator_type': 'none'}, 'geo': None, 'coordinates': None, 'place': None, 'contributors': None, 'is_quote_status': True, 'quoted_status_id': 1251272475901603841, 'quoted_status_id_str': '1251272475901603841', 'quoted_status': {'created_at': 'Fri Apr 17 22:13:00 +0000 2020', 'id': 1251272475901603841, 'id_str': '1251272475901603841', 'text': '@SmithAshleyD @marklaslett_NZ @b_weissert @chadcookpt Yes but you wold still b better using a Bayesian approach and… https://t.co/S38SRirXAY', 'truncated': True, 'entities': {'hashtags': [], 'symbols': [], 'user_mentions': [{'screen_name': 'SmithAshleyD', 'name': 'Ashley Smith', 'id': 2328994542, 'id_str': '2328994542', 'indices': [0, 13]}, {'screen_name': 'marklaslett_NZ', 'name': 'Mark Laslett', 'id': 776367644752515072, 'id_str': '776367644752515072', 'indices': [14, 29]}, {'screen_name': 'b_weissert', 'name': 'bill weissert', 'id': 284849951, 'id_str': '284849951', 'indices': [30, 41]}, {'screen_name': 'chadcookpt', 'name': 'ChadCookPT', 'id': 2337311360, 'id_str': '2337311360', 'indices': [42, 53]}], 'urls': [{'url': 'https://t.co/S38SRirXAY', 'expanded_url': 'https://twitter.com/i/web/status/1251272475901603841', 'display_url': 'twitter.com/i/web/status/1…', 'indices': [117, 140]}]}, 'metadata': {'iso_language_code': 'en', 'result_type': 'recent'}, 'source': '<a href=\"http://twitter.com/#!/download/ipad\" rel=\"nofollow\">Twitter for iPad</a>', 'in_reply_to_status_id': 1251269264062832640, 'in_reply_to_status_id_str': '1251269264062832640', 'in_reply_to_user_id': 2328994542, 'in_reply_to_user_id_str': '2328994542', 'in_reply_to_screen_name': 'SmithAshleyD', 'user': {'id': 3246132338, 'id_str': '3246132338', 'name': '🚴🏻\\u200d♂️ ɹǝʇlnoԀ pıʌɐᗡ 🚴🏻\\u200d♂️ 𝔹𝕖 𝕜𝕚𝕟𝕕 🇫🇷', 'screen_name': 'Retlouping', 'location': 'Coon Rapids MN, USA', 'description': 'All my opinions are my own. Dislikes evidence based ostriches ( An evidence based ostrich ignores evidence against, whilst waiting for evidence to support)', 'url': 'https://t.co/r7zNx0eTW0', 'entities': {'url': {'urls': [{'url': 'https://t.co/r7zNx0eTW0', 'expanded_url': 'http://youtu.be/u3BwXOkbWCo', 'display_url': 'youtu.be/u3BwXOkbWCo', 'indices': [0, 23]}]}, 'description': {'urls': []}}, 'protected': False, 'followers_count': 9339, 'friends_count': 1063, 'listed_count': 112, 'created_at': 'Mon Jun 15 15:19:18 +0000 2015', 'favourites_count': 78069, 'utc_offset': None, 'time_zone': None, 'geo_enabled': True, 'verified': False, 'statuses_count': 95794, 'lang': None, 'contributors_enabled': False, 'is_translator': False, 'is_translation_enabled': False, 'profile_background_color': 'C0DEED', 'profile_background_image_url': 'http://abs.twimg.com/images/themes/theme1/bg.png', 'profile_background_image_url_https': 'https://abs.twimg.com/images/themes/theme1/bg.png', 'profile_background_tile': False, 'profile_image_url': 'http://pbs.twimg.com/profile_images/1278358897015824390/NkquoWZV_normal.jpg', 'profile_image_url_https': 'https://pbs.twimg.com/profile_images/1278358897015824390/NkquoWZV_normal.jpg', 'profile_banner_url': 'https://pbs.twimg.com/profile_banners/3246132338/1461973608', 'profile_link_color': '1DA1F2', 'profile_sidebar_border_color': 'C0DEED', 'profile_sidebar_fill_color': 'DDEEF6', 'profile_text_color': '333333', 'profile_use_background_image': True, 'has_extended_profile': False, 'default_profile': True, 'default_profile_image': False, 'following': None, 'follow_request_sent': None, 'notifications': None, 'translator_type': 'none'}, 'geo': None, 'coordinates': None, 'place': None, 'contributors': None, 'is_quote_status': False, 'retweet_count': 0, 'favorite_count': 1, 'favorited': False, 'retweeted': False, 'possibly_sensitive': False, 'lang': 'en'}, 'retweet_count': 0, 'favorite_count': 0, 'favorited': False, 'retweeted': False, 'possibly_sensitive': False, 'lang': 'en'}, created_at=datetime.datetime(2020, 8, 20, 7, 13, 37), id=1296344624135573504, id_str='1296344624135573504', text='@GatesPhysio If pre test there is a low probability of a condition even a great test only shifts the probability sl… https://t.co/TXAx2D5Br6', truncated=True, entities={'hashtags': [], 'symbols': [], 'user_mentions': [{'screen_name': 'GatesPhysio', 'name': 'John Gates 😷', 'id': 451401278, 'id_str': '451401278', 'indices': [0, 12]}], 'urls': [{'url': 'https://t.co/TXAx2D5Br6', 'expanded_url': 'https://twitter.com/i/web/status/1296344624135573504', 'display_url': 'twitter.com/i/web/status/1…', 'indices': [117, 140]}]}, metadata={'iso_language_code': 'en', 'result_type': 'recent'}, source='Twitter for iPad', source_url='http://twitter.com/#!/download/ipad', in_reply_to_status_id=1296343769797795842, in_reply_to_status_id_str='1296343769797795842', in_reply_to_user_id=3246132338, in_reply_to_user_id_str='3246132338', in_reply_to_screen_name='Retlouping', author=User(_api=<tweepy.api.API object at 0x7fdf854cc470>, _json={'id': 3246132338, 'id_str': '3246132338', 'name': '🚴🏻\\u200d♂️ ɹǝʇlnoԀ pıʌɐᗡ 🚴🏻\\u200d♂️ 𝔹𝕖 𝕜𝕚𝕟𝕕 🇫🇷', 'screen_name': 'Retlouping', 'location': 'Coon Rapids MN, USA', 'description': 'All my opinions are my own. Dislikes evidence based ostriches ( An evidence based ostrich ignores evidence against, whilst waiting for evidence to support)', 'url': 'https://t.co/r7zNx0eTW0', 'entities': {'url': {'urls': [{'url': 'https://t.co/r7zNx0eTW0', 'expanded_url': 'http://youtu.be/u3BwXOkbWCo', 'display_url': 'youtu.be/u3BwXOkbWCo', 'indices': [0, 23]}]}, 'description': {'urls': []}}, 'protected': False, 'followers_count': 9339, 'friends_count': 1063, 'listed_count': 112, 'created_at': 'Mon Jun 15 15:19:18 +0000 2015', 'favourites_count': 78069, 'utc_offset': None, 'time_zone': None, 'geo_enabled': True, 'verified': False, 'statuses_count': 95794, 'lang': None, 'contributors_enabled': False, 'is_translator': False, 'is_translation_enabled': False, 'profile_background_color': 'C0DEED', 'profile_background_image_url': 'http://abs.twimg.com/images/themes/theme1/bg.png', 'profile_background_image_url_https': 'https://abs.twimg.com/images/themes/theme1/bg.png', 'profile_background_tile': False, 'profile_image_url': 'http://pbs.twimg.com/profile_images/1278358897015824390/NkquoWZV_normal.jpg', 'profile_image_url_https': 'https://pbs.twimg.com/profile_images/1278358897015824390/NkquoWZV_normal.jpg', 'profile_banner_url': 'https://pbs.twimg.com/profile_banners/3246132338/1461973608', 'profile_link_color': '1DA1F2', 'profile_sidebar_border_color': 'C0DEED', 'profile_sidebar_fill_color': 'DDEEF6', 'profile_text_color': '333333', 'profile_use_background_image': True, 'has_extended_profile': False, 'default_profile': True, 'default_profile_image': False, 'following': None, 'follow_request_sent': None, 'notifications': None, 'translator_type': 'none'}, id=3246132338, id_str='3246132338', name='🚴🏻\\u200d♂️ ɹǝʇlnoԀ pıʌɐᗡ 🚴🏻\\u200d♂️ 𝔹𝕖 𝕜𝕚𝕟𝕕 🇫🇷', screen_name='Retlouping', location='Coon Rapids MN, USA', description='All my opinions are my own. Dislikes evidence based ostriches ( An evidence based ostrich ignores evidence against, whilst waiting for evidence to support)', url='https://t.co/r7zNx0eTW0', entities={'url': {'urls': [{'url': 'https://t.co/r7zNx0eTW0', 'expanded_url': 'http://youtu.be/u3BwXOkbWCo', 'display_url': 'youtu.be/u3BwXOkbWCo', 'indices': [0, 23]}]}, 'description': {'urls': []}}, protected=False, followers_count=9339, friends_count=1063, listed_count=112, created_at=datetime.datetime(2015, 6, 15, 15, 19, 18), favourites_count=78069, utc_offset=None, time_zone=None, geo_enabled=True, verified=False, statuses_count=95794, lang=None, contributors_enabled=False, is_translator=False, is_translation_enabled=False, profile_background_color='C0DEED', profile_background_image_url='http://abs.twimg.com/images/themes/theme1/bg.png', profile_background_image_url_https='https://abs.twimg.com/images/themes/theme1/bg.png', profile_background_tile=False, profile_image_url='http://pbs.twimg.com/profile_images/1278358897015824390/NkquoWZV_normal.jpg', profile_image_url_https='https://pbs.twimg.com/profile_images/1278358897015824390/NkquoWZV_normal.jpg', profile_banner_url='https://pbs.twimg.com/profile_banners/3246132338/1461973608', profile_link_color='1DA1F2', profile_sidebar_border_color='C0DEED', profile_sidebar_fill_color='DDEEF6', profile_text_color='333333', profile_use_background_image=True, has_extended_profile=False, default_profile=True, default_profile_image=False, following=False, follow_request_sent=None, notifications=None, translator_type='none'), user=User(_api=<tweepy.api.API object at 0x7fdf854cc470>, _json={'id': 3246132338, 'id_str': '3246132338', 'name': '🚴🏻\\u200d♂️ ɹǝʇlnoԀ pıʌɐᗡ 🚴🏻\\u200d♂️ 𝔹𝕖 𝕜𝕚𝕟𝕕 🇫🇷', 'screen_name': 'Retlouping', 'location': 'Coon Rapids MN, USA', 'description': 'All my opinions are my own. Dislikes evidence based ostriches ( An evidence based ostrich ignores evidence against, whilst waiting for evidence to support)', 'url': 'https://t.co/r7zNx0eTW0', 'entities': {'url': {'urls': [{'url': 'https://t.co/r7zNx0eTW0', 'expanded_url': 'http://youtu.be/u3BwXOkbWCo', 'display_url': 'youtu.be/u3BwXOkbWCo', 'indices': [0, 23]}]}, 'description': {'urls': []}}, 'protected': False, 'followers_count': 9339, 'friends_count': 1063, 'listed_count': 112, 'created_at': 'Mon Jun 15 15:19:18 +0000 2015', 'favourites_count': 78069, 'utc_offset': None, 'time_zone': None, 'geo_enabled': True, 'verified': False, 'statuses_count': 95794, 'lang': None, 'contributors_enabled': False, 'is_translator': False, 'is_translation_enabled': False, 'profile_background_color': 'C0DEED', 'profile_background_image_url': 'http://abs.twimg.com/images/themes/theme1/bg.png', 'profile_background_image_url_https': 'https://abs.twimg.com/images/themes/theme1/bg.png', 'profile_background_tile': False, 'profile_image_url': 'http://pbs.twimg.com/profile_images/1278358897015824390/NkquoWZV_normal.jpg', 'profile_image_url_https': 'https://pbs.twimg.com/profile_images/1278358897015824390/NkquoWZV_normal.jpg', 'profile_banner_url': 'https://pbs.twimg.com/profile_banners/3246132338/1461973608', 'profile_link_color': '1DA1F2', 'profile_sidebar_border_color': 'C0DEED', 'profile_sidebar_fill_color': 'DDEEF6', 'profile_text_color': '333333', 'profile_use_background_image': True, 'has_extended_profile': False, 'default_profile': True, 'default_profile_image': False, 'following': None, 'follow_request_sent': None, 'notifications': None, 'translator_type': 'none'}, id=3246132338, id_str='3246132338', name='🚴🏻\\u200d♂️ ɹǝʇlnoԀ pıʌɐᗡ 🚴🏻\\u200d♂️ 𝔹𝕖 𝕜𝕚𝕟𝕕 🇫🇷', screen_name='Retlouping', location='Coon Rapids MN, USA', description='All my opinions are my own. Dislikes evidence based ostriches ( An evidence based ostrich ignores evidence against, whilst waiting for evidence to support)', url='https://t.co/r7zNx0eTW0', entities={'url': {'urls': [{'url': 'https://t.co/r7zNx0eTW0', 'expanded_url': 'http://youtu.be/u3BwXOkbWCo', 'display_url': 'youtu.be/u3BwXOkbWCo', 'indices': [0, 23]}]}, 'description': {'urls': []}}, protected=False, followers_count=9339, friends_count=1063, listed_count=112, created_at=datetime.datetime(2015, 6, 15, 15, 19, 18), favourites_count=78069, utc_offset=None, time_zone=None, geo_enabled=True, verified=False, statuses_count=95794, lang=None, contributors_enabled=False, is_translator=False, is_translation_enabled=False, profile_background_color='C0DEED', profile_background_image_url='http://abs.twimg.com/images/themes/theme1/bg.png', profile_background_image_url_https='https://abs.twimg.com/images/themes/theme1/bg.png', profile_background_tile=False, profile_image_url='http://pbs.twimg.com/profile_images/1278358897015824390/NkquoWZV_normal.jpg', profile_image_url_https='https://pbs.twimg.com/profile_images/1278358897015824390/NkquoWZV_normal.jpg', profile_banner_url='https://pbs.twimg.com/profile_banners/3246132338/1461973608', profile_link_color='1DA1F2', profile_sidebar_border_color='C0DEED', profile_sidebar_fill_color='DDEEF6', profile_text_color='333333', profile_use_background_image=True, has_extended_profile=False, default_profile=True, default_profile_image=False, following=False, follow_request_sent=None, notifications=None, translator_type='none'), geo=None, coordinates=None, place=None, contributors=None, is_quote_status=True, quoted_status_id=1251272475901603841, quoted_status_id_str='1251272475901603841', quoted_status=Status(_api=<tweepy.api.API object at 0x7fdf854cc470>, _json={'created_at': 'Fri Apr 17 22:13:00 +0000 2020', 'id': 1251272475901603841, 'id_str': '1251272475901603841', 'text': '@SmithAshleyD @marklaslett_NZ @b_weissert @chadcookpt Yes but you wold still b better using a Bayesian approach and… https://t.co/S38SRirXAY', 'truncated': True, 'entities': {'hashtags': [], 'symbols': [], 'user_mentions': [{'screen_name': 'SmithAshleyD', 'name': 'Ashley Smith', 'id': 2328994542, 'id_str': '2328994542', 'indices': [0, 13]}, {'screen_name': 'marklaslett_NZ', 'name': 'Mark Laslett', 'id': 776367644752515072, 'id_str': '776367644752515072', 'indices': [14, 29]}, {'screen_name': 'b_weissert', 'name': 'bill weissert', 'id': 284849951, 'id_str': '284849951', 'indices': [30, 41]}, {'screen_name': 'chadcookpt', 'name': 'ChadCookPT', 'id': 2337311360, 'id_str': '2337311360', 'indices': [42, 53]}], 'urls': [{'url': 'https://t.co/S38SRirXAY', 'expanded_url': 'https://twitter.com/i/web/status/1251272475901603841', 'display_url': 'twitter.com/i/web/status/1…', 'indices': [117, 140]}]}, 'metadata': {'iso_language_code': 'en', 'result_type': 'recent'}, 'source': '<a href=\"http://twitter.com/#!/download/ipad\" rel=\"nofollow\">Twitter for iPad</a>', 'in_reply_to_status_id': 1251269264062832640, 'in_reply_to_status_id_str': '1251269264062832640', 'in_reply_to_user_id': 2328994542, 'in_reply_to_user_id_str': '2328994542', 'in_reply_to_screen_name': 'SmithAshleyD', 'user': {'id': 3246132338, 'id_str': '3246132338', 'name': '🚴🏻\\u200d♂️ ɹǝʇlnoԀ pıʌɐᗡ 🚴🏻\\u200d♂️ 𝔹𝕖 𝕜𝕚𝕟𝕕 🇫🇷', 'screen_name': 'Retlouping', 'location': 'Coon Rapids MN, USA', 'description': 'All my opinions are my own. Dislikes evidence based ostriches ( An evidence based ostrich ignores evidence against, whilst waiting for evidence to support)', 'url': 'https://t.co/r7zNx0eTW0', 'entities': {'url': {'urls': [{'url': 'https://t.co/r7zNx0eTW0', 'expanded_url': 'http://youtu.be/u3BwXOkbWCo', 'display_url': 'youtu.be/u3BwXOkbWCo', 'indices': [0, 23]}]}, 'description': {'urls': []}}, 'protected': False, 'followers_count': 9339, 'friends_count': 1063, 'listed_count': 112, 'created_at': 'Mon Jun 15 15:19:18 +0000 2015', 'favourites_count': 78069, 'utc_offset': None, 'time_zone': None, 'geo_enabled': True, 'verified': False, 'statuses_count': 95794, 'lang': None, 'contributors_enabled': False, 'is_translator': False, 'is_translation_enabled': False, 'profile_background_color': 'C0DEED', 'profile_background_image_url': 'http://abs.twimg.com/images/themes/theme1/bg.png', 'profile_background_image_url_https': 'https://abs.twimg.com/images/themes/theme1/bg.png', 'profile_background_tile': False, 'profile_image_url': 'http://pbs.twimg.com/profile_images/1278358897015824390/NkquoWZV_normal.jpg', 'profile_image_url_https': 'https://pbs.twimg.com/profile_images/1278358897015824390/NkquoWZV_normal.jpg', 'profile_banner_url': 'https://pbs.twimg.com/profile_banners/3246132338/1461973608', 'profile_link_color': '1DA1F2', 'profile_sidebar_border_color': 'C0DEED', 'profile_sidebar_fill_color': 'DDEEF6', 'profile_text_color': '333333', 'profile_use_background_image': True, 'has_extended_profile': False, 'default_profile': True, 'default_profile_image': False, 'following': None, 'follow_request_sent': None, 'notifications': None, 'translator_type': 'none'}, 'geo': None, 'coordinates': None, 'place': None, 'contributors': None, 'is_quote_status': False, 'retweet_count': 0, 'favorite_count': 1, 'favorited': False, 'retweeted': False, 'possibly_sensitive': False, 'lang': 'en'}, created_at=datetime.datetime(2020, 4, 17, 22, 13), id=1251272475901603841, id_str='1251272475901603841', text='@SmithAshleyD @marklaslett_NZ @b_weissert @chadcookpt Yes but you wold still b better using a Bayesian approach and… https://t.co/S38SRirXAY', truncated=True, entities={'hashtags': [], 'symbols': [], 'user_mentions': [{'screen_name': 'SmithAshleyD', 'name': 'Ashley Smith', 'id': 2328994542, 'id_str': '2328994542', 'indices': [0, 13]}, {'screen_name': 'marklaslett_NZ', 'name': 'Mark Laslett', 'id': 776367644752515072, 'id_str': '776367644752515072', 'indices': [14, 29]}, {'screen_name': 'b_weissert', 'name': 'bill weissert', 'id': 284849951, 'id_str': '284849951', 'indices': [30, 41]}, {'screen_name': 'chadcookpt', 'name': 'ChadCookPT', 'id': 2337311360, 'id_str': '2337311360', 'indices': [42, 53]}], 'urls': [{'url': 'https://t.co/S38SRirXAY', 'expanded_url': 'https://twitter.com/i/web/status/1251272475901603841', 'display_url': 'twitter.com/i/web/status/1…', 'indices': [117, 140]}]}, metadata={'iso_language_code': 'en', 'result_type': 'recent'}, source='Twitter for iPad', source_url='http://twitter.com/#!/download/ipad', in_reply_to_status_id=1251269264062832640, in_reply_to_status_id_str='1251269264062832640', in_reply_to_user_id=2328994542, in_reply_to_user_id_str='2328994542', in_reply_to_screen_name='SmithAshleyD', author=User(_api=<tweepy.api.API object at 0x7fdf854cc470>, _json={'id': 3246132338, 'id_str': '3246132338', 'name': '🚴🏻\\u200d♂️ ɹǝʇlnoԀ pıʌɐᗡ 🚴🏻\\u200d♂️ 𝔹𝕖 𝕜𝕚𝕟𝕕 🇫🇷', 'screen_name': 'Retlouping', 'location': 'Coon Rapids MN, USA', 'description': 'All my opinions are my own. Dislikes evidence based ostriches ( An evidence based ostrich ignores evidence against, whilst waiting for evidence to support)', 'url': 'https://t.co/r7zNx0eTW0', 'entities': {'url': {'urls': [{'url': 'https://t.co/r7zNx0eTW0', 'expanded_url': 'http://youtu.be/u3BwXOkbWCo', 'display_url': 'youtu.be/u3BwXOkbWCo', 'indices': [0, 23]}]}, 'description': {'urls': []}}, 'protected': False, 'followers_count': 9339, 'friends_count': 1063, 'listed_count': 112, 'created_at': 'Mon Jun 15 15:19:18 +0000 2015', 'favourites_count': 78069, 'utc_offset': None, 'time_zone': None, 'geo_enabled': True, 'verified': False, 'statuses_count': 95794, 'lang': None, 'contributors_enabled': False, 'is_translator': False, 'is_translation_enabled': False, 'profile_background_color': 'C0DEED', 'profile_background_image_url': 'http://abs.twimg.com/images/themes/theme1/bg.png', 'profile_background_image_url_https': 'https://abs.twimg.com/images/themes/theme1/bg.png', 'profile_background_tile': False, 'profile_image_url': 'http://pbs.twimg.com/profile_images/1278358897015824390/NkquoWZV_normal.jpg', 'profile_image_url_https': 'https://pbs.twimg.com/profile_images/1278358897015824390/NkquoWZV_normal.jpg', 'profile_banner_url': 'https://pbs.twimg.com/profile_banners/3246132338/1461973608', 'profile_link_color': '1DA1F2', 'profile_sidebar_border_color': 'C0DEED', 'profile_sidebar_fill_color': 'DDEEF6', 'profile_text_color': '333333', 'profile_use_background_image': True, 'has_extended_profile': False, 'default_profile': True, 'default_profile_image': False, 'following': None, 'follow_request_sent': None, 'notifications': None, 'translator_type': 'none'}, id=3246132338, id_str='3246132338', name='🚴🏻\\u200d♂️ ɹǝʇlnoԀ pıʌɐᗡ 🚴🏻\\u200d♂️ 𝔹𝕖 𝕜𝕚𝕟𝕕 🇫🇷', screen_name='Retlouping', location='Coon Rapids MN, USA', description='All my opinions are my own. Dislikes evidence based ostriches ( An evidence based ostrich ignores evidence against, whilst waiting for evidence to support)', url='https://t.co/r7zNx0eTW0', entities={'url': {'urls': [{'url': 'https://t.co/r7zNx0eTW0', 'expanded_url': 'http://youtu.be/u3BwXOkbWCo', 'display_url': 'youtu.be/u3BwXOkbWCo', 'indices': [0, 23]}]}, 'description': {'urls': []}}, protected=False, followers_count=9339, friends_count=1063, listed_count=112, created_at=datetime.datetime(2015, 6, 15, 15, 19, 18), favourites_count=78069, utc_offset=None, time_zone=None, geo_enabled=True, verified=False, statuses_count=95794, lang=None, contributors_enabled=False, is_translator=False, is_translation_enabled=False, profile_background_color='C0DEED', profile_background_image_url='http://abs.twimg.com/images/themes/theme1/bg.png', profile_background_image_url_https='https://abs.twimg.com/images/themes/theme1/bg.png', profile_background_tile=False, profile_image_url='http://pbs.twimg.com/profile_images/1278358897015824390/NkquoWZV_normal.jpg', profile_image_url_https='https://pbs.twimg.com/profile_images/1278358897015824390/NkquoWZV_normal.jpg', profile_banner_url='https://pbs.twimg.com/profile_banners/3246132338/1461973608', profile_link_color='1DA1F2', profile_sidebar_border_color='C0DEED', profile_sidebar_fill_color='DDEEF6', profile_text_color='333333', profile_use_background_image=True, has_extended_profile=False, default_profile=True, default_profile_image=False, following=False, follow_request_sent=None, notifications=None, translator_type='none'), user=User(_api=<tweepy.api.API object at 0x7fdf854cc470>, _json={'id': 3246132338, 'id_str': '3246132338', 'name': '🚴🏻\\u200d♂️ ɹǝʇlnoԀ pıʌɐᗡ 🚴🏻\\u200d♂️ 𝔹𝕖 𝕜𝕚𝕟𝕕 🇫🇷', 'screen_name': 'Retlouping', 'location': 'Coon Rapids MN, USA', 'description': 'All my opinions are my own. Dislikes evidence based ostriches ( An evidence based ostrich ignores evidence against, whilst waiting for evidence to support)', 'url': 'https://t.co/r7zNx0eTW0', 'entities': {'url': {'urls': [{'url': 'https://t.co/r7zNx0eTW0', 'expanded_url': 'http://youtu.be/u3BwXOkbWCo', 'display_url': 'youtu.be/u3BwXOkbWCo', 'indices': [0, 23]}]}, 'description': {'urls': []}}, 'protected': False, 'followers_count': 9339, 'friends_count': 1063, 'listed_count': 112, 'created_at': 'Mon Jun 15 15:19:18 +0000 2015', 'favourites_count': 78069, 'utc_offset': None, 'time_zone': None, 'geo_enabled': True, 'verified': False, 'statuses_count': 95794, 'lang': None, 'contributors_enabled': False, 'is_translator': False, 'is_translation_enabled': False, 'profile_background_color': 'C0DEED', 'profile_background_image_url': 'http://abs.twimg.com/images/themes/theme1/bg.png', 'profile_background_image_url_https': 'https://abs.twimg.com/images/themes/theme1/bg.png', 'profile_background_tile': False, 'profile_image_url': 'http://pbs.twimg.com/profile_images/1278358897015824390/NkquoWZV_normal.jpg', 'profile_image_url_https': 'https://pbs.twimg.com/profile_images/1278358897015824390/NkquoWZV_normal.jpg', 'profile_banner_url': 'https://pbs.twimg.com/profile_banners/3246132338/1461973608', 'profile_link_color': '1DA1F2', 'profile_sidebar_border_color': 'C0DEED', 'profile_sidebar_fill_color': 'DDEEF6', 'profile_text_color': '333333', 'profile_use_background_image': True, 'has_extended_profile': False, 'default_profile': True, 'default_profile_image': False, 'following': None, 'follow_request_sent': None, 'notifications': None, 'translator_type': 'none'}, id=3246132338, id_str='3246132338', name='🚴🏻\\u200d♂️ ɹǝʇlnoԀ pıʌɐᗡ 🚴🏻\\u200d♂️ 𝔹𝕖 𝕜𝕚𝕟𝕕 🇫🇷', screen_name='Retlouping', location='Coon Rapids MN, USA', description='All my opinions are my own. Dislikes evidence based ostriches ( An evidence based ostrich ignores evidence against, whilst waiting for evidence to support)', url='https://t.co/r7zNx0eTW0', entities={'url': {'urls': [{'url': 'https://t.co/r7zNx0eTW0', 'expanded_url': 'http://youtu.be/u3BwXOkbWCo', 'display_url': 'youtu.be/u3BwXOkbWCo', 'indices': [0, 23]}]}, 'description': {'urls': []}}, protected=False, followers_count=9339, friends_count=1063, listed_count=112, created_at=datetime.datetime(2015, 6, 15, 15, 19, 18), favourites_count=78069, utc_offset=None, time_zone=None, geo_enabled=True, verified=False, statuses_count=95794, lang=None, contributors_enabled=False, is_translator=False, is_translation_enabled=False, profile_background_color='C0DEED', profile_background_image_url='http://abs.twimg.com/images/themes/theme1/bg.png', profile_background_image_url_https='https://abs.twimg.com/images/themes/theme1/bg.png', profile_background_tile=False, profile_image_url='http://pbs.twimg.com/profile_images/1278358897015824390/NkquoWZV_normal.jpg', profile_image_url_https='https://pbs.twimg.com/profile_images/1278358897015824390/NkquoWZV_normal.jpg', profile_banner_url='https://pbs.twimg.com/profile_banners/3246132338/1461973608', profile_link_color='1DA1F2', profile_sidebar_border_color='C0DEED', profile_sidebar_fill_color='DDEEF6', profile_text_color='333333', profile_use_background_image=True, has_extended_profile=False, default_profile=True, default_profile_image=False, following=False, follow_request_sent=None, notifications=None, translator_type='none'), geo=None, coordinates=None, place=None, contributors=None, is_quote_status=False, retweet_count=0, favorite_count=1, favorited=False, retweeted=False, possibly_sensitive=False, lang='en'), retweet_count=0, favorite_count=0, favorited=False, retweeted=False, possibly_sensitive=False, lang='en'), Status(_api=<tweepy.api.API object at 0x7fdf854cc470>, _json={'created_at': 'Thu Aug 20 07:13:37 +0000 2020', 'id': 1296344624135536645, 'id_str': '1296344624135536645', 'text': 'RT @JolyonMaugham: They deny Gove was involved in the award but there is no specific denial that Cummings was involved in handing over publ…', 'truncated': False, 'entities': {'hashtags': [], 'symbols': [], 'user_mentions': [{'screen_name': 'JolyonMaugham', 'name': 'Jo Maugham QC', 'id': 406842374, 'id_str': '406842374', 'indices': [3, 17]}], 'urls': []}, 'metadata': {'iso_language_code': 'en', 'result_type': 'recent'}, 'source': '<a href=\"http://twitter.com/download/android\" rel=\"nofollow\">Twitter for Android</a>', 'in_reply_to_status_id': None, 'in_reply_to_status_id_str': None, 'in_reply_to_user_id': None, 'in_reply_to_user_id_str': None, 'in_reply_to_screen_name': None, 'user': {'id': 1189870353172123648, 'id_str': '1189870353172123648', 'name': 'Claire Thurwood ⚘ 3.5%', 'screen_name': 'ClaireThurwood', 'location': '', 'description': 'Musician, mother of three, concerned about climate change & environment. #ResistTheTories #ReadTheRussiaReport 🇪🇺🇪🇺\\n#dontbuythesun #GTTO #JohnsonDemocide', 'url': None, 'entities': {'description': {'urls': []}}, 'protected': False, 'followers_count': 1712, 'friends_count': 3400, 'listed_count': 1, 'created_at': 'Thu Oct 31 11:43:04 +0000 2019', 'favourites_count': 46230, 'utc_offset': None, 'time_zone': None, 'geo_enabled': True, 'verified': False, 'statuses_count': 36011, 'lang': None, 'contributors_enabled': False, 'is_translator': False, 'is_translation_enabled': False, 'profile_background_color': 'F5F8FA', 'profile_background_image_url': None, 'profile_background_image_url_https': None, 'profile_background_tile': False, 'profile_image_url': 'http://pbs.twimg.com/profile_images/1286589349312815105/s5n85iAb_normal.jpg', 'profile_image_url_https': 'https://pbs.twimg.com/profile_images/1286589349312815105/s5n85iAb_normal.jpg', 'profile_banner_url': 'https://pbs.twimg.com/profile_banners/1189870353172123648/1577558428', 'profile_link_color': '1DA1F2', 'profile_sidebar_border_color': 'C0DEED', 'profile_sidebar_fill_color': 'DDEEF6', 'profile_text_color': '333333', 'profile_use_background_image': True, 'has_extended_profile': False, 'default_profile': True, 'default_profile_image': False, 'following': None, 'follow_request_sent': None, 'notifications': None, 'translator_type': 'none'}, 'geo': None, 'coordinates': None, 'place': None, 'contributors': None, 'retweeted_status': {'created_at': 'Thu Aug 20 06:01:57 +0000 2020', 'id': 1296326586006896641, 'id_str': '1296326586006896641', 'text': 'They deny Gove was involved in the award but there is no specific denial that Cummings was involved in handing over… https://t.co/iQtrpfoOPZ', 'truncated': True, 'entities': {'hashtags': [], 'symbols': [], 'user_mentions': [], 'urls': [{'url': 'https://t.co/iQtrpfoOPZ', 'expanded_url': 'https://twitter.com/i/web/status/1296326586006896641', 'display_url': 'twitter.com/i/web/status/1…', 'indices': [117, 140]}]}, 'metadata': {'iso_language_code': 'en', 'result_type': 'recent'}, 'source': '<a href=\"http://twitter.com/download/android\" rel=\"nofollow\">Twitter for Android</a>', 'in_reply_to_status_id': 1296321063832498179, 'in_reply_to_status_id_str': '1296321063832498179', 'in_reply_to_user_id': 406842374, 'in_reply_to_user_id_str': '406842374', 'in_reply_to_screen_name': 'JolyonMaugham', 'user': {'id': 406842374, 'id_str': '406842374', 'name': 'Jo Maugham QC', 'screen_name': 'JolyonMaugham', 'location': 'London', 'description': 'Director @GoodLawProject. Lawyer. Perform your values.', 'url': 'https://t.co/3oAanfezzj', 'entities': {'url': {'urls': [{'url': 'https://t.co/3oAanfezzj', 'expanded_url': 'http://goodlawproject.org', 'display_url': 'goodlawproject.org', 'indices': [0, 23]}]}, 'description': {'urls': []}}, 'protected': False, 'followers_count': 225942, 'friends_count': 1861, 'listed_count': 1580, 'created_at': 'Mon Nov 07 08:23:01 +0000 2011', 'favourites_count': 60383, 'utc_offset': None, 'time_zone': None, 'geo_enabled': True, 'verified': True, 'statuses_count': 111959, 'lang': None, 'contributors_enabled': False, 'is_translator': False, 'is_translation_enabled': False, 'profile_background_color': '709397', 'profile_background_image_url': 'http://abs.twimg.com/images/themes/theme6/bg.gif', 'profile_background_image_url_https': 'https://abs.twimg.com/images/themes/theme6/bg.gif', 'profile_background_tile': False, 'profile_image_url': 'http://pbs.twimg.com/profile_images/1114418560569311232/lPQh79Be_normal.jpg', 'profile_image_url_https': 'https://pbs.twimg.com/profile_images/1114418560569311232/lPQh79Be_normal.jpg', 'profile_banner_url': 'https://pbs.twimg.com/profile_banners/406842374/1568954167', 'profile_link_color': 'FF3300', 'profile_sidebar_border_color': '86A4A6', 'profile_sidebar_fill_color': 'A0C5C7', 'profile_text_color': '333333', 'profile_use_background_image': False, 'has_extended_profile': True, 'default_profile': False, 'default_profile_image': False, 'following': None, 'follow_request_sent': None, 'notifications': None, 'translator_type': 'none'}, 'geo': None, 'coordinates': None, 'place': None, 'contributors': None, 'is_quote_status': False, 'retweet_count': 144, 'favorite_count': 379, 'favorited': False, 'retweeted': False, 'possibly_sensitive': False, 'lang': 'en'}, 'is_quote_status': False, 'retweet_count': 144, 'favorite_count': 0, 'favorited': False, 'retweeted': False, 'lang': 'en'}, created_at=datetime.datetime(2020, 8, 20, 7, 13, 37), id=1296344624135536645, id_str='1296344624135536645', text='RT @JolyonMaugham: They deny Gove was involved in the award but there is no specific denial that Cummings was involved in handing over publ…', truncated=False, entities={'hashtags': [], 'symbols': [], 'user_mentions': [{'screen_name': 'JolyonMaugham', 'name': 'Jo Maugham QC', 'id': 406842374, 'id_str': '406842374', 'indices': [3, 17]}], 'urls': []}, metadata={'iso_language_code': 'en', 'result_type': 'recent'}, source='Twitter for Android', source_url='http://twitter.com/download/android', in_reply_to_status_id=None, in_reply_to_status_id_str=None, in_reply_to_user_id=None, in_reply_to_user_id_str=None, in_reply_to_screen_name=None, author=User(_api=<tweepy.api.API object at 0x7fdf854cc470>, _json={'id': 1189870353172123648, 'id_str': '1189870353172123648', 'name': 'Claire Thurwood ⚘ 3.5%', 'screen_name': 'ClaireThurwood', 'location': '', 'description': 'Musician, mother of three, concerned about climate change & environment. #ResistTheTories #ReadTheRussiaReport 🇪🇺🇪🇺\\n#dontbuythesun #GTTO #JohnsonDemocide', 'url': None, 'entities': {'description': {'urls': []}}, 'protected': False, 'followers_count': 1712, 'friends_count': 3400, 'listed_count': 1, 'created_at': 'Thu Oct 31 11:43:04 +0000 2019', 'favourites_count': 46230, 'utc_offset': None, 'time_zone': None, 'geo_enabled': True, 'verified': False, 'statuses_count': 36011, 'lang': None, 'contributors_enabled': False, 'is_translator': False, 'is_translation_enabled': False, 'profile_background_color': 'F5F8FA', 'profile_background_image_url': None, 'profile_background_image_url_https': None, 'profile_background_tile': False, 'profile_image_url': 'http://pbs.twimg.com/profile_images/1286589349312815105/s5n85iAb_normal.jpg', 'profile_image_url_https': 'https://pbs.twimg.com/profile_images/1286589349312815105/s5n85iAb_normal.jpg', 'profile_banner_url': 'https://pbs.twimg.com/profile_banners/1189870353172123648/1577558428', 'profile_link_color': '1DA1F2', 'profile_sidebar_border_color': 'C0DEED', 'profile_sidebar_fill_color': 'DDEEF6', 'profile_text_color': '333333', 'profile_use_background_image': True, 'has_extended_profile': False, 'default_profile': True, 'default_profile_image': False, 'following': None, 'follow_request_sent': None, 'notifications': None, 'translator_type': 'none'}, id=1189870353172123648, id_str='1189870353172123648', name='Claire Thurwood ⚘ 3.5%', screen_name='ClaireThurwood', location='', description='Musician, mother of three, concerned about climate change & environment. #ResistTheTories #ReadTheRussiaReport 🇪🇺🇪🇺\\n#dontbuythesun #GTTO #JohnsonDemocide', url=None, entities={'description': {'urls': []}}, protected=False, followers_count=1712, friends_count=3400, listed_count=1, created_at=datetime.datetime(2019, 10, 31, 11, 43, 4), favourites_count=46230, utc_offset=None, time_zone=None, geo_enabled=True, verified=False, statuses_count=36011, lang=None, contributors_enabled=False, is_translator=False, is_translation_enabled=False, profile_background_color='F5F8FA', profile_background_image_url=None, profile_background_image_url_https=None, profile_background_tile=False, profile_image_url='http://pbs.twimg.com/profile_images/1286589349312815105/s5n85iAb_normal.jpg', profile_image_url_https='https://pbs.twimg.com/profile_images/1286589349312815105/s5n85iAb_normal.jpg', profile_banner_url='https://pbs.twimg.com/profile_banners/1189870353172123648/1577558428', profile_link_color='1DA1F2', profile_sidebar_border_color='C0DEED', profile_sidebar_fill_color='DDEEF6', profile_text_color='333333', profile_use_background_image=True, has_extended_profile=False, default_profile=True, default_profile_image=False, following=False, follow_request_sent=None, notifications=None, translator_type='none'), user=User(_api=<tweepy.api.API object at 0x7fdf854cc470>, _json={'id': 1189870353172123648, 'id_str': '1189870353172123648', 'name': 'Claire Thurwood ⚘ 3.5%', 'screen_name': 'ClaireThurwood', 'location': '', 'description': 'Musician, mother of three, concerned about climate change & environment. #ResistTheTories #ReadTheRussiaReport 🇪🇺🇪🇺\\n#dontbuythesun #GTTO #JohnsonDemocide', 'url': None, 'entities': {'description': {'urls': []}}, 'protected': False, 'followers_count': 1712, 'friends_count': 3400, 'listed_count': 1, 'created_at': 'Thu Oct 31 11:43:04 +0000 2019', 'favourites_count': 46230, 'utc_offset': None, 'time_zone': None, 'geo_enabled': True, 'verified': False, 'statuses_count': 36011, 'lang': None, 'contributors_enabled': False, 'is_translator': False, 'is_translation_enabled': False, 'profile_background_color': 'F5F8FA', 'profile_background_image_url': None, 'profile_background_image_url_https': None, 'profile_background_tile': False, 'profile_image_url': 'http://pbs.twimg.com/profile_images/1286589349312815105/s5n85iAb_normal.jpg', 'profile_image_url_https': 'https://pbs.twimg.com/profile_images/1286589349312815105/s5n85iAb_normal.jpg', 'profile_banner_url': 'https://pbs.twimg.com/profile_banners/1189870353172123648/1577558428', 'profile_link_color': '1DA1F2', 'profile_sidebar_border_color': 'C0DEED', 'profile_sidebar_fill_color': 'DDEEF6', 'profile_text_color': '333333', 'profile_use_background_image': True, 'has_extended_profile': False, 'default_profile': True, 'default_profile_image': False, 'following': None, 'follow_request_sent': None, 'notifications': None, 'translator_type': 'none'}, id=1189870353172123648, id_str='1189870353172123648', name='Claire Thurwood ⚘ 3.5%', screen_name='ClaireThurwood', location='', description='Musician, mother of three, concerned about climate change & environment. #ResistTheTories #ReadTheRussiaReport 🇪🇺🇪🇺\\n#dontbuythesun #GTTO #JohnsonDemocide', url=None, entities={'description': {'urls': []}}, protected=False, followers_count=1712, friends_count=3400, listed_count=1, created_at=datetime.datetime(2019, 10, 31, 11, 43, 4), favourites_count=46230, utc_offset=None, time_zone=None, geo_enabled=True, verified=False, statuses_count=36011, lang=None, contributors_enabled=False, is_translator=False, is_translation_enabled=False, profile_background_color='F5F8FA', profile_background_image_url=None, profile_background_image_url_https=None, profile_background_tile=False, profile_image_url='http://pbs.twimg.com/profile_images/1286589349312815105/s5n85iAb_normal.jpg', profile_image_url_https='https://pbs.twimg.com/profile_images/1286589349312815105/s5n85iAb_normal.jpg', profile_banner_url='https://pbs.twimg.com/profile_banners/1189870353172123648/1577558428', profile_link_color='1DA1F2', profile_sidebar_border_color='C0DEED', profile_sidebar_fill_color='DDEEF6', profile_text_color='333333', profile_use_background_image=True, has_extended_profile=False, default_profile=True, default_profile_image=False, following=False, follow_request_sent=None, notifications=None, translator_type='none'), geo=None, coordinates=None, place=None, contributors=None, retweeted_status=Status(_api=<tweepy.api.API object at 0x7fdf854cc470>, _json={'created_at': 'Thu Aug 20 06:01:57 +0000 2020', 'id': 1296326586006896641, 'id_str': '1296326586006896641', 'text': 'They deny Gove was involved in the award but there is no specific denial that Cummings was involved in handing over… https://t.co/iQtrpfoOPZ', 'truncated': True, 'entities': {'hashtags': [], 'symbols': [], 'user_mentions': [], 'urls': [{'url': 'https://t.co/iQtrpfoOPZ', 'expanded_url': 'https://twitter.com/i/web/status/1296326586006896641', 'display_url': 'twitter.com/i/web/status/1…', 'indices': [117, 140]}]}, 'metadata': {'iso_language_code': 'en', 'result_type': 'recent'}, 'source': '<a href=\"http://twitter.com/download/android\" rel=\"nofollow\">Twitter for Android</a>', 'in_reply_to_status_id': 1296321063832498179, 'in_reply_to_status_id_str': '1296321063832498179', 'in_reply_to_user_id': 406842374, 'in_reply_to_user_id_str': '406842374', 'in_reply_to_screen_name': 'JolyonMaugham', 'user': {'id': 406842374, 'id_str': '406842374', 'name': 'Jo Maugham QC', 'screen_name': 'JolyonMaugham', 'location': 'London', 'description': 'Director @GoodLawProject. Lawyer. Perform your values.', 'url': 'https://t.co/3oAanfezzj', 'entities': {'url': {'urls': [{'url': 'https://t.co/3oAanfezzj', 'expanded_url': 'http://goodlawproject.org', 'display_url': 'goodlawproject.org', 'indices': [0, 23]}]}, 'description': {'urls': []}}, 'protected': False, 'followers_count': 225942, 'friends_count': 1861, 'listed_count': 1580, 'created_at': 'Mon Nov 07 08:23:01 +0000 2011', 'favourites_count': 60383, 'utc_offset': None, 'time_zone': None, 'geo_enabled': True, 'verified': True, 'statuses_count': 111959, 'lang': None, 'contributors_enabled': False, 'is_translator': False, 'is_translation_enabled': False, 'profile_background_color': '709397', 'profile_background_image_url': 'http://abs.twimg.com/images/themes/theme6/bg.gif', 'profile_background_image_url_https': 'https://abs.twimg.com/images/themes/theme6/bg.gif', 'profile_background_tile': False, 'profile_image_url': 'http://pbs.twimg.com/profile_images/1114418560569311232/lPQh79Be_normal.jpg', 'profile_image_url_https': 'https://pbs.twimg.com/profile_images/1114418560569311232/lPQh79Be_normal.jpg', 'profile_banner_url': 'https://pbs.twimg.com/profile_banners/406842374/1568954167', 'profile_link_color': 'FF3300', 'profile_sidebar_border_color': '86A4A6', 'profile_sidebar_fill_color': 'A0C5C7', 'profile_text_color': '333333', 'profile_use_background_image': False, 'has_extended_profile': True, 'default_profile': False, 'default_profile_image': False, 'following': None, 'follow_request_sent': None, 'notifications': None, 'translator_type': 'none'}, 'geo': None, 'coordinates': None, 'place': None, 'contributors': None, 'is_quote_status': False, 'retweet_count': 144, 'favorite_count': 379, 'favorited': False, 'retweeted': False, 'possibly_sensitive': False, 'lang': 'en'}, created_at=datetime.datetime(2020, 8, 20, 6, 1, 57), id=1296326586006896641, id_str='1296326586006896641', text='They deny Gove was involved in the award but there is no specific denial that Cummings was involved in handing over… https://t.co/iQtrpfoOPZ', truncated=True, entities={'hashtags': [], 'symbols': [], 'user_mentions': [], 'urls': [{'url': 'https://t.co/iQtrpfoOPZ', 'expanded_url': 'https://twitter.com/i/web/status/1296326586006896641', 'display_url': 'twitter.com/i/web/status/1…', 'indices': [117, 140]}]}, metadata={'iso_language_code': 'en', 'result_type': 'recent'}, source='Twitter for Android', source_url='http://twitter.com/download/android', in_reply_to_status_id=1296321063832498179, in_reply_to_status_id_str='1296321063832498179', in_reply_to_user_id=406842374, in_reply_to_user_id_str='406842374', in_reply_to_screen_name='JolyonMaugham', author=User(_api=<tweepy.api.API object at 0x7fdf854cc470>, _json={'id': 406842374, 'id_str': '406842374', 'name': 'Jo Maugham QC', 'screen_name': 'JolyonMaugham', 'location': 'London', 'description': 'Director @GoodLawProject. Lawyer. Perform your values.', 'url': 'https://t.co/3oAanfezzj', 'entities': {'url': {'urls': [{'url': 'https://t.co/3oAanfezzj', 'expanded_url': 'http://goodlawproject.org', 'display_url': 'goodlawproject.org', 'indices': [0, 23]}]}, 'description': {'urls': []}}, 'protected': False, 'followers_count': 225942, 'friends_count': 1861, 'listed_count': 1580, 'created_at': 'Mon Nov 07 08:23:01 +0000 2011', 'favourites_count': 60383, 'utc_offset': None, 'time_zone': None, 'geo_enabled': True, 'verified': True, 'statuses_count': 111959, 'lang': None, 'contributors_enabled': False, 'is_translator': False, 'is_translation_enabled': False, 'profile_background_color': '709397', 'profile_background_image_url': 'http://abs.twimg.com/images/themes/theme6/bg.gif', 'profile_background_image_url_https': 'https://abs.twimg.com/images/themes/theme6/bg.gif', 'profile_background_tile': False, 'profile_image_url': 'http://pbs.twimg.com/profile_images/1114418560569311232/lPQh79Be_normal.jpg', 'profile_image_url_https': 'https://pbs.twimg.com/profile_images/1114418560569311232/lPQh79Be_normal.jpg', 'profile_banner_url': 'https://pbs.twimg.com/profile_banners/406842374/1568954167', 'profile_link_color': 'FF3300', 'profile_sidebar_border_color': '86A4A6', 'profile_sidebar_fill_color': 'A0C5C7', 'profile_text_color': '333333', 'profile_use_background_image': False, 'has_extended_profile': True, 'default_profile': False, 'default_profile_image': False, 'following': None, 'follow_request_sent': None, 'notifications': None, 'translator_type': 'none'}, id=406842374, id_str='406842374', name='Jo Maugham QC', screen_name='JolyonMaugham', location='London', description='Director @GoodLawProject. Lawyer. Perform your values.', url='https://t.co/3oAanfezzj', entities={'url': {'urls': [{'url': 'https://t.co/3oAanfezzj', 'expanded_url': 'http://goodlawproject.org', 'display_url': 'goodlawproject.org', 'indices': [0, 23]}]}, 'description': {'urls': []}}, protected=False, followers_count=225942, friends_count=1861, listed_count=1580, created_at=datetime.datetime(2011, 11, 7, 8, 23, 1), favourites_count=60383, utc_offset=None, time_zone=None, geo_enabled=True, verified=True, statuses_count=111959, lang=None, contributors_enabled=False, is_translator=False, is_translation_enabled=False, profile_background_color='709397', profile_background_image_url='http://abs.twimg.com/images/themes/theme6/bg.gif', profile_background_image_url_https='https://abs.twimg.com/images/themes/theme6/bg.gif', profile_background_tile=False, profile_image_url='http://pbs.twimg.com/profile_images/1114418560569311232/lPQh79Be_normal.jpg', profile_image_url_https='https://pbs.twimg.com/profile_images/1114418560569311232/lPQh79Be_normal.jpg', profile_banner_url='https://pbs.twimg.com/profile_banners/406842374/1568954167', profile_link_color='FF3300', profile_sidebar_border_color='86A4A6', profile_sidebar_fill_color='A0C5C7', profile_text_color='333333', profile_use_background_image=False, has_extended_profile=True, default_profile=False, default_profile_image=False, following=False, follow_request_sent=None, notifications=None, translator_type='none'), user=User(_api=<tweepy.api.API object at 0x7fdf854cc470>, _json={'id': 406842374, 'id_str': '406842374', 'name': 'Jo Maugham QC', 'screen_name': 'JolyonMaugham', 'location': 'London', 'description': 'Director @GoodLawProject. Lawyer. Perform your values.', 'url': 'https://t.co/3oAanfezzj', 'entities': {'url': {'urls': [{'url': 'https://t.co/3oAanfezzj', 'expanded_url': 'http://goodlawproject.org', 'display_url': 'goodlawproject.org', 'indices': [0, 23]}]}, 'description': {'urls': []}}, 'protected': False, 'followers_count': 225942, 'friends_count': 1861, 'listed_count': 1580, 'created_at': 'Mon Nov 07 08:23:01 +0000 2011', 'favourites_count': 60383, 'utc_offset': None, 'time_zone': None, 'geo_enabled': True, 'verified': True, 'statuses_count': 111959, 'lang': None, 'contributors_enabled': False, 'is_translator': False, 'is_translation_enabled': False, 'profile_background_color': '709397', 'profile_background_image_url': 'http://abs.twimg.com/images/themes/theme6/bg.gif', 'profile_background_image_url_https': 'https://abs.twimg.com/images/themes/theme6/bg.gif', 'profile_background_tile': False, 'profile_image_url': 'http://pbs.twimg.com/profile_images/1114418560569311232/lPQh79Be_normal.jpg', 'profile_image_url_https': 'https://pbs.twimg.com/profile_images/1114418560569311232/lPQh79Be_normal.jpg', 'profile_banner_url': 'https://pbs.twimg.com/profile_banners/406842374/1568954167', 'profile_link_color': 'FF3300', 'profile_sidebar_border_color': '86A4A6', 'profile_sidebar_fill_color': 'A0C5C7', 'profile_text_color': '333333', 'profile_use_background_image': False, 'has_extended_profile': True, 'default_profile': False, 'default_profile_image': False, 'following': None, 'follow_request_sent': None, 'notifications': None, 'translator_type': 'none'}, id=406842374, id_str='406842374', name='Jo Maugham QC', screen_name='JolyonMaugham', location='London', description='Director @GoodLawProject. Lawyer. Perform your values.', url='https://t.co/3oAanfezzj', entities={'url': {'urls': [{'url': 'https://t.co/3oAanfezzj', 'expanded_url': 'http://goodlawproject.org', 'display_url': 'goodlawproject.org', 'indices': [0, 23]}]}, 'description': {'urls': []}}, protected=False, followers_count=225942, friends_count=1861, listed_count=1580, created_at=datetime.datetime(2011, 11, 7, 8, 23, 1), favourites_count=60383, utc_offset=None, time_zone=None, geo_enabled=True, verified=True, statuses_count=111959, lang=None, contributors_enabled=False, is_translator=False, is_translation_enabled=False, profile_background_color='709397', profile_background_image_url='http://abs.twimg.com/images/themes/theme6/bg.gif', profile_background_image_url_https='https://abs.twimg.com/images/themes/theme6/bg.gif', profile_background_tile=False, profile_image_url='http://pbs.twimg.com/profile_images/1114418560569311232/lPQh79Be_normal.jpg', profile_image_url_https='https://pbs.twimg.com/profile_images/1114418560569311232/lPQh79Be_normal.jpg', profile_banner_url='https://pbs.twimg.com/profile_banners/406842374/1568954167', profile_link_color='FF3300', profile_sidebar_border_color='86A4A6', profile_sidebar_fill_color='A0C5C7', profile_text_color='333333', profile_use_background_image=False, has_extended_profile=True, default_profile=False, default_profile_image=False, following=False, follow_request_sent=None, notifications=None, translator_type='none'), geo=None, coordinates=None, place=None, contributors=None, is_quote_status=False, retweet_count=144, favorite_count=379, favorited=False, retweeted=False, possibly_sensitive=False, lang='en'), is_quote_status=False, retweet_count=144, favorite_count=0, favorited=False, retweeted=False, lang='en'), Status(_api=<tweepy.api.API object at 0x7fdf854cc470>, _json={'created_at': 'Thu Aug 20 07:13:37 +0000 2020', 'id': 1296344623955279874, 'id_str': '1296344623955279874', 'text': '@StrengthInFacts @TrumpRulzz it is not about D &amp; R\\n\\nit is about good and evil.\\n\\nGood must win!', 'truncated': False, 'entities': {'hashtags': [], 'symbols': [], 'user_mentions': [{'screen_name': 'StrengthInFacts', 'name': 'K.J. Mack ⚖️🇺🇸', 'id': 282713002, 'id_str': '282713002', 'indices': [0, 16]}, {'screen_name': 'TrumpRulzz', 'name': '𝑴𝒊𝒄𝒉𝒆𝒍𝒍𝒆 6.0', 'id': 1197653491214368768, 'id_str': '1197653491214368768', 'indices': [17, 28]}], 'urls': []}, 'metadata': {'iso_language_code': 'en', 'result_type': 'recent'}, 'source': '<a href=\"https://mobile.twitter.com\" rel=\"nofollow\">Twitter Web App</a>', 'in_reply_to_status_id': 1296172997326385155, 'in_reply_to_status_id_str': '1296172997326385155', 'in_reply_to_user_id': 282713002, 'in_reply_to_user_id_str': '282713002', 'in_reply_to_screen_name': 'StrengthInFacts', 'user': {'id': 994839560277413888, 'id_str': '994839560277413888', 'name': 'katerina', 'screen_name': 'katerin99980424', 'location': '', 'description': '', 'url': None, 'entities': {'description': {'urls': []}}, 'protected': False, 'followers_count': 126, 'friends_count': 122, 'listed_count': 0, 'created_at': 'Fri May 11 07:20:09 +0000 2018', 'favourites_count': 2128, 'utc_offset': None, 'time_zone': None, 'geo_enabled': False, 'verified': False, 'statuses_count': 3054, 'lang': None, 'contributors_enabled': False, 'is_translator': False, 'is_translation_enabled': False, 'profile_background_color': '000000', 'profile_background_image_url': 'http://abs.twimg.com/images/themes/theme1/bg.png', 'profile_background_image_url_https': 'https://abs.twimg.com/images/themes/theme1/bg.png', 'profile_background_tile': False, 'profile_image_url': 'http://pbs.twimg.com/profile_images/1269764512212824071/CWqE4B70_normal.jpg', 'profile_image_url_https': 'https://pbs.twimg.com/profile_images/1269764512212824071/CWqE4B70_normal.jpg', 'profile_banner_url': 'https://pbs.twimg.com/profile_banners/994839560277413888/1547266960', 'profile_link_color': 'F58EA8', 'profile_sidebar_border_color': '000000', 'profile_sidebar_fill_color': '000000', 'profile_text_color': '000000', 'profile_use_background_image': False, 'has_extended_profile': False, 'default_profile': False, 'default_profile_image': False, 'following': None, 'follow_request_sent': None, 'notifications': None, 'translator_type': 'none'}, 'geo': None, 'coordinates': None, 'place': None, 'contributors': None, 'is_quote_status': False, 'retweet_count': 0, 'favorite_count': 0, 'favorited': False, 'retweeted': False, 'lang': 'en'}, created_at=datetime.datetime(2020, 8, 20, 7, 13, 37), id=1296344623955279874, id_str='1296344623955279874', text='@StrengthInFacts @TrumpRulzz it is not about D &amp; R\\n\\nit is about good and evil.\\n\\nGood must win!', truncated=False, entities={'hashtags': [], 'symbols': [], 'user_mentions': [{'screen_name': 'StrengthInFacts', 'name': 'K.J. Mack ⚖️🇺🇸', 'id': 282713002, 'id_str': '282713002', 'indices': [0, 16]}, {'screen_name': 'TrumpRulzz', 'name': '𝑴𝒊𝒄𝒉𝒆𝒍𝒍𝒆 6.0', 'id': 1197653491214368768, 'id_str': '1197653491214368768', 'indices': [17, 28]}], 'urls': []}, metadata={'iso_language_code': 'en', 'result_type': 'recent'}, source='Twitter Web App', source_url='https://mobile.twitter.com', in_reply_to_status_id=1296172997326385155, in_reply_to_status_id_str='1296172997326385155', in_reply_to_user_id=282713002, in_reply_to_user_id_str='282713002', in_reply_to_screen_name='StrengthInFacts', author=User(_api=<tweepy.api.API object at 0x7fdf854cc470>, _json={'id': 994839560277413888, 'id_str': '994839560277413888', 'name': 'katerina', 'screen_name': 'katerin99980424', 'location': '', 'description': '', 'url': None, 'entities': {'description': {'urls': []}}, 'protected': False, 'followers_count': 126, 'friends_count': 122, 'listed_count': 0, 'created_at': 'Fri May 11 07:20:09 +0000 2018', 'favourites_count': 2128, 'utc_offset': None, 'time_zone': None, 'geo_enabled': False, 'verified': False, 'statuses_count': 3054, 'lang': None, 'contributors_enabled': False, 'is_translator': False, 'is_translation_enabled': False, 'profile_background_color': '000000', 'profile_background_image_url': 'http://abs.twimg.com/images/themes/theme1/bg.png', 'profile_background_image_url_https': 'https://abs.twimg.com/images/themes/theme1/bg.png', 'profile_background_tile': False, 'profile_image_url': 'http://pbs.twimg.com/profile_images/1269764512212824071/CWqE4B70_normal.jpg', 'profile_image_url_https': 'https://pbs.twimg.com/profile_images/1269764512212824071/CWqE4B70_normal.jpg', 'profile_banner_url': 'https://pbs.twimg.com/profile_banners/994839560277413888/1547266960', 'profile_link_color': 'F58EA8', 'profile_sidebar_border_color': '000000', 'profile_sidebar_fill_color': '000000', 'profile_text_color': '000000', 'profile_use_background_image': False, 'has_extended_profile': False, 'default_profile': False, 'default_profile_image': False, 'following': None, 'follow_request_sent': None, 'notifications': None, 'translator_type': 'none'}, id=994839560277413888, id_str='994839560277413888', name='katerina', screen_name='katerin99980424', location='', description='', url=None, entities={'description': {'urls': []}}, protected=False, followers_count=126, friends_count=122, listed_count=0, created_at=datetime.datetime(2018, 5, 11, 7, 20, 9), favourites_count=2128, utc_offset=None, time_zone=None, geo_enabled=False, verified=False, statuses_count=3054, lang=None, contributors_enabled=False, is_translator=False, is_translation_enabled=False, profile_background_color='000000', profile_background_image_url='http://abs.twimg.com/images/themes/theme1/bg.png', profile_background_image_url_https='https://abs.twimg.com/images/themes/theme1/bg.png', profile_background_tile=False, profile_image_url='http://pbs.twimg.com/profile_images/1269764512212824071/CWqE4B70_normal.jpg', profile_image_url_https='https://pbs.twimg.com/profile_images/1269764512212824071/CWqE4B70_normal.jpg', profile_banner_url='https://pbs.twimg.com/profile_banners/994839560277413888/1547266960', profile_link_color='F58EA8', profile_sidebar_border_color='000000', profile_sidebar_fill_color='000000', profile_text_color='000000', profile_use_background_image=False, has_extended_profile=False, default_profile=False, default_profile_image=False, following=False, follow_request_sent=None, notifications=None, translator_type='none'), user=User(_api=<tweepy.api.API object at 0x7fdf854cc470>, _json={'id': 994839560277413888, 'id_str': '994839560277413888', 'name': 'katerina', 'screen_name': 'katerin99980424', 'location': '', 'description': '', 'url': None, 'entities': {'description': {'urls': []}}, 'protected': False, 'followers_count': 126, 'friends_count': 122, 'listed_count': 0, 'created_at': 'Fri May 11 07:20:09 +0000 2018', 'favourites_count': 2128, 'utc_offset': None, 'time_zone': None, 'geo_enabled': False, 'verified': False, 'statuses_count': 3054, 'lang': None, 'contributors_enabled': False, 'is_translator': False, 'is_translation_enabled': False, 'profile_background_color': '000000', 'profile_background_image_url': 'http://abs.twimg.com/images/themes/theme1/bg.png', 'profile_background_image_url_https': 'https://abs.twimg.com/images/themes/theme1/bg.png', 'profile_background_tile': False, 'profile_image_url': 'http://pbs.twimg.com/profile_images/1269764512212824071/CWqE4B70_normal.jpg', 'profile_image_url_https': 'https://pbs.twimg.com/profile_images/1269764512212824071/CWqE4B70_normal.jpg', 'profile_banner_url': 'https://pbs.twimg.com/profile_banners/994839560277413888/1547266960', 'profile_link_color': 'F58EA8', 'profile_sidebar_border_color': '000000', 'profile_sidebar_fill_color': '000000', 'profile_text_color': '000000', 'profile_use_background_image': False, 'has_extended_profile': False, 'default_profile': False, 'default_profile_image': False, 'following': None, 'follow_request_sent': None, 'notifications': None, 'translator_type': 'none'}, id=994839560277413888, id_str='994839560277413888', name='katerina', screen_name='katerin99980424', location='', description='', url=None, entities={'description': {'urls': []}}, protected=False, followers_count=126, friends_count=122, listed_count=0, created_at=datetime.datetime(2018, 5, 11, 7, 20, 9), favourites_count=2128, utc_offset=None, time_zone=None, geo_enabled=False, verified=False, statuses_count=3054, lang=None, contributors_enabled=False, is_translator=False, is_translation_enabled=False, profile_background_color='000000', profile_background_image_url='http://abs.twimg.com/images/themes/theme1/bg.png', profile_background_image_url_https='https://abs.twimg.com/images/themes/theme1/bg.png', profile_background_tile=False, profile_image_url='http://pbs.twimg.com/profile_images/1269764512212824071/CWqE4B70_normal.jpg', profile_image_url_https='https://pbs.twimg.com/profile_images/1269764512212824071/CWqE4B70_normal.jpg', profile_banner_url='https://pbs.twimg.com/profile_banners/994839560277413888/1547266960', profile_link_color='F58EA8', profile_sidebar_border_color='000000', profile_sidebar_fill_color='000000', profile_text_color='000000', profile_use_background_image=False, has_extended_profile=False, default_profile=False, default_profile_image=False, following=False, follow_request_sent=None, notifications=None, translator_type='none'), geo=None, coordinates=None, place=None, contributors=None, is_quote_status=False, retweet_count=0, favorite_count=0, favorited=False, retweeted=False, lang='en'), Status(_api=<tweepy.api.API object at 0x7fdf854cc470>, _json={'created_at': 'Thu Aug 20 07:13:37 +0000 2020', 'id': 1296344623745511424, 'id_str': '1296344623745511424', 'text': 'A piece of cake has got to be allowed today. \\n\\nOur performance coach Christoph Hain Scheller is celebrating his 3️⃣… https://t.co/HTaQkFbCAD', 'truncated': True, 'entities': {'hashtags': [], 'symbols': [], 'user_mentions': [], 'urls': [{'url': 'https://t.co/HTaQkFbCAD', 'expanded_url': 'https://twitter.com/i/web/status/1296344623745511424', 'display_url': 'twitter.com/i/web/status/1…', 'indices': [117, 140]}]}, 'metadata': {'iso_language_code': 'en', 'result_type': 'recent'}, 'source': '<a href=\"http://twitter.com/download/android\" rel=\"nofollow\">Twitter for Android</a>', 'in_reply_to_status_id': None, 'in_reply_to_status_id_str': None, 'in_reply_to_user_id': None, 'in_reply_to_user_id_str': None, 'in_reply_to_screen_name': None, 'user': {'id': 4872021784, 'id_str': '4872021784', 'name': 'FC St. Pauli English', 'screen_name': 'fcstpauli_EN', 'location': 'Millerntor-Stadion', 'description': '+++ Welcome to the official FC St. Pauli Twitter account in English! +++ See also the German #fcsp account @fcstpauli +++', 'url': 'https://t.co/31xdOogNXZ', 'entities': {'url': {'urls': [{'url': 'https://t.co/31xdOogNXZ', 'expanded_url': 'http://fcstpauli.com', 'display_url': 'fcstpauli.com', 'indices': [0, 23]}]}, 'description': {'urls': []}}, 'protected': False, 'followers_count': 24176, 'friends_count': 143, 'listed_count': 185, 'created_at': 'Tue Feb 02 15:35:59 +0000 2016', 'favourites_count': 187, 'utc_offset': None, 'time_zone': None, 'geo_enabled': False, 'verified': True, 'statuses_count': 23587, 'lang': None, 'contributors_enabled': False, 'is_translator': False, 'is_translation_enabled': False, 'profile_background_color': 'C0DEED', 'profile_background_image_url': 'http://abs.twimg.com/images/themes/theme1/bg.png', 'profile_background_image_url_https': 'https://abs.twimg.com/images/themes/theme1/bg.png', 'profile_background_tile': False, 'profile_image_url': 'http://pbs.twimg.com/profile_images/1291314795820580864/mFEzgYqY_normal.jpg', 'profile_image_url_https': 'https://pbs.twimg.com/profile_images/1291314795820580864/mFEzgYqY_normal.jpg', 'profile_banner_url': 'https://pbs.twimg.com/profile_banners/4872021784/1591621152', 'profile_link_color': '0084B4', 'profile_sidebar_border_color': '000000', 'profile_sidebar_fill_color': '000000', 'profile_text_color': '000000', 'profile_use_background_image': False, 'has_extended_profile': False, 'default_profile': False, 'default_profile_image': False, 'following': None, 'follow_request_sent': None, 'notifications': None, 'translator_type': 'none'}, 'geo': None, 'coordinates': None, 'place': None, 'contributors': None, 'is_quote_status': False, 'retweet_count': 0, 'favorite_count': 0, 'favorited': False, 'retweeted': False, 'possibly_sensitive': False, 'lang': 'en'}, created_at=datetime.datetime(2020, 8, 20, 7, 13, 37), id=1296344623745511424, id_str='1296344623745511424', text='A piece of cake has got to be allowed today. \\n\\nOur performance coach Christoph Hain Scheller is celebrating his 3️⃣… https://t.co/HTaQkFbCAD', truncated=True, entities={'hashtags': [], 'symbols': [], 'user_mentions': [], 'urls': [{'url': 'https://t.co/HTaQkFbCAD', 'expanded_url': 'https://twitter.com/i/web/status/1296344623745511424', 'display_url': 'twitter.com/i/web/status/1…', 'indices': [117, 140]}]}, metadata={'iso_language_code': 'en', 'result_type': 'recent'}, source='Twitter for Android', source_url='http://twitter.com/download/android', in_reply_to_status_id=None, in_reply_to_status_id_str=None, in_reply_to_user_id=None, in_reply_to_user_id_str=None, in_reply_to_screen_name=None, author=User(_api=<tweepy.api.API object at 0x7fdf854cc470>, _json={'id': 4872021784, 'id_str': '4872021784', 'name': 'FC St. Pauli English', 'screen_name': 'fcstpauli_EN', 'location': 'Millerntor-Stadion', 'description': '+++ Welcome to the official FC St. Pauli Twitter account in English! +++ See also the German #fcsp account @fcstpauli +++', 'url': 'https://t.co/31xdOogNXZ', 'entities': {'url': {'urls': [{'url': 'https://t.co/31xdOogNXZ', 'expanded_url': 'http://fcstpauli.com', 'display_url': 'fcstpauli.com', 'indices': [0, 23]}]}, 'description': {'urls': []}}, 'protected': False, 'followers_count': 24176, 'friends_count': 143, 'listed_count': 185, 'created_at': 'Tue Feb 02 15:35:59 +0000 2016', 'favourites_count': 187, 'utc_offset': None, 'time_zone': None, 'geo_enabled': False, 'verified': True, 'statuses_count': 23587, 'lang': None, 'contributors_enabled': False, 'is_translator': False, 'is_translation_enabled': False, 'profile_background_color': 'C0DEED', 'profile_background_image_url': 'http://abs.twimg.com/images/themes/theme1/bg.png', 'profile_background_image_url_https': 'https://abs.twimg.com/images/themes/theme1/bg.png', 'profile_background_tile': False, 'profile_image_url': 'http://pbs.twimg.com/profile_images/1291314795820580864/mFEzgYqY_normal.jpg', 'profile_image_url_https': 'https://pbs.twimg.com/profile_images/1291314795820580864/mFEzgYqY_normal.jpg', 'profile_banner_url': 'https://pbs.twimg.com/profile_banners/4872021784/1591621152', 'profile_link_color': '0084B4', 'profile_sidebar_border_color': '000000', 'profile_sidebar_fill_color': '000000', 'profile_text_color': '000000', 'profile_use_background_image': False, 'has_extended_profile': False, 'default_profile': False, 'default_profile_image': False, 'following': None, 'follow_request_sent': None, 'notifications': None, 'translator_type': 'none'}, id=4872021784, id_str='4872021784', name='FC St. Pauli English', screen_name='fcstpauli_EN', location='Millerntor-Stadion', description='+++ Welcome to the official FC St. Pauli Twitter account in English! +++ See also the German #fcsp account @fcstpauli +++', url='https://t.co/31xdOogNXZ', entities={'url': {'urls': [{'url': 'https://t.co/31xdOogNXZ', 'expanded_url': 'http://fcstpauli.com', 'display_url': 'fcstpauli.com', 'indices': [0, 23]}]}, 'description': {'urls': []}}, protected=False, followers_count=24176, friends_count=143, listed_count=185, created_at=datetime.datetime(2016, 2, 2, 15, 35, 59), favourites_count=187, utc_offset=None, time_zone=None, geo_enabled=False, verified=True, statuses_count=23587, lang=None, contributors_enabled=False, is_translator=False, is_translation_enabled=False, profile_background_color='C0DEED', profile_background_image_url='http://abs.twimg.com/images/themes/theme1/bg.png', profile_background_image_url_https='https://abs.twimg.com/images/themes/theme1/bg.png', profile_background_tile=False, profile_image_url='http://pbs.twimg.com/profile_images/1291314795820580864/mFEzgYqY_normal.jpg', profile_image_url_https='https://pbs.twimg.com/profile_images/1291314795820580864/mFEzgYqY_normal.jpg', profile_banner_url='https://pbs.twimg.com/profile_banners/4872021784/1591621152', profile_link_color='0084B4', profile_sidebar_border_color='000000', profile_sidebar_fill_color='000000', profile_text_color='000000', profile_use_background_image=False, has_extended_profile=False, default_profile=False, default_profile_image=False, following=False, follow_request_sent=None, notifications=None, translator_type='none'), user=User(_api=<tweepy.api.API object at 0x7fdf854cc470>, _json={'id': 4872021784, 'id_str': '4872021784', 'name': 'FC St. Pauli English', 'screen_name': 'fcstpauli_EN', 'location': 'Millerntor-Stadion', 'description': '+++ Welcome to the official FC St. Pauli Twitter account in English! +++ See also the German #fcsp account @fcstpauli +++', 'url': 'https://t.co/31xdOogNXZ', 'entities': {'url': {'urls': [{'url': 'https://t.co/31xdOogNXZ', 'expanded_url': 'http://fcstpauli.com', 'display_url': 'fcstpauli.com', 'indices': [0, 23]}]}, 'description': {'urls': []}}, 'protected': False, 'followers_count': 24176, 'friends_count': 143, 'listed_count': 185, 'created_at': 'Tue Feb 02 15:35:59 +0000 2016', 'favourites_count': 187, 'utc_offset': None, 'time_zone': None, 'geo_enabled': False, 'verified': True, 'statuses_count': 23587, 'lang': None, 'contributors_enabled': False, 'is_translator': False, 'is_translation_enabled': False, 'profile_background_color': 'C0DEED', 'profile_background_image_url': 'http://abs.twimg.com/images/themes/theme1/bg.png', 'profile_background_image_url_https': 'https://abs.twimg.com/images/themes/theme1/bg.png', 'profile_background_tile': False, 'profile_image_url': 'http://pbs.twimg.com/profile_images/1291314795820580864/mFEzgYqY_normal.jpg', 'profile_image_url_https': 'https://pbs.twimg.com/profile_images/1291314795820580864/mFEzgYqY_normal.jpg', 'profile_banner_url': 'https://pbs.twimg.com/profile_banners/4872021784/1591621152', 'profile_link_color': '0084B4', 'profile_sidebar_border_color': '000000', 'profile_sidebar_fill_color': '000000', 'profile_text_color': '000000', 'profile_use_background_image': False, 'has_extended_profile': False, 'default_profile': False, 'default_profile_image': False, 'following': None, 'follow_request_sent': None, 'notifications': None, 'translator_type': 'none'}, id=4872021784, id_str='4872021784', name='FC St. Pauli English', screen_name='fcstpauli_EN', location='Millerntor-Stadion', description='+++ Welcome to the official FC St. Pauli Twitter account in English! +++ See also the German #fcsp account @fcstpauli +++', url='https://t.co/31xdOogNXZ', entities={'url': {'urls': [{'url': 'https://t.co/31xdOogNXZ', 'expanded_url': 'http://fcstpauli.com', 'display_url': 'fcstpauli.com', 'indices': [0, 23]}]}, 'description': {'urls': []}}, protected=False, followers_count=24176, friends_count=143, listed_count=185, created_at=datetime.datetime(2016, 2, 2, 15, 35, 59), favourites_count=187, utc_offset=None, time_zone=None, geo_enabled=False, verified=True, statuses_count=23587, lang=None, contributors_enabled=False, is_translator=False, is_translation_enabled=False, profile_background_color='C0DEED', profile_background_image_url='http://abs.twimg.com/images/themes/theme1/bg.png', profile_background_image_url_https='https://abs.twimg.com/images/themes/theme1/bg.png', profile_background_tile=False, profile_image_url='http://pbs.twimg.com/profile_images/1291314795820580864/mFEzgYqY_normal.jpg', profile_image_url_https='https://pbs.twimg.com/profile_images/1291314795820580864/mFEzgYqY_normal.jpg', profile_banner_url='https://pbs.twimg.com/profile_banners/4872021784/1591621152', profile_link_color='0084B4', profile_sidebar_border_color='000000', profile_sidebar_fill_color='000000', profile_text_color='000000', profile_use_background_image=False, has_extended_profile=False, default_profile=False, default_profile_image=False, following=False, follow_request_sent=None, notifications=None, translator_type='none'), geo=None, coordinates=None, place=None, contributors=None, is_quote_status=False, retweet_count=0, favorite_count=0, favorited=False, retweeted=False, possibly_sensitive=False, lang='en'), Status(_api=<tweepy.api.API object at 0x7fdf854cc470>, _json={'created_at': 'Thu Aug 20 07:13:37 +0000 2020', 'id': 1296344622554382338, 'id_str': '1296344622554382338', 'text': '@PhilEhr @KMark1969 Gaetz chose his path. Betraying the American People is NEVER a good idea! He gets a no TRUST an… https://t.co/DQSaSvLN0h', 'truncated': True, 'entities': {'hashtags': [], 'symbols': [], 'user_mentions': [{'screen_name': 'PhilEhr', 'name': 'Phil Ehr', 'id': 92317603, 'id_str': '92317603', 'indices': [0, 8]}, {'screen_name': 'KMark1969', 'name': 'KiwiMark1969', 'id': 1022186583997313024, 'id_str': '1022186583997313024', 'indices': [9, 19]}], 'urls': [{'url': 'https://t.co/DQSaSvLN0h', 'expanded_url': 'https://twitter.com/i/web/status/1296344622554382338', 'display_url': 'twitter.com/i/web/status/1…', 'indices': [117, 140]}]}, 'metadata': {'iso_language_code': 'en', 'result_type': 'recent'}, 'source': '<a href=\"https://mobile.twitter.com\" rel=\"nofollow\">Twitter Web App</a>', 'in_reply_to_status_id': 1296186408751726592, 'in_reply_to_status_id_str': '1296186408751726592', 'in_reply_to_user_id': 92317603, 'in_reply_to_user_id_str': '92317603', 'in_reply_to_screen_name': 'PhilEhr', 'user': {'id': 1198018607013384194, 'id_str': '1198018607013384194', 'name': 'RobinTweety', 'screen_name': 'robin14799784', 'location': 'Michigan', 'description': \"FORMER Republican Voter. REAL Republicans don't cage children, take food away, Assassinate, take Disability from the Disabled & LET Russia in our front door!\", 'url': None, 'entities': {'description': {'urls': []}}, 'protected': False, 'followers_count': 154, 'friends_count': 358, 'listed_count': 1, 'created_at': 'Fri Nov 22 23:22:06 +0000 2019', 'favourites_count': 7916, 'utc_offset': None, 'time_zone': None, 'geo_enabled': False, 'verified': False, 'statuses_count': 11078, 'lang': None, 'contributors_enabled': False, 'is_translator': False, 'is_translation_enabled': False, 'profile_background_color': 'F5F8FA', 'profile_background_image_url': None, 'profile_background_image_url_https': None, 'profile_background_tile': False, 'profile_image_url': 'http://pbs.twimg.com/profile_images/1198386743663374341/aHPtDg83_normal.jpg', 'profile_image_url_https': 'https://pbs.twimg.com/profile_images/1198386743663374341/aHPtDg83_normal.jpg', 'profile_link_color': '1DA1F2', 'profile_sidebar_border_color': 'C0DEED', 'profile_sidebar_fill_color': 'DDEEF6', 'profile_text_color': '333333', 'profile_use_background_image': True, 'has_extended_profile': True, 'default_profile': True, 'default_profile_image': False, 'following': None, 'follow_request_sent': None, 'notifications': None, 'translator_type': 'none'}, 'geo': None, 'coordinates': None, 'place': None, 'contributors': None, 'is_quote_status': False, 'retweet_count': 0, 'favorite_count': 0, 'favorited': False, 'retweeted': False, 'lang': 'en'}, created_at=datetime.datetime(2020, 8, 20, 7, 13, 37), id=1296344622554382338, id_str='1296344622554382338', text='@PhilEhr @KMark1969 Gaetz chose his path. Betraying the American People is NEVER a good idea! He gets a no TRUST an… https://t.co/DQSaSvLN0h', truncated=True, entities={'hashtags': [], 'symbols': [], 'user_mentions': [{'screen_name': 'PhilEhr', 'name': 'Phil Ehr', 'id': 92317603, 'id_str': '92317603', 'indices': [0, 8]}, {'screen_name': 'KMark1969', 'name': 'KiwiMark1969', 'id': 1022186583997313024, 'id_str': '1022186583997313024', 'indices': [9, 19]}], 'urls': [{'url': 'https://t.co/DQSaSvLN0h', 'expanded_url': 'https://twitter.com/i/web/status/1296344622554382338', 'display_url': 'twitter.com/i/web/status/1…', 'indices': [117, 140]}]}, metadata={'iso_language_code': 'en', 'result_type': 'recent'}, source='Twitter Web App', source_url='https://mobile.twitter.com', in_reply_to_status_id=1296186408751726592, in_reply_to_status_id_str='1296186408751726592', in_reply_to_user_id=92317603, in_reply_to_user_id_str='92317603', in_reply_to_screen_name='PhilEhr', author=User(_api=<tweepy.api.API object at 0x7fdf854cc470>, _json={'id': 1198018607013384194, 'id_str': '1198018607013384194', 'name': 'RobinTweety', 'screen_name': 'robin14799784', 'location': 'Michigan', 'description': \"FORMER Republican Voter. REAL Republicans don't cage children, take food away, Assassinate, take Disability from the Disabled & LET Russia in our front door!\", 'url': None, 'entities': {'description': {'urls': []}}, 'protected': False, 'followers_count': 154, 'friends_count': 358, 'listed_count': 1, 'created_at': 'Fri Nov 22 23:22:06 +0000 2019', 'favourites_count': 7916, 'utc_offset': None, 'time_zone': None, 'geo_enabled': False, 'verified': False, 'statuses_count': 11078, 'lang': None, 'contributors_enabled': False, 'is_translator': False, 'is_translation_enabled': False, 'profile_background_color': 'F5F8FA', 'profile_background_image_url': None, 'profile_background_image_url_https': None, 'profile_background_tile': False, 'profile_image_url': 'http://pbs.twimg.com/profile_images/1198386743663374341/aHPtDg83_normal.jpg', 'profile_image_url_https': 'https://pbs.twimg.com/profile_images/1198386743663374341/aHPtDg83_normal.jpg', 'profile_link_color': '1DA1F2', 'profile_sidebar_border_color': 'C0DEED', 'profile_sidebar_fill_color': 'DDEEF6', 'profile_text_color': '333333', 'profile_use_background_image': True, 'has_extended_profile': True, 'default_profile': True, 'default_profile_image': False, 'following': None, 'follow_request_sent': None, 'notifications': None, 'translator_type': 'none'}, id=1198018607013384194, id_str='1198018607013384194', name='RobinTweety', screen_name='robin14799784', location='Michigan', description=\"FORMER Republican Voter. REAL Republicans don't cage children, take food away, Assassinate, take Disability from the Disabled & LET Russia in our front door!\", url=None, entities={'description': {'urls': []}}, protected=False, followers_count=154, friends_count=358, listed_count=1, created_at=datetime.datetime(2019, 11, 22, 23, 22, 6), favourites_count=7916, utc_offset=None, time_zone=None, geo_enabled=False, verified=False, statuses_count=11078, lang=None, contributors_enabled=False, is_translator=False, is_translation_enabled=False, profile_background_color='F5F8FA', profile_background_image_url=None, profile_background_image_url_https=None, profile_background_tile=False, profile_image_url='http://pbs.twimg.com/profile_images/1198386743663374341/aHPtDg83_normal.jpg', profile_image_url_https='https://pbs.twimg.com/profile_images/1198386743663374341/aHPtDg83_normal.jpg', profile_link_color='1DA1F2', profile_sidebar_border_color='C0DEED', profile_sidebar_fill_color='DDEEF6', profile_text_color='333333', profile_use_background_image=True, has_extended_profile=True, default_profile=True, default_profile_image=False, following=False, follow_request_sent=None, notifications=None, translator_type='none'), user=User(_api=<tweepy.api.API object at 0x7fdf854cc470>, _json={'id': 1198018607013384194, 'id_str': '1198018607013384194', 'name': 'RobinTweety', 'screen_name': 'robin14799784', 'location': 'Michigan', 'description': \"FORMER Republican Voter. REAL Republicans don't cage children, take food away, Assassinate, take Disability from the Disabled & LET Russia in our front door!\", 'url': None, 'entities': {'description': {'urls': []}}, 'protected': False, 'followers_count': 154, 'friends_count': 358, 'listed_count': 1, 'created_at': 'Fri Nov 22 23:22:06 +0000 2019', 'favourites_count': 7916, 'utc_offset': None, 'time_zone': None, 'geo_enabled': False, 'verified': False, 'statuses_count': 11078, 'lang': None, 'contributors_enabled': False, 'is_translator': False, 'is_translation_enabled': False, 'profile_background_color': 'F5F8FA', 'profile_background_image_url': None, 'profile_background_image_url_https': None, 'profile_background_tile': False, 'profile_image_url': 'http://pbs.twimg.com/profile_images/1198386743663374341/aHPtDg83_normal.jpg', 'profile_image_url_https': 'https://pbs.twimg.com/profile_images/1198386743663374341/aHPtDg83_normal.jpg', 'profile_link_color': '1DA1F2', 'profile_sidebar_border_color': 'C0DEED', 'profile_sidebar_fill_color': 'DDEEF6', 'profile_text_color': '333333', 'profile_use_background_image': True, 'has_extended_profile': True, 'default_profile': True, 'default_profile_image': False, 'following': None, 'follow_request_sent': None, 'notifications': None, 'translator_type': 'none'}, id=1198018607013384194, id_str='1198018607013384194', name='RobinTweety', screen_name='robin14799784', location='Michigan', description=\"FORMER Republican Voter. REAL Republicans don't cage children, take food away, Assassinate, take Disability from the Disabled & LET Russia in our front door!\", url=None, entities={'description': {'urls': []}}, protected=False, followers_count=154, friends_count=358, listed_count=1, created_at=datetime.datetime(2019, 11, 22, 23, 22, 6), favourites_count=7916, utc_offset=None, time_zone=None, geo_enabled=False, verified=False, statuses_count=11078, lang=None, contributors_enabled=False, is_translator=False, is_translation_enabled=False, profile_background_color='F5F8FA', profile_background_image_url=None, profile_background_image_url_https=None, profile_background_tile=False, profile_image_url='http://pbs.twimg.com/profile_images/1198386743663374341/aHPtDg83_normal.jpg', profile_image_url_https='https://pbs.twimg.com/profile_images/1198386743663374341/aHPtDg83_normal.jpg', profile_link_color='1DA1F2', profile_sidebar_border_color='C0DEED', profile_sidebar_fill_color='DDEEF6', profile_text_color='333333', profile_use_background_image=True, has_extended_profile=True, default_profile=True, default_profile_image=False, following=False, follow_request_sent=None, notifications=None, translator_type='none'), geo=None, coordinates=None, place=None, contributors=None, is_quote_status=False, retweet_count=0, favorite_count=0, favorited=False, retweeted=False, lang='en'), Status(_api=<tweepy.api.API object at 0x7fdf854cc470>, _json={'created_at': 'Thu Aug 20 07:13:37 +0000 2020', 'id': 1296344621799243777, 'id_str': '1296344621799243777', 'text': 'Like I guess it may have been good for him to disclose that he is gay for transparency’s sake but she was keen to s… https://t.co/FPN1fjPk2B', 'truncated': True, 'entities': {'hashtags': [], 'symbols': [], 'user_mentions': [], 'urls': [{'url': 'https://t.co/FPN1fjPk2B', 'expanded_url': 'https://twitter.com/i/web/status/1296344621799243777', 'display_url': 'twitter.com/i/web/status/1…', 'indices': [117, 140]}]}, 'metadata': {'iso_language_code': 'en', 'result_type': 'recent'}, 'source': '<a href=\"http://twitter.com/download/iphone\" rel=\"nofollow\">Twitter for iPhone</a>', 'in_reply_to_status_id': 1296344288192679938, 'in_reply_to_status_id_str': '1296344288192679938', 'in_reply_to_user_id': 699331486940426240, 'in_reply_to_user_id_str': '699331486940426240', 'in_reply_to_screen_name': 'moxieandtv', 'user': {'id': 699331486940426240, 'id_str': '699331486940426240', 'name': 'a little mo', 'screen_name': 'moxieandtv', 'location': 'New Zealand', 'description': 'Black lives matter', 'url': 'https://t.co/6UfXWEvHas', 'entities': {'url': {'urls': [{'url': 'https://t.co/6UfXWEvHas', 'expanded_url': 'http://instagram.com/custardybattle', 'display_url': 'instagram.com/custardybattle', 'indices': [0, 23]}]}, 'description': {'urls': []}}, 'protected': False, 'followers_count': 1920, 'friends_count': 547, 'listed_count': 12, 'created_at': 'Mon Feb 15 20:36:34 +0000 2016', 'favourites_count': 125249, 'utc_offset': None, 'time_zone': None, 'geo_enabled': True, 'verified': False, 'statuses_count': 30784, 'lang': None, 'contributors_enabled': False, 'is_translator': False, 'is_translation_enabled': False, 'profile_background_color': '000000', 'profile_background_image_url': 'http://abs.twimg.com/images/themes/theme1/bg.png', 'profile_background_image_url_https': 'https://abs.twimg.com/images/themes/theme1/bg.png', 'profile_background_tile': False, 'profile_image_url': 'http://pbs.twimg.com/profile_images/1293751328968065025/6bIj5dfU_normal.jpg', 'profile_image_url_https': 'https://pbs.twimg.com/profile_images/1293751328968065025/6bIj5dfU_normal.jpg', 'profile_banner_url': 'https://pbs.twimg.com/profile_banners/699331486940426240/1591526212', 'profile_link_color': 'FFAADD', 'profile_sidebar_border_color': '000000', 'profile_sidebar_fill_color': '000000', 'profile_text_color': '000000', 'profile_use_background_image': False, 'has_extended_profile': False, 'default_profile': False, 'default_profile_image': False, 'following': None, 'follow_request_sent': None, 'notifications': None, 'translator_type': 'none'}, 'geo': None, 'coordinates': None, 'place': None, 'contributors': None, 'is_quote_status': False, 'retweet_count': 0, 'favorite_count': 0, 'favorited': False, 'retweeted': False, 'lang': 'en'}, created_at=datetime.datetime(2020, 8, 20, 7, 13, 37), id=1296344621799243777, id_str='1296344621799243777', text='Like I guess it may have been good for him to disclose that he is gay for transparency’s sake but she was keen to s… https://t.co/FPN1fjPk2B', truncated=True, entities={'hashtags': [], 'symbols': [], 'user_mentions': [], 'urls': [{'url': 'https://t.co/FPN1fjPk2B', 'expanded_url': 'https://twitter.com/i/web/status/1296344621799243777', 'display_url': 'twitter.com/i/web/status/1…', 'indices': [117, 140]}]}, metadata={'iso_language_code': 'en', 'result_type': 'recent'}, source='Twitter for iPhone', source_url='http://twitter.com/download/iphone', in_reply_to_status_id=1296344288192679938, in_reply_to_status_id_str='1296344288192679938', in_reply_to_user_id=699331486940426240, in_reply_to_user_id_str='699331486940426240', in_reply_to_screen_name='moxieandtv', author=User(_api=<tweepy.api.API object at 0x7fdf854cc470>, _json={'id': 699331486940426240, 'id_str': '699331486940426240', 'name': 'a little mo', 'screen_name': 'moxieandtv', 'location': 'New Zealand', 'description': 'Black lives matter', 'url': 'https://t.co/6UfXWEvHas', 'entities': {'url': {'urls': [{'url': 'https://t.co/6UfXWEvHas', 'expanded_url': 'http://instagram.com/custardybattle', 'display_url': 'instagram.com/custardybattle', 'indices': [0, 23]}]}, 'description': {'urls': []}}, 'protected': False, 'followers_count': 1920, 'friends_count': 547, 'listed_count': 12, 'created_at': 'Mon Feb 15 20:36:34 +0000 2016', 'favourites_count': 125249, 'utc_offset': None, 'time_zone': None, 'geo_enabled': True, 'verified': False, 'statuses_count': 30784, 'lang': None, 'contributors_enabled': False, 'is_translator': False, 'is_translation_enabled': False, 'profile_background_color': '000000', 'profile_background_image_url': 'http://abs.twimg.com/images/themes/theme1/bg.png', 'profile_background_image_url_https': 'https://abs.twimg.com/images/themes/theme1/bg.png', 'profile_background_tile': False, 'profile_image_url': 'http://pbs.twimg.com/profile_images/1293751328968065025/6bIj5dfU_normal.jpg', 'profile_image_url_https': 'https://pbs.twimg.com/profile_images/1293751328968065025/6bIj5dfU_normal.jpg', 'profile_banner_url': 'https://pbs.twimg.com/profile_banners/699331486940426240/1591526212', 'profile_link_color': 'FFAADD', 'profile_sidebar_border_color': '000000', 'profile_sidebar_fill_color': '000000', 'profile_text_color': '000000', 'profile_use_background_image': False, 'has_extended_profile': False, 'default_profile': False, 'default_profile_image': False, 'following': None, 'follow_request_sent': None, 'notifications': None, 'translator_type': 'none'}, id=699331486940426240, id_str='699331486940426240', name='a little mo', screen_name='moxieandtv', location='New Zealand', description='Black lives matter', url='https://t.co/6UfXWEvHas', entities={'url': {'urls': [{'url': 'https://t.co/6UfXWEvHas', 'expanded_url': 'http://instagram.com/custardybattle', 'display_url': 'instagram.com/custardybattle', 'indices': [0, 23]}]}, 'description': {'urls': []}}, protected=False, followers_count=1920, friends_count=547, listed_count=12, created_at=datetime.datetime(2016, 2, 15, 20, 36, 34), favourites_count=125249, utc_offset=None, time_zone=None, geo_enabled=True, verified=False, statuses_count=30784, lang=None, contributors_enabled=False, is_translator=False, is_translation_enabled=False, profile_background_color='000000', profile_background_image_url='http://abs.twimg.com/images/themes/theme1/bg.png', profile_background_image_url_https='https://abs.twimg.com/images/themes/theme1/bg.png', profile_background_tile=False, profile_image_url='http://pbs.twimg.com/profile_images/1293751328968065025/6bIj5dfU_normal.jpg', profile_image_url_https='https://pbs.twimg.com/profile_images/1293751328968065025/6bIj5dfU_normal.jpg', profile_banner_url='https://pbs.twimg.com/profile_banners/699331486940426240/1591526212', profile_link_color='FFAADD', profile_sidebar_border_color='000000', profile_sidebar_fill_color='000000', profile_text_color='000000', profile_use_background_image=False, has_extended_profile=False, default_profile=False, default_profile_image=False, following=False, follow_request_sent=None, notifications=None, translator_type='none'), user=User(_api=<tweepy.api.API object at 0x7fdf854cc470>, _json={'id': 699331486940426240, 'id_str': '699331486940426240', 'name': 'a little mo', 'screen_name': 'moxieandtv', 'location': 'New Zealand', 'description': 'Black lives matter', 'url': 'https://t.co/6UfXWEvHas', 'entities': {'url': {'urls': [{'url': 'https://t.co/6UfXWEvHas', 'expanded_url': 'http://instagram.com/custardybattle', 'display_url': 'instagram.com/custardybattle', 'indices': [0, 23]}]}, 'description': {'urls': []}}, 'protected': False, 'followers_count': 1920, 'friends_count': 547, 'listed_count': 12, 'created_at': 'Mon Feb 15 20:36:34 +0000 2016', 'favourites_count': 125249, 'utc_offset': None, 'time_zone': None, 'geo_enabled': True, 'verified': False, 'statuses_count': 30784, 'lang': None, 'contributors_enabled': False, 'is_translator': False, 'is_translation_enabled': False, 'profile_background_color': '000000', 'profile_background_image_url': 'http://abs.twimg.com/images/themes/theme1/bg.png', 'profile_background_image_url_https': 'https://abs.twimg.com/images/themes/theme1/bg.png', 'profile_background_tile': False, 'profile_image_url': 'http://pbs.twimg.com/profile_images/1293751328968065025/6bIj5dfU_normal.jpg', 'profile_image_url_https': 'https://pbs.twimg.com/profile_images/1293751328968065025/6bIj5dfU_normal.jpg', 'profile_banner_url': 'https://pbs.twimg.com/profile_banners/699331486940426240/1591526212', 'profile_link_color': 'FFAADD', 'profile_sidebar_border_color': '000000', 'profile_sidebar_fill_color': '000000', 'profile_text_color': '000000', 'profile_use_background_image': False, 'has_extended_profile': False, 'default_profile': False, 'default_profile_image': False, 'following': None, 'follow_request_sent': None, 'notifications': None, 'translator_type': 'none'}, id=699331486940426240, id_str='699331486940426240', name='a little mo', screen_name='moxieandtv', location='New Zealand', description='Black lives matter', url='https://t.co/6UfXWEvHas', entities={'url': {'urls': [{'url': 'https://t.co/6UfXWEvHas', 'expanded_url': 'http://instagram.com/custardybattle', 'display_url': 'instagram.com/custardybattle', 'indices': [0, 23]}]}, 'description': {'urls': []}}, protected=False, followers_count=1920, friends_count=547, listed_count=12, created_at=datetime.datetime(2016, 2, 15, 20, 36, 34), favourites_count=125249, utc_offset=None, time_zone=None, geo_enabled=True, verified=False, statuses_count=30784, lang=None, contributors_enabled=False, is_translator=False, is_translation_enabled=False, profile_background_color='000000', profile_background_image_url='http://abs.twimg.com/images/themes/theme1/bg.png', profile_background_image_url_https='https://abs.twimg.com/images/themes/theme1/bg.png', profile_background_tile=False, profile_image_url='http://pbs.twimg.com/profile_images/1293751328968065025/6bIj5dfU_normal.jpg', profile_image_url_https='https://pbs.twimg.com/profile_images/1293751328968065025/6bIj5dfU_normal.jpg', profile_banner_url='https://pbs.twimg.com/profile_banners/699331486940426240/1591526212', profile_link_color='FFAADD', profile_sidebar_border_color='000000', profile_sidebar_fill_color='000000', profile_text_color='000000', profile_use_background_image=False, has_extended_profile=False, default_profile=False, default_profile_image=False, following=False, follow_request_sent=None, notifications=None, translator_type='none'), geo=None, coordinates=None, place=None, contributors=None, is_quote_status=False, retweet_count=0, favorite_count=0, favorited=False, retweeted=False, lang='en'), Status(_api=<tweepy.api.API object at 0x7fdf854cc470>, _json={'created_at': 'Thu Aug 20 07:13:37 +0000 2020', 'id': 1296344621677776896, 'id_str': '1296344621677776896', 'text': '@itz_leesha @oil_shaeikh Exactly my point. @oil_shaeikh no one is entirely bad not even Hitler. He did some good bu… https://t.co/mBpJS3VOcw', 'truncated': True, 'entities': {'hashtags': [], 'symbols': [], 'user_mentions': [{'screen_name': 'itz_leesha', 'name': 'the nomad', 'id': 1333782162, 'id_str': '1333782162', 'indices': [0, 11]}, {'screen_name': 'oil_shaeikh', 'name': 'Engr Yasir Arafat Jubril🏗🏢🌉🛤🛣', 'id': 206814100, 'id_str': '206814100', 'indices': [12, 24]}, {'screen_name': 'oil_shaeikh', 'name': 'Engr Yasir Arafat Jubril🏗🏢🌉🛤🛣', 'id': 206814100, 'id_str': '206814100', 'indices': [43, 55]}], 'urls': [{'url': 'https://t.co/mBpJS3VOcw', 'expanded_url': 'https://twitter.com/i/web/status/1296344621677776896', 'display_url': 'twitter.com/i/web/status/1…', 'indices': [117, 140]}]}, 'metadata': {'iso_language_code': 'en', 'result_type': 'recent'}, 'source': '<a href=\"https://mobile.twitter.com\" rel=\"nofollow\">Twitter Web App</a>', 'in_reply_to_status_id': 1295456818072817665, 'in_reply_to_status_id_str': '1295456818072817665', 'in_reply_to_user_id': 1333782162, 'in_reply_to_user_id_str': '1333782162', 'in_reply_to_screen_name': 'itz_leesha', 'user': {'id': 328200064, 'id_str': '328200064', 'name': 'i~ishaq🇳🇬', 'screen_name': 'iyxmaeel', 'location': 'CurrentlyInNorthEast| Nigeria', 'description': \"Advocate: GirlChildEducation. #Pacifist.\\n#Sapiophile. \\n#Barcelona.\\nLike Butterflies.\\n\\nUDUS '13\", 'url': None, 'entities': {'description': {'urls': []}}, 'protected': False, 'followers_count': 5942, 'friends_count': 5220, 'listed_count': 1, 'created_at': 'Sat Jul 02 22:51:46 +0000 2011', 'favourites_count': 15663, 'utc_offset': None, 'time_zone': None, 'geo_enabled': False, 'verified': False, 'statuses_count': 10323, 'lang': None, 'contributors_enabled': False, 'is_translator': False, 'is_translation_enabled': False, 'profile_background_color': '352726', 'profile_background_image_url': 'http://abs.twimg.com/images/themes/theme5/bg.gif', 'profile_background_image_url_https': 'https://abs.twimg.com/images/themes/theme5/bg.gif', 'profile_background_tile': False, 'profile_image_url': 'http://pbs.twimg.com/profile_images/1229517116400795648/rYgOTBe9_normal.jpg', 'profile_image_url_https': 'https://pbs.twimg.com/profile_images/1229517116400795648/rYgOTBe9_normal.jpg', 'profile_banner_url': 'https://pbs.twimg.com/profile_banners/328200064/1584461353', 'profile_link_color': 'D02B55', 'profile_sidebar_border_color': '829D5E', 'profile_sidebar_fill_color': '99CC33', 'profile_text_color': '3E4415', 'profile_use_background_image': True, 'has_extended_profile': True, 'default_profile': False, 'default_profile_image': False, 'following': None, 'follow_request_sent': None, 'notifications': None, 'translator_type': 'none'}, 'geo': None, 'coordinates': None, 'place': None, 'contributors': None, 'is_quote_status': False, 'retweet_count': 0, 'favorite_count': 0, 'favorited': False, 'retweeted': False, 'lang': 'en'}, created_at=datetime.datetime(2020, 8, 20, 7, 13, 37), id=1296344621677776896, id_str='1296344621677776896', text='@itz_leesha @oil_shaeikh Exactly my point. @oil_shaeikh no one is entirely bad not even Hitler. He did some good bu… https://t.co/mBpJS3VOcw', truncated=True, entities={'hashtags': [], 'symbols': [], 'user_mentions': [{'screen_name': 'itz_leesha', 'name': 'the nomad', 'id': 1333782162, 'id_str': '1333782162', 'indices': [0, 11]}, {'screen_name': 'oil_shaeikh', 'name': 'Engr Yasir Arafat Jubril🏗🏢🌉🛤🛣', 'id': 206814100, 'id_str': '206814100', 'indices': [12, 24]}, {'screen_name': 'oil_shaeikh', 'name': 'Engr Yasir Arafat Jubril🏗🏢🌉🛤🛣', 'id': 206814100, 'id_str': '206814100', 'indices': [43, 55]}], 'urls': [{'url': 'https://t.co/mBpJS3VOcw', 'expanded_url': 'https://twitter.com/i/web/status/1296344621677776896', 'display_url': 'twitter.com/i/web/status/1…', 'indices': [117, 140]}]}, metadata={'iso_language_code': 'en', 'result_type': 'recent'}, source='Twitter Web App', source_url='https://mobile.twitter.com', in_reply_to_status_id=1295456818072817665, in_reply_to_status_id_str='1295456818072817665', in_reply_to_user_id=1333782162, in_reply_to_user_id_str='1333782162', in_reply_to_screen_name='itz_leesha', author=User(_api=<tweepy.api.API object at 0x7fdf854cc470>, _json={'id': 328200064, 'id_str': '328200064', 'name': 'i~ishaq🇳🇬', 'screen_name': 'iyxmaeel', 'location': 'CurrentlyInNorthEast| Nigeria', 'description': \"Advocate: GirlChildEducation. #Pacifist.\\n#Sapiophile. \\n#Barcelona.\\nLike Butterflies.\\n\\nUDUS '13\", 'url': None, 'entities': {'description': {'urls': []}}, 'protected': False, 'followers_count': 5942, 'friends_count': 5220, 'listed_count': 1, 'created_at': 'Sat Jul 02 22:51:46 +0000 2011', 'favourites_count': 15663, 'utc_offset': None, 'time_zone': None, 'geo_enabled': False, 'verified': False, 'statuses_count': 10323, 'lang': None, 'contributors_enabled': False, 'is_translator': False, 'is_translation_enabled': False, 'profile_background_color': '352726', 'profile_background_image_url': 'http://abs.twimg.com/images/themes/theme5/bg.gif', 'profile_background_image_url_https': 'https://abs.twimg.com/images/themes/theme5/bg.gif', 'profile_background_tile': False, 'profile_image_url': 'http://pbs.twimg.com/profile_images/1229517116400795648/rYgOTBe9_normal.jpg', 'profile_image_url_https': 'https://pbs.twimg.com/profile_images/1229517116400795648/rYgOTBe9_normal.jpg', 'profile_banner_url': 'https://pbs.twimg.com/profile_banners/328200064/1584461353', 'profile_link_color': 'D02B55', 'profile_sidebar_border_color': '829D5E', 'profile_sidebar_fill_color': '99CC33', 'profile_text_color': '3E4415', 'profile_use_background_image': True, 'has_extended_profile': True, 'default_profile': False, 'default_profile_image': False, 'following': None, 'follow_request_sent': None, 'notifications': None, 'translator_type': 'none'}, id=328200064, id_str='328200064', name='i~ishaq🇳🇬', screen_name='iyxmaeel', location='CurrentlyInNorthEast| Nigeria', description=\"Advocate: GirlChildEducation. #Pacifist.\\n#Sapiophile. \\n#Barcelona.\\nLike Butterflies.\\n\\nUDUS '13\", url=None, entities={'description': {'urls': []}}, protected=False, followers_count=5942, friends_count=5220, listed_count=1, created_at=datetime.datetime(2011, 7, 2, 22, 51, 46), favourites_count=15663, utc_offset=None, time_zone=None, geo_enabled=False, verified=False, statuses_count=10323, lang=None, contributors_enabled=False, is_translator=False, is_translation_enabled=False, profile_background_color='352726', profile_background_image_url='http://abs.twimg.com/images/themes/theme5/bg.gif', profile_background_image_url_https='https://abs.twimg.com/images/themes/theme5/bg.gif', profile_background_tile=False, profile_image_url='http://pbs.twimg.com/profile_images/1229517116400795648/rYgOTBe9_normal.jpg', profile_image_url_https='https://pbs.twimg.com/profile_images/1229517116400795648/rYgOTBe9_normal.jpg', profile_banner_url='https://pbs.twimg.com/profile_banners/328200064/1584461353', profile_link_color='D02B55', profile_sidebar_border_color='829D5E', profile_sidebar_fill_color='99CC33', profile_text_color='3E4415', profile_use_background_image=True, has_extended_profile=True, default_profile=False, default_profile_image=False, following=False, follow_request_sent=None, notifications=None, translator_type='none'), user=User(_api=<tweepy.api.API object at 0x7fdf854cc470>, _json={'id': 328200064, 'id_str': '328200064', 'name': 'i~ishaq🇳🇬', 'screen_name': 'iyxmaeel', 'location': 'CurrentlyInNorthEast| Nigeria', 'description': \"Advocate: GirlChildEducation. #Pacifist.\\n#Sapiophile. \\n#Barcelona.\\nLike Butterflies.\\n\\nUDUS '13\", 'url': None, 'entities': {'description': {'urls': []}}, 'protected': False, 'followers_count': 5942, 'friends_count': 5220, 'listed_count': 1, 'created_at': 'Sat Jul 02 22:51:46 +0000 2011', 'favourites_count': 15663, 'utc_offset': None, 'time_zone': None, 'geo_enabled': False, 'verified': False, 'statuses_count': 10323, 'lang': None, 'contributors_enabled': False, 'is_translator': False, 'is_translation_enabled': False, 'profile_background_color': '352726', 'profile_background_image_url': 'http://abs.twimg.com/images/themes/theme5/bg.gif', 'profile_background_image_url_https': 'https://abs.twimg.com/images/themes/theme5/bg.gif', 'profile_background_tile': False, 'profile_image_url': 'http://pbs.twimg.com/profile_images/1229517116400795648/rYgOTBe9_normal.jpg', 'profile_image_url_https': 'https://pbs.twimg.com/profile_images/1229517116400795648/rYgOTBe9_normal.jpg', 'profile_banner_url': 'https://pbs.twimg.com/profile_banners/328200064/1584461353', 'profile_link_color': 'D02B55', 'profile_sidebar_border_color': '829D5E', 'profile_sidebar_fill_color': '99CC33', 'profile_text_color': '3E4415', 'profile_use_background_image': True, 'has_extended_profile': True, 'default_profile': False, 'default_profile_image': False, 'following': None, 'follow_request_sent': None, 'notifications': None, 'translator_type': 'none'}, id=328200064, id_str='328200064', name='i~ishaq🇳🇬', screen_name='iyxmaeel', location='CurrentlyInNorthEast| Nigeria', description=\"Advocate: GirlChildEducation. #Pacifist.\\n#Sapiophile. \\n#Barcelona.\\nLike Butterflies.\\n\\nUDUS '13\", url=None, entities={'description': {'urls': []}}, protected=False, followers_count=5942, friends_count=5220, listed_count=1, created_at=datetime.datetime(2011, 7, 2, 22, 51, 46), favourites_count=15663, utc_offset=None, time_zone=None, geo_enabled=False, verified=False, statuses_count=10323, lang=None, contributors_enabled=False, is_translator=False, is_translation_enabled=False, profile_background_color='352726', profile_background_image_url='http://abs.twimg.com/images/themes/theme5/bg.gif', profile_background_image_url_https='https://abs.twimg.com/images/themes/theme5/bg.gif', profile_background_tile=False, profile_image_url='http://pbs.twimg.com/profile_images/1229517116400795648/rYgOTBe9_normal.jpg', profile_image_url_https='https://pbs.twimg.com/profile_images/1229517116400795648/rYgOTBe9_normal.jpg', profile_banner_url='https://pbs.twimg.com/profile_banners/328200064/1584461353', profile_link_color='D02B55', profile_sidebar_border_color='829D5E', profile_sidebar_fill_color='99CC33', profile_text_color='3E4415', profile_use_background_image=True, has_extended_profile=True, default_profile=False, default_profile_image=False, following=False, follow_request_sent=None, notifications=None, translator_type='none'), geo=None, coordinates=None, place=None, contributors=None, is_quote_status=False, retweet_count=0, favorite_count=0, favorited=False, retweeted=False, lang='en')]\n"
          ],
          "name": "stdout"
        }
      ]
    },
    {
      "cell_type": "code",
      "metadata": {
        "id": "nOx2oFg_2ivx",
        "colab_type": "code",
        "colab": {}
      },
      "source": [
        "def getlistofUniquetweets(searchQuery, maxTweets , unique_list):\n",
        "\n",
        "  \n",
        "  Filter_Retweets = True  \n",
        "\n",
        "  tweetsPerQry = maxTweets  # this is the max the API permits\n",
        "  tweet_lst = []\n",
        "\n",
        "  if Filter_Retweets:\n",
        "    searchQuery = searchQuery + ' -filter:retweets'  # to exclude retweets\n",
        "\n",
        "  # If results from a specific ID onwards are reqd, set since_id to that ID.\n",
        "  # else default to no lower limit, go as far back as API allows\n",
        "  sinceId = None\n",
        "\n",
        "  # If results only below a specific ID are, set max_id to that ID.\n",
        "  # else default to no upper limit, start from the most recent tweet matching the search query.\n",
        "  max_id = -10000000000\n",
        "\n",
        "  tweetCount = 0\n",
        "  print(\"Downloading max {0} tweets\".format(maxTweets))\n",
        "  while tweetCount < maxTweets:\n",
        "      try:\n",
        "          if (max_id <= 0):\n",
        "              if (not sinceId):\n",
        "                  new_tweets = api.search(q=searchQuery, count=tweetsPerQry, tweet_mode='extended', lang=\"en\")\n",
        "              else:\n",
        "                  new_tweets = api.search(q=searchQuery, count=tweetsPerQry, tweet_mode='extended',\n",
        "                                          lang=\"en\", since_id=sinceId)\n",
        "          else:\n",
        "              if (not sinceId):\n",
        "                  new_tweets = api.search(q=searchQuery, count=tweetsPerQry, tweet_mode='extended',\n",
        "                                          lang=\"en\", max_id=str(max_id - 1))\n",
        "              else:\n",
        "                  new_tweets = api.search(q=searchQuery, count=tweetsPerQry, tweet_mode='extended',\n",
        "                                          lang=\"en\", max_id=str(max_id - 1),\n",
        "                                          since_id=sinceId)\n",
        "          if not new_tweets:\n",
        "              print(\"No more tweets found\")\n",
        "              break\n",
        "          for tweet in new_tweets:\n",
        "            if hasattr(tweet, 'reply_count'):\n",
        "              reply_count = tweet.reply_count\n",
        "            else:\n",
        "              reply_count = 0\n",
        "            if hasattr(tweet, 'retweeted'):\n",
        "              retweeted = tweet.retweeted\n",
        "            else:\n",
        "              retweeted = \"NA\"\n",
        "              \n",
        "            # fixup search query to get topic\n",
        "            topic = searchQuery[:searchQuery.find('-')].capitalize().strip()\n",
        "            \n",
        "            # fixup date\n",
        "            tweetDate = tweet.created_at.date()\n",
        "            \n",
        "            ausername = tweet.user.screen_name\n",
        "            \n",
        "            if ausername not in unique_list: \n",
        "              unique_list.append(ausername) \n",
        "\n",
        "            tweet_lst.append([ tweetDate, topic, \n",
        "                        tweet.id, tweet.user.screen_name, tweet.user.name, tweet.full_text, tweet.favorite_count, \n",
        "                        reply_count, tweet.retweet_count, retweeted])\n",
        "\n",
        "          tweetCount += len(new_tweets)\n",
        "          print(\"Downloaded {0} tweets\".format(tweetCount))\n",
        "          max_id = new_tweets[-1].id\n",
        "      except tweepy.TweepError as e:\n",
        "          # Just exit if any error\n",
        "          print(\"some error : \" + str(e))\n",
        "          break\n",
        "\n",
        "  #clear_output()\n",
        "  print(\"Downloaded {0} tweets\".format(tweetCount))\n",
        "\n",
        "  print(\"Identified {0} new candidate persons\".format(len(unique_list)))\n",
        "  #print(\"Identified {0} candidate persons\".format(len(unique_candidates_list)))\n",
        "  return unique_list\n",
        "\n",
        "\n"
      ],
      "execution_count": 15,
      "outputs": []
    },
    {
      "cell_type": "code",
      "metadata": {
        "id": "-AJaCfQpNtGA",
        "colab_type": "code",
        "colab": {}
      },
      "source": [
        ""
      ],
      "execution_count": 15,
      "outputs": []
    },
    {
      "cell_type": "code",
      "metadata": {
        "id": "8wyPp47zHuMJ",
        "colab_type": "code",
        "colab": {}
      },
      "source": [
        "def getlistofUniqueContent(searchQuery, maxTweets , tweet_lst):\n",
        "  unique_list = []\n",
        "\n",
        "  orginalearchQuery = searchQuery + ''\n",
        "  \n",
        "  Filter_Retweets = True  \n",
        "\n",
        "  tweetsPerQry = maxTweets  # this is the max the API permits\n",
        " \n",
        "  if Filter_Retweets:\n",
        "    searchQuery = searchQuery + ' -filter:retweets'  # to exclude retweets\n",
        "\n",
        "  # If results from a specific ID onwards are reqd, set since_id to that ID.\n",
        "  # else default to no lower limit, go as far back as API allows\n",
        "  sinceId = None\n",
        "\n",
        "  # If results only below a specific ID are, set max_id to that ID.\n",
        "  # else default to no upper limit, start from the most recent tweet matching the search query.\n",
        "  max_id = -10000000000\n",
        "\n",
        "  tweetCount = 0\n",
        "  print(\"Downloading max {0} tweets\".format(maxTweets))\n",
        "  while tweetCount < maxTweets:\n",
        "      try:\n",
        "          if (max_id <= 0):\n",
        "              if (not sinceId):\n",
        "                  new_tweets = api.search(q=searchQuery, count=tweetsPerQry, tweet_mode='extended', lang=\"en\")\n",
        "              else:\n",
        "                  new_tweets = api.search(q=searchQuery, count=tweetsPerQry, tweet_mode='extended',\n",
        "                                          lang=\"en\", since_id=sinceId)\n",
        "          else:\n",
        "              if (not sinceId):\n",
        "                  new_tweets = api.search(q=searchQuery, count=tweetsPerQry, tweet_mode='extended',\n",
        "                                          lang=\"en\", max_id=str(max_id - 1))\n",
        "              else:\n",
        "                  new_tweets = api.search(q=searchQuery, count=tweetsPerQry, tweet_mode='extended',\n",
        "                                          lang=\"en\", max_id=str(max_id - 1),\n",
        "                                          since_id=sinceId)\n",
        "          if not new_tweets:\n",
        "              print(\"No more tweets found\")\n",
        "              break\n",
        "          for tweet in new_tweets:\n",
        "            if hasattr(tweet, 'reply_count'):\n",
        "              reply_count = tweet.reply_count\n",
        "            else:\n",
        "              reply_count = 0\n",
        "            if hasattr(tweet, 'retweeted'):\n",
        "              retweeted = tweet.retweeted\n",
        "            else:\n",
        "              retweeted = \"NA\"\n",
        "              \n",
        "            # fixup search query to get topic\n",
        "            topic = searchQuery[:searchQuery.find('-')].capitalize().strip()\n",
        "            \n",
        "            # fixup date\n",
        "            tweetDate = tweet.created_at.date()\n",
        "            \n",
        "            ausername = tweet.user.screen_name\n",
        "            \n",
        "            if ausername not in unique_candidates_list: \n",
        "              unique_list.append(ausername) \n",
        "\n",
        "            tweet_lst.append([ orginalearchQuery, searchQuery, tweetDate, topic, \n",
        "                        tweet.id, tweet.user.screen_name, tweet.user.name, tweet.full_text, tweet.favorite_count, \n",
        "                        reply_count, tweet.retweet_count, retweeted])\n",
        "\n",
        "          tweetCount += len(new_tweets)\n",
        "          print(\"Downloaded {0} tweets\".format(tweetCount))\n",
        "          max_id = new_tweets[-1].id\n",
        "      except tweepy.TweepError as e:\n",
        "          # Just exit if any error\n",
        "          print(\"some error : \" + str(e))\n",
        "          break\n",
        "\n",
        " # clear_output()\n",
        "  print(\"Downloaded {0} tweets\".format(tweetCount))\n",
        "\n",
        "  #print(\"Identified {0} new candidate persons\".format(len(unique_list)))\n",
        "  #print(\"Identified {0} candidate persons\".format(len(unique_candidates_list)))\n",
        "  return tweet_lst\n",
        "\n",
        "\n"
      ],
      "execution_count": 16,
      "outputs": []
    },
    {
      "cell_type": "code",
      "metadata": {
        "id": "5lQANpk4A76u",
        "colab_type": "code",
        "colab": {}
      },
      "source": [
        "def appendtolistofdoctors(HCPusersInfo, listofHCPs, datatoAppend):\n",
        "  for auser  in listofHCPs:\n",
        "    print(auser)\n",
        "    test = api.lookup_users(screen_names=[auser])\n",
        "    for user in test:\n",
        "            HCPusersInfo.append({\n",
        "                                u'KEYWORD':datatoAppend,\n",
        "                                u'screen_name':user.screen_name,\n",
        "                                u'name': user.name,\n",
        "                                u'description':user.description,\n",
        "                                u'followers_count':user.followers_count,\n",
        "                                u'statuses_count': user.statuses_count,\n",
        "                                u'URL': user.url     \n",
        "                                })\n",
        "  return HCPusersInfo"
      ],
      "execution_count": 17,
      "outputs": []
    },
    {
      "cell_type": "code",
      "metadata": {
        "id": "8EbevdT-SR47",
        "colab_type": "code",
        "colab": {}
      },
      "source": [
        "def get_tweets_AllofthemByUserName(username, result_limit): \n",
        "          \n",
        "\n",
        "  \n",
        "        # 1 tweets to be extracted \n",
        "        number_of_tweets=1\n",
        "        tweets = api.user_timeline(screen_name=username, tweet_mode='extended'  , count=result_limit) \n",
        "\n",
        "      #  for atweet in tweets:\n",
        "        #  print( atweet )\n",
        "         # print( atweet.full_text)\n",
        "\n",
        "   \n",
        "        # Empty Array \n",
        "      #  tmp=[]  \n",
        "  \n",
        "        # create array of tweet information: username,  \n",
        "        # tweet id, date/time, text \n",
        "      #  tweets_for_csv = [tweet.full_text for tweet in tweets] # CSV file created  \n",
        "        #for j in tweets_for_csv: \n",
        "  \n",
        "            # Appending tweets to the empty array tmp \n",
        "          #  tmp.append(j)        \n",
        "  \n",
        "        # Printing the tweets \n",
        "       # print(tmp) \n",
        "        return tweets\n"
      ],
      "execution_count": 18,
      "outputs": []
    },
    {
      "cell_type": "markdown",
      "metadata": {
        "id": "nwKU10D47785",
        "colab_type": "text"
      },
      "source": [
        "## Utils"
      ]
    },
    {
      "cell_type": "code",
      "metadata": {
        "id": "_J71EwA4HagK",
        "colab_type": "code",
        "colab": {}
      },
      "source": [
        "import copy"
      ],
      "execution_count": 19,
      "outputs": []
    },
    {
      "cell_type": "code",
      "metadata": {
        "id": "_ztMgRZw7_4a",
        "colab_type": "code",
        "colab": {}
      },
      "source": [
        "def getOnlyDoctorsFromThisList(unique_candidates_list1, frequentKeywordsList):\n",
        "  unique_candidates_listOnlyDoctors = []\n",
        "  for aUser in unique_candidates_list1:\n",
        "    countofmedicalVocabUttered = 0\n",
        "    tweetsByaUser = get_tweets_AllofthemByUserName(aUser, 100)\n",
        "    for asingletweet in tweetsByaUser:\n",
        "      countofmedicalVocabUttered = countofmedicalVocabUttered + countofMedicalWordsInthisSentance(asingletweet.full_text,  frequentKeywordsList )\n",
        "    if (countofmedicalVocabUttered > 5 ):\n",
        "      unique_candidates_listOnlyDoctors.append(aUser)\n",
        "  return unique_candidates_listOnlyDoctors\n",
        "\n",
        "def countofMedicalWordsInthisSentance(mysentance, ListofMedicalVocab):\n",
        "  mycountofmedicalwords = 0\n",
        "  for aMedicalWord in ListofMedicalVocab:\n",
        "    if aMedicalWord in mysentance:\n",
        "      mycountofmedicalwords = mycountofmedicalwords + 1\n",
        "  return mycountofmedicalwords"
      ],
      "execution_count": 20,
      "outputs": []
    },
    {
      "cell_type": "code",
      "metadata": {
        "id": "eIEpHf2rjv9J",
        "colab_type": "code",
        "colab": {}
      },
      "source": [
        "def getHCPandThierDistributionofInterests(unique_candidates_list2, frequentKeywordsList, HCPandKeywordsArrayofDict, KEYWORDSEARCHEDFORInTwitter ):\n",
        "  for auser in unique_candidates_list2:\n",
        "    A100tweetsByaUser = get_tweets_AllofthemByUserName(auser, 100)\n",
        "    akeyworddistributiondictionaryforanuser = {}\n",
        "    print(auser)\n",
        "    userinfofromtwitterResults = api.lookup_users(screen_names=[auser])\n",
        "    userinfofromtwitter = userinfofromtwitterResults[0]\n",
        "    anewdictionary = dict( screenname= auser,  \n",
        "                          name =  userinfofromtwitter.name, \n",
        "                          description =  userinfofromtwitter.description, \n",
        "                          followers_count =    userinfofromtwitter.followers_count,\n",
        "                          statuses_count = userinfofromtwitter.statuses_count, \n",
        "                          URL = userinfofromtwitter.url \n",
        "                          )\n",
        "    for akeyword in frequentKeywordsList:\n",
        "      mycountofkeywordInSetsofTweets = countofkeywordInSetsofSentances( A100tweetsByaUser, akeyword)\n",
        "      anewdictionary[akeyword] = mycountofkeywordInSetsofTweets    \n",
        "    anewdictionary[\"Tweet\"] = A100tweetsByaUser[0].full_text    \n",
        "    HCPandKeywordsArrayofDict.append( anewdictionary )\n",
        "    return HCPandKeywordsArrayofDict\n",
        "\n",
        "\n",
        "\n",
        "\n",
        "\n"
      ],
      "execution_count": 21,
      "outputs": []
    },
    {
      "cell_type": "code",
      "metadata": {
        "id": "6c8XolDBGh3l",
        "colab_type": "code",
        "colab": {}
      },
      "source": [
        "def normalize(frequentKeywords, HCPandKeywordsArrayofDict):\n",
        "  frequentKeywordsTotalSum = copy.deepcopy (frequentKeywords)\n",
        "  for akeyword1 in frequentKeywordsTotalSum.keys():\n",
        "    frequentKeywordsTotalSum[akeyword1] = 0\n",
        "\n",
        "  for arow in HCPandKeywordsArrayofDict:\n",
        "    for akeyword in frequentKeywords.keys() :\n",
        "      frequentKeywordsTotalSum[akeyword]  += arow[akeyword]\n",
        "\n",
        "  for arow in HCPandKeywordsArrayofDict:\n",
        "    for akeyword in frequentKeywords.keys() :\n",
        "      if frequentKeywordsTotalSum[akeyword].any() != 0:\n",
        "        arow[akeyword] = arow[akeyword] / frequentKeywordsTotalSum[akeyword] \n",
        "  return HCPandKeywordsArrayofDict"
      ],
      "execution_count": 22,
      "outputs": []
    },
    {
      "cell_type": "code",
      "metadata": {
        "id": "JztWhA_PsoKo",
        "colab_type": "code",
        "colab": {}
      },
      "source": [
        "def countofkeywordInSetsofSentances ( A100tweetsByaUser, aword):\n",
        "  myanscounter = 0\n",
        "  for atweet in A100tweetsByaUser:\n",
        "    mysentance = atweet.full_text  \n",
        "    if aword in mysentance:\n",
        "      myanscounter =  myanscounter + 1\n",
        "  return myanscounter"
      ],
      "execution_count": 23,
      "outputs": []
    },
    {
      "cell_type": "markdown",
      "metadata": {
        "id": "-8XbhHUiO2cD",
        "colab_type": "text"
      },
      "source": [
        "## Distrbution from normal users"
      ]
    },
    {
      "cell_type": "code",
      "metadata": {
        "id": "VD5Xw5bFPGKW",
        "colab_type": "code",
        "colab": {}
      },
      "source": [
        "def getRandomInterst(list_of_content, frequentKeywordsList ):\n",
        "\n",
        "    \n",
        "\n",
        "  anewdictionary = dict()\n",
        "\n",
        "    \n",
        "\n",
        "  for akeyword in frequentKeywordsList:\n",
        "\n",
        "    mycountofkeywordInSetsofTweets = countofkeywordInSetsofSentances( list_of_content, akeyword)\n",
        "\n",
        "    anewdictionary[akeyword] = mycountofkeywordInSetsofTweets    \n",
        "\n",
        " \n",
        "\n",
        "  return anewdictionary"
      ],
      "execution_count": 24,
      "outputs": []
    },
    {
      "cell_type": "code",
      "metadata": {
        "id": "IOJFIbbUPO4I",
        "colab_type": "code",
        "colab": {}
      },
      "source": [
        "def getRandomTweets(maxTweets):\n",
        "\n",
        " \n",
        "\n",
        "  \n",
        "\n",
        "  Filter_Retweets = True  \n",
        "\n",
        " \n",
        "\n",
        "  tweetsPerQry = maxTweets  # this is the max the API permits\n",
        "\n",
        "  tweet_lst = []\n",
        "\n",
        " \n",
        "\n",
        "  if Filter_Retweets:\n",
        "\n",
        "    searchQuery = ' -filter:retweets'  # to exclude retweets\n",
        "\n",
        " \n",
        "\n",
        "  # If results from a specific ID onwards are reqd, set since_id to that ID.\n",
        "\n",
        "  # else default to no lower limit, go as far back as API allows\n",
        "\n",
        "  sinceId = None\n",
        "\n",
        " \n",
        "\n",
        "  # If results only below a specific ID are, set max_id to that ID.\n",
        "\n",
        "  # else default to no upper limit, start from the most recent tweet matching the search query.\n",
        "\n",
        "  max_id = -10000000000\n",
        "\n",
        " \n",
        "\n",
        "  tweetCount = 0\n",
        "\n",
        "  print(\"Downloading max {0} tweets\".format(maxTweets))\n",
        "\n",
        "  while tweetCount < maxTweets:\n",
        "\n",
        "      try:\n",
        "\n",
        "          if (max_id <= 0):\n",
        "\n",
        "              if (not sinceId):\n",
        "\n",
        "                  new_tweets = api.search(q=searchQuery, count=tweetsPerQry, tweet_mode='extended', lang=\"en\")\n",
        "\n",
        "              else:\n",
        "\n",
        "                  new_tweets = api.search(q=searchQuery, count=tweetsPerQry, tweet_mode='extended',\n",
        "\n",
        "                                          lang=\"en\", since_id=sinceId)\n",
        "\n",
        "          else:\n",
        "\n",
        "              if (not sinceId):\n",
        "\n",
        "                  new_tweets = api.search(q=searchQuery, count=tweetsPerQry, tweet_mode='extended',\n",
        "\n",
        "                                          lang=\"en\", max_id=str(max_id - 1))\n",
        "\n",
        "              else:\n",
        "\n",
        "                  new_tweets = api.search(q=searchQuery, count=tweetsPerQry, tweet_mode='extended',\n",
        "\n",
        "                                          lang=\"en\", max_id=str(max_id - 1),\n",
        "\n",
        "                                          since_id=sinceId)\n",
        "\n",
        "          if not new_tweets:\n",
        "\n",
        "              print(\"No more tweets found\")\n",
        "\n",
        "              break\n",
        "\n",
        "          for tweet in new_tweets:\n",
        "\n",
        "            if hasattr(tweet, 'reply_count'):\n",
        "\n",
        "              reply_count = tweet.reply_count\n",
        "\n",
        "            else:\n",
        "\n",
        "              reply_count = 0\n",
        "\n",
        "            if hasattr(tweet, 'retweeted'):\n",
        "\n",
        "              retweeted = tweet.retweeted\n",
        "\n",
        "            else:\n",
        "\n",
        "              retweeted = \"NA\"\n",
        "\n",
        "              \n",
        "\n",
        "            # fixup date\n",
        "\n",
        "            tweetDate = tweet.created_at.date()\n",
        "\n",
        "            \n",
        "\n",
        "            tweet_lst.append(tweet)\n",
        "\n",
        " \n",
        "\n",
        "          tweetCount += len(new_tweets)\n",
        "\n",
        "          #print(\"Downloaded {0} tweets\".format(tweetCount))\n",
        "\n",
        "          max_id = new_tweets[-1].id\n",
        "\n",
        "      except tweepy.TweepError as e:\n",
        "\n",
        "          # Just exit if any error\n",
        "\n",
        "          print(\"some error : \" + str(e))\n",
        "\n",
        "          break\n",
        "\n",
        " \n",
        "\n",
        " # clear_output()\n",
        "\n",
        "  print(\"Downloaded {0} tweets\".format(tweetCount))\n",
        "\n",
        " \n",
        "\n",
        "  return tweet_lst\n",
        "\n"
      ],
      "execution_count": 25,
      "outputs": []
    },
    {
      "cell_type": "code",
      "metadata": {
        "id": "1NDrc2rSPggz",
        "colab_type": "code",
        "colab": {}
      },
      "source": [
        "#TODO Add \n",
        "#tweet_cnt = getRandomTweets(100000)\n",
        "\n",
        "#getRandomInterst(tweet_cnt, frequentKeywordsListFiltered)\n",
        "\n"
      ],
      "execution_count": 26,
      "outputs": []
    },
    {
      "cell_type": "markdown",
      "metadata": {
        "id": "DKRcS3aEHYth",
        "colab_type": "text"
      },
      "source": [
        "## List of Dates in pubmed"
      ]
    },
    {
      "cell_type": "code",
      "metadata": {
        "id": "-V1RFm7IHkro",
        "colab_type": "code",
        "colab": {
          "base_uri": "https://localhost:8080/",
          "height": 50
        },
        "outputId": "78a520a8-c347-439e-b8c8-0a0ec9904625"
      },
      "source": [
        "!pip install python-dateutil"
      ],
      "execution_count": 27,
      "outputs": [
        {
          "output_type": "stream",
          "text": [
            "Requirement already satisfied: python-dateutil in /usr/local/lib/python3.6/dist-packages (2.8.1)\n",
            "Requirement already satisfied: six>=1.5 in /usr/local/lib/python3.6/dist-packages (from python-dateutil) (1.15.0)\n"
          ],
          "name": "stdout"
        }
      ]
    },
    {
      "cell_type": "code",
      "metadata": {
        "id": "qsCkEZmoHe0r",
        "colab_type": "code",
        "colab": {}
      },
      "source": [
        "from datetime import date\n",
        "\n",
        "import dateutil\n",
        "\n",
        "def get_ListofDatesAlsoGetaDictionary(numberofmonths, timespaninmonths, mydictionaryofMeSHqueriesCONTEXTDate):\n",
        "  today = date.today()\n",
        "  list_of_dates = []\n",
        "  for i in range(numberofmonths): \n",
        "    d2 = today - dateutil.relativedelta.relativedelta(months=timespaninmonths)\n",
        "    querystr = \"(\" + date.strftime(d2, format = '%Y/%m/%d') + \"[Date - Create] : \" + date.strftime(today, format = '%Y/%m/%d') + \"[Date - Create] )\"\n",
        "    today = d2\n",
        "    list_of_dates.append(querystr)\n",
        "    mydictionaryofMeSHqueriesCONTEXTDate[querystr] = today\n",
        "  return list_of_dates, mydictionaryofMeSHqueriesCONTEXTDate"
      ],
      "execution_count": 28,
      "outputs": []
    },
    {
      "cell_type": "code",
      "metadata": {
        "id": "W36BYeQHnoQJ",
        "colab_type": "code",
        "colab": {}
      },
      "source": [
        ""
      ],
      "execution_count": 28,
      "outputs": []
    },
    {
      "cell_type": "code",
      "metadata": {
        "id": "2c3_iQj1IEyb",
        "colab_type": "code",
        "colab": {}
      },
      "source": [
        " "
      ],
      "execution_count": 28,
      "outputs": []
    },
    {
      "cell_type": "markdown",
      "metadata": {
        "id": "Jxp5qBFZ3Lna",
        "colab_type": "text"
      },
      "source": [
        "##Generic function to look for most frequent KEY PHRASES using BioBERT"
      ]
    },
    {
      "cell_type": "code",
      "metadata": {
        "id": "t4sOJX0vkc-Z",
        "colab_type": "code",
        "colab": {}
      },
      "source": [
        "def CreateGenericNEW( focusColoum  , maxResults, query):\n",
        "  articleInfo = []\n",
        "  articleList = []\n",
        "\n",
        "  if True:\n",
        "\n",
        "    results = pubmed.query(query, max_results=maxResults)\n",
        "    print(\"CreateGenericNEW\" + query )\n",
        "#    MesHTermsArray = mydictionaryofMeSHqueries[query]\n",
        "    time.sleep(5)\n",
        "    \n",
        "\n",
        "    for article in results:\n",
        "      # Print the type of object we've found (can be either PubMedBookArticle or PubMedArticle).\n",
        "      # We need to convert it to dictionary with available function\n",
        "        articleDict = article.toDict()\n",
        "        articleList.append(articleDict)\n",
        "\n",
        "      # Generate list of dict records which will hold all article details that could be fetch from PUBMED API\n",
        "    for article in articleList:\n",
        "        #print(article)\n",
        "      #Sometimes article['pubmed_id'] contains list separated with comma - take first pubmedId in that list - thats article pubmedId\n",
        "        pubmedId = article['pubmed_id'].partition('\\n')[0]\n",
        "          # Append article info to dictionary \n",
        "        # articleInfo.append({u'pubmed_id':pubmedId,                        u'title':article['title'],                        u'keywords':article['keywords'],                       u'journal':article['journal'],})\n",
        "\n",
        "        if not (focusColoum=='title' or focusColoum=='abstract' or focusColoum=='keyword'):\n",
        "          print(\"ERROR in INPUT.. focusColoum must be title or abstract or keyword\")\n",
        "\n",
        "        if(focusColoum == 'keyword' ):\n",
        "          if (len(article['keywords'])) > 0:\n",
        "            for aword in article['keywords']:\n",
        "              articleInfo.append({u'query':query,\n",
        "                                  u'keywords':article['keywords'],\n",
        "                                  u'KEYWORD':aword,\n",
        "                                  u'authors':article['authors'],\n",
        "                                  u'title':article['title'],\n",
        "                                  u'abstract':article['abstract'],\n",
        "                                  u'journal':article['journal'],\n",
        "                                  u'doi':article['doi'],\n",
        "                                  u'publication_date':article['publication_date'],\n",
        "                                  u'authors':article['authors'],\n",
        "                                  })\n",
        "\n",
        "        if (focusColoum=='title' or focusColoum=='abstract'):\n",
        "          if ((len(article['keywords']))  > 0) and ( article['abstract'] is not None):\n",
        "            listofBioBERTentities = getNERBioBERT ( article[focusColoum])\n",
        "            for aBioEntity in listofBioBERTentities:\n",
        "              articleInfo.append({u'query':query,\n",
        "                                  u'keywords':article['keywords'],\n",
        "                                  u'KEYWORD': aBioEntity,\n",
        "                                  u'title':article['title'],\n",
        "                                  u'abstract':article['abstract'],\n",
        "                                  u'journal':article['journal'],\n",
        "                                  u'doi':article['doi'],\n",
        "                                  u'publication_date':article['publication_date'],\n",
        "                                  u'authors':article['authors'],                                     \n",
        "                                  })\n",
        "      \n",
        "    # Generate Pandas DataFrame from list of dictionaries\n",
        "  articlesPD = pd.DataFrame.from_dict(articleInfo)\n",
        "    #export_csv = df.to_csv (r'C:\\Users\\YourUsernam\\Desktop\\export_dataframe.csv', index = None, header=True) \n",
        "\n",
        "  articlesPD.info()\n",
        "\n",
        "  #Print first 10 rows of dataframe\n",
        "  articlesPD.head(10)\n",
        "  articlesPD.tail(10)\n",
        "  return articlesPD"
      ],
      "execution_count": 29,
      "outputs": []
    },
    {
      "cell_type": "code",
      "metadata": {
        "id": "UaCVgjCy3Ovv",
        "colab_type": "code",
        "colab": {}
      },
      "source": [
        "def CreateGeneric( focusColoum  , maxResults):\n",
        "  articleInfo = []\n",
        "  articleList = []\n",
        "\n",
        "  for query in ListofMeSHqueries:\n",
        "\n",
        "    results = pubmed.query(query, max_results=maxResults)\n",
        "    print(query)\n",
        "    MesHTermsArray = mydictionaryofMeSHqueries[query]\n",
        "    time.sleep(5)\n",
        "    \n",
        "\n",
        "    for article in results:\n",
        "      # Print the type of object we've found (can be either PubMedBookArticle or PubMedArticle).\n",
        "      # We need to convert it to dictionary with available function\n",
        "        articleDict = article.toDict()\n",
        "        articleList.append(articleDict)\n",
        "\n",
        "      # Generate list of dict records which will hold all article details that could be fetch from PUBMED API\n",
        "    for article in articleList:\n",
        "      #Sometimes article['pubmed_id'] contains list separated with comma - take first pubmedId in that list - thats article pubmedId\n",
        "        pubmedId = article['pubmed_id'].partition('\\n')[0]\n",
        "          # Append article info to dictionary \n",
        "        # articleInfo.append({u'pubmed_id':pubmedId,                        u'title':article['title'],                        u'keywords':article['keywords'],                       u'journal':article['journal'],})\n",
        "\n",
        "        if not (focusColoum=='title' or focusColoum=='abstract' or focusColoum=='keyword'):\n",
        "          print(\"ERROR in INPUT.. focusColoum must be title or abstract or keyword\")\n",
        "\n",
        "        if(focusColoum == 'keyword' ):\n",
        "          if (len(article['keywords'])) > 0:\n",
        "            for aword in article['keywords']:\n",
        "              articleInfo.append({u'query':query,\n",
        "                                  u'MeSHTerm1': MesHTermsArray[0],\n",
        "                                  u'keywords':article['keywords'],\n",
        "                                  u'KEYWORD':aword,\n",
        "                                  u'authors':article['authors'],\n",
        "                                  u'title':article['title'],\n",
        "                                  u'abstract':article['abstract'],\n",
        "                                  u'journal':article['journal'],\n",
        "                                  u'doi':article['doi'],\n",
        "                                  u'publication_date':article['publication_date'],\n",
        "                                  u'authors':article['authors'],\n",
        "                                  })\n",
        "\n",
        "        if (focusColoum=='title' or focusColoum=='abstract'):\n",
        "          if ((len(article['keywords']))  > 0) and ( article['abstract'] is not None):\n",
        "            listofBioBERTentities = getNERBioBERT ( article[focusColoum])\n",
        "            for aBioEntity in listofBioBERTentities:\n",
        "              articleInfo.append({u'query':query,\n",
        "                                  u'MeSHTerm1': MesHTermsArray[0],\n",
        "                                  u'keywords':article['keywords'],\n",
        "                                  u'BioBERTKEYPHRASE': aBioEntity,\n",
        "                                  u'title':article['title'],\n",
        "                                  u'abstract':article['abstract'],\n",
        "                                  u'journal':article['journal'],\n",
        "                                  u'doi':article['doi'],\n",
        "                                  u'publication_date':article['publication_date'],\n",
        "                                  u'authors':article['authors'],                                     \n",
        "                                  })\n",
        "      \n",
        "    # Generate Pandas DataFrame from list of dictionaries\n",
        "  articlesPD = pd.DataFrame.from_dict(articleInfo)\n",
        "    #export_csv = df.to_csv (r'C:\\Users\\YourUsernam\\Desktop\\export_dataframe.csv', index = None, header=True) \n",
        "\n",
        "  articlesPD.info()\n",
        "\n",
        "  #Print first 10 rows of dataframe\n",
        "  articlesPD.head(10)\n",
        "  articlesPD.tail(10)\n",
        "  return articlesPD"
      ],
      "execution_count": 30,
      "outputs": []
    },
    {
      "cell_type": "markdown",
      "metadata": {
        "id": "pcm3O_iCgF1U",
        "colab_type": "text"
      },
      "source": [
        "##  Sentiment analysis using a ensemble of BERT and BioClinical BERT (ideally use BioClinical model if the content is clinical )"
      ]
    },
    {
      "cell_type": "code",
      "metadata": {
        "id": "_YHCzAJTgMRd",
        "colab_type": "code",
        "colab": {
          "base_uri": "https://localhost:8080/",
          "height": 364,
          "referenced_widgets": [
            "f86e58820dc247d38ee3b95824bb26e5",
            "c1c96681e75d48e2a6062168cf6efe24",
            "c9ca206973d94110ab96b71ac5a61019",
            "a8b19035078b43d39e2c4cde066645d1",
            "f6d969df17f74ad6a694130a1df17e8a",
            "29aab441d0354773b8eae5b3b3303599",
            "f9a6d3c34ad04768ace22a27cb67c25a",
            "242982b0cd0d485b8fef20d78adf14c6",
            "104a635f010c49068c808e3ef82ec59f",
            "548a5ac7320f4b3fa5ebd6c74a6d2bdb",
            "0a015545b5d745fc899889fad006fc6e",
            "aa9c099ab0954cec876f2a29f68c35ce",
            "381c4453dcc14f6fb7f75fcfd2c03f44",
            "3470c3906ec9465d9ebd39a0fbfc5bcb",
            "b5e224aaa6254584ac6b2d7ec9e2a088",
            "b727a45a35ae468dae6cfbbc3ea91972",
            "03293e7082d545bebe1f553337ef3eca",
            "069b88d771de44c3b9496cf8ad83583c",
            "1d8d8a35fe204e95b67523c930c04abc",
            "ebbc05ae119748d197f661f3db842513",
            "de7fba96802749278b17c5bd828f7cf9",
            "6a55c3c730144f1f9f6bed5339b666c3",
            "6d164c727e614acc83f351ae1363b0aa",
            "3c2f0f0cf8a649f39eb88f27a73763fe",
            "1095be6015bc4f9285480f7915993b2c",
            "370478d26eda47e2aa4d07a9bb0e8f52",
            "fcdc40392d9b497dbae60b82435a237a",
            "683ff534b5554974ab7662b6342e1e14",
            "49366cf6111f441d8e8a16cdc4683b0c",
            "25dd1fa1326b467ab6e9ec1f3e88c326",
            "f1428a2996ba4480b8e186ed515bee55",
            "e1c758c2089c46abaae527bdc2cd859b",
            "2ec50eba7b974e04affe085ecbce7043",
            "4c5e611c842942a4bda87511204ce4dd",
            "2c745b0327f64851ba81086a00037063",
            "fa527f0c394b4f9e91c738aae0e2d6a0",
            "bfdd47f2c4174e9f9b8885555535634d",
            "b028fd51f0fb4881966be2121a1d6495",
            "b1b52be93d2642d49b809c7a46b2be11",
            "1d82042d66f14db58e1a612771daafb2"
          ]
        },
        "outputId": "79318ec5-623b-4d60-e24d-45ebafdf108b"
      },
      "source": [
        "BERTsentimentanalyzer = pipeline('sentiment-analysis', model=\"simonlevine/Bio_ClinicalBERT-4096\",  tokenizer=\"simonlevine/Bio_ClinicalBERT-4096\")\n",
        "\n",
        "#BERTsentimentanalyzer = pipeline('sentiment-analysis')\n",
        "#TODO : Choice of BioBERT vs BERT for sentiment analysis or an attention based ensemble "
      ],
      "execution_count": 31,
      "outputs": [
        {
          "output_type": "display_data",
          "data": {
            "application/vnd.jupyter.widget-view+json": {
              "model_id": "f86e58820dc247d38ee3b95824bb26e5",
              "version_minor": 0,
              "version_major": 2
            },
            "text/plain": [
              "HBox(children=(FloatProgress(value=0.0, description='Downloading', max=599.0, style=ProgressStyle(description_…"
            ]
          },
          "metadata": {
            "tags": []
          }
        },
        {
          "output_type": "stream",
          "text": [
            "\n"
          ],
          "name": "stdout"
        },
        {
          "output_type": "display_data",
          "data": {
            "application/vnd.jupyter.widget-view+json": {
              "model_id": "104a635f010c49068c808e3ef82ec59f",
              "version_minor": 0,
              "version_major": 2
            },
            "text/plain": [
              "HBox(children=(FloatProgress(value=0.0, description='Downloading', max=213450.0, style=ProgressStyle(descripti…"
            ]
          },
          "metadata": {
            "tags": []
          }
        },
        {
          "output_type": "stream",
          "text": [
            "\n"
          ],
          "name": "stdout"
        },
        {
          "output_type": "display_data",
          "data": {
            "application/vnd.jupyter.widget-view+json": {
              "model_id": "03293e7082d545bebe1f553337ef3eca",
              "version_minor": 0,
              "version_major": 2
            },
            "text/plain": [
              "HBox(children=(FloatProgress(value=0.0, description='Downloading', max=112.0, style=ProgressStyle(description_…"
            ]
          },
          "metadata": {
            "tags": []
          }
        },
        {
          "output_type": "stream",
          "text": [
            "\n"
          ],
          "name": "stdout"
        },
        {
          "output_type": "display_data",
          "data": {
            "application/vnd.jupyter.widget-view+json": {
              "model_id": "1095be6015bc4f9285480f7915993b2c",
              "version_minor": 0,
              "version_major": 2
            },
            "text/plain": [
              "HBox(children=(FloatProgress(value=0.0, description='Downloading', max=88.0, style=ProgressStyle(description_w…"
            ]
          },
          "metadata": {
            "tags": []
          }
        },
        {
          "output_type": "stream",
          "text": [
            "\n"
          ],
          "name": "stdout"
        },
        {
          "output_type": "display_data",
          "data": {
            "application/vnd.jupyter.widget-view+json": {
              "model_id": "2ec50eba7b974e04affe085ecbce7043",
              "version_minor": 0,
              "version_major": 2
            },
            "text/plain": [
              "HBox(children=(FloatProgress(value=0.0, description='Downloading', max=444308500.0, style=ProgressStyle(descri…"
            ]
          },
          "metadata": {
            "tags": []
          }
        },
        {
          "output_type": "stream",
          "text": [
            "\n"
          ],
          "name": "stdout"
        },
        {
          "output_type": "stream",
          "text": [
            "Some weights of the model checkpoint at simonlevine/Bio_ClinicalBERT-4096 were not used when initializing BertForSequenceClassification: ['encoder.layer.0.attention.self.query_global.weight', 'encoder.layer.0.attention.self.query_global.bias', 'encoder.layer.0.attention.self.key_global.weight', 'encoder.layer.0.attention.self.key_global.bias', 'encoder.layer.0.attention.self.value_global.weight', 'encoder.layer.0.attention.self.value_global.bias', 'encoder.layer.1.attention.self.query_global.weight', 'encoder.layer.1.attention.self.query_global.bias', 'encoder.layer.1.attention.self.key_global.weight', 'encoder.layer.1.attention.self.key_global.bias', 'encoder.layer.1.attention.self.value_global.weight', 'encoder.layer.1.attention.self.value_global.bias', 'encoder.layer.2.attention.self.query_global.weight', 'encoder.layer.2.attention.self.query_global.bias', 'encoder.layer.2.attention.self.key_global.weight', 'encoder.layer.2.attention.self.key_global.bias', 'encoder.layer.2.attention.self.value_global.weight', 'encoder.layer.2.attention.self.value_global.bias', 'encoder.layer.3.attention.self.query_global.weight', 'encoder.layer.3.attention.self.query_global.bias', 'encoder.layer.3.attention.self.key_global.weight', 'encoder.layer.3.attention.self.key_global.bias', 'encoder.layer.3.attention.self.value_global.weight', 'encoder.layer.3.attention.self.value_global.bias', 'encoder.layer.4.attention.self.query_global.weight', 'encoder.layer.4.attention.self.query_global.bias', 'encoder.layer.4.attention.self.key_global.weight', 'encoder.layer.4.attention.self.key_global.bias', 'encoder.layer.4.attention.self.value_global.weight', 'encoder.layer.4.attention.self.value_global.bias', 'encoder.layer.5.attention.self.query_global.weight', 'encoder.layer.5.attention.self.query_global.bias', 'encoder.layer.5.attention.self.key_global.weight', 'encoder.layer.5.attention.self.key_global.bias', 'encoder.layer.5.attention.self.value_global.weight', 'encoder.layer.5.attention.self.value_global.bias', 'encoder.layer.6.attention.self.query_global.weight', 'encoder.layer.6.attention.self.query_global.bias', 'encoder.layer.6.attention.self.key_global.weight', 'encoder.layer.6.attention.self.key_global.bias', 'encoder.layer.6.attention.self.value_global.weight', 'encoder.layer.6.attention.self.value_global.bias', 'encoder.layer.7.attention.self.query_global.weight', 'encoder.layer.7.attention.self.query_global.bias', 'encoder.layer.7.attention.self.key_global.weight', 'encoder.layer.7.attention.self.key_global.bias', 'encoder.layer.7.attention.self.value_global.weight', 'encoder.layer.7.attention.self.value_global.bias', 'encoder.layer.8.attention.self.query_global.weight', 'encoder.layer.8.attention.self.query_global.bias', 'encoder.layer.8.attention.self.key_global.weight', 'encoder.layer.8.attention.self.key_global.bias', 'encoder.layer.8.attention.self.value_global.weight', 'encoder.layer.8.attention.self.value_global.bias', 'encoder.layer.9.attention.self.query_global.weight', 'encoder.layer.9.attention.self.query_global.bias', 'encoder.layer.9.attention.self.key_global.weight', 'encoder.layer.9.attention.self.key_global.bias', 'encoder.layer.9.attention.self.value_global.weight', 'encoder.layer.9.attention.self.value_global.bias', 'encoder.layer.10.attention.self.query_global.weight', 'encoder.layer.10.attention.self.query_global.bias', 'encoder.layer.10.attention.self.key_global.weight', 'encoder.layer.10.attention.self.key_global.bias', 'encoder.layer.10.attention.self.value_global.weight', 'encoder.layer.10.attention.self.value_global.bias', 'encoder.layer.11.attention.self.query_global.weight', 'encoder.layer.11.attention.self.query_global.bias', 'encoder.layer.11.attention.self.key_global.weight', 'encoder.layer.11.attention.self.key_global.bias', 'encoder.layer.11.attention.self.value_global.weight', 'encoder.layer.11.attention.self.value_global.bias']\n",
            "- This IS expected if you are initializing BertForSequenceClassification from the checkpoint of a model trained on another task or with another architecture (e.g. initializing a BertForSequenceClassification model from a BertForPretraining model).\n",
            "- This IS NOT expected if you are initializing BertForSequenceClassification from the checkpoint of a model that you expect to be exactly identical (initializing a BertForSequenceClassification model from a BertForSequenceClassification model).\n",
            "Some weights of BertForSequenceClassification were not initialized from the model checkpoint at simonlevine/Bio_ClinicalBERT-4096 and are newly initialized: ['classifier.bias', 'classifier.weight']\n",
            "You should probably TRAIN this model on a down-stream task to be able to use it for predictions and inference.\n"
          ],
          "name": "stderr"
        }
      ]
    },
    {
      "cell_type": "code",
      "metadata": {
        "id": "rrNTH3PaiyL9",
        "colab_type": "code",
        "colab": {
          "base_uri": "https://localhost:8080/",
          "height": 33
        },
        "outputId": "aee8a053-e4ef-4881-a2ca-6010171179b7"
      },
      "source": [
        "BERTsentimentanalyzer (\"i do NOT like it \")"
      ],
      "execution_count": 32,
      "outputs": [
        {
          "output_type": "execute_result",
          "data": {
            "text/plain": [
              "[{'label': 'LABEL_1', 'score': 0.6679993867874146}]"
            ]
          },
          "metadata": {
            "tags": []
          },
          "execution_count": 32
        }
      ]
    },
    {
      "cell_type": "code",
      "metadata": {
        "id": "oFSCfn1dhqsN",
        "colab_type": "code",
        "colab": {}
      },
      "source": [
        "def getSentiment(myinputsentance):\n",
        "  ans = BERTsentimentanalyzer(myinputsentance)\n",
        "  finalsentiment = 0\n",
        "  if len(ans) > 0:\n",
        "    if ans[0]['score'] > 0.9:\n",
        "      if ans[0]['label'] == 'NEGATIVE' :\n",
        "        finalsentiment = -1\n",
        "      if ans[0]['label'] == 'POSITIVE' :\n",
        "        finalsentiment = 1\n",
        "  return finalsentiment\n"
      ],
      "execution_count": 33,
      "outputs": []
    },
    {
      "cell_type": "markdown",
      "metadata": {
        "id": "L5bshbxwUeUA",
        "colab_type": "text"
      },
      "source": [
        "# Set the time for completion of the run"
      ]
    },
    {
      "cell_type": "code",
      "metadata": {
        "id": "aFdK-j8jUl4i",
        "colab_type": "code",
        "colab": {}
      },
      "source": [
        "ISDEBUGMODE = 20\n",
        "# set this value to 2 for 2 iterations of query. (10 iterations takes 5 minutes)\n",
        "# set this value to 2000000 for all the iternations "
      ],
      "execution_count": 34,
      "outputs": []
    },
    {
      "cell_type": "markdown",
      "metadata": {
        "id": "Tpmz2WKwzgyO",
        "colab_type": "text"
      },
      "source": [
        "#    Step 1.   Based on BU end user needs, Let the BU define the scope of experiment here.."
      ]
    },
    {
      "cell_type": "markdown",
      "metadata": {
        "id": "KuzQCq4Ehy-T",
        "colab_type": "text"
      },
      "source": [
        "Medical Standard Heading MeSH based query strategy \n",
        "https://meshb-prev.nlm.nih.gov/treeView"
      ]
    },
    {
      "cell_type": "markdown",
      "metadata": {
        "id": "rGvmagEEBvqW",
        "colab_type": "text"
      },
      "source": [
        "### Formulate MeSH queries based on user selection on the UI"
      ]
    },
    {
      "cell_type": "code",
      "metadata": {
        "id": "9MdeKpcAAx2E",
        "colab_type": "code",
        "colab": {}
      },
      "source": [
        ""
      ],
      "execution_count": 34,
      "outputs": []
    },
    {
      "cell_type": "markdown",
      "metadata": {
        "id": "yg16_JJ1CPbZ",
        "colab_type": "text"
      },
      "source": [
        "### Display a MeSH query to BU end user and preview expected results  "
      ]
    },
    {
      "cell_type": "markdown",
      "metadata": {
        "id": "O6XgDkhINGC-",
        "colab_type": "text"
      },
      "source": [
        "# Define the input MeSH matrix \n",
        "\n",
        "### TODO: directly read off a excel sheet "
      ]
    },
    {
      "cell_type": "code",
      "metadata": {
        "id": "O9tCY55mMlND",
        "colab_type": "code",
        "colab": {}
      },
      "source": [
        "ListCONTEXTMeSH_1 = ['Infant, Low Birth Weight', 'Child, Preschool']\n",
        "ListCONTEXTMeSH_2 = ['Food and Beverages', 'Proteins', 'Dietary Carbohydrates']\n",
        "ListCONTEXTMeSH_3 = ['*', 'Hepatitis', 'Neonatal Sepsis', 'Apnea']\n"
      ],
      "execution_count": 35,
      "outputs": []
    },
    {
      "cell_type": "code",
      "metadata": {
        "id": "iHquKkeVTyrd",
        "colab_type": "code",
        "colab": {}
      },
      "source": [
        "ListCONTEXTMeSH_1 = ['Infant, Low Birth Weight' ]\n",
        "ListCONTEXTMeSH_2 = ['Food and Beverages']\n",
        "ListCONTEXTMeSH_3 = ['*' ]\n"
      ],
      "execution_count": 36,
      "outputs": []
    },
    {
      "cell_type": "markdown",
      "metadata": {
        "id": "wlQh34t0hTsq",
        "colab_type": "text"
      },
      "source": [
        "\n",
        "*   PubMedQueryTimeSpan  = 1 (month wise search)\n",
        "*   PubMedQueryTimeSpan  = 12 (year wise search)\n",
        "\n",
        "\n",
        "\n"
      ]
    },
    {
      "cell_type": "code",
      "metadata": {
        "id": "iHy9PyC7eQUj",
        "colab_type": "code",
        "colab": {}
      },
      "source": [
        "PubMedQueryNoofDateQueries = 10 #@param {type:\"slider\", min:1, max:100, step:1}\n",
        "PubMedQueryTimeSpan = 1 #@param {type:\"slider\", min:1, max:12, step:1}\n"
      ],
      "execution_count": 37,
      "outputs": []
    },
    {
      "cell_type": "code",
      "metadata": {
        "id": "sQtrWg7OoPKc",
        "colab_type": "code",
        "colab": {
          "base_uri": "https://localhost:8080/",
          "height": 184
        },
        "outputId": "b62b0fe0-b7da-4a56-9150-1e19c4aa4207"
      },
      "source": [
        "ListofdatewisequeryTemp, mydictionaryofMeSHqueriesDatesTemp = get_ListofDatesAlsoGetaDictionary(PubMedQueryNoofDateQueries, PubMedQueryTimeSpan, {} )\n",
        "ListofdatewisequeryTemp\n"
      ],
      "execution_count": 38,
      "outputs": [
        {
          "output_type": "execute_result",
          "data": {
            "text/plain": [
              "['(2020/07/20[Date - Create] : 2020/08/20[Date - Create] )',\n",
              " '(2020/06/20[Date - Create] : 2020/07/20[Date - Create] )',\n",
              " '(2020/05/20[Date - Create] : 2020/06/20[Date - Create] )',\n",
              " '(2020/04/20[Date - Create] : 2020/05/20[Date - Create] )',\n",
              " '(2020/03/20[Date - Create] : 2020/04/20[Date - Create] )',\n",
              " '(2020/02/20[Date - Create] : 2020/03/20[Date - Create] )',\n",
              " '(2020/01/20[Date - Create] : 2020/02/20[Date - Create] )',\n",
              " '(2019/12/20[Date - Create] : 2020/01/20[Date - Create] )',\n",
              " '(2019/11/20[Date - Create] : 2019/12/20[Date - Create] )',\n",
              " '(2019/10/20[Date - Create] : 2019/11/20[Date - Create] )']"
            ]
          },
          "metadata": {
            "tags": []
          },
          "execution_count": 38
        }
      ]
    },
    {
      "cell_type": "code",
      "metadata": {
        "id": "62yG1MoGWg4g",
        "colab_type": "code",
        "colab": {}
      },
      "source": [
        "import copy"
      ],
      "execution_count": 39,
      "outputs": []
    },
    {
      "cell_type": "code",
      "metadata": {
        "id": "QY20E3RgoDpC",
        "colab_type": "code",
        "colab": {}
      },
      "source": [
        "from IPython.display import display\n",
        "from IPython.display import clear_output"
      ],
      "execution_count": 40,
      "outputs": []
    },
    {
      "cell_type": "code",
      "metadata": {
        "id": "TdgL427UpGhr",
        "colab_type": "code",
        "colab": {}
      },
      "source": [
        ""
      ],
      "execution_count": 40,
      "outputs": []
    },
    {
      "cell_type": "code",
      "metadata": {
        "id": "0e-dH2kiN5cF",
        "colab_type": "code",
        "colab": {
          "base_uri": "https://localhost:8080/",
          "height": 204
        },
        "outputId": "3af5bbf8-3327-4c55-bbca-bba43d3dbb12"
      },
      "source": [
        "ListofMeSHqueries = []\n",
        "mydictionaryofMeSHqueriesCONTEXTMeSH_1 = {}\n",
        "mydictionaryofMeSHqueriesCONTEXTMeSH_2 = {}\n",
        "mydictionaryofMeSHqueriesCONTEXTMeSH_3 = {}\n",
        "mydictionaryofMeSHqueriesCONTEXTDates = {}\n",
        "\n",
        "ListofdatewisequeryTemp, mydictionaryofMeSHqueriesDatesTemp = get_ListofDatesAlsoGetaDictionary(PubMedQueryNoofDateQueries, PubMedQueryTimeSpan, mydictionaryofMeSHqueriesCONTEXTDates)\n",
        " \n",
        "for CONTEXTMeSH_1 in ListCONTEXTMeSH_1:\n",
        "  CONTEXTMeSH_1temp = copy.copy(CONTEXTMeSH_1)\n",
        "  for CONTEXTMeSH_2 in ListCONTEXTMeSH_2:\n",
        "    CONTEXTMeSH_2temp = copy.copy(CONTEXTMeSH_2)   \n",
        "    for CONTEXTMeSH_3 in ListCONTEXTMeSH_3:\n",
        "      CONTEXTMeSH_3temp = copy.copy(CONTEXTMeSH_3) \n",
        "      for CONTEXTdatequery in ListofdatewisequeryTemp:\n",
        "\n",
        "        if CONTEXTMeSH_2 == '*':\n",
        "          CONTEXTMeSH_2 =   copy.copy(CONTEXTMeSH_1)\n",
        "        if CONTEXTMeSH_3 == '*':\n",
        "          CONTEXTMeSH_3 = copy.copy(CONTEXTMeSH_1)        \n",
        "        query = \"(\" +  CONTEXTMeSH_1 + \"[MeSH Major Topic])\"+\" AND \" + \"(\" +  CONTEXTMeSH_2 + \"[MeSH Major Topic])\"+\" AND \" + \"(\" +  CONTEXTMeSH_3 + \"[MeSH Major Topic])\"             \n",
        "        query = query + \" AND \" + CONTEXTdatequery\n",
        "\n",
        "        ListofMeSHqueries.append( copy.copy(query)+'')\n",
        "\n",
        "      # count = scrape_save_count(query)\n",
        "      # time.sleep(1)\n",
        "\n",
        "        mydictionaryofMeSHqueriesCONTEXTMeSH_1[query] = CONTEXTMeSH_1temp\n",
        "        mydictionaryofMeSHqueriesCONTEXTMeSH_2[query] = CONTEXTMeSH_2temp\n",
        "        mydictionaryofMeSHqueriesCONTEXTMeSH_3[query] = CONTEXTMeSH_3temp     \n",
        "        mydictionaryofMeSHqueriesCONTEXTDates[query] =  mydictionaryofMeSHqueriesDatesTemp[CONTEXTdatequery]\n",
        "        print(  '\\t \\t : \\t' + str(mydictionaryofMeSHqueriesCONTEXTMeSH_1[query]) + \"\\t\" + str(mydictionaryofMeSHqueriesCONTEXTMeSH_2[query]) + \"\\t\" + str(mydictionaryofMeSHqueriesCONTEXTMeSH_3[query]) + \"\\t\" + str( mydictionaryofMeSHqueriesCONTEXTDates[query])+ \"\\t\\t\\t\\t\\t\\t\\t\\t\\t\\t\\t\\t\\t\\t\\t\\t\"  + str(query) )      \n",
        "\n"
      ],
      "execution_count": 41,
      "outputs": [
        {
          "output_type": "stream",
          "text": [
            "\t \t : \tInfant, Low Birth Weight\tFood and Beverages\t*\t2020-07-20\t\t\t\t\t\t\t\t\t\t\t\t\t\t\t\t(Infant, Low Birth Weight[MeSH Major Topic]) AND (Food and Beverages[MeSH Major Topic]) AND (Infant, Low Birth Weight[MeSH Major Topic]) AND (2020/07/20[Date - Create] : 2020/08/20[Date - Create] )\n",
            "\t \t : \tInfant, Low Birth Weight\tFood and Beverages\t*\t2020-06-20\t\t\t\t\t\t\t\t\t\t\t\t\t\t\t\t(Infant, Low Birth Weight[MeSH Major Topic]) AND (Food and Beverages[MeSH Major Topic]) AND (Infant, Low Birth Weight[MeSH Major Topic]) AND (2020/06/20[Date - Create] : 2020/07/20[Date - Create] )\n",
            "\t \t : \tInfant, Low Birth Weight\tFood and Beverages\t*\t2020-05-20\t\t\t\t\t\t\t\t\t\t\t\t\t\t\t\t(Infant, Low Birth Weight[MeSH Major Topic]) AND (Food and Beverages[MeSH Major Topic]) AND (Infant, Low Birth Weight[MeSH Major Topic]) AND (2020/05/20[Date - Create] : 2020/06/20[Date - Create] )\n",
            "\t \t : \tInfant, Low Birth Weight\tFood and Beverages\t*\t2020-04-20\t\t\t\t\t\t\t\t\t\t\t\t\t\t\t\t(Infant, Low Birth Weight[MeSH Major Topic]) AND (Food and Beverages[MeSH Major Topic]) AND (Infant, Low Birth Weight[MeSH Major Topic]) AND (2020/04/20[Date - Create] : 2020/05/20[Date - Create] )\n",
            "\t \t : \tInfant, Low Birth Weight\tFood and Beverages\t*\t2020-03-20\t\t\t\t\t\t\t\t\t\t\t\t\t\t\t\t(Infant, Low Birth Weight[MeSH Major Topic]) AND (Food and Beverages[MeSH Major Topic]) AND (Infant, Low Birth Weight[MeSH Major Topic]) AND (2020/03/20[Date - Create] : 2020/04/20[Date - Create] )\n",
            "\t \t : \tInfant, Low Birth Weight\tFood and Beverages\t*\t2020-02-20\t\t\t\t\t\t\t\t\t\t\t\t\t\t\t\t(Infant, Low Birth Weight[MeSH Major Topic]) AND (Food and Beverages[MeSH Major Topic]) AND (Infant, Low Birth Weight[MeSH Major Topic]) AND (2020/02/20[Date - Create] : 2020/03/20[Date - Create] )\n",
            "\t \t : \tInfant, Low Birth Weight\tFood and Beverages\t*\t2020-01-20\t\t\t\t\t\t\t\t\t\t\t\t\t\t\t\t(Infant, Low Birth Weight[MeSH Major Topic]) AND (Food and Beverages[MeSH Major Topic]) AND (Infant, Low Birth Weight[MeSH Major Topic]) AND (2020/01/20[Date - Create] : 2020/02/20[Date - Create] )\n",
            "\t \t : \tInfant, Low Birth Weight\tFood and Beverages\t*\t2019-12-20\t\t\t\t\t\t\t\t\t\t\t\t\t\t\t\t(Infant, Low Birth Weight[MeSH Major Topic]) AND (Food and Beverages[MeSH Major Topic]) AND (Infant, Low Birth Weight[MeSH Major Topic]) AND (2019/12/20[Date - Create] : 2020/01/20[Date - Create] )\n",
            "\t \t : \tInfant, Low Birth Weight\tFood and Beverages\t*\t2019-11-20\t\t\t\t\t\t\t\t\t\t\t\t\t\t\t\t(Infant, Low Birth Weight[MeSH Major Topic]) AND (Food and Beverages[MeSH Major Topic]) AND (Infant, Low Birth Weight[MeSH Major Topic]) AND (2019/11/20[Date - Create] : 2019/12/20[Date - Create] )\n",
            "\t \t : \tInfant, Low Birth Weight\tFood and Beverages\t*\t2019-10-20\t\t\t\t\t\t\t\t\t\t\t\t\t\t\t\t(Infant, Low Birth Weight[MeSH Major Topic]) AND (Food and Beverages[MeSH Major Topic]) AND (Infant, Low Birth Weight[MeSH Major Topic]) AND (2019/10/20[Date - Create] : 2019/11/20[Date - Create] )\n"
          ],
          "name": "stdout"
        }
      ]
    },
    {
      "cell_type": "code",
      "metadata": {
        "id": "91EabbFjEg7L",
        "colab_type": "code",
        "colab": {}
      },
      "source": [
        "ListofMeSHqueriesNonZero = []"
      ],
      "execution_count": 42,
      "outputs": []
    },
    {
      "cell_type": "code",
      "metadata": {
        "id": "K36PB0g7ajYL",
        "colab_type": "code",
        "colab": {
          "base_uri": "https://localhost:8080/",
          "height": 204
        },
        "outputId": "8087e9aa-fc54-4a06-cbbc-5555564dce4b"
      },
      "source": [
        "for query in ListofMeSHqueries:\n",
        "  count = scrape_save_count(query)\n",
        "  if count != 0 :\n",
        "    ListofMeSHqueriesNonZero.append (query)\n",
        "  time.sleep(0.5)\n",
        "  print( str(count) + '\\t \\t : \\t' + str(mydictionaryofMeSHqueriesCONTEXTMeSH_1[query]) + \"\\t\" + str(mydictionaryofMeSHqueriesCONTEXTMeSH_2[query]) + \"\\t\" + str(mydictionaryofMeSHqueriesCONTEXTMeSH_3[query]) +  '\\t \\t : \\t' + str(mydictionaryofMeSHqueriesCONTEXTDates[query]) +\"\\t\\t\\t\\t\\t\\t\\t\\t\\t\\t\\t\\t\\t\\t\\t\\t\"  + str(query)  )      \n"
      ],
      "execution_count": 43,
      "outputs": [
        {
          "output_type": "stream",
          "text": [
            "0\t \t : \tInfant, Low Birth Weight\tFood and Beverages\t*\t \t : \t2020-07-20\t\t\t\t\t\t\t\t\t\t\t\t\t\t\t\t(Infant, Low Birth Weight[MeSH Major Topic]) AND (Food and Beverages[MeSH Major Topic]) AND (Infant, Low Birth Weight[MeSH Major Topic]) AND (2020/07/20[Date - Create] : 2020/08/20[Date - Create] )\n",
            "1\t \t : \tInfant, Low Birth Weight\tFood and Beverages\t*\t \t : \t2020-06-20\t\t\t\t\t\t\t\t\t\t\t\t\t\t\t\t(Infant, Low Birth Weight[MeSH Major Topic]) AND (Food and Beverages[MeSH Major Topic]) AND (Infant, Low Birth Weight[MeSH Major Topic]) AND (2020/06/20[Date - Create] : 2020/07/20[Date - Create] )\n",
            "1\t \t : \tInfant, Low Birth Weight\tFood and Beverages\t*\t \t : \t2020-05-20\t\t\t\t\t\t\t\t\t\t\t\t\t\t\t\t(Infant, Low Birth Weight[MeSH Major Topic]) AND (Food and Beverages[MeSH Major Topic]) AND (Infant, Low Birth Weight[MeSH Major Topic]) AND (2020/05/20[Date - Create] : 2020/06/20[Date - Create] )\n",
            "2\t \t : \tInfant, Low Birth Weight\tFood and Beverages\t*\t \t : \t2020-04-20\t\t\t\t\t\t\t\t\t\t\t\t\t\t\t\t(Infant, Low Birth Weight[MeSH Major Topic]) AND (Food and Beverages[MeSH Major Topic]) AND (Infant, Low Birth Weight[MeSH Major Topic]) AND (2020/04/20[Date - Create] : 2020/05/20[Date - Create] )\n",
            "0\t \t : \tInfant, Low Birth Weight\tFood and Beverages\t*\t \t : \t2020-03-20\t\t\t\t\t\t\t\t\t\t\t\t\t\t\t\t(Infant, Low Birth Weight[MeSH Major Topic]) AND (Food and Beverages[MeSH Major Topic]) AND (Infant, Low Birth Weight[MeSH Major Topic]) AND (2020/03/20[Date - Create] : 2020/04/20[Date - Create] )\n",
            "0\t \t : \tInfant, Low Birth Weight\tFood and Beverages\t*\t \t : \t2020-02-20\t\t\t\t\t\t\t\t\t\t\t\t\t\t\t\t(Infant, Low Birth Weight[MeSH Major Topic]) AND (Food and Beverages[MeSH Major Topic]) AND (Infant, Low Birth Weight[MeSH Major Topic]) AND (2020/02/20[Date - Create] : 2020/03/20[Date - Create] )\n",
            "3\t \t : \tInfant, Low Birth Weight\tFood and Beverages\t*\t \t : \t2020-01-20\t\t\t\t\t\t\t\t\t\t\t\t\t\t\t\t(Infant, Low Birth Weight[MeSH Major Topic]) AND (Food and Beverages[MeSH Major Topic]) AND (Infant, Low Birth Weight[MeSH Major Topic]) AND (2020/01/20[Date - Create] : 2020/02/20[Date - Create] )\n",
            "1\t \t : \tInfant, Low Birth Weight\tFood and Beverages\t*\t \t : \t2019-12-20\t\t\t\t\t\t\t\t\t\t\t\t\t\t\t\t(Infant, Low Birth Weight[MeSH Major Topic]) AND (Food and Beverages[MeSH Major Topic]) AND (Infant, Low Birth Weight[MeSH Major Topic]) AND (2019/12/20[Date - Create] : 2020/01/20[Date - Create] )\n",
            "2\t \t : \tInfant, Low Birth Weight\tFood and Beverages\t*\t \t : \t2019-11-20\t\t\t\t\t\t\t\t\t\t\t\t\t\t\t\t(Infant, Low Birth Weight[MeSH Major Topic]) AND (Food and Beverages[MeSH Major Topic]) AND (Infant, Low Birth Weight[MeSH Major Topic]) AND (2019/11/20[Date - Create] : 2019/12/20[Date - Create] )\n",
            "3\t \t : \tInfant, Low Birth Weight\tFood and Beverages\t*\t \t : \t2019-10-20\t\t\t\t\t\t\t\t\t\t\t\t\t\t\t\t(Infant, Low Birth Weight[MeSH Major Topic]) AND (Food and Beverages[MeSH Major Topic]) AND (Infant, Low Birth Weight[MeSH Major Topic]) AND (2019/10/20[Date - Create] : 2019/11/20[Date - Create] )\n"
          ],
          "name": "stdout"
        }
      ]
    },
    {
      "cell_type": "code",
      "metadata": {
        "id": "E59ZgndOF610",
        "colab_type": "code",
        "colab": {}
      },
      "source": [
        "ListofMeSHqueries = ListofMeSHqueriesNonZero"
      ],
      "execution_count": 44,
      "outputs": []
    },
    {
      "cell_type": "code",
      "metadata": {
        "id": "lVgVy0_XE0CJ",
        "colab_type": "code",
        "colab": {
          "base_uri": "https://localhost:8080/",
          "height": 154
        },
        "outputId": "d984e00e-5303-462a-bc5d-c8d5ce14bbf0"
      },
      "source": [
        "for query in ListofMeSHqueries :\n",
        " # count = scrape_save_count(query)\n",
        "  time.sleep(0.5)\n",
        "  print(  '\\t \\t : \\t' + str(mydictionaryofMeSHqueriesCONTEXTMeSH_1[query]) + \"\\t\" + str(mydictionaryofMeSHqueriesCONTEXTMeSH_2[query]) + \"\\t\" + str(mydictionaryofMeSHqueriesCONTEXTMeSH_3[query]) +  '\\t \\t : \\t' + str(mydictionaryofMeSHqueriesCONTEXTDates[query]) +\"\\t\\t\\t\\t\\t\\t\\t\\t\\t\\t\\t\\t\\t\\t\\t\\t\"  + str(query)  )      \n"
      ],
      "execution_count": 45,
      "outputs": [
        {
          "output_type": "stream",
          "text": [
            "\t \t : \tInfant, Low Birth Weight\tFood and Beverages\t*\t \t : \t2020-06-20\t\t\t\t\t\t\t\t\t\t\t\t\t\t\t\t(Infant, Low Birth Weight[MeSH Major Topic]) AND (Food and Beverages[MeSH Major Topic]) AND (Infant, Low Birth Weight[MeSH Major Topic]) AND (2020/06/20[Date - Create] : 2020/07/20[Date - Create] )\n",
            "\t \t : \tInfant, Low Birth Weight\tFood and Beverages\t*\t \t : \t2020-05-20\t\t\t\t\t\t\t\t\t\t\t\t\t\t\t\t(Infant, Low Birth Weight[MeSH Major Topic]) AND (Food and Beverages[MeSH Major Topic]) AND (Infant, Low Birth Weight[MeSH Major Topic]) AND (2020/05/20[Date - Create] : 2020/06/20[Date - Create] )\n",
            "\t \t : \tInfant, Low Birth Weight\tFood and Beverages\t*\t \t : \t2020-04-20\t\t\t\t\t\t\t\t\t\t\t\t\t\t\t\t(Infant, Low Birth Weight[MeSH Major Topic]) AND (Food and Beverages[MeSH Major Topic]) AND (Infant, Low Birth Weight[MeSH Major Topic]) AND (2020/04/20[Date - Create] : 2020/05/20[Date - Create] )\n",
            "\t \t : \tInfant, Low Birth Weight\tFood and Beverages\t*\t \t : \t2020-01-20\t\t\t\t\t\t\t\t\t\t\t\t\t\t\t\t(Infant, Low Birth Weight[MeSH Major Topic]) AND (Food and Beverages[MeSH Major Topic]) AND (Infant, Low Birth Weight[MeSH Major Topic]) AND (2020/01/20[Date - Create] : 2020/02/20[Date - Create] )\n",
            "\t \t : \tInfant, Low Birth Weight\tFood and Beverages\t*\t \t : \t2019-12-20\t\t\t\t\t\t\t\t\t\t\t\t\t\t\t\t(Infant, Low Birth Weight[MeSH Major Topic]) AND (Food and Beverages[MeSH Major Topic]) AND (Infant, Low Birth Weight[MeSH Major Topic]) AND (2019/12/20[Date - Create] : 2020/01/20[Date - Create] )\n",
            "\t \t : \tInfant, Low Birth Weight\tFood and Beverages\t*\t \t : \t2019-11-20\t\t\t\t\t\t\t\t\t\t\t\t\t\t\t\t(Infant, Low Birth Weight[MeSH Major Topic]) AND (Food and Beverages[MeSH Major Topic]) AND (Infant, Low Birth Weight[MeSH Major Topic]) AND (2019/11/20[Date - Create] : 2019/12/20[Date - Create] )\n",
            "\t \t : \tInfant, Low Birth Weight\tFood and Beverages\t*\t \t : \t2019-10-20\t\t\t\t\t\t\t\t\t\t\t\t\t\t\t\t(Infant, Low Birth Weight[MeSH Major Topic]) AND (Food and Beverages[MeSH Major Topic]) AND (Infant, Low Birth Weight[MeSH Major Topic]) AND (2019/10/20[Date - Create] : 2019/11/20[Date - Create] )\n"
          ],
          "name": "stdout"
        }
      ]
    },
    {
      "cell_type": "code",
      "metadata": {
        "id": "Q4JEKBKE-s40",
        "colab_type": "code",
        "colab": {
          "base_uri": "https://localhost:8080/",
          "height": 154
        },
        "outputId": "33cc65fd-3fbf-4daf-ceb1-0edc177a5d60"
      },
      "source": [
        "for query in ListofMeSHqueries:\n",
        "  print(   '\\t \\t : \\t' + str(mydictionaryofMeSHqueriesCONTEXTMeSH_1[query]) + \"\\t\" + str(mydictionaryofMeSHqueriesCONTEXTMeSH_2[query]) + \"\\t\" + str(mydictionaryofMeSHqueriesCONTEXTMeSH_3[query]) +  '\\t \\t : \\t' + str(mydictionaryofMeSHqueriesCONTEXTDates[query]) +\"\\t\\t\\t\\t\\t\\t\\t\\t\\t\\t\\t\\t\\t\\t\\t\\t\"  + str(query)  )      \n"
      ],
      "execution_count": 46,
      "outputs": [
        {
          "output_type": "stream",
          "text": [
            "\t \t : \tInfant, Low Birth Weight\tFood and Beverages\t*\t \t : \t2020-06-20\t\t\t\t\t\t\t\t\t\t\t\t\t\t\t\t(Infant, Low Birth Weight[MeSH Major Topic]) AND (Food and Beverages[MeSH Major Topic]) AND (Infant, Low Birth Weight[MeSH Major Topic]) AND (2020/06/20[Date - Create] : 2020/07/20[Date - Create] )\n",
            "\t \t : \tInfant, Low Birth Weight\tFood and Beverages\t*\t \t : \t2020-05-20\t\t\t\t\t\t\t\t\t\t\t\t\t\t\t\t(Infant, Low Birth Weight[MeSH Major Topic]) AND (Food and Beverages[MeSH Major Topic]) AND (Infant, Low Birth Weight[MeSH Major Topic]) AND (2020/05/20[Date - Create] : 2020/06/20[Date - Create] )\n",
            "\t \t : \tInfant, Low Birth Weight\tFood and Beverages\t*\t \t : \t2020-04-20\t\t\t\t\t\t\t\t\t\t\t\t\t\t\t\t(Infant, Low Birth Weight[MeSH Major Topic]) AND (Food and Beverages[MeSH Major Topic]) AND (Infant, Low Birth Weight[MeSH Major Topic]) AND (2020/04/20[Date - Create] : 2020/05/20[Date - Create] )\n",
            "\t \t : \tInfant, Low Birth Weight\tFood and Beverages\t*\t \t : \t2020-01-20\t\t\t\t\t\t\t\t\t\t\t\t\t\t\t\t(Infant, Low Birth Weight[MeSH Major Topic]) AND (Food and Beverages[MeSH Major Topic]) AND (Infant, Low Birth Weight[MeSH Major Topic]) AND (2020/01/20[Date - Create] : 2020/02/20[Date - Create] )\n",
            "\t \t : \tInfant, Low Birth Weight\tFood and Beverages\t*\t \t : \t2019-12-20\t\t\t\t\t\t\t\t\t\t\t\t\t\t\t\t(Infant, Low Birth Weight[MeSH Major Topic]) AND (Food and Beverages[MeSH Major Topic]) AND (Infant, Low Birth Weight[MeSH Major Topic]) AND (2019/12/20[Date - Create] : 2020/01/20[Date - Create] )\n",
            "\t \t : \tInfant, Low Birth Weight\tFood and Beverages\t*\t \t : \t2019-11-20\t\t\t\t\t\t\t\t\t\t\t\t\t\t\t\t(Infant, Low Birth Weight[MeSH Major Topic]) AND (Food and Beverages[MeSH Major Topic]) AND (Infant, Low Birth Weight[MeSH Major Topic]) AND (2019/11/20[Date - Create] : 2019/12/20[Date - Create] )\n",
            "\t \t : \tInfant, Low Birth Weight\tFood and Beverages\t*\t \t : \t2019-10-20\t\t\t\t\t\t\t\t\t\t\t\t\t\t\t\t(Infant, Low Birth Weight[MeSH Major Topic]) AND (Food and Beverages[MeSH Major Topic]) AND (Infant, Low Birth Weight[MeSH Major Topic]) AND (2019/10/20[Date - Create] : 2019/11/20[Date - Create] )\n"
          ],
          "name": "stdout"
        }
      ]
    },
    {
      "cell_type": "code",
      "metadata": {
        "id": "aF3ZTHpV9zeF",
        "colab_type": "code",
        "colab": {}
      },
      "source": [
        ""
      ],
      "execution_count": 46,
      "outputs": []
    },
    {
      "cell_type": "code",
      "metadata": {
        "id": "-gHcwPDfZmrd",
        "colab_type": "code",
        "colab": {}
      },
      "source": [
        " "
      ],
      "execution_count": 46,
      "outputs": []
    },
    {
      "cell_type": "code",
      "metadata": {
        "id": "fE5IA7b2RdmO",
        "colab_type": "code",
        "colab": {}
      },
      "source": [
        " "
      ],
      "execution_count": 46,
      "outputs": []
    },
    {
      "cell_type": "code",
      "metadata": {
        "id": "EUly57S_OkJ2",
        "colab_type": "code",
        "colab": {}
      },
      "source": [
        " "
      ],
      "execution_count": 46,
      "outputs": []
    },
    {
      "cell_type": "markdown",
      "metadata": {
        "id": "2Bnx3CXfkOxb",
        "colab_type": "text"
      },
      "source": [
        "# Dataset 1 :  HCPs from twitter and frequenly used keywords\n"
      ]
    },
    {
      "cell_type": "code",
      "metadata": {
        "id": "gnIA8X0RnGNx",
        "colab_type": "code",
        "colab": {
          "base_uri": "https://localhost:8080/",
          "height": 260,
          "referenced_widgets": [
            "d56de93306be42418476230e7e109215",
            "b2e7c0e47bbb482db438ba3fa94271db",
            "a35211aa7aee40c4b5018a15afcf370f",
            "7a60a2ff2e7042db941e3bbe5943ed7b",
            "caa0caf99a6e4fa8b66d1709bfb00d8a",
            "fc7a08a651ae4c1090df25cb57c49715",
            "452a7cbdf8b545138b49330d33ac435f",
            "63bb4bda2a4a4ec3a3c00ee4924aa13b",
            "c30662f056ca4f2f88c16629f4307f05",
            "f32547891c0b4cac9fac4f3f2be4a9ce",
            "9078207c881f4fc7ae7ff6fed9bf736f",
            "f9de22e032014e20a094322985338934",
            "a554a325b9f8464da5e7217048d3b2ce",
            "43be923af5d4460b8af2398ce123581b",
            "24da435d3e634cc693a8266d953e5515",
            "dd62ee5b489241e0a2efc9095cfc2ab9",
            "03f3814858c84af78083aebf36622e2d",
            "5f67f411eb7341d48f6224064a11b8e3",
            "7cdfb1c5f66f453faabaa8374155f74f",
            "3f7661fb251548d8b432e513551df732",
            "5b797416028d4877acb5ff3258e21a88",
            "0192f220173a406a95e5cc5e8c0f1420",
            "172e9073671e4461b08e35a455fdc8ae",
            "a78c543fc5394d4cabcb3cadd489dd25",
            "693e790ccd0f456e82d073a98b48def9",
            "76459bc0b2eb42cdbc8794d53b168e40",
            "ba54afd4b3484b00a1b6ce79e6e5f4d1",
            "1869e495ed9a46cfbe8d7081012644ee",
            "60aabb78641e4a46a7bf3a5a58c6923a",
            "d23fee89ff544367b710dd5ac23c0869",
            "acf28013931b4052a9390ae629692972",
            "a0810344b0a446df834df5cb0e8f9c69",
            "425a7e9d252f4da38d34f1911be3f2b9",
            "23493ede85ac44c482977afc56bf366e",
            "f78bab8bb11f4645b177b238bfccfc1a",
            "63ebd4b0f11a42028eb4b0400e0a570e",
            "09cfec817cc14b70af8532fb006592c1",
            "515b3498ff2c4e3e866f258438767da5",
            "b76765d7ab1944f5b1a3fce8dce5dcfd",
            "df8ea2edcf7c46178a8c7e8d8ce4732f"
          ]
        },
        "outputId": "d9ab6d51-7509-4ccd-ac82-d8c7e9b9e3d6"
      },
      "source": [
        "bioNER = getNERBioBERT_Init(4)"
      ],
      "execution_count": 47,
      "outputs": [
        {
          "output_type": "display_data",
          "data": {
            "application/vnd.jupyter.widget-view+json": {
              "model_id": "d56de93306be42418476230e7e109215",
              "version_minor": 0,
              "version_major": 2
            },
            "text/plain": [
              "HBox(children=(FloatProgress(value=0.0, description='Downloading', max=1558.0, style=ProgressStyle(description…"
            ]
          },
          "metadata": {
            "tags": []
          }
        },
        {
          "output_type": "stream",
          "text": [
            "\n"
          ],
          "name": "stdout"
        },
        {
          "output_type": "display_data",
          "data": {
            "application/vnd.jupyter.widget-view+json": {
              "model_id": "c30662f056ca4f2f88c16629f4307f05",
              "version_minor": 0,
              "version_major": 2
            },
            "text/plain": [
              "HBox(children=(FloatProgress(value=0.0, description='Downloading', max=258935.0, style=ProgressStyle(descripti…"
            ]
          },
          "metadata": {
            "tags": []
          }
        },
        {
          "output_type": "stream",
          "text": [
            "\n"
          ],
          "name": "stdout"
        },
        {
          "output_type": "display_data",
          "data": {
            "application/vnd.jupyter.widget-view+json": {
              "model_id": "03f3814858c84af78083aebf36622e2d",
              "version_minor": 0,
              "version_major": 2
            },
            "text/plain": [
              "HBox(children=(FloatProgress(value=0.0, description='Downloading', max=112.0, style=ProgressStyle(description_…"
            ]
          },
          "metadata": {
            "tags": []
          }
        },
        {
          "output_type": "stream",
          "text": [
            "\n"
          ],
          "name": "stdout"
        },
        {
          "output_type": "display_data",
          "data": {
            "application/vnd.jupyter.widget-view+json": {
              "model_id": "693e790ccd0f456e82d073a98b48def9",
              "version_minor": 0,
              "version_major": 2
            },
            "text/plain": [
              "HBox(children=(FloatProgress(value=0.0, description='Downloading', max=2.0, style=ProgressStyle(description_wi…"
            ]
          },
          "metadata": {
            "tags": []
          }
        },
        {
          "output_type": "stream",
          "text": [
            "\n"
          ],
          "name": "stdout"
        },
        {
          "output_type": "display_data",
          "data": {
            "application/vnd.jupyter.widget-view+json": {
              "model_id": "425a7e9d252f4da38d34f1911be3f2b9",
              "version_minor": 0,
              "version_major": 2
            },
            "text/plain": [
              "HBox(children=(FloatProgress(value=0.0, description='Downloading', max=439757565.0, style=ProgressStyle(descri…"
            ]
          },
          "metadata": {
            "tags": []
          }
        },
        {
          "output_type": "stream",
          "text": [
            "\n"
          ],
          "name": "stdout"
        }
      ]
    },
    {
      "cell_type": "markdown",
      "metadata": {
        "id": "HgaWh55wsWIS",
        "colab_type": "text"
      },
      "source": [
        "### Use the generic function but using KEYWORDs mentioned in article by the authors of the paper"
      ]
    },
    {
      "cell_type": "code",
      "metadata": {
        "id": "AXFX6fTldNEy",
        "colab_type": "code",
        "colab": {}
      },
      "source": [
        "NoofMaxArticlestoGetFromPubMedPerQuery = 30 #@param {type:\"slider\", min:10, max:500, step:1}"
      ],
      "execution_count": 48,
      "outputs": []
    },
    {
      "cell_type": "code",
      "metadata": {
        "id": "XeLkfeDk0MDu",
        "colab_type": "code",
        "colab": {}
      },
      "source": [
        "CONTEXTMeSH_1 = ''\n",
        "CONTEXTMeSH_2 = ''\n",
        "CONTEXTMeSH_3 = ''\n",
        "articlesMASTERDataFrame  = None\n",
        "debugconter = 0\n",
        "\n",
        "for query in ListofMeSHqueries:\n",
        "  print(query)\n",
        "  CONTEXTMeSH_1 = str(mydictionaryofMeSHqueriesCONTEXTMeSH_1[query])\n",
        "  CONTEXTMeSH_2 = str(mydictionaryofMeSHqueriesCONTEXTMeSH_2[query])\n",
        "  CONTEXTMeSH_3 = str(mydictionaryofMeSHqueriesCONTEXTMeSH_3[query])\n",
        "  CONTEXTdate = mydictionaryofMeSHqueriesCONTEXTDates[query]\n",
        " # articlesDataFrame = CreateGenericNEW('keyword', NoofMaxArticlestoGetFromPubMedPerQuery , query)\n",
        "  articlesDataFrame = CreateGenericNEW('title', NoofMaxArticlestoGetFromPubMedPerQuery , query)\n",
        "  articlesDataFrame['CONTEXTMeSH_1'] = CONTEXTMeSH_1\n",
        "  articlesDataFrame['CONTEXTMeSH_2'] = CONTEXTMeSH_2\n",
        "  articlesDataFrame['CONTEXTMeSH_3'] = CONTEXTMeSH_3\n",
        "  articlesDataFrame['CONTEXTDate'] = CONTEXTdate\n",
        "\n",
        "\n",
        "  if debugconter  == 0  :\n",
        "    articlesMASTERDataFrame = copy.deepcopy(articlesDataFrame)\n",
        "    print(\"initatied\")\n",
        "  else :\n",
        "    temp =   pd.concat([articlesMASTERDataFrame, articlesDataFrame], ignore_index=True)\n",
        "    articlesMASTERDataFrame = copy.deepcopy(temp)\n",
        "    print(\"COPIED \") \n",
        "    print( articlesMASTERDataFrame.count(axis=0))\n",
        " \n",
        "  print( str(count) + '\\t \\t : \\t' + str(mydictionaryofMeSHqueriesCONTEXTMeSH_1[query]) + \"\\t\" + str(mydictionaryofMeSHqueriesCONTEXTMeSH_3[query]) + \"\\t\" + str(mydictionaryofMeSHqueriesCONTEXTMeSH_2[query]) +  \"\\t\\t\" +  str(mydictionaryofMeSHqueriesCONTEXTDates[query])   + \"\\t\\t\\t\\t\\t\\t\\t\\t\\t\\t\\t\\t\\t\\t\\t\\t\"  + str(query) )      \n",
        "  time.sleep(0.1)\n",
        "  debugconter = debugconter + 1\n",
        "  clear_output()\n",
        "  if debugconter > ISDEBUGMODE + 12 :\n",
        "   break\n",
        "\n"
      ],
      "execution_count": 49,
      "outputs": []
    },
    {
      "cell_type": "code",
      "metadata": {
        "id": "JmsZrTwT1Prr",
        "colab_type": "code",
        "colab": {}
      },
      "source": [
        ""
      ],
      "execution_count": 49,
      "outputs": []
    },
    {
      "cell_type": "code",
      "metadata": {
        "id": "dv9pGTXo1boS",
        "colab_type": "code",
        "colab": {
          "base_uri": "https://localhost:8080/",
          "height": 214
        },
        "outputId": "b132faa7-4ebd-42e6-f54d-d4f2b72d8089"
      },
      "source": [
        "articlesMASTERDataFrame"
      ],
      "execution_count": 50,
      "outputs": [
        {
          "output_type": "execute_result",
          "data": {
            "text/html": [
              "<div>\n",
              "<style scoped>\n",
              "    .dataframe tbody tr th:only-of-type {\n",
              "        vertical-align: middle;\n",
              "    }\n",
              "\n",
              "    .dataframe tbody tr th {\n",
              "        vertical-align: top;\n",
              "    }\n",
              "\n",
              "    .dataframe thead th {\n",
              "        text-align: right;\n",
              "    }\n",
              "</style>\n",
              "<table border=\"1\" class=\"dataframe\">\n",
              "  <thead>\n",
              "    <tr style=\"text-align: right;\">\n",
              "      <th></th>\n",
              "      <th>CONTEXTMeSH_1</th>\n",
              "      <th>CONTEXTMeSH_2</th>\n",
              "      <th>CONTEXTMeSH_3</th>\n",
              "      <th>CONTEXTDate</th>\n",
              "      <th>query</th>\n",
              "      <th>keywords</th>\n",
              "      <th>KEYWORD</th>\n",
              "      <th>title</th>\n",
              "      <th>abstract</th>\n",
              "      <th>journal</th>\n",
              "      <th>doi</th>\n",
              "      <th>publication_date</th>\n",
              "      <th>authors</th>\n",
              "    </tr>\n",
              "  </thead>\n",
              "  <tbody>\n",
              "    <tr>\n",
              "      <th>0</th>\n",
              "      <td>Infant, Low Birth Weight</td>\n",
              "      <td>Food and Beverages</td>\n",
              "      <td>*</td>\n",
              "      <td>2019-10-20</td>\n",
              "      <td>(Infant, Low Birth Weight[MeSH Major Topic]) A...</td>\n",
              "      <td>[donor milk, genetics, inflammation, intestina...</td>\n",
              "      <td>exfoliated intestinal cells</td>\n",
              "      <td>Impact of Donor Human Milk in the Preterm Very...</td>\n",
              "      <td>Own mother's milk (OMM) is the optimal nutriti...</td>\n",
              "      <td>Nutrients</td>\n",
              "      <td>10.3390/nu11112677</td>\n",
              "      <td>2019-11-07</td>\n",
              "      <td>[{'lastname': 'Parra-Llorca', 'firstname': 'An...</td>\n",
              "    </tr>\n",
              "  </tbody>\n",
              "</table>\n",
              "</div>"
            ],
            "text/plain": [
              "              CONTEXTMeSH_1  ...                                            authors\n",
              "0  Infant, Low Birth Weight  ...  [{'lastname': 'Parra-Llorca', 'firstname': 'An...\n",
              "\n",
              "[1 rows x 13 columns]"
            ]
          },
          "metadata": {
            "tags": []
          },
          "execution_count": 50
        }
      ]
    },
    {
      "cell_type": "code",
      "metadata": {
        "id": "GBkyYwJtvr3T",
        "colab_type": "code",
        "colab": {}
      },
      "source": [
        "articlesMASTERDataFrame.to_csv('pubmed_articles_byKeywords.csv')"
      ],
      "execution_count": 51,
      "outputs": []
    },
    {
      "cell_type": "code",
      "metadata": {
        "id": "wBNozPvhpmNc",
        "colab_type": "code",
        "colab": {
          "base_uri": "https://localhost:8080/",
          "height": 17
        },
        "outputId": "70190590-60b7-44a3-beab-860c50b052cb"
      },
      "source": [
        "files.download('pubmed_articles_byKeywords.csv')"
      ],
      "execution_count": 52,
      "outputs": [
        {
          "output_type": "display_data",
          "data": {
            "application/javascript": [
              "\n",
              "    async function download(id, filename, size) {\n",
              "      if (!google.colab.kernel.accessAllowed) {\n",
              "        return;\n",
              "      }\n",
              "      const div = document.createElement('div');\n",
              "      const label = document.createElement('label');\n",
              "      label.textContent = `Downloading \"${filename}\": `;\n",
              "      div.appendChild(label);\n",
              "      const progress = document.createElement('progress');\n",
              "      progress.max = size;\n",
              "      div.appendChild(progress);\n",
              "      document.body.appendChild(div);\n",
              "\n",
              "      const buffers = [];\n",
              "      let downloaded = 0;\n",
              "\n",
              "      const channel = await google.colab.kernel.comms.open(id);\n",
              "      // Send a message to notify the kernel that we're ready.\n",
              "      channel.send({})\n",
              "\n",
              "      for await (const message of channel.messages) {\n",
              "        // Send a message to notify the kernel that we're ready.\n",
              "        channel.send({})\n",
              "        if (message.buffers) {\n",
              "          for (const buffer of message.buffers) {\n",
              "            buffers.push(buffer);\n",
              "            downloaded += buffer.byteLength;\n",
              "            progress.value = downloaded;\n",
              "          }\n",
              "        }\n",
              "      }\n",
              "      const blob = new Blob(buffers, {type: 'application/binary'});\n",
              "      const a = document.createElement('a');\n",
              "      a.href = window.URL.createObjectURL(blob);\n",
              "      a.download = filename;\n",
              "      div.appendChild(a);\n",
              "      a.click();\n",
              "      div.remove();\n",
              "    }\n",
              "  "
            ],
            "text/plain": [
              "<IPython.core.display.Javascript object>"
            ]
          },
          "metadata": {
            "tags": []
          }
        },
        {
          "output_type": "display_data",
          "data": {
            "application/javascript": [
              "download(\"download_6fdbf16d-1e51-4c9d-9af1-afa8368d4c27\", \"pubmed_articles_byKeywords.csv\", 3819)"
            ],
            "text/plain": [
              "<IPython.core.display.Javascript object>"
            ]
          },
          "metadata": {
            "tags": []
          }
        }
      ]
    },
    {
      "cell_type": "code",
      "metadata": {
        "id": "UctW0TZiwcwy",
        "colab_type": "code",
        "colab": {
          "base_uri": "https://localhost:8080/",
          "height": 161
        },
        "outputId": "312d5785-8432-47f0-8073-c45e70dd194a"
      },
      "source": [
        "sfsfsfsfs\n"
      ],
      "execution_count": 53,
      "outputs": [
        {
          "output_type": "error",
          "ename": "NameError",
          "evalue": "ignored",
          "traceback": [
            "\u001b[0;31m---------------------------------------------------------------------------\u001b[0m",
            "\u001b[0;31mNameError\u001b[0m                                 Traceback (most recent call last)",
            "\u001b[0;32m<ipython-input-53-653407f96e74>\u001b[0m in \u001b[0;36m<module>\u001b[0;34m()\u001b[0m\n\u001b[0;32m----> 1\u001b[0;31m \u001b[0msfsfsfsfs\u001b[0m\u001b[0;34m\u001b[0m\u001b[0;34m\u001b[0m\u001b[0m\n\u001b[0m",
            "\u001b[0;31mNameError\u001b[0m: name 'sfsfsfsfs' is not defined"
          ]
        }
      ]
    },
    {
      "cell_type": "markdown",
      "metadata": {
        "id": "6EtFGPaP5uIF",
        "colab_type": "text"
      },
      "source": [
        "## Find keyword distribution "
      ]
    },
    {
      "cell_type": "code",
      "metadata": {
        "id": "JfbYxMxo9LSy",
        "colab_type": "code",
        "colab": {}
      },
      "source": [
        "STOPNonMedicalWords = ['Risk factors', 'follow-up']"
      ],
      "execution_count": null,
      "outputs": []
    },
    {
      "cell_type": "code",
      "metadata": {
        "id": "4QbSorX6529e",
        "colab_type": "code",
        "colab": {}
      },
      "source": [
        ""
      ],
      "execution_count": null,
      "outputs": []
    },
    {
      "cell_type": "markdown",
      "metadata": {
        "id": "iRI0gG5sEjaH",
        "colab_type": "text"
      },
      "source": [
        "## Keyword distribution with filyers by Context query such as MesH combination and date"
      ]
    },
    {
      "cell_type": "code",
      "metadata": {
        "id": "_ITIBFmYE0XV",
        "colab_type": "code",
        "colab": {}
      },
      "source": [
        "CONTEXTMeSH_1 = ''\n",
        "CONTEXTMeSH_2 = ''\n",
        "CONTEXTMeSH_3 = ''\n",
        "#articlesMASTERDataFrame  = None\n",
        "frequentKeywordsMASTER = None\n",
        "isFirstTime = True\n",
        "debugconter = 0\n",
        " \n",
        "for query in ListofMeSHqueries:\n",
        "  print( 'ITERATION NUMBER = ' + str(debugconter) )\n",
        "  print(query)\n",
        "  CONTEXTMeSH_1 = str(mydictionaryofMeSHqueriesCONTEXTMeSH_1[query])\n",
        "  CONTEXTMeSH_2 = str(mydictionaryofMeSHqueriesCONTEXTMeSH_2[query])\n",
        "  CONTEXTMeSH_3 = str(mydictionaryofMeSHqueriesCONTEXTMeSH_3[query])\n",
        "  CONTEXTdate = mydictionaryofMeSHqueriesCONTEXTDates[query]  \n",
        "  articlesDataFrame = CreateGenericNEW('keyword', 30 , query)\n",
        "\n",
        "  if( len(articlesDataFrame.index) > 0 ):\n",
        "    if 'KEYWORD' in articlesDataFrame.columns: \n",
        "      frequentKeywords = articlesDataFrame['KEYWORD'].value_counts()\n",
        "      frequentKeywords1 = frequentKeywords[0:10]\n",
        "      frequentKeywordsList = frequentKeywords1.keys ()\n",
        "      frequentKeywordsListFiltered = []\n",
        "\n",
        "      for aword in frequentKeywordsList:\n",
        "        if not ( aword in STOPNonMedicalWords):\n",
        "          frequentKeywordsListFiltered.append(aword)\n",
        "\n",
        "      frequentKeywords = frequentKeywords.to_frame()\n",
        "      frequentKeywords['CONTEXTMeSH_1'] = CONTEXTMeSH_1\n",
        "      frequentKeywords['CONTEXTMeSH_2'] = CONTEXTMeSH_2\n",
        "      frequentKeywords['CONTEXTMeSH_3'] = CONTEXTMeSH_3\n",
        "      frequentKeywords['CONTEXTDate'] = CONTEXTdate\n",
        "      \n",
        "\n",
        "      #frequentKeywords.to_csv('Frequent_Keywords_ForaMesHQuery.csv')\n",
        "      if isFirstTime  == True  :\n",
        "        frequentKeywordsMASTER = copy.deepcopy(frequentKeywords)\n",
        "        isFirstTime = False\n",
        "        print(\"initatied\")\n",
        "      else :\n",
        "        temp =   pd.concat([frequentKeywordsMASTER, frequentKeywords] )\n",
        "#        temp =   pd.concat([frequentKeywordsMASTER, frequentKeywords], ignore_index=True)\n",
        "        frequentKeywordsMASTER = copy.deepcopy(temp)\n",
        "        print(\"COPIED \") \n",
        "        print( frequentKeywordsMASTER.count())\n",
        "\n",
        "\n",
        "  print( str(count) + '\\t \\t : \\t' + str(mydictionaryofMeSHqueriesCONTEXTMeSH_1[query]) + \"\\t\" + str(mydictionaryofMeSHqueriesCONTEXTMeSH_3[query]) + \"\\t\" + str(mydictionaryofMeSHqueriesCONTEXTMeSH_2[query]) + \"\\t\\t\\t\\t\\t\\t\\t\\t\\t\\t\\t\\t\\t\\t\\t\\t\"  + str(query) )      \n",
        "  print( 'ITERATION NUMBER = ' + str(debugconter) )\n",
        "  time.sleep(0.1)\n",
        "  debugconter = debugconter + 1\n",
        "  clear_output()\n",
        "  if debugconter > ISDEBUGMODE + 10 :\n",
        "   break\n"
      ],
      "execution_count": null,
      "outputs": []
    },
    {
      "cell_type": "code",
      "metadata": {
        "id": "IuuYuqZdII39",
        "colab_type": "code",
        "colab": {}
      },
      "source": [
        "frequentKeywordsMASTER.to_csv('Frequent_Keywords_ForaMesHQueryWithDates.csv')"
      ],
      "execution_count": null,
      "outputs": []
    },
    {
      "cell_type": "code",
      "metadata": {
        "id": "Mspe3F0XIP4E",
        "colab_type": "code",
        "colab": {}
      },
      "source": [
        "files.download('Frequent_Keywords_ForaMesHQueryWithDates.csv')"
      ],
      "execution_count": null,
      "outputs": []
    },
    {
      "cell_type": "code",
      "metadata": {
        "id": "S0BzXn0s_-vF",
        "colab_type": "code",
        "colab": {}
      },
      "source": [
        "  frequentKeywordsMASTER"
      ],
      "execution_count": null,
      "outputs": []
    },
    {
      "cell_type": "code",
      "metadata": {
        "id": "DgJsDR1ElIxq",
        "colab_type": "code",
        "colab": {}
      },
      "source": [
        " "
      ],
      "execution_count": null,
      "outputs": []
    },
    {
      "cell_type": "code",
      "metadata": {
        "id": "2xPH3gzElmye",
        "colab_type": "code",
        "colab": {}
      },
      "source": [
        " "
      ],
      "execution_count": null,
      "outputs": []
    },
    {
      "cell_type": "code",
      "metadata": {
        "id": "sLwXiOhpqd0W",
        "colab_type": "code",
        "colab": {}
      },
      "source": [
        " "
      ],
      "execution_count": null,
      "outputs": []
    },
    {
      "cell_type": "code",
      "metadata": {
        "id": "uy5I5Swrpqz5",
        "colab_type": "code",
        "colab": {}
      },
      "source": [
        " "
      ],
      "execution_count": null,
      "outputs": []
    },
    {
      "cell_type": "code",
      "metadata": {
        "id": "4HnfzuW2lyvS",
        "colab_type": "code",
        "colab": {}
      },
      "source": [
        ""
      ],
      "execution_count": null,
      "outputs": []
    },
    {
      "cell_type": "code",
      "metadata": {
        "id": "89iTdfgmnPE-",
        "colab_type": "code",
        "colab": {}
      },
      "source": [
        ""
      ],
      "execution_count": null,
      "outputs": []
    },
    {
      "cell_type": "code",
      "metadata": {
        "id": "j_DoycPKoLvw",
        "colab_type": "code",
        "colab": {}
      },
      "source": [
        ""
      ],
      "execution_count": null,
      "outputs": []
    },
    {
      "cell_type": "code",
      "metadata": {
        "id": "hF1Xt5dZoZa6",
        "colab_type": "code",
        "colab": {}
      },
      "source": [
        ""
      ],
      "execution_count": null,
      "outputs": []
    },
    {
      "cell_type": "code",
      "metadata": {
        "id": "oAlbuGx2nqtR",
        "colab_type": "code",
        "colab": {}
      },
      "source": [
        ""
      ],
      "execution_count": null,
      "outputs": []
    },
    {
      "cell_type": "code",
      "metadata": {
        "id": "rrnEUXbOox7V",
        "colab_type": "code",
        "colab": {}
      },
      "source": [
        " "
      ],
      "execution_count": null,
      "outputs": []
    },
    {
      "cell_type": "code",
      "metadata": {
        "id": "5EGpMSbnVhca",
        "colab_type": "code",
        "colab": {}
      },
      "source": [
        " "
      ],
      "execution_count": null,
      "outputs": []
    },
    {
      "cell_type": "code",
      "metadata": {
        "id": "F0tmIeEwpMbY",
        "colab_type": "code",
        "colab": {}
      },
      "source": [
        " "
      ],
      "execution_count": null,
      "outputs": []
    },
    {
      "cell_type": "code",
      "metadata": {
        "id": "k2yRCIdBpi_G",
        "colab_type": "code",
        "colab": {}
      },
      "source": [
        " "
      ],
      "execution_count": null,
      "outputs": []
    },
    {
      "cell_type": "code",
      "metadata": {
        "id": "G5TrmAMkpTFl",
        "colab_type": "code",
        "colab": {}
      },
      "source": [
        "STOPNonMedicalWords = ['Risk factors', 'follow-up']\n",
        "\n",
        " "
      ],
      "execution_count": null,
      "outputs": []
    },
    {
      "cell_type": "code",
      "metadata": {
        "id": "ynLWnoF0pW-i",
        "colab_type": "code",
        "colab": {}
      },
      "source": [
        ""
      ],
      "execution_count": null,
      "outputs": []
    },
    {
      "cell_type": "code",
      "metadata": {
        "id": "L9IFF010pVU_",
        "colab_type": "code",
        "colab": {}
      },
      "source": [
        " "
      ],
      "execution_count": null,
      "outputs": []
    },
    {
      "cell_type": "markdown",
      "metadata": {
        "id": "F5gINDb1yK_a",
        "colab_type": "text"
      },
      "source": [
        "## Get HCPs to Keyword distribution dataset for visuvalization"
      ]
    },
    {
      "cell_type": "code",
      "metadata": {
        "id": "WFRLsg8lxuWQ",
        "colab_type": "code",
        "colab": {}
      },
      "source": [
        " "
      ],
      "execution_count": null,
      "outputs": []
    },
    {
      "cell_type": "code",
      "metadata": {
        "id": "DAjRJtrvslTY",
        "colab_type": "code",
        "colab": {}
      },
      "source": [
        " "
      ],
      "execution_count": null,
      "outputs": []
    },
    {
      "cell_type": "code",
      "metadata": {
        "id": "XWULMGNCi1DL",
        "colab_type": "code",
        "colab": {}
      },
      "source": [
        "def addHCPs(frequentKeywordsListFiltered, frequentKeywordsList2, HCPandKeywordsArrayofDict):\n",
        "  if HCPandKeywordsArrayofDict is None:\n",
        "    HCPandKeywordsArrayofDict = []\n",
        "  for aKeyword in frequentKeywordsListFiltered:    \n",
        "    unique_candidates_list = [] \n",
        "    unique_candidates_list = getlistofUniquetweets(aKeyword, 25, unique_candidates_list)\n",
        "    HCPandKeywordsArrayofDict = getHCPandThierDistributionofInterests( unique_candidates_list,  frequentKeywordsList2.keys() , HCPandKeywordsArrayofDict, aKeyword  )\n",
        "    print( (pd.DataFrame.from_dict(HCPandKeywordsArrayofDict)) )\n",
        "    if HCPandKeywordsArrayofDict is None:\n",
        "      HCPandKeywordsArrayofDict = []\n",
        "      continue\n",
        "    HCPandKeywordsArrayofDictNormalized = normalize(frequentKeywordsList2, HCPandKeywordsArrayofDict)\n",
        "    #HCPandKeywordsArrayofDictNormalized = HCPandKeywordsArrayofDict\n",
        "    HCPandKeywordsArrayofDictNormalizedSelected = selectHCPs(HCPandKeywordsArrayofDictNormalized , frequentKeywordsList2.keys()  )\n",
        "  return HCPandKeywordsArrayofDictNormalizedSelected\n",
        "\n"
      ],
      "execution_count": null,
      "outputs": []
    },
    {
      "cell_type": "code",
      "metadata": {
        "id": "8MD0aVx4xNnp",
        "colab_type": "code",
        "colab": {}
      },
      "source": [
        "def selectHCPs(HCPandKeywordsArrayofDictNormalized, frequentKeywordsList2):\n",
        "  for arow in HCPandKeywordsArrayofDictNormalized :\n",
        "    diversityofexpertise = 0\n",
        "    totalnumberofmedicalutterances = 0\n",
        "    for akeyword in frequentKeywordsList2 :\n",
        "      if arow[akeyword] != 0:\n",
        "        diversityofexpertise += 1\n",
        "        totalnumberofmedicalutterances += arow[akeyword]\n",
        "    arow[\"Totalnumberofmedicalutterances\"] = totalnumberofmedicalutterances\n",
        "    arow[\"Diversityofexpertise\"] = diversityofexpertise\n",
        "    if diversityofexpertise > 4 and totalnumberofmedicalutterances > 0.3 :\n",
        "      arow[\"Algo1\"] = 1\n",
        "    else :\n",
        "      arow[\"Algo1\"] = 0\n",
        "    if diversityofexpertise > 3 and totalnumberofmedicalutterances > 0.1 :\n",
        "      arow[\"Algo2\"] = 1\n",
        "    else :\n",
        "      arow[\"Algo2\"] = 0\n",
        "    if  totalnumberofmedicalutterances > 0.1 :\n",
        "      arow[\"Algo3\"] = 1\n",
        "    else :\n",
        "      arow[\"Algo3\"] = 0 \n",
        "    return HCPandKeywordsArrayofDictNormalized"
      ],
      "execution_count": null,
      "outputs": []
    },
    {
      "cell_type": "code",
      "metadata": {
        "id": "RAEb--T_pY0I",
        "colab_type": "code",
        "colab": {}
      },
      "source": [
        "api = tweepyapi\n",
        "#define a dictionary to hold all the doctors info\n",
        "#HCPusersInfo = []\n",
        "#unique_candidates_list = [] \n",
        " "
      ],
      "execution_count": null,
      "outputs": []
    },
    {
      "cell_type": "code",
      "metadata": {
        "id": "M5MLnHmusEHL",
        "colab_type": "code",
        "colab": {}
      },
      "source": [
        "CONTEXTMeSH_1 = ''\n",
        "CONTEXTMeSH_2 = ''\n",
        "CONTEXTMeSH_3 = ''\n",
        "#articlesMASTERDataFrame  = None\n",
        "HCPandKeywordsDFMASTER = None\n",
        "isFirstTime = True\n",
        "debugconter = 0\n",
        " \n",
        "for query in ListofMeSHqueries:\n",
        "  HCPandKeywordsArrayofDict = []\n",
        "  print( 'ITERATION NUMBER = ' + str(debugconter) )\n",
        "  print(query)\n",
        "  CONTEXTMeSH_1 = str(mydictionaryofMeSHqueriesCONTEXTMeSH_1[query])\n",
        "  CONTEXTMeSH_2 = str(mydictionaryofMeSHqueriesCONTEXTMeSH_2[query])\n",
        "  CONTEXTMeSH_3 = str(mydictionaryofMeSHqueriesCONTEXTMeSH_3[query])\n",
        "  CONTEXTdate = mydictionaryofMeSHqueriesCONTEXTDates[query]  \n",
        "  articlesDataFrame = CreateGenericNEW('keyword', 30 , query)\n",
        "\n",
        "  if( len(articlesDataFrame.index) > 0 ):\n",
        "    if 'KEYWORD' in articlesDataFrame.columns: \n",
        "      frequentKeywordsSeries = articlesDataFrame['KEYWORD'].value_counts()\n",
        "      frequentKeywords1 = frequentKeywordsSeries[0:10]\n",
        "      frequentKeywordsList = frequentKeywords1.keys ()\n",
        "      frequentKeywordsListFiltered = []\n",
        "\n",
        "      for aword in frequentKeywordsList:\n",
        "        if not ( aword in STOPNonMedicalWords):\n",
        "          frequentKeywordsListFiltered.append(aword)\n",
        "\n",
        "      HCPandKeywordsArrayofDictNormalizedSelected = addHCPs(frequentKeywordsListFiltered, frequentKeywordsSeries, HCPandKeywordsArrayofDict)      \n",
        "\n",
        "     # HCPandKeywordsDF = HCPandKeywordsArrayofDictNormalizedSelected.to_frame()\n",
        "      HCPandKeywordsDF = pd.DataFrame.from_dict(HCPandKeywordsArrayofDictNormalizedSelected)\n",
        "\n",
        "      HCPandKeywordsDF['CONTEXTMeSH_1'] = CONTEXTMeSH_1\n",
        "      HCPandKeywordsDF['CONTEXTMeSH_2'] = CONTEXTMeSH_2\n",
        "      HCPandKeywordsDF['CONTEXTMeSH_3'] = CONTEXTMeSH_3\n",
        "      HCPandKeywordsDF['CONTEXTDate'] = CONTEXTdate\n",
        "\n",
        "      #frequentKeywords.to_csv('Frequent_Keywords_ForaMesHQuery.csv')\n",
        "      if isFirstTime  == True  :\n",
        "        HCPandKeywordsDFMASTER = copy.deepcopy(HCPandKeywordsDF)\n",
        "        isFirstTime = False\n",
        "        print(\"initatied\")\n",
        "      else :\n",
        "        temp =   pd.concat([HCPandKeywordsDFMASTER, HCPandKeywordsDF] )\n",
        "#        temp =   pd.concat([frequentKeywordsMASTER, frequentKeywords], ignore_index=True)\n",
        "        HCPandKeywordsDFMASTER = copy.deepcopy(temp)\n",
        "        print(\"COPIED \") \n",
        "        print( HCPandKeywordsDFMASTER.count())\n",
        "\n",
        "\n",
        "  print( str(count) + '\\t \\t : \\t' + str(mydictionaryofMeSHqueriesCONTEXTMeSH_1[query]) + \"\\t\" + str(mydictionaryofMeSHqueriesCONTEXTMeSH_3[query]) + \"\\t\" + str(mydictionaryofMeSHqueriesCONTEXTMeSH_2[query]) + \"\\t\\t\\t\\t\\t\\t\\t\\t\\t\\t\\t\\t\\t\\t\\t\\t\"  + str(query) )      \n",
        "  print( 'ITERATION NUMBER = ' + str(debugconter) )\n",
        "  time.sleep(0.1)\n",
        "  debugconter = debugconter + 1\n",
        "  clear_output()\n",
        "  if debugconter > ISDEBUGMODE + 12 :\n",
        "   break\n"
      ],
      "execution_count": null,
      "outputs": []
    },
    {
      "cell_type": "code",
      "metadata": {
        "id": "B49jgsn3ZUSS",
        "colab_type": "code",
        "colab": {}
      },
      "source": [
        " "
      ],
      "execution_count": null,
      "outputs": []
    },
    {
      "cell_type": "code",
      "metadata": {
        "id": "yCP-ackrdtQ5",
        "colab_type": "code",
        "colab": {}
      },
      "source": [
        "HCPandKeywordsDFMASTER = HCPandKeywordsDFMASTER.replace(np.nan,0)\n"
      ],
      "execution_count": null,
      "outputs": []
    },
    {
      "cell_type": "code",
      "metadata": {
        "id": "XqoLvt8aOO86",
        "colab_type": "code",
        "colab": {}
      },
      "source": [
        "HCPandKeywordsDFMASTER.to_csv('HCPandKeywordsDFMASTER.csv')"
      ],
      "execution_count": null,
      "outputs": []
    },
    {
      "cell_type": "code",
      "metadata": {
        "id": "AO6W4ktXOWFX",
        "colab_type": "code",
        "colab": {}
      },
      "source": [
        "files.download('HCPandKeywordsDFMASTER.csv')"
      ],
      "execution_count": null,
      "outputs": []
    },
    {
      "cell_type": "code",
      "metadata": {
        "id": "6ihzxmjO60d_",
        "colab_type": "code",
        "colab": {}
      },
      "source": [
        "HCPandKeywordsDFMASTER"
      ],
      "execution_count": null,
      "outputs": []
    },
    {
      "cell_type": "markdown",
      "metadata": {
        "id": "E-9mf7GxY2lr",
        "colab_type": "text"
      },
      "source": [
        "# run until here"
      ]
    },
    {
      "cell_type": "code",
      "metadata": {
        "id": "W-Bhub57uIc3",
        "colab_type": "code",
        "colab": {}
      },
      "source": [
        "ENDHERE"
      ],
      "execution_count": null,
      "outputs": []
    },
    {
      "cell_type": "code",
      "metadata": {
        "id": "55S6nh8KuIYh",
        "colab_type": "code",
        "colab": {}
      },
      "source": [
        ""
      ],
      "execution_count": null,
      "outputs": []
    },
    {
      "cell_type": "code",
      "metadata": {
        "id": "sSRWaoZjuISr",
        "colab_type": "code",
        "colab": {}
      },
      "source": [
        ""
      ],
      "execution_count": null,
      "outputs": []
    },
    {
      "cell_type": "code",
      "metadata": {
        "id": "oA439ChZuIMv",
        "colab_type": "code",
        "colab": {}
      },
      "source": [
        ""
      ],
      "execution_count": null,
      "outputs": []
    },
    {
      "cell_type": "code",
      "metadata": {
        "id": "3Ia7stegGVWs",
        "colab_type": "code",
        "colab": {}
      },
      "source": [
        "frequentKeywordsListFiltered"
      ],
      "execution_count": null,
      "outputs": []
    },
    {
      "cell_type": "code",
      "metadata": {
        "id": "Im-g5ZK6u63_",
        "colab_type": "code",
        "colab": {}
      },
      "source": [
        "frequentKeywordsListFiltered"
      ],
      "execution_count": null,
      "outputs": []
    },
    {
      "cell_type": "code",
      "metadata": {
        "id": "xCM5L5hcz3He",
        "colab_type": "code",
        "colab": {}
      },
      "source": [
        "frequentKeywordsListFiltered"
      ],
      "execution_count": null,
      "outputs": []
    },
    {
      "cell_type": "code",
      "metadata": {
        "id": "-PzW0M8vz6WG",
        "colab_type": "code",
        "colab": {}
      },
      "source": [
        "frequentKeywordsSeries "
      ],
      "execution_count": null,
      "outputs": []
    },
    {
      "cell_type": "code",
      "metadata": {
        "id": "cbdOibQX2VG3",
        "colab_type": "code",
        "colab": {}
      },
      "source": [
        "frequentKeywordsSeries.keys()"
      ],
      "execution_count": null,
      "outputs": []
    },
    {
      "cell_type": "code",
      "metadata": {
        "id": "RMDvlTsh2Qtg",
        "colab_type": "code",
        "colab": {}
      },
      "source": [
        "HCPandKeywordsArrayofDict"
      ],
      "execution_count": null,
      "outputs": []
    },
    {
      "cell_type": "code",
      "metadata": {
        "id": "ymUKKGGF7bnl",
        "colab_type": "code",
        "colab": {}
      },
      "source": [
        "HCPandKeywordsArrayofDictNormalizedSelected = addHCPs(frequentKeywordsListFiltered, frequentKeywordsSeries, HCPandKeywordsArrayofDict)"
      ],
      "execution_count": null,
      "outputs": []
    },
    {
      "cell_type": "code",
      "metadata": {
        "id": "VM_9_LaS8lVO",
        "colab_type": "code",
        "colab": {}
      },
      "source": [
        "HCPandKeywordsArrayofDictNormalizedSelected"
      ],
      "execution_count": null,
      "outputs": []
    },
    {
      "cell_type": "code",
      "metadata": {
        "id": "8cMZbJVK8tZ9",
        "colab_type": "code",
        "colab": {}
      },
      "source": [
        "HCPandKeywordsArrayofDictPD = pd.DataFrame.from_dict(HCPandKeywordsArrayofDictNormalizedSelected)\n",
        "HCPandKeywordsArrayofDictPD"
      ],
      "execution_count": null,
      "outputs": []
    },
    {
      "cell_type": "code",
      "metadata": {
        "id": "lTdHtI1T-rBF",
        "colab_type": "code",
        "colab": {}
      },
      "source": [
        " "
      ],
      "execution_count": null,
      "outputs": []
    },
    {
      "cell_type": "code",
      "metadata": {
        "id": "iqxjXaOaivpV",
        "colab_type": "code",
        "colab": {}
      },
      "source": [
        " frequentKeywords.keys()"
      ],
      "execution_count": null,
      "outputs": []
    },
    {
      "cell_type": "code",
      "metadata": {
        "id": "hwX8DpL5u_EF",
        "colab_type": "code",
        "colab": {}
      },
      "source": [
        "for aKeyword in frequentKeywordsListFiltered:\n",
        "    \n",
        "    unique_candidates_list = [] \n",
        "    unique_candidates_list = getlistofUniquetweets(aKeyword, 25, unique_candidates_list)\n",
        "    #print(unique_candidates_list, frequentKeywords.key() )\n",
        "    #TODO Insert a function here to remove candidates who are NOT really professional doctors\n",
        "    unique_candidates_listOnlyHCPs = getOnlyDoctorsFromThisList(unique_candidates_list, frequentKeywords.keys()   )\n",
        "    getHCPandThierDistributionofInterests( unique_candidates_list,  frequentKeywords.keys() , HCPandKeywordsArrayofDict, aKeyword  )\n",
        "    #print('Identified HCPs based on there tweets are ' + str( len(unique_candidates_listOnlyHCPs) ))\n",
        "    #HCPusersInfo = appendtolistofdoctors(HCPusersInfo , unique_candidates_listOnlyHCPs, aKeyword)\n",
        "     \n"
      ],
      "execution_count": null,
      "outputs": []
    },
    {
      "cell_type": "code",
      "metadata": {
        "id": "_u8dfXO7w078",
        "colab_type": "code",
        "colab": {}
      },
      "source": [
        "HCPandKeywordsArrayofDict"
      ],
      "execution_count": null,
      "outputs": []
    },
    {
      "cell_type": "code",
      "metadata": {
        "id": "NuQdj2kPvLzr",
        "colab_type": "code",
        "colab": {}
      },
      "source": [
        "HCPandKeywordsArrayofDictNormalized = normalize(frequentKeywords, HCPandKeywordsArrayofDict)"
      ],
      "execution_count": null,
      "outputs": []
    },
    {
      "cell_type": "code",
      "metadata": {
        "id": "Xx5y1CGbvWJc",
        "colab_type": "code",
        "colab": {}
      },
      "source": [
        "for arow in HCPandKeywordsArrayofDictNormalized :\n",
        "  diversityofexpertise = 0\n",
        "  totalnumberofmedicalutterances = 0\n",
        "  for akeyword in frequentKeywords.keys() :\n",
        "    if arow[akeyword] != 0:\n",
        "      diversityofexpertise += 1\n",
        "      totalnumberofmedicalutterances += arow[akeyword]\n",
        "  arow[\"Totalnumberofmedicalutterances\"] = totalnumberofmedicalutterances\n",
        "  arow[\"Diversityofexpertise\"] = diversityofexpertise\n",
        "  if diversityofexpertise > 4 and totalnumberofmedicalutterances > 0.3 :\n",
        "    arow[\"Algo1\"] = 1\n",
        "  else :\n",
        "    arow[\"Algo1\"] = 0\n",
        "  if diversityofexpertise > 3 and totalnumberofmedicalutterances > 0.1 :\n",
        "    arow[\"Algo2\"] = 1\n",
        "  else :\n",
        "    arow[\"Algo2\"] = 0\n",
        "  if  totalnumberofmedicalutterances > 0.1 :\n",
        "    arow[\"Algo3\"] = 1\n",
        "  else :\n",
        "    arow[\"Algo3\"] = 0 "
      ],
      "execution_count": null,
      "outputs": []
    },
    {
      "cell_type": "code",
      "metadata": {
        "id": "GSJkN__3vWF0",
        "colab_type": "code",
        "colab": {}
      },
      "source": [
        "HCPandKeywordsArrayofDictPD = pd.DataFrame.from_dict(HCPandKeywordsArrayofDictNormalized)\n",
        "\n",
        "HCPandKeywordsArrayofDictPD.to_csv('HCPandKeywordsArrayofDictPD.csv')"
      ],
      "execution_count": null,
      "outputs": []
    },
    {
      "cell_type": "code",
      "metadata": {
        "id": "ngJkuN60vWCD",
        "colab_type": "code",
        "colab": {}
      },
      "source": [
        "HCPandKeywordsArrayofDictPD"
      ],
      "execution_count": null,
      "outputs": []
    },
    {
      "cell_type": "code",
      "metadata": {
        "id": "3J_nCrrtvV9w",
        "colab_type": "code",
        "colab": {}
      },
      "source": [
        ""
      ],
      "execution_count": null,
      "outputs": []
    },
    {
      "cell_type": "code",
      "metadata": {
        "id": "Q1aqgJK-vMW_",
        "colab_type": "code",
        "colab": {}
      },
      "source": [
        ""
      ],
      "execution_count": null,
      "outputs": []
    },
    {
      "cell_type": "code",
      "metadata": {
        "id": "kWZCraleplVq",
        "colab_type": "code",
        "colab": {}
      },
      "source": [
        "for aKeyword in frequentKeywordsListFiltered:\n",
        "    \n",
        "    unique_candidates_list = [] \n",
        "    unique_candidates_list = getlistofUniquetweets(aKeyword, 25, unique_candidates_list)\n",
        "    #print(unique_candidates_list, frequentKeywords.key() )\n",
        "    #TODO Insert a function here to remove candidates who are NOT really professional doctors\n",
        "    unique_candidates_listOnlyHCPs = getOnlyDoctorsFromThisList(unique_candidates_list, frequentKeywords.keys()   )\n",
        "    getHCPandThierDistributionofInterests( unique_candidates_list,  frequentKeywords.keys() , HCPandKeywordsArrayofDict, aKeyword  )\n",
        "    print('Identified HCPs based on there tweets are ' + str( len(unique_candidates_listOnlyHCPs) ))\n",
        "    HCPusersInfo = appendtolistofdoctors(HCPusersInfo , unique_candidates_listOnlyHCPs, aKeyword)\n",
        "     \n"
      ],
      "execution_count": null,
      "outputs": []
    },
    {
      "cell_type": "code",
      "metadata": {
        "id": "uUFGfCMRHEyv",
        "colab_type": "code",
        "colab": {}
      },
      "source": [
        ""
      ],
      "execution_count": null,
      "outputs": []
    },
    {
      "cell_type": "code",
      "metadata": {
        "id": "ggRkj8CHGrhj",
        "colab_type": "code",
        "colab": {}
      },
      "source": [
        "HCPandKeywordsArrayofDictNormalized = normalize(frequentKeywords, HCPandKeywordsArrayofDict)"
      ],
      "execution_count": null,
      "outputs": []
    },
    {
      "cell_type": "code",
      "metadata": {
        "id": "lwxJ2tYlLzrT",
        "colab_type": "code",
        "colab": {}
      },
      "source": [
        "for arow in HCPandKeywordsArrayofDictNormalized :\n",
        "  diversityofexpertise = 0\n",
        "  totalnumberofmedicalutterances = 0\n",
        "  for akeyword in frequentKeywords.keys() :\n",
        "    if arow[akeyword] != 0:\n",
        "      diversityofexpertise += 1\n",
        "      totalnumberofmedicalutterances += arow[akeyword]\n",
        "  arow[\"Totalnumberofmedicalutterances\"] = totalnumberofmedicalutterances\n",
        "  arow[\"Diversityofexpertise\"] = diversityofexpertise\n",
        "  if diversityofexpertise > 4 and totalnumberofmedicalutterances > 0.3 :\n",
        "    arow[\"Algo1\"] = 1\n",
        "  else :\n",
        "    arow[\"Algo1\"] = 0\n",
        "  if diversityofexpertise > 3 and totalnumberofmedicalutterances > 0.1 :\n",
        "    arow[\"Algo2\"] = 1\n",
        "  else :\n",
        "    arow[\"Algo2\"] = 0\n",
        "  if  totalnumberofmedicalutterances > 0.1 :\n",
        "    arow[\"Algo3\"] = 1\n",
        "  else :\n",
        "    arow[\"Algo3\"] = 0 "
      ],
      "execution_count": null,
      "outputs": []
    },
    {
      "cell_type": "code",
      "metadata": {
        "id": "aJbmYoe1J5Et",
        "colab_type": "code",
        "colab": {}
      },
      "source": [
        "#HCPandKeywordsArrayofDictNormalized"
      ],
      "execution_count": null,
      "outputs": []
    },
    {
      "cell_type": "code",
      "metadata": {
        "id": "A8RAmxzktdRH",
        "colab_type": "code",
        "colab": {}
      },
      "source": [
        "HCPandKeywordsArrayofDictPD = pd.DataFrame.from_dict(HCPandKeywordsArrayofDictNormalized)"
      ],
      "execution_count": null,
      "outputs": []
    },
    {
      "cell_type": "code",
      "metadata": {
        "id": "SngqbMb_gVO9",
        "colab_type": "code",
        "colab": {}
      },
      "source": [
        " HCPandKeywordsArrayofDictPD"
      ],
      "execution_count": null,
      "outputs": []
    },
    {
      "cell_type": "code",
      "metadata": {
        "id": "zrNjxVX8_JoB",
        "colab_type": "code",
        "colab": {}
      },
      "source": [
        "HCPandKeywordsArrayofDictPD.to_csv('HCPandKeywordsArrayofDictPD.csv')"
      ],
      "execution_count": null,
      "outputs": []
    },
    {
      "cell_type": "code",
      "metadata": {
        "id": "5Vv8oEs9AXLr",
        "colab_type": "code",
        "colab": {}
      },
      "source": [
        "files.download('HCPandKeywordsArrayofDictPD.csv')"
      ],
      "execution_count": null,
      "outputs": []
    },
    {
      "cell_type": "code",
      "metadata": {
        "id": "wFEr0TlwMUQU",
        "colab_type": "code",
        "colab": {}
      },
      "source": [
        "frequentKeywords.to_csv('Frequent_Keywords_ForaMesHQuery.csv')"
      ],
      "execution_count": null,
      "outputs": []
    },
    {
      "cell_type": "code",
      "metadata": {
        "id": "HYWMRQnIMZ-U",
        "colab_type": "code",
        "colab": {}
      },
      "source": [
        "files.download('Frequent_Keywords_ForaMesHQuery.csv')"
      ],
      "execution_count": null,
      "outputs": []
    },
    {
      "cell_type": "code",
      "metadata": {
        "id": "B7GJOvzspvX3",
        "colab_type": "code",
        "colab": {}
      },
      "source": [
        "HCPusersInfoPD.to_csv( 'HCPsfromTwitterForTop10words.csv')"
      ],
      "execution_count": null,
      "outputs": []
    },
    {
      "cell_type": "code",
      "metadata": {
        "id": "r6M-JRqlpr9P",
        "colab_type": "code",
        "colab": {}
      },
      "source": [
        "HCPusersInfoPD = pd.DataFrame.from_dict(HCPusersInfo)\n",
        "HCPusersInfoPD.info()\n",
        "HCPusersInfoPD"
      ],
      "execution_count": null,
      "outputs": []
    },
    {
      "cell_type": "code",
      "metadata": {
        "id": "H_l99CdlPdTM",
        "colab_type": "code",
        "colab": {}
      },
      "source": [
        ""
      ],
      "execution_count": null,
      "outputs": []
    },
    {
      "cell_type": "code",
      "metadata": {
        "id": "jHP6YSMZtXid",
        "colab_type": "code",
        "colab": {}
      },
      "source": [
        " "
      ],
      "execution_count": null,
      "outputs": []
    },
    {
      "cell_type": "code",
      "metadata": {
        "id": "111I47Q_px3p",
        "colab_type": "code",
        "colab": {}
      },
      "source": [
        "files.download('HCPsfromTwitterForTop10words.csv')"
      ],
      "execution_count": null,
      "outputs": []
    },
    {
      "cell_type": "code",
      "metadata": {
        "id": "1InFH5pWpOpP",
        "colab_type": "code",
        "colab": {}
      },
      "source": [
        " "
      ],
      "execution_count": null,
      "outputs": []
    },
    {
      "cell_type": "markdown",
      "metadata": {
        "id": "hfzfzEIEk9d5",
        "colab_type": "text"
      },
      "source": [
        "## Find an answer to the question by an expert at *Nestle* Nutrition Institute  "
      ]
    },
    {
      "cell_type": "code",
      "metadata": {
        "id": "ea_VirVxlPIc",
        "colab_type": "code",
        "colab": {}
      },
      "source": [
        "#bioQA = pipeline('question-answering', model=\"monologg/biobert_v1.1_pubmed\", tokenizer=\"monologg/biobert_v1.1_pubmed\")\n",
        "bioQA = pipeline('question-answering', model=\"ktrapeznikov/biobert_v1.1_pubmed_squad_v2\", tokenizer=\"ktrapeznikov/biobert_v1.1_pubmed_squad_v2\")\n"
      ],
      "execution_count": null,
      "outputs": []
    },
    {
      "cell_type": "code",
      "metadata": {
        "id": "vzfENwJAnts0",
        "colab_type": "code",
        "colab": {}
      },
      "source": [
        "bioQA = pipeline('question-answering')"
      ],
      "execution_count": null,
      "outputs": []
    },
    {
      "cell_type": "code",
      "metadata": {
        "id": "XdXKi57JnA2i",
        "colab_type": "code",
        "colab": {}
      },
      "source": [
        "bioQA(context='  infant nutrition products are good', question='What products are good?')"
      ],
      "execution_count": null,
      "outputs": []
    },
    {
      "cell_type": "code",
      "metadata": {
        "id": "62Se0OmdpMs3",
        "colab_type": "code",
        "colab": {}
      },
      "source": [
        "answerQA = bioQA(context='  infant nutrition products are good .   HMO formula products is also good', question='What products are good?')"
      ],
      "execution_count": null,
      "outputs": []
    },
    {
      "cell_type": "code",
      "metadata": {
        "id": "Bq9izk-5uywj",
        "colab_type": "code",
        "colab": {}
      },
      "source": [
        "answerQA"
      ],
      "execution_count": null,
      "outputs": []
    },
    {
      "cell_type": "code",
      "metadata": {
        "id": "eMNyrY6xq10p",
        "colab_type": "code",
        "colab": {}
      },
      "source": [
        "len(answerQA)"
      ],
      "execution_count": null,
      "outputs": []
    },
    {
      "cell_type": "code",
      "metadata": {
        "id": "OPhDxS85qFaZ",
        "colab_type": "code",
        "colab": {}
      },
      "source": [
        "if len(answerQA) > 1:\n",
        "  if float(answerQA[\"score\"]) > 0.1 :\n",
        "    answerQA[\"answer\"]\n",
        "    print(answerQA[\"answer\"])"
      ],
      "execution_count": null,
      "outputs": []
    },
    {
      "cell_type": "code",
      "metadata": {
        "id": "tNWgu3qzpOWT",
        "colab_type": "code",
        "colab": {}
      },
      "source": [
        "BUendUserQuestion = \"what is the significance?\""
      ],
      "execution_count": null,
      "outputs": []
    },
    {
      "cell_type": "code",
      "metadata": {
        "id": "PoAI6DGAlWS8",
        "colab_type": "code",
        "colab": {}
      },
      "source": [
        "\n",
        "\n",
        "for index, row in articlesDataFrame.iterrows():\n",
        "    if index == 80:\n",
        "      break\n",
        "    contentabstract = row['abstract']\n",
        "    try:\n",
        "      answerQA = bioQA(context=contentabstract, question=BUendUserQuestion)\n",
        "      if len(answerQA) > 1:\n",
        "        if float(answerQA[\"score\"]) > 0.01 :\n",
        "          answerQA[\"answer\"]\n",
        "          print(answerQA[\"answer\"] , contentabstract)\n",
        "    except:\n",
        "      print(' ')"
      ],
      "execution_count": null,
      "outputs": []
    },
    {
      "cell_type": "code",
      "metadata": {
        "id": "ECgdCMLMvmXu",
        "colab_type": "code",
        "colab": {}
      },
      "source": [
        "BUendUserQuestion = \"whether isolated maternal hypothyroxinaemia (IMH) is associated with risks?\""
      ],
      "execution_count": null,
      "outputs": []
    },
    {
      "cell_type": "code",
      "metadata": {
        "id": "iy-C9btNvpnB",
        "colab_type": "code",
        "colab": {}
      },
      "source": [
        "\n",
        "\n",
        "for index, row in articlesDataFrame.iterrows():\n",
        "    if index == 80:\n",
        "      break\n",
        "    contentabstract = row['abstract']\n",
        "    try:\n",
        "      answerQA = bioQA(context=contentabstract, question=BUendUserQuestion)\n",
        "      if len(answerQA) > 1:\n",
        "        if float(answerQA[\"score\"]) > 0.01 :\n",
        "          answerQA[\"answer\"]\n",
        "          print(answerQA[\"answer\"] )\n",
        "          print(contentabstract)\n",
        "    except:\n",
        "      print(' ')"
      ],
      "execution_count": null,
      "outputs": []
    },
    {
      "cell_type": "code",
      "metadata": {
        "id": "PDDWWlIbw0Mg",
        "colab_type": "code",
        "colab": {}
      },
      "source": [
        "BUendUserQuestion = \"What is a preventable cause of perinatal mortality?\""
      ],
      "execution_count": null,
      "outputs": []
    },
    {
      "cell_type": "code",
      "metadata": {
        "id": "LXxIV5vzxO-s",
        "colab_type": "code",
        "colab": {}
      },
      "source": [
        "\n",
        "\n",
        "for index, row in articlesDataFrame.iterrows():\n",
        "    if index == 80:\n",
        "      break\n",
        "    contentabstract = row['abstract']\n",
        "    try:\n",
        "      answerQA = bioQA(context=contentabstract, question=BUendUserQuestion)\n",
        "      if len(answerQA) > 1:\n",
        "        if float(answerQA[\"score\"]) > 0.01 :\n",
        "          answerQA[\"answer\"]\n",
        "          print(answerQA[\"score\"] , ' \\t\\t:\\t\\t', answerQA[\"answer\"] )\n",
        "    except:\n",
        "      print(' ')"
      ],
      "execution_count": null,
      "outputs": []
    },
    {
      "cell_type": "code",
      "metadata": {
        "id": "-ODmflTpwRQo",
        "colab_type": "code",
        "colab": {}
      },
      "source": [
        "bioQA = pipeline('question-answering', model=\"ktrapeznikov/biobert_v1.1_pubmed_squad_v2\", tokenizer=\"ktrapeznikov/biobert_v1.1_pubmed_squad_v2\")\n"
      ],
      "execution_count": null,
      "outputs": []
    },
    {
      "cell_type": "code",
      "metadata": {
        "id": "qxCRlZUxlRuP",
        "colab_type": "code",
        "colab": {}
      },
      "source": [
        "stopehrere"
      ],
      "execution_count": null,
      "outputs": []
    },
    {
      "cell_type": "markdown",
      "metadata": {
        "id": "dQW_efVyLLPT",
        "colab_type": "text"
      },
      "source": [
        "### get tweet content as well"
      ]
    },
    {
      "cell_type": "code",
      "metadata": {
        "id": "sVS0BH5PLP3F",
        "colab_type": "code",
        "colab": {}
      },
      "source": [
        "tweetcontent = []\n",
        "\n",
        "for aKeyword in frequentKeywordsListFiltered:\n",
        "    \n",
        "    tweetcontent = getlistofUniqueContent(aKeyword, 10, tweetcontent)\n",
        "    #TODO Insert a function here to remove   NOT   professional content\n"
      ],
      "execution_count": null,
      "outputs": []
    },
    {
      "cell_type": "code",
      "metadata": {
        "id": "29dVOeVuOrz0",
        "colab_type": "code",
        "colab": {}
      },
      "source": [
        " "
      ],
      "execution_count": null,
      "outputs": []
    },
    {
      "cell_type": "code",
      "metadata": {
        "id": "B5D2nSq4NGsG",
        "colab_type": "code",
        "colab": {}
      },
      "source": [
        "tweetcontentPD = pd.DataFrame.from_dict (tweetcontent )"
      ],
      "execution_count": null,
      "outputs": []
    },
    {
      "cell_type": "code",
      "metadata": {
        "id": "0x0XL2V5Qe2x",
        "colab_type": "code",
        "colab": {}
      },
      "source": [
        "tweetcontentPD.to_csv('TweetContentbyKeyword.csv')"
      ],
      "execution_count": null,
      "outputs": []
    },
    {
      "cell_type": "code",
      "metadata": {
        "id": "n0TYlLzwQlax",
        "colab_type": "code",
        "colab": {}
      },
      "source": [
        "files.download('TweetContentbyKeyword.csv')"
      ],
      "execution_count": null,
      "outputs": []
    },
    {
      "cell_type": "code",
      "metadata": {
        "id": "sfT04gWoM8TR",
        "colab_type": "code",
        "colab": {}
      },
      "source": [
        "tweetcontentPD"
      ],
      "execution_count": null,
      "outputs": []
    },
    {
      "cell_type": "code",
      "metadata": {
        "id": "8Vc40woVLnVE",
        "colab_type": "code",
        "colab": {}
      },
      "source": [
        "STOPHERE>..."
      ],
      "execution_count": null,
      "outputs": []
    },
    {
      "cell_type": "markdown",
      "metadata": {
        "id": "luW7rHcVrVvN",
        "colab_type": "text"
      },
      "source": [
        "## Use the generic function but now use NER from BioBERT for Key PHRASES  "
      ]
    },
    {
      "cell_type": "code",
      "metadata": {
        "id": "c956yy2KroLG",
        "colab_type": "code",
        "colab": {}
      },
      "source": [
        "bioNER = getNERBioBERT_Init(2)"
      ],
      "execution_count": null,
      "outputs": []
    },
    {
      "cell_type": "code",
      "metadata": {
        "id": "NzZeqFgCre7B",
        "colab_type": "code",
        "colab": {}
      },
      "source": [
        "articlesDataFrameBIO = CreateGeneric('title', 10)"
      ],
      "execution_count": null,
      "outputs": []
    },
    {
      "cell_type": "code",
      "metadata": {
        "id": "wJnZO87YspE7",
        "colab_type": "code",
        "colab": {}
      },
      "source": [
        "articlesDataFrameBIO.to_csv('pubmed_articles_byBIOBERTKeyPHRASE.csv')"
      ],
      "execution_count": null,
      "outputs": []
    },
    {
      "cell_type": "code",
      "metadata": {
        "id": "ycMAlgfRsvxQ",
        "colab_type": "code",
        "colab": {}
      },
      "source": [
        "files.download('pubmed_articles_byBIOBERTKeyPHRASE.csv')"
      ],
      "execution_count": null,
      "outputs": []
    },
    {
      "cell_type": "code",
      "metadata": {
        "id": "7BKqz9gfs2GS",
        "colab_type": "code",
        "colab": {}
      },
      "source": [
        "frequentKeywords = articlesDataFrameBIO['BioBERTKEYPHRASE'].value_counts()\n",
        "frequentKeywords1 = frequentKeywords[0:20]\n",
        "frequentKeywordsList = frequentKeywords1.keys ()\n",
        "STOPNonMedicalWords = ['Risk factors', 'follow-up', 'the', 'ma', 'impact', \"'\"]\n",
        "frequentKeywordsListFiltered = []\n",
        "\n",
        "for aword in frequentKeywordsList:\n",
        "  if not ( aword in STOPNonMedicalWords):\n",
        "    frequentKeywordsListFiltered.append(aword)\n",
        "\n",
        "frequentKeywordsListFiltered"
      ],
      "execution_count": null,
      "outputs": []
    },
    {
      "cell_type": "code",
      "metadata": {
        "id": "CQ3cWyHVNWM3",
        "colab_type": "code",
        "colab": {}
      },
      "source": [
        "frequentKeywords"
      ],
      "execution_count": null,
      "outputs": []
    },
    {
      "cell_type": "code",
      "metadata": {
        "id": "ZqmBqDDjuAVk",
        "colab_type": "code",
        "colab": {}
      },
      "source": [
        "api = tweepyapi\n",
        "#define a dictionary to hold all the doctors info\n",
        "HCPusersInfo = []\n",
        "unique_candidates_list = [] "
      ],
      "execution_count": null,
      "outputs": []
    },
    {
      "cell_type": "code",
      "metadata": {
        "id": "rC90rXXRuAjP",
        "colab_type": "code",
        "colab": {}
      },
      "source": [
        "for aKeyword in frequentKeywordsListFiltered:\n",
        "    \n",
        "    unique_candidates_list = [] \n",
        "    unique_candidates_list = getlistofUniquetweets(aKeyword, 10, unique_candidates_list)\n",
        "    print(unique_candidates_list)\n",
        "    #TODO Insert a function here to remove candidates who are NOT really professional doctors\n",
        "    HCPusersInfo = appendtolistofdoctors(HCPusersInfo , unique_candidates_list, aKeyword)\n",
        "\n",
        "#    HCPusersInfo = appendtoHCPInfo(unique_candidates_list, HCPusersInfo)\n",
        "#HCPusersInfoPD = pd.DataFrame.from_dict(HCPusersInfo)"
      ],
      "execution_count": null,
      "outputs": []
    },
    {
      "cell_type": "code",
      "metadata": {
        "id": "J3alPCf-uexw",
        "colab_type": "code",
        "colab": {}
      },
      "source": [
        "HCPusersInfoPD = pd.DataFrame.from_dict(HCPusersInfo)\n",
        "HCPusersInfoPD.info()\n",
        "HCPusersInfoPD"
      ],
      "execution_count": null,
      "outputs": []
    },
    {
      "cell_type": "code",
      "metadata": {
        "id": "3KX4DzzAui8n",
        "colab_type": "code",
        "colab": {}
      },
      "source": [
        "HCPusersInfoPD.to_csv( 'HCPsfromTwitterForTop10BIOpharase.csv')"
      ],
      "execution_count": null,
      "outputs": []
    },
    {
      "cell_type": "code",
      "metadata": {
        "id": "W6hQZVUZuoxR",
        "colab_type": "code",
        "colab": {}
      },
      "source": [
        "files.download('HCPsfromTwitterForTop10BIOpharase.csv')"
      ],
      "execution_count": null,
      "outputs": []
    },
    {
      "cell_type": "code",
      "metadata": {
        "id": "ZN9LTJ2Um7hG",
        "colab_type": "code",
        "colab": {}
      },
      "source": [
        "STOPHERE"
      ],
      "execution_count": null,
      "outputs": []
    },
    {
      "cell_type": "code",
      "metadata": {
        "id": "ZvM-9DIEilmS",
        "colab_type": "code",
        "colab": {}
      },
      "source": [
        "articleInfo = []\n",
        "articleList = []\n",
        "\n",
        "for query in ListofMeSHqueries:\n",
        "\n",
        "  results = pubmed.query(query, max_results=30)\n",
        "  print(query)\n",
        "  MesHTermsArray = mydictionaryofMeSHqueries[query]\n",
        "  time.sleep(5)\n",
        "  \n",
        "\n",
        "  for article in results:\n",
        "    # Print the type of object we've found (can be either PubMedBookArticle or PubMedArticle).\n",
        "    # We need to convert it to dictionary with available function\n",
        "      articleDict = article.toDict()\n",
        "      articleList.append(articleDict)\n",
        "\n",
        "    # Generate list of dict records which will hold all article details that could be fetch from PUBMED API\n",
        "  for article in articleList:\n",
        "    #Sometimes article['pubmed_id'] contains list separated with comma - take first pubmedId in that list - thats article pubmedId\n",
        "      pubmedId = article['pubmed_id'].partition('\\n')[0]\n",
        "        # Append article info to dictionary \n",
        "      # articleInfo.append({u'pubmed_id':pubmedId,                        u'title':article['title'],                        u'keywords':article['keywords'],                       u'journal':article['journal'],})\n",
        "\n",
        "\n",
        "      if (len(article['keywords'])) > 0:\n",
        "        for aword in article['keywords']:\n",
        "          articleInfo.append({u'query':query,\n",
        "                              u'MeSHTerm1': MesHTermsArray[0],\n",
        "                              u'keywords':article['keywords'],\n",
        "                              u'KEYWORD':aword,\n",
        "                              u'authors':article['keywords'],\n",
        "                              u'title':article['title'],\n",
        "                              u'abstract':article['abstract'],\n",
        "                              u'journal':article['journal'],\n",
        "                              u'doi':article['doi'],\n",
        "                              u'publication_date':article['publication_date'],\n",
        "                              u'authors':article['authors'],\n",
        "                              })\n",
        "    \n",
        "  # Generate Pandas DataFrame from list of dictionaries\n",
        "articlesPD = pd.DataFrame.from_dict(articleInfo)\n",
        "  #export_csv = df.to_csv (r'C:\\Users\\YourUsernam\\Desktop\\export_dataframe.csv', index = None, header=True) \n",
        "\n",
        "articlesPD.info()\n",
        "\n",
        "#Print first 10 rows of dataframe\n",
        "articlesPD.head(10)\n",
        "articlesPD.tail(10)"
      ],
      "execution_count": null,
      "outputs": []
    },
    {
      "cell_type": "code",
      "metadata": {
        "id": "hOShlCN2j13e",
        "colab_type": "code",
        "colab": {}
      },
      "source": [
        "articlesPD.to_csv('pubmed_articles_byKEYWORD.csv')"
      ],
      "execution_count": null,
      "outputs": []
    },
    {
      "cell_type": "code",
      "metadata": {
        "id": "MfOaDf3wj_0d",
        "colab_type": "code",
        "colab": {}
      },
      "source": [
        "files.download('pubmed_articles_byKEYWORD.csv')"
      ],
      "execution_count": null,
      "outputs": []
    },
    {
      "cell_type": "markdown",
      "metadata": {
        "id": "zgNuBgzA17px",
        "colab_type": "text"
      },
      "source": [
        "## Most frequently appearing keywords in this query"
      ]
    },
    {
      "cell_type": "code",
      "metadata": {
        "id": "GUgfeRYzh5eF",
        "colab_type": "code",
        "colab": {}
      },
      "source": [
        "frequentKeywords = articlesPD['KEYWORD'].value_counts()"
      ],
      "execution_count": null,
      "outputs": []
    },
    {
      "cell_type": "markdown",
      "metadata": {
        "id": "ZURVrRNTd-fU",
        "colab_type": "text"
      },
      "source": [
        "### Take top 10 key phrases from BioBERT"
      ]
    },
    {
      "cell_type": "code",
      "metadata": {
        "id": "09x-o5tVfTAo",
        "colab_type": "code",
        "colab": {}
      },
      "source": [
        "frequentKeywords1 = frequentKeywords[0:10]"
      ],
      "execution_count": null,
      "outputs": []
    },
    {
      "cell_type": "code",
      "metadata": {
        "id": "AzAZnbgy9rn_",
        "colab_type": "code",
        "colab": {}
      },
      "source": [
        "frequentKeywordsList = frequentKeywords1.keys ()"
      ],
      "execution_count": null,
      "outputs": []
    },
    {
      "cell_type": "code",
      "metadata": {
        "id": "imaAwAZmizq7",
        "colab_type": "code",
        "colab": {}
      },
      "source": [
        "frequentKeywordsList"
      ],
      "execution_count": null,
      "outputs": []
    },
    {
      "cell_type": "code",
      "metadata": {
        "id": "QRvnoZ0eCuUh",
        "colab_type": "code",
        "colab": {}
      },
      "source": [
        "#Have a UI to filter off non-medical words\n",
        "frequentKeywordsList"
      ],
      "execution_count": null,
      "outputs": []
    },
    {
      "cell_type": "code",
      "metadata": {
        "id": "S5GGZuFFERsm",
        "colab_type": "code",
        "colab": {}
      },
      "source": [
        "STOPNonMedicalWords = ['Risk factors', 'follow-up']\n",
        "\n",
        "frequentKeywordsListFiltered = []\n",
        "\n",
        "for aword in frequentKeywordsList:\n",
        "  if not ( aword in STOPNonMedicalWords):\n",
        "    frequentKeywordsListFiltered.append(aword)"
      ],
      "execution_count": null,
      "outputs": []
    },
    {
      "cell_type": "code",
      "metadata": {
        "id": "evL2LNFSFHwJ",
        "colab_type": "code",
        "colab": {}
      },
      "source": [
        "frequentKeywordsListFiltered"
      ],
      "execution_count": null,
      "outputs": []
    },
    {
      "cell_type": "code",
      "metadata": {
        "id": "9MoAVxRcj9u4",
        "colab_type": "code",
        "colab": {}
      },
      "source": [
        "api = tweepyapi\n",
        "#define a dictionary to hold all the doctors info\n",
        "HCPusersInfo = []\n",
        "unique_candidates_list = [] "
      ],
      "execution_count": null,
      "outputs": []
    },
    {
      "cell_type": "code",
      "metadata": {
        "id": "cYbQ7MvFun8S",
        "colab_type": "code",
        "colab": {}
      },
      "source": [
        "for aKeyword in frequentKeywordsListFiltered:\n",
        "    \n",
        "    unique_candidates_list = [] \n",
        "    unique_candidates_list = getlistofUniquetweets(aKeyword, 10, unique_candidates_list)\n",
        "    print(unique_candidates_list)\n",
        "    #TODO Insert a function here to remove candidates who are NOT really professional doctors\n",
        "    HCPusersInfo = appendtolistofdoctors(HCPusersInfo , unique_candidates_list, aKeyword)\n",
        "\n",
        "#    HCPusersInfo = appendtoHCPInfo(unique_candidates_list, HCPusersInfo)\n",
        "#HCPusersInfoPD = pd.DataFrame.from_dict(HCPusersInfo)"
      ],
      "execution_count": null,
      "outputs": []
    },
    {
      "cell_type": "code",
      "metadata": {
        "id": "IQ2IbpTxTetW",
        "colab_type": "code",
        "colab": {}
      },
      "source": [
        "unique_candidates_list"
      ],
      "execution_count": null,
      "outputs": []
    },
    {
      "cell_type": "code",
      "metadata": {
        "id": "-pHoqCLucQxc",
        "colab_type": "code",
        "colab": {}
      },
      "source": [
        "frequentKeywordsList = frequentKeywords.keys()"
      ],
      "execution_count": null,
      "outputs": []
    },
    {
      "cell_type": "code",
      "metadata": {
        "id": "HSHhFT4M6qqM",
        "colab_type": "code",
        "colab": {}
      },
      "source": [
        "frequentKeywordsList"
      ],
      "execution_count": null,
      "outputs": []
    },
    {
      "cell_type": "code",
      "metadata": {
        "id": "ya1-SAeASfMu",
        "colab_type": "code",
        "colab": {}
      },
      "source": [
        ""
      ],
      "execution_count": null,
      "outputs": []
    },
    {
      "cell_type": "code",
      "metadata": {
        "id": "w_1KLSbX6dOr",
        "colab_type": "code",
        "colab": {}
      },
      "source": [
        " "
      ],
      "execution_count": null,
      "outputs": []
    },
    {
      "cell_type": "code",
      "metadata": {
        "id": "0EiZKE_lVOfM",
        "colab_type": "code",
        "colab": {}
      },
      "source": [
        ""
      ],
      "execution_count": null,
      "outputs": []
    },
    {
      "cell_type": "code",
      "metadata": {
        "id": "XXzn3AW04s7Z",
        "colab_type": "code",
        "colab": {}
      },
      "source": [
        "len(HCPusersInfo)"
      ],
      "execution_count": null,
      "outputs": []
    },
    {
      "cell_type": "code",
      "metadata": {
        "id": "BgicNoFZ448C",
        "colab_type": "code",
        "colab": {}
      },
      "source": [
        "HCPusersInfoPD = pd.DataFrame.from_dict(HCPusersInfo)\n",
        "HCPusersInfoPD.info()\n",
        "HCPusersInfoPD"
      ],
      "execution_count": null,
      "outputs": []
    },
    {
      "cell_type": "code",
      "metadata": {
        "id": "4wQB29gJ4Msh",
        "colab_type": "code",
        "colab": {}
      },
      "source": [
        "HCPusersInfoPD.to_csv( 'HCPsfromTwitterForTop10words.csv')"
      ],
      "execution_count": null,
      "outputs": []
    },
    {
      "cell_type": "code",
      "metadata": {
        "id": "dcFM0dxSOgxh",
        "colab_type": "code",
        "colab": {}
      },
      "source": [
        "files.download('HCPsfromTwitterForTop10words.csv')"
      ],
      "execution_count": null,
      "outputs": []
    },
    {
      "cell_type": "code",
      "metadata": {
        "id": "160iij3ki0Qc",
        "colab_type": "code",
        "colab": {}
      },
      "source": [
        "END_HERE_FORNOW"
      ],
      "execution_count": null,
      "outputs": []
    },
    {
      "cell_type": "markdown",
      "metadata": {
        "id": "2x7mWjHpGrzo",
        "colab_type": "text"
      },
      "source": [
        "# 2. Use BioBERT to get more medical keywords from the expert's article   "
      ]
    },
    {
      "cell_type": "code",
      "metadata": {
        "id": "1XL6KGQ2infc",
        "colab_type": "code",
        "colab": {}
      },
      "source": [
        "bioNER = getNERBioBERT_Init(1)\n"
      ],
      "execution_count": null,
      "outputs": []
    },
    {
      "cell_type": "code",
      "metadata": {
        "id": "3KUJoMR8kiiF",
        "colab_type": "code",
        "colab": {}
      },
      "source": [
        "articlesDataFrame = CreateGeneric('title', 2)\n"
      ],
      "execution_count": null,
      "outputs": []
    },
    {
      "cell_type": "markdown",
      "metadata": {
        "id": "pUfZVlaR2Pac",
        "colab_type": "text"
      },
      "source": [
        "## Most frequently appearing BioBERT phrases in Titles in this query"
      ]
    },
    {
      "cell_type": "code",
      "metadata": {
        "id": "Tbjg96yzsX0w",
        "colab_type": "code",
        "colab": {}
      },
      "source": [
        "frequentKeywordsBioBERT = articlesPD['BioBERT Entity'].value_counts()"
      ],
      "execution_count": null,
      "outputs": []
    },
    {
      "cell_type": "code",
      "metadata": {
        "id": "rrI2_xA4sfc4",
        "colab_type": "code",
        "colab": {}
      },
      "source": [
        "frequentKeywordsBioBERT"
      ],
      "execution_count": null,
      "outputs": []
    },
    {
      "cell_type": "code",
      "metadata": {
        "id": "riLdaYJAx0gY",
        "colab_type": "code",
        "colab": {}
      },
      "source": [
        "frequentKeywordsBioBERTTop100 = frequentKeywordsBioBERT[0:100]"
      ],
      "execution_count": null,
      "outputs": []
    },
    {
      "cell_type": "code",
      "metadata": {
        "id": "IOm9dLr0zXOc",
        "colab_type": "code",
        "colab": {}
      },
      "source": [
        "frequentKeywordsBioBERTTop100[5:20]"
      ],
      "execution_count": null,
      "outputs": []
    },
    {
      "cell_type": "code",
      "metadata": {
        "id": "wcEH6iPpx5R1",
        "colab_type": "code",
        "colab": {}
      },
      "source": [
        "ListofTop10Phrases = frequentKeywordsBioBERTTop100.keys()"
      ],
      "execution_count": null,
      "outputs": []
    },
    {
      "cell_type": "code",
      "metadata": {
        "id": "te41uWN1zGap",
        "colab_type": "code",
        "colab": {}
      },
      "source": [
        "ListofTop10Phrases"
      ],
      "execution_count": null,
      "outputs": []
    },
    {
      "cell_type": "markdown",
      "metadata": {
        "id": "VvJiOdFD2a9b",
        "colab_type": "text"
      },
      "source": [
        "# Use Bio Clinical BERT to most frequented words"
      ]
    },
    {
      "cell_type": "code",
      "metadata": {
        "id": "8oK-qVolrvLK",
        "colab_type": "code",
        "colab": {}
      },
      "source": [
        "bioNER = getNERBioBERT_Init(2)"
      ],
      "execution_count": null,
      "outputs": []
    },
    {
      "cell_type": "code",
      "metadata": {
        "id": "uAqpEhUprzxb",
        "colab_type": "code",
        "colab": {}
      },
      "source": [
        "articleInfo = []\n",
        "articleList = []\n",
        "\n",
        "for query in ListofMeSHqueries:\n",
        "\n",
        "  results = pubmed.query(query, max_results=3)\n",
        "  print(query)\n",
        "  MesHTermsArray = mydictionaryofMeSHqueries[query]\n",
        "  time.sleep(5)\n",
        "  \n",
        "\n",
        "  for article in results:\n",
        "    # Print the type of object we've found (can be either PubMedBookArticle or PubMedArticle).\n",
        "    # We need to convert it to dictionary with available function\n",
        "      articleDict = article.toDict()\n",
        "      articleList.append(articleDict)\n",
        "\n",
        "    # Generate list of dict records which will hold all article details that could be fetch from PUBMED API\n",
        "  for article in articleList:\n",
        "    #Sometimes article['pubmed_id'] contains list separated with comma - take first pubmedId in that list - thats article pubmedId\n",
        "      pubmedId = article['pubmed_id'].partition('\\n')[0]\n",
        "        # Append article info to dictionary \n",
        "      # articleInfo.append({u'pubmed_id':pubmedId,                        u'title':article['title'],                        u'keywords':article['keywords'],                       u'journal':article['journal'],})\n",
        "\n",
        "      listofBioBERTentities = getNERBioBERT ( article['title'])\n",
        "      if (len(article['keywords'])) > 0:\n",
        "        for aBioEntity in listofBioBERTentities:\n",
        "          articleInfo.append({u'query':query,\n",
        "                              u'MeSHTerm1': MesHTermsArray[0],\n",
        "                              u'keywords':article['keywords'],\n",
        "                              u'Title':article['title'],\n",
        "                              u'Bio Clinical BERT Entity': aBioEntity   \n",
        "                              })\n",
        "    \n",
        "  # Generate Pandas DataFrame from list of dictionaries\n",
        "articlesPD = pd.DataFrame.from_dict(articleInfo)\n",
        "  #export_csv = df.to_csv (r'C:\\Users\\YourUsernam\\Desktop\\export_dataframe.csv', index = None, header=True) \n",
        "\n",
        "articlesPD.info()\n",
        "\n",
        "#Print first 10 rows of dataframe\n",
        "articlesPD.head(10)\n",
        "articlesPD.tail(10)"
      ],
      "execution_count": null,
      "outputs": []
    },
    {
      "cell_type": "code",
      "metadata": {
        "id": "Krez80tD0DEv",
        "colab_type": "code",
        "colab": {}
      },
      "source": [
        "frequentKeywordsBioClinicalBERT = articlesPD['Bio Clinical BERT Entity'].value_counts()"
      ],
      "execution_count": null,
      "outputs": []
    },
    {
      "cell_type": "code",
      "metadata": {
        "id": "4mq7dlek0Nuz",
        "colab_type": "code",
        "colab": {}
      },
      "source": [
        "frequentKeywordsBioClinicalBERTTop100 = frequentKeywordsBioClinicalBERT[0:100]\n",
        "\n",
        "frequentKeywordsBioClinicalBERTTop100List = frequentKeywordsBioClinicalBERTTop100.keys()"
      ],
      "execution_count": null,
      "outputs": []
    },
    {
      "cell_type": "code",
      "metadata": {
        "id": "RtTdI1a10deh",
        "colab_type": "code",
        "colab": {}
      },
      "source": [
        "frequentKeywordsBioClinicalBERTTop100"
      ],
      "execution_count": null,
      "outputs": []
    },
    {
      "cell_type": "code",
      "metadata": {
        "id": "YaCZKa-r0ayF",
        "colab_type": "code",
        "colab": {}
      },
      "source": [
        "frequentKeywordsBioClinicalBERTTop100List"
      ],
      "execution_count": null,
      "outputs": []
    },
    {
      "cell_type": "code",
      "metadata": {
        "id": "JU0Eooqq636T",
        "colab_type": "code",
        "colab": {}
      },
      "source": [
        "bioNER = getNERBioBERT_Init(1)"
      ],
      "execution_count": null,
      "outputs": []
    },
    {
      "cell_type": "code",
      "metadata": {
        "id": "VhPM8c-25ko8",
        "colab_type": "code",
        "colab": {}
      },
      "source": [
        "articlesDataFrame = CreateGeneric('title', 2)\n",
        "\n",
        "#articlesDataFrame = CreateGeneric('abstract', 2)\n",
        "\n",
        "articlesDataFrame"
      ],
      "execution_count": null,
      "outputs": []
    },
    {
      "cell_type": "code",
      "metadata": {
        "id": "K_87vzWY607A",
        "colab_type": "code",
        "colab": {}
      },
      "source": [
        ""
      ],
      "execution_count": null,
      "outputs": []
    },
    {
      "cell_type": "code",
      "metadata": {
        "id": "HXOs3xOh6Npw",
        "colab_type": "code",
        "colab": {}
      },
      "source": [
        "frequentKeywordsBioClinicalBERTList = (articlesDataFrame['BioBERT Entity'].value_counts()) [0:100].keys()"
      ],
      "execution_count": null,
      "outputs": []
    },
    {
      "cell_type": "code",
      "metadata": {
        "id": "Y735KDS46quX",
        "colab_type": "code",
        "colab": {}
      },
      "source": [
        "frequentKeywordsBioClinicalBERTList"
      ],
      "execution_count": null,
      "outputs": []
    },
    {
      "cell_type": "code",
      "metadata": {
        "id": "qaqOu0OpPLM1",
        "colab_type": "code",
        "colab": {}
      },
      "source": [
        "pdHCPs = getTwitterHCPs(frequentKeywordsBioClinicalBERTList)"
      ],
      "execution_count": null,
      "outputs": []
    },
    {
      "cell_type": "code",
      "metadata": {
        "id": "AnuLjA_rPQSd",
        "colab_type": "code",
        "colab": {}
      },
      "source": [
        "pdHCPs"
      ],
      "execution_count": null,
      "outputs": []
    },
    {
      "cell_type": "code",
      "metadata": {
        "id": "8lLnH5fFNjDa",
        "colab_type": "code",
        "colab": {}
      },
      "source": [
        ""
      ],
      "execution_count": null,
      "outputs": []
    },
    {
      "cell_type": "markdown",
      "metadata": {
        "id": "u2Nfb6b13FsL",
        "colab_type": "text"
      },
      "source": [
        ""
      ]
    },
    {
      "cell_type": "code",
      "metadata": {
        "id": "c0x-viPtVy41",
        "colab_type": "code",
        "colab": {}
      },
      "source": [
        "twitterSearchquery('SIRT1')"
      ],
      "execution_count": null,
      "outputs": []
    },
    {
      "cell_type": "code",
      "metadata": {
        "id": "jeuOKck_bCKT",
        "colab_type": "code",
        "colab": {}
      },
      "source": [
        ""
      ],
      "execution_count": null,
      "outputs": []
    },
    {
      "cell_type": "code",
      "metadata": {
        "id": "5XtLYo9bVwNw",
        "colab_type": "code",
        "colab": {}
      },
      "source": [
        "articlesPD"
      ],
      "execution_count": null,
      "outputs": []
    },
    {
      "cell_type": "code",
      "metadata": {
        "id": "Roz8V1_4HGFn",
        "colab_type": "code",
        "colab": {}
      },
      "source": [
        "sgsgsgs"
      ],
      "execution_count": null,
      "outputs": []
    },
    {
      "cell_type": "markdown",
      "metadata": {
        "id": "0ncp8Z48EeLd",
        "colab_type": "text"
      },
      "source": [
        "# 3. Go to twitter and look for people who are talking about these medical *topics*"
      ]
    },
    {
      "cell_type": "code",
      "metadata": {
        "id": "eE-6MdWa_clO",
        "colab_type": "code",
        "colab": {}
      },
      "source": [
        ""
      ],
      "execution_count": null,
      "outputs": []
    },
    {
      "cell_type": "code",
      "metadata": {
        "id": "0QPdDpBbKGP7",
        "colab_type": "code",
        "colab": {}
      },
      "source": [
        ""
      ],
      "execution_count": null,
      "outputs": []
    },
    {
      "cell_type": "code",
      "metadata": {
        "id": "dFFEMsC8Y2Pn",
        "colab_type": "code",
        "colab": {}
      },
      "source": [
        "articleInfo = []\n",
        "articleList = []\n",
        "\n",
        "for query in ListofMeSHqueries:\n",
        "\n",
        "  results = pubmed.query(query, max_results=3)\n",
        "  print(query)\n",
        "  MesHTermsArray = mydictionaryofMeSHqueries[query]\n",
        "  time.sleep(5)\n",
        "  \n",
        "\n",
        "  for article in results:\n",
        "    # Print the type of object we've found (can be either PubMedBookArticle or PubMedArticle).\n",
        "    # We need to convert it to dictionary with available function\n",
        "      articleDict = article.toDict()\n",
        "      articleList.append(articleDict)\n",
        "\n",
        "    # Generate list of dict records which will hold all article details that could be fetch from PUBMED API\n",
        "  for article in articleList:\n",
        "    #Sometimes article['pubmed_id'] contains list separated with comma - take first pubmedId in that list - thats article pubmedId\n",
        "      pubmedId = article['pubmed_id'].partition('\\n')[0]\n",
        "        # Append article info to dictionary \n",
        "      # articleInfo.append({u'pubmed_id':pubmedId,                        u'title':article['title'],                        u'keywords':article['keywords'],                       u'journal':article['journal'],})\n",
        "\n",
        "\n",
        "      if (len(article['keywords'])) > 0:\n",
        "        articleInfo.append({u'query':query,\n",
        "                            u'MeSHTerm1': MesHTermsArray[0],\n",
        "                            u'keywords':article['keywords'],\n",
        "                            u'Title':article['title'],\n",
        "                            u'BioBERT Entities': getBioEntitiesfromBioBERT ( article['title'] ),\n",
        "                            u'tweets': tweepyapi.search( MesHTermsArray[0]) [0],\n",
        "                            })\n",
        "    \n",
        "  # Generate Pandas DataFrame from list of dictionaries\n",
        "articlesPD = pd.DataFrame.from_dict(articleInfo)\n",
        "  #export_csv = df.to_csv (r'C:\\Users\\YourUsernam\\Desktop\\export_dataframe.csv', index = None, header=True) \n",
        "\n",
        "articlesPD.info()\n",
        "\n",
        "#Print first 10 rows of dataframe\n",
        "articlesPD.head(10)\n",
        "articlesPD.tail(10)"
      ],
      "execution_count": null,
      "outputs": []
    },
    {
      "cell_type": "code",
      "metadata": {
        "id": "KtHPkq3SJZw-",
        "colab_type": "code",
        "colab": {}
      },
      "source": [
        "api = tweepyapi\n",
        "HCPusersInfo = []"
      ],
      "execution_count": null,
      "outputs": []
    },
    {
      "cell_type": "code",
      "metadata": {
        "id": "Er1WxlUKJW5F",
        "colab_type": "code",
        "colab": {}
      },
      "source": [
        "for aKeyword in frequentKeywordsList:\n",
        "  unique_candidates_list = [] \n",
        "  unique_candidates_list = getlistofUniquetweets(aKeyword, 10, unique_candidates_list)\n",
        "  HCPusersInfo = appendtoHCPInfo(unique_candidates_list, HCPusersInfo)\n"
      ],
      "execution_count": null,
      "outputs": []
    },
    {
      "cell_type": "code",
      "metadata": {
        "id": "-QY1lTTMMUU0",
        "colab_type": "code",
        "colab": {}
      },
      "source": [
        "def getTwitterHCPs(frequentKeywordsList):\n",
        "  HCPusersInfo = []\n",
        "  for aKeyword in frequentKeywordsList:\n",
        "    unique_candidates_list = [] \n",
        "    unique_candidates_list = getlistofUniquetweets(aKeyword, 10, unique_candidates_list)\n",
        "    HCPusersInfo = appendtoHCPInfo(unique_candidates_list, HCPusersInfo)\n",
        "  HCPusersInfoPD = pd.DataFrame.from_dict(HCPusersInfo)\n",
        "  HCPusersInfoPD.info()  \n",
        "  return HCPusersInfoPD"
      ],
      "execution_count": null,
      "outputs": []
    },
    {
      "cell_type": "code",
      "metadata": {
        "id": "yT9Z_cCuLRWS",
        "colab_type": "code",
        "colab": {}
      },
      "source": [
        "HCPusersInfoPD = pd.DataFrame.from_dict(HCPusersInfo)\n",
        "HCPusersInfoPD.info()\n",
        "HCPusersInfoPD.head()"
      ],
      "execution_count": null,
      "outputs": []
    },
    {
      "cell_type": "code",
      "metadata": {
        "id": "kQAdMPk6K5Op",
        "colab_type": "code",
        "colab": {}
      },
      "source": [
        "HCPusersInfo.info()"
      ],
      "execution_count": null,
      "outputs": []
    },
    {
      "cell_type": "code",
      "metadata": {
        "id": "IDJ_OlDVKpGE",
        "colab_type": "code",
        "colab": {}
      },
      "source": [
        "def appendtoHCPInfo(listofHCPs, HCPusersInfo):\n",
        "  for auser  in listofHCPs:\n",
        "    test = api.lookup_users(screen_names=['DrLBoominathan'])\n",
        "    for user in test:\n",
        "            HCPusersInfo.append({u'screen_name':user.screen_name,\n",
        "                                u'name': user.name,\n",
        "                                u'description':user.description,\n",
        "                                u'followers_count':user.followers_count,\n",
        "                                u'statuses_count': user.statuses_count,\n",
        "                                u'URL': user.url     \n",
        "                                })\n",
        "      \n",
        "    # Generate Pandas DataFrame from list of dictionaries\n",
        "  HCPusersInfoPD = pd.DataFrame.from_dict(HCPusersInfo)\n",
        "    #export_csv = df.to_csv (r'C:\\Users\\YourUsernam\\Desktop\\export_dataframe.csv', index = None, header=True) \n",
        "  HCPusersInfoPD.info()\n",
        "  return HCPusersInfo"
      ],
      "execution_count": null,
      "outputs": []
    },
    {
      "cell_type": "markdown",
      "metadata": {
        "id": "vot1zEDSmcHP",
        "colab_type": "text"
      },
      "source": [
        "# Dataset 2 :  MeSH terms with Authors specalizing in a domain"
      ]
    },
    {
      "cell_type": "code",
      "metadata": {
        "id": "OXhUmcTViGA3",
        "colab_type": "code",
        "colab": {}
      },
      "source": [
        "articleInfo = []\n",
        "articleList = []\n",
        "\n",
        "for query in ListofMeSHqueries:\n",
        "\n",
        "  results = pubmed.query(query, max_results=100)\n",
        "  time.sleep(5)\n",
        "  print(results)\n",
        "\n",
        "  for article in results:\n",
        "    # Print the type of object we've found (can be either PubMedBookArticle or PubMedArticle).\n",
        "    # We need to convert it to dictionary with available function\n",
        "      articleDict = article.toDict()\n",
        "      articleList.append(articleDict)\n",
        "\n",
        "    # Generate list of dict records which will hold all article details that could be fetch from PUBMED API\n",
        "  for article in articleList:\n",
        "    #Sometimes article['pubmed_id'] contains list separated with comma - take first pubmedId in that list - thats article pubmedId\n",
        "      pubmedId = article['pubmed_id'].partition('\\n')[0]\n",
        "        # Append article info to dictionary \n",
        "      # articleInfo.append({u'pubmed_id':pubmedId,                        u'title':article['title'],                        u'keywords':article['keywords'],                       u'journal':article['journal'],})\n",
        "\n",
        "\n",
        "      if (len(article['keywords'])) > 0:\n",
        "        articleInfo.append({u'query':query,\n",
        "                            u'MeSH Term 1': MesHTermsArray[0],\n",
        "                            u'authors':article['authors'],\n",
        "                            })\n",
        "    \n",
        "  # Generate Pandas DataFrame from list of dictionaries\n",
        "articlesPD = pd.DataFrame.from_dict(articleInfo)\n",
        "  #export_csv = df.to_csv (r'C:\\Users\\YourUsernam\\Desktop\\export_dataframe.csv', index = None, header=True) \n",
        "\n",
        "#Print first 10 rows of dataframe\n",
        "articlesPD.head(10)"
      ],
      "execution_count": null,
      "outputs": []
    },
    {
      "cell_type": "code",
      "metadata": {
        "id": "uTVPfYDupwJg",
        "colab_type": "code",
        "colab": {}
      },
      "source": [
        "articlesPD.head(10)"
      ],
      "execution_count": null,
      "outputs": []
    },
    {
      "cell_type": "code",
      "metadata": {
        "id": "LzoSgCN-cUY2",
        "colab_type": "code",
        "colab": {}
      },
      "source": [
        "# Execute the query against the API\n",
        "results = pubmed.query(query, max_results=5)\n",
        "\n",
        "# Loop over the retrieved articles\n",
        "for article in results:\n",
        "\n",
        "    # Extract and format information from the article\n",
        "    article_id = article.pubmed_id\n",
        "    title = article.title\n",
        "    print(title)\n",
        "    keywords ='NONE'\n",
        "    if article.keywords:\n",
        "        if None in article.keywords:\n",
        "            article.keywords.remove(None)\n",
        "        keywords = '\", \"'.join(article.keywords)\n",
        "    publication_date = article.publication_date\n",
        "    abstract = article.abstract\n",
        "\n",
        "    # Show information about the article\n",
        "    print(\n",
        "        f'{article_id} -   - \\nKeywords: \"{keywords}\"\\n\\n'\n",
        "    )"
      ],
      "execution_count": null,
      "outputs": []
    },
    {
      "cell_type": "code",
      "metadata": {
        "id": "rO1Y_s1jLyzT",
        "colab_type": "code",
        "colab": {}
      },
      "source": [
        "\n"
      ],
      "execution_count": null,
      "outputs": []
    },
    {
      "cell_type": "code",
      "metadata": {
        "id": "C2r-J1DTTv2B",
        "colab_type": "code",
        "colab": {}
      },
      "source": [
        "ListofMeSHqueries"
      ],
      "execution_count": null,
      "outputs": []
    },
    {
      "cell_type": "markdown",
      "metadata": {
        "id": "8Z5OfFWLqI9J",
        "colab_type": "text"
      },
      "source": [
        "# Dataset 3:  Authors and countries , as per exisiting codebase  \n",
        "\n"
      ]
    },
    {
      "cell_type": "code",
      "metadata": {
        "id": "W14J5yUPN_1p",
        "colab_type": "code",
        "colab": {}
      },
      "source": [
        " "
      ],
      "execution_count": null,
      "outputs": []
    },
    {
      "cell_type": "code",
      "metadata": {
        "id": "Eqs9yGLlOxLm",
        "colab_type": "code",
        "colab": {}
      },
      "source": [
        "from google.colab import files\n",
        " "
      ],
      "execution_count": null,
      "outputs": []
    },
    {
      "cell_type": "code",
      "metadata": {
        "id": "IM4eBttBMG3-",
        "colab_type": "code",
        "colab": {}
      },
      "source": [
        " "
      ],
      "execution_count": null,
      "outputs": []
    },
    {
      "cell_type": "code",
      "metadata": {
        "id": "yFZh5hd_OUjH",
        "colab_type": "code",
        "colab": {}
      },
      "source": [
        "query"
      ],
      "execution_count": null,
      "outputs": []
    },
    {
      "cell_type": "markdown",
      "metadata": {
        "id": "4bih5j1K3D99",
        "colab_type": "text"
      },
      "source": [
        "## Upload the worldcities CSV file here  (else it may show error prompt on timeout)"
      ]
    },
    {
      "cell_type": "code",
      "metadata": {
        "id": "rzwjPAeTqn7m",
        "colab_type": "code",
        "colab": {}
      },
      "source": [
        "#upload the worldcities.csv from harddisk for now\n",
        "files.upload()"
      ],
      "execution_count": null,
      "outputs": []
    },
    {
      "cell_type": "markdown",
      "metadata": {
        "id": "hPWXCOgsZkFA",
        "colab_type": "text"
      },
      "source": [
        "### 1. PudMed dataset for the Query with [keyword1, keyword2,...] format"
      ]
    },
    {
      "cell_type": "code",
      "metadata": {
        "id": "pmoIA5i6tMTx",
        "colab_type": "code",
        "colab": {}
      },
      "source": [
        "# -*- coding: utf-8 -*-\n",
        "\"\"\"\n",
        "Created on Fri Jul  3 15:19:12 2020\n",
        "\n",
        "@author: ESPardilJo\n",
        "\"\"\"\n",
        "\n",
        "from pymed import PubMed\n",
        "import json\n",
        "import pandas as pd\n",
        "import os\n",
        "import re\n",
        "import numpy as np\n",
        "\n",
        "#medscape = pd.read_csv('C:/Users/ESPardilJo/OneDrive - NESTLE/Projects/WebSrapping/Medscape.csv') \n",
        "#authors = medscape.author.tolist()\n",
        "rootpath = 'C:/Users/ESPardilJo/NESTLE/Mata,Karenne,BARCELONA,IT Analytics, Data and Integration - HCP/Scripts'\n",
        "#rootpath = 'C:/Users/ESMataKa/OneDrive - NESTLE/Karen/HCP/Scripts'\n",
        "\n",
        "#authors = pd.read_csv(os.path.join(rootpath, 'med-authors.csv'))\n",
        "#topics = pd.read_csv(os.path.join(rootpath, 'alltopics.csv'))\n",
        "#universities = pd.read_csv(os.path.join(rootpath, 'World-University-Names-Database-master/world_universities.csv'))\n",
        "\n",
        "countries_table = pd.read_csv( 'worldcities.csv')\n",
        "\n",
        "\n",
        "def look4country(string, countries_table):\n",
        "    aux1 = string.lower()\n",
        "    countries = list(set(countries_table.country.str.lower().tolist()))\n",
        "    cities_ascii = countries_table.city_ascii.str.lower().tolist()\n",
        "    iso3 = countries_table.iso3.tolist()\n",
        "    iso2 = countries_table.iso2.tolist()\n",
        "    if any(country in aux1 for country in countries):\n",
        "        indicators = [country in aux1 for country in countries]\n",
        "        country = countries[[i for i, x in enumerate(indicators) if x][0]]\n",
        "        return(country)\n",
        "    elif any(country in string for country in iso3):\n",
        "        indicators = [country in string for country in iso3]\n",
        "        country = countries_table.country[[i for i, x in enumerate(indicators) if x][0]].lower()\n",
        "        return(country)\n",
        "    elif any(str(country) in string for country in iso2):\n",
        "        indicators = [str(country) in string for country in iso2]\n",
        "        country = countries_table.country[[i for i, x in enumerate(indicators) if x][0]].lower()\n",
        "        return(country)\n",
        "    elif any(city in aux1 for city in cities_ascii):\n",
        "        indicators = [city in aux1 for city in cities_ascii]\n",
        "        country = countries_table.country[[i for i, x in enumerate(indicators) if x][0]].lower()\n",
        "        return(country)\n",
        "\n",
        "\n",
        "articles = pd.DataFrame()\n",
        "\n",
        "\n",
        "pubmed = PubMed()\n",
        "\n",
        "# Execute the query against the API\n",
        "for query in ListofMeSHqueries:\n",
        "    results = pubmed.query(query, max_results=5)\n",
        "    MesHTermsArray = mydictionaryofMeSHqueries[query]\n",
        "\n",
        "    time.sleep(5)\n",
        "    \n",
        "    # Loop over the retrieved articles\n",
        "    for i,article in enumerate(results):\n",
        "        \n",
        "        article = json.loads(article.toJSON())\n",
        "        text = ''\n",
        "        authors2 = pd.DataFrame()\n",
        "        for author2 in article['authors']:\n",
        "            authors2['MeSH Query'] = query            \n",
        "            authors2['MeSHTerm1'] = MesHTermsArray[0]              \n",
        "            print(author2['firstname'])\n",
        "\n",
        "            try:\n",
        "                country = look4country(author2['affiliation'],countries_table)\n",
        "                author2['country'] = country\n",
        "            except:\n",
        "                author2['country'] = ''\n",
        "            try:\n",
        "                author2['mail'] = re.search(r'[\\w\\.-]+@[\\w\\.-]+', author2['affiliation'], re.IGNORECASE).group(0)\n",
        "                domain = re.search(r'@.+$', author2['affiliation'], re.IGNORECASE).group(0)\n",
        "                author2['domain'] = re.sub('\\.$', '', domain)\n",
        "            except:\n",
        "                author2['mail'] = ''\n",
        "                author2['domain'] = ''\n",
        "            try:\n",
        "                where = re.search(r'[\\w| ]+[,|$]', author2['affiliation'], re.IGNORECASE).group(0)\n",
        "                author2['where'] = re.sub('^\\d', '', re.sub(',', '', where))\n",
        "            except:\n",
        "                author2['where'] = ''\n",
        "            try:\n",
        "                uni = re.search(r'[\\w| ] uni(.*) [\\w| ]+[,|$]', author2['affiliation'], re.IGNORECASE).group(0)\n",
        "                author2['uni'] = uni\n",
        "            except:\n",
        "                author2['uni'] = ''\n",
        "            try:\n",
        "                subject = re.search(r'of [\\w| ]+$', author2['where'], re.IGNORECASE).group(0)\n",
        "                author2['subject'] = re.sub('of ', '', subject)\n",
        "            except:\n",
        "                author2['subject'] = ''\n",
        "            authors2 = pd.concat([authors2, pd.DataFrame.from_dict(author2 , orient = 'index').transpose()], axis = 0)\n",
        "            text += author2['where'] + ' ' + author2['domain'] + ' '\n",
        "    \n",
        "        authors2['title'] = article['title']             \n",
        "        authors2['abstract'] = article['abstract'] \n",
        "        if 'keywords' in article.keys():\n",
        "            authors2['keywords'] = str(article['keywords'])\n",
        "            keywords = article['keywords']\n",
        "            if None in keywords:\n",
        "                keywords.remove(None)\n",
        "            text += ' '.join(keywords)\n",
        "        else:\n",
        "            authors2['keywords'] = \"\"\n",
        "            \n",
        "        if 'journal' in article.keys():\n",
        "            authors2['journal'] = article['journal']\n",
        "        elif 'publisher' in article.keys():\n",
        "            authors2['journal'] = article['publisher']\n",
        "            \n",
        "        authors2['copyrights'] = article['copyrights']\n",
        "        if 'conclusions' in article.keys():\n",
        "            authors2['conclusions'] = article['conclusions'] \n",
        "        else:\n",
        "            authors2['conclusions'] = ''\n",
        "        if 'results' in article.keys():\n",
        "            authors2['results'] = article['results']\n",
        "        else:\n",
        "            authors2['results'] = ''\n",
        "        authors2['publication_date'] = article['publication_date']\n",
        "        authors2['doi'] = article['doi']\n",
        "    \n",
        "        authors2['text'] = str(list(set(text.split(' '))))\n",
        "        articles = pd.concat([articles,authors2], axis = 0)\n",
        "        \n",
        "        \n",
        "countries_table.country = countries_table.country.str.lower()\n",
        "countries = pd.DataFrame(countries_table[['country', 'lat', 'lng']].groupby('country').mean())\n",
        "countries['country'] = countries.index\n",
        "\n",
        "#articles = pd.merge(articles, countries, how='left', on = 'country')\n",
        "        \n",
        "articles.to_csv( 'pubmed_countries.csv')"
      ],
      "execution_count": null,
      "outputs": []
    },
    {
      "cell_type": "code",
      "metadata": {
        "id": "4vC4_1bPPejI",
        "colab_type": "code",
        "colab": {}
      },
      "source": [
        "files.download('pubmed_countries.csv')"
      ],
      "execution_count": null,
      "outputs": []
    },
    {
      "cell_type": "code",
      "metadata": {
        "id": "Bf-N09kgZ6OE",
        "colab_type": "code",
        "colab": {}
      },
      "source": [
        ""
      ],
      "execution_count": null,
      "outputs": []
    },
    {
      "cell_type": "markdown",
      "metadata": {
        "id": "8W9dXdD-Z7L0",
        "colab_type": "text"
      },
      "source": [
        "### 2. PudMed dataset for the Query with one [keyword] per row format .. (If there is no keyword for an article, the article is NOT considered)"
      ]
    },
    {
      "cell_type": "code",
      "metadata": {
        "id": "4R6-AzivPdvE",
        "colab_type": "code",
        "colab": {}
      },
      "source": [
        "# -*- coding: utf-8 -*-\n",
        "\"\"\"\n",
        "Created on Fri Jul  3 15:19:12 2020\n",
        "\n",
        "@author: ESPardilJo\n",
        "\"\"\"\n",
        "\n",
        "from pymed import PubMed\n",
        "import json\n",
        "import pandas as pd\n",
        "import os\n",
        "import re\n",
        "import numpy as np\n",
        "\n",
        "#medscape = pd.read_csv('C:/Users/ESPardilJo/OneDrive - NESTLE/Projects/WebSrapping/Medscape.csv') \n",
        "#authors = medscape.author.tolist()\n",
        "rootpath = 'C:/Users/ESPardilJo/NESTLE/Mata,Karenne,BARCELONA,IT Analytics, Data and Integration - HCP/Scripts'\n",
        "#rootpath = 'C:/Users/ESMataKa/OneDrive - NESTLE/Karen/HCP/Scripts'\n",
        "\n",
        "#authors = pd.read_csv(os.path.join(rootpath, 'med-authors.csv'))\n",
        "#topics = pd.read_csv(os.path.join(rootpath, 'alltopics.csv'))\n",
        "#universities = pd.read_csv(os.path.join(rootpath, 'World-University-Names-Database-master/world_universities.csv'))\n",
        "\n",
        "countries_table = pd.read_csv( 'worldcities.csv')\n",
        "\n",
        "\n",
        "def look4country(string, countries_table):\n",
        "    aux1 = string.lower()\n",
        "    countries = list(set(countries_table.country.str.lower().tolist()))\n",
        "    cities_ascii = countries_table.city_ascii.str.lower().tolist()\n",
        "    iso3 = countries_table.iso3.tolist()\n",
        "    iso2 = countries_table.iso2.tolist()\n",
        "    if any(country in aux1 for country in countries):\n",
        "        indicators = [country in aux1 for country in countries]\n",
        "        country = countries[[i for i, x in enumerate(indicators) if x][0]]\n",
        "        return(country)\n",
        "    elif any(country in string for country in iso3):\n",
        "        indicators = [country in string for country in iso3]\n",
        "        country = countries_table.country[[i for i, x in enumerate(indicators) if x][0]].lower()\n",
        "        return(country)\n",
        "    elif any(str(country) in string for country in iso2):\n",
        "        indicators = [str(country) in string for country in iso2]\n",
        "        country = countries_table.country[[i for i, x in enumerate(indicators) if x][0]].lower()\n",
        "        return(country)\n",
        "    elif any(city in aux1 for city in cities_ascii):\n",
        "        indicators = [city in aux1 for city in cities_ascii]\n",
        "        country = countries_table.country[[i for i, x in enumerate(indicators) if x][0]].lower()\n",
        "        return(country)\n",
        "\n",
        "\n",
        "articles = pd.DataFrame()\n",
        "\n",
        "\n",
        "pubmed = PubMed()\n",
        "\n",
        "# Execute the query against the API\n",
        "for query in ListofMeSHqueries:\n",
        "    results = pubmed.query(query, max_results=5)\n",
        "    MesHTermsArray = mydictionaryofMeSHqueries[query]\n",
        "\n",
        "    time.sleep(5)\n",
        "    \n",
        "    # Loop over the retrieved articles\n",
        "    for i,article in enumerate(results):\n",
        "        \n",
        "      article = json.loads(article.toJSON())\n",
        "      if (len(article['keywords'])) > 0:\n",
        "        for keyword in article['keywords']:\n",
        "          text = ''\n",
        "          authors2 = pd.DataFrame()\n",
        "          for author2 in article['authors']:\n",
        "              authors2['MeSH Query'] = query            \n",
        "              authors2['MeSHTerm1'] = MesHTermsArray[0]   \n",
        "              authors2['KEYWORD'] =    keyword        \n",
        "              print(author2['firstname'])\n",
        "\n",
        "              try:\n",
        "                  country = look4country(author2['affiliation'],countries_table)\n",
        "                  author2['country'] = country\n",
        "              except:\n",
        "                  author2['country'] = ''\n",
        "              try:\n",
        "                  author2['mail'] = re.search(r'[\\w\\.-]+@[\\w\\.-]+', author2['affiliation'], re.IGNORECASE).group(0)\n",
        "                  domain = re.search(r'@.+$', author2['affiliation'], re.IGNORECASE).group(0)\n",
        "                  author2['domain'] = re.sub('\\.$', '', domain)\n",
        "              except:\n",
        "                  author2['mail'] = ''\n",
        "                  author2['domain'] = ''\n",
        "              try:\n",
        "                  where = re.search(r'[\\w| ]+[,|$]', author2['affiliation'], re.IGNORECASE).group(0)\n",
        "                  author2['where'] = re.sub('^\\d', '', re.sub(',', '', where))\n",
        "              except:\n",
        "                  author2['where'] = ''\n",
        "              try:\n",
        "                  uni = re.search(r'[\\w| ] uni(.*) [\\w| ]+[,|$]', author2['affiliation'], re.IGNORECASE).group(0)\n",
        "                  author2['uni'] = uni\n",
        "              except:\n",
        "                  author2['uni'] = ''\n",
        "              try:\n",
        "                  subject = re.search(r'of [\\w| ]+$', author2['where'], re.IGNORECASE).group(0)\n",
        "                  author2['subject'] = re.sub('of ', '', subject)\n",
        "              except:\n",
        "                  author2['subject'] = ''\n",
        "              authors2 = pd.concat([authors2, pd.DataFrame.from_dict(author2 , orient = 'index').transpose()], axis = 0)\n",
        "              text += author2['where'] + ' ' + author2['domain'] + ' '\n",
        "      \n",
        "          authors2['title'] = article['title']             \n",
        "          authors2['abstract'] = article['abstract'] \n",
        "          if 'keywords' in article.keys():\n",
        "              authors2['keywords'] = str(article['keywords'])\n",
        "              keywords = article['keywords']\n",
        "              if None in keywords:\n",
        "                  keywords.remove(None)\n",
        "              text += ' '.join(keywords)\n",
        "          else:\n",
        "              authors2['keywords'] = \"\"\n",
        "              \n",
        "          if 'journal' in article.keys():\n",
        "              authors2['journal'] = article['journal']\n",
        "          elif 'publisher' in article.keys():\n",
        "              authors2['journal'] = article['publisher']\n",
        "              \n",
        "          authors2['copyrights'] = article['copyrights']\n",
        "          if 'conclusions' in article.keys():\n",
        "              authors2['conclusions'] = article['conclusions'] \n",
        "          else:\n",
        "              authors2['conclusions'] = ''\n",
        "          if 'results' in article.keys():\n",
        "              authors2['results'] = article['results']\n",
        "          else:\n",
        "              authors2['results'] = ''\n",
        "          authors2['publication_date'] = article['publication_date']\n",
        "          authors2['doi'] = article['doi']\n",
        "      \n",
        "          authors2['text'] = str(list(set(text.split(' '))))\n",
        "          articles = pd.concat([articles,authors2], axis = 0)\n",
        "        \n",
        "        \n",
        "countries_table.country = countries_table.country.str.lower()\n",
        "countries = pd.DataFrame(countries_table[['country', 'lat', 'lng']].groupby('country').mean())\n",
        "countries['country'] = countries.index\n",
        "\n",
        "#articles = pd.merge(articles, countries, how='left', on = 'country')\n",
        "        \n",
        "articles.to_csv( 'pubmed_countries_inAotherFormat.csv')"
      ],
      "execution_count": null,
      "outputs": []
    },
    {
      "cell_type": "code",
      "metadata": {
        "id": "V5kj3mqJ_rl_",
        "colab_type": "code",
        "colab": {}
      },
      "source": [
        "files.download('pubmed_countries_inAotherFormat.csv')"
      ],
      "execution_count": null,
      "outputs": []
    },
    {
      "cell_type": "code",
      "metadata": {
        "id": "aHq65Fdv36Mh",
        "colab_type": "code",
        "colab": {}
      },
      "source": [
        "articles.tail(20)"
      ],
      "execution_count": null,
      "outputs": []
    }
  ]
}